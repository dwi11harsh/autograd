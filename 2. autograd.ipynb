{
  "nbformat": 4,
  "nbformat_minor": 0,
  "metadata": {
    "colab": {
      "provenance": [],
      "authorship_tag": "ABX9TyNYrLrXCdP4enE8p6e1ageX",
      "include_colab_link": true
    },
    "kernelspec": {
      "name": "python3",
      "display_name": "Python 3"
    },
    "language_info": {
      "name": "python"
    }
  },
  "cells": [
    {
      "cell_type": "markdown",
      "metadata": {
        "id": "view-in-github",
        "colab_type": "text"
      },
      "source": [
        "<a href=\"https://colab.research.google.com/github/dwi11harsh/micrograd/blob/main/2.%20autograd.ipynb\" target=\"_parent\"><img src=\"https://colab.research.google.com/assets/colab-badge.svg\" alt=\"Open In Colab\"/></a>"
      ]
    },
    {
      "cell_type": "code",
      "execution_count": 13,
      "metadata": {
        "id": "yBgHT3ySZXS6"
      },
      "outputs": [],
      "source": [
        "import numpy as np\n",
        "import matplotlib.pyplot as plt\n",
        "import math\n",
        "from graphviz import Digraph"
      ]
    },
    {
      "cell_type": "code",
      "source": [
        "def trace(root):\n",
        "  nodes, edges = set(), set()\n",
        "  def build(v):\n",
        "    if v not in nodes:\n",
        "      nodes.add(v)\n",
        "      for child in v._prev:\n",
        "        edges.add((child, v))\n",
        "        build(child)\n",
        "  build(root)\n",
        "  return nodes, edges\n",
        "\n",
        "def draw_graph(root):\n",
        "  dot = Digraph(format='svg', graph_attr={'rankdir': 'LR'})\n",
        "\n",
        "  nodes, edges = trace(root)\n",
        "  for n in nodes:\n",
        "    uid = str(id(n))\n",
        "    dot.node(name = uid, label = \"{ %s | data %.4f | grad %.4f }\" % (n.label, n.data, n.grad), shape='record')\n",
        "    if n._op:\n",
        "      dot.node(name = uid + n._op, label = n._op)\n",
        "      dot.edge(uid + n._op, uid)\n",
        "\n",
        "  for n1, n2 in edges:\n",
        "    dot.edge(str(id(n1)), str(id(n2)) + n2._op)\n",
        "\n",
        "  return dot"
      ],
      "metadata": {
        "id": "M3yHg_WDZiCT"
      },
      "execution_count": 14,
      "outputs": []
    },
    {
      "cell_type": "markdown",
      "source": [
        "# Adding More Methods and Updating Older Ones\n",
        "\n",
        "1. Currently we cannot use scalars in any of the operations, so adding the functionality to deal with scalars in all the `ops`"
      ],
      "metadata": {
        "id": "au4Cfjwfasbl"
      }
    },
    {
      "cell_type": "code",
      "source": [
        "class Value:\n",
        "\n",
        "  def __init__(self, data, _children=(), _op='', label=''):\n",
        "    self.data = data\n",
        "    self.grad = 0.0\n",
        "    self._backward = lambda: None\n",
        "    self._prev = set(_children)\n",
        "    self._op = _op\n",
        "    self.label = label\n",
        "\n",
        "  def __repr__(self):\n",
        "    return f\"Value(data={self.data})\"\n",
        "\n",
        "  def __add__(self, other):\n",
        "    other = other if isinstance(other, Value) else Value(other)\n",
        "    out = Value(self.data + other.data, (self, other), '+')\n",
        "\n",
        "    def _backward():\n",
        "      self.grad += 1.0 * out.grad\n",
        "      other.grad += 1.0 * out.grad\n",
        "    out._backward = _backward\n",
        "\n",
        "    return out\n",
        "\n",
        "  def __mul__(self, other):\n",
        "    other = other if isinstance(other, Value) else Value(other)\n",
        "    out = Value(self.data * other.data, (self, other), '*')\n",
        "\n",
        "    def _backward():\n",
        "      self.grad += other.data * out.grad\n",
        "      other.grad += self.data * out.grad\n",
        "    out._backward = _backward\n",
        "\n",
        "    return out\n",
        "\n",
        "  def __pow__(self, other):\n",
        "    assert isinstance(other, (int, float)), \"only supporting int/float powers for now\"\n",
        "    out = Value(self.data**other, (self,), f'**{other}')\n",
        "\n",
        "    def _backward():\n",
        "        self.grad += other * (self.data ** (other - 1)) * out.grad\n",
        "    out._backward = _backward\n",
        "\n",
        "    return out\n",
        "\n",
        "  def __rmul__(self, other): # other * self\n",
        "    return self * other\n",
        "\n",
        "  def __truediv__(self, other): # self / other\n",
        "    return self * other**-1\n",
        "\n",
        "  def __neg__(self): # -self\n",
        "    return self * -1\n",
        "\n",
        "  def __sub__(self, other): # self - other\n",
        "    return self + (-other)\n",
        "\n",
        "  def __radd__(self, other): # other + self\n",
        "    return self + other\n",
        "\n",
        "  def tanh(self):\n",
        "    x = self.data\n",
        "    t = (math.exp(2*x) - 1)/(math.exp(2*x) + 1)\n",
        "    out = Value(t, (self, ), 'tanh')\n",
        "\n",
        "    def _backward():\n",
        "      self.grad += (1 - t**2) * out.grad\n",
        "    out._backward = _backward\n",
        "\n",
        "    return out\n",
        "\n",
        "  def exp(self):\n",
        "    x = self.data\n",
        "    out = Value(math.exp(x), (self, ), 'exp')\n",
        "\n",
        "    def _backward():\n",
        "      self.grad += out.data * out.grad\n",
        "    out._backward = _backward\n",
        "\n",
        "    return out\n",
        "\n",
        "\n",
        "  def backward(self):\n",
        "\n",
        "    topo = []\n",
        "    visited = set()\n",
        "    def build_topo(v):\n",
        "      if v not in visited:\n",
        "        visited.add(v)\n",
        "        for child in v._prev:\n",
        "          build_topo(child)\n",
        "        topo.append(v)\n",
        "    build_topo(self)\n",
        "\n",
        "    self.grad = 1.0\n",
        "    for node in reversed(topo):\n",
        "      node._backward()"
      ],
      "metadata": {
        "id": "KLIP1MQzZ4_a"
      },
      "execution_count": 15,
      "outputs": []
    },
    {
      "cell_type": "code",
      "source": [
        "# testing the newer methods with previously known results\n",
        "\n",
        "# PREVIOUS VALUES\n",
        "\n",
        "# inputs\n",
        "x1 = Value(2.0, label='x1')\n",
        "x2 = Value(0.0, label='x2')\n",
        "\n",
        "# weights\n",
        "w1 = Value(-3.0, label='w1')\n",
        "w2 = Value(1.0, label='w2')\n",
        "\n",
        "# bias of the neuron\n",
        "bias = Value(6.8813735870195432, label='bias')\n",
        "\n",
        "x1w1 = x1*w1\n",
        "x2w2 = x2*w2\n",
        "\n",
        "x1w1.label = 'x1*w1'\n",
        "x2w2.label = 'x2*w2'\n",
        "\n",
        "# x1w1 + x2w2 + bias\n",
        "x1w1x2w2 = x1w1 + x2w2\n",
        "x1w1x2w2.label = 'x1*w1 + x2*w2'\n",
        "n = x1w1x2w2 + bias\n",
        "n.label = 'n'\n",
        "\n",
        "out = n.tanh()\n",
        "out.label = 'out'\n",
        "\n",
        "draw_graph(out)"
      ],
      "metadata": {
        "colab": {
          "base_uri": "https://localhost:8080/",
          "height": 321
        },
        "id": "YeE8OrMqaHa7",
        "outputId": "8f42804c-81d7-4e85-ff93-508231337fa4"
      },
      "execution_count": 16,
      "outputs": [
        {
          "output_type": "execute_result",
          "data": {
            "image/svg+xml": "<?xml version=\"1.0\" encoding=\"UTF-8\" standalone=\"no\"?>\n<!DOCTYPE svg PUBLIC \"-//W3C//DTD SVG 1.1//EN\"\n \"http://www.w3.org/Graphics/SVG/1.1/DTD/svg11.dtd\">\n<!-- Generated by graphviz version 2.43.0 (0)\n -->\n<!-- Title: %3 Pages: 1 -->\n<svg width=\"1586pt\" height=\"210pt\"\n viewBox=\"0.00 0.00 1586.00 210.00\" xmlns=\"http://www.w3.org/2000/svg\" xmlns:xlink=\"http://www.w3.org/1999/xlink\">\n<g id=\"graph0\" class=\"graph\" transform=\"scale(1 1) rotate(0) translate(4 206)\">\n<title>%3</title>\n<polygon fill=\"white\" stroke=\"transparent\" points=\"-4,4 -4,-206 1582,-206 1582,4 -4,4\"/>\n<!-- 140281082041872 -->\n<g id=\"node1\" class=\"node\">\n<title>140281082041872</title>\n<polygon fill=\"none\" stroke=\"black\" points=\"0,-165.5 0,-201.5 200,-201.5 200,-165.5 0,-165.5\"/>\n<text text-anchor=\"middle\" x=\"16.5\" y=\"-179.8\" font-family=\"Times,serif\" font-size=\"14.00\">w1</text>\n<polyline fill=\"none\" stroke=\"black\" points=\"33,-165.5 33,-201.5 \"/>\n<text text-anchor=\"middle\" x=\"75.5\" y=\"-179.8\" font-family=\"Times,serif\" font-size=\"14.00\">data &#45;3.0000</text>\n<polyline fill=\"none\" stroke=\"black\" points=\"118,-165.5 118,-201.5 \"/>\n<text text-anchor=\"middle\" x=\"159\" y=\"-179.8\" font-family=\"Times,serif\" font-size=\"14.00\">grad 0.0000</text>\n</g>\n<!-- 140281082048208* -->\n<g id=\"node9\" class=\"node\">\n<title>140281082048208*</title>\n<ellipse fill=\"none\" stroke=\"black\" cx=\"263\" cy=\"-128.5\" rx=\"27\" ry=\"18\"/>\n<text text-anchor=\"middle\" x=\"263\" y=\"-124.8\" font-family=\"Times,serif\" font-size=\"14.00\">*</text>\n</g>\n<!-- 140281082041872&#45;&gt;140281082048208* -->\n<g id=\"edge6\" class=\"edge\">\n<title>140281082041872&#45;&gt;140281082048208*</title>\n<path fill=\"none\" stroke=\"black\" d=\"M172.53,-165.44C181.84,-162.67 191.2,-159.67 200,-156.5 210.53,-152.71 221.75,-147.9 231.72,-143.33\"/>\n<polygon fill=\"black\" stroke=\"black\" points=\"233.25,-146.48 240.82,-139.07 230.28,-140.14 233.25,-146.48\"/>\n</g>\n<!-- 140281082046032 -->\n<g id=\"node2\" class=\"node\">\n<title>140281082046032</title>\n<polygon fill=\"none\" stroke=\"black\" points=\"672,-82.5 672,-118.5 945,-118.5 945,-82.5 672,-82.5\"/>\n<text text-anchor=\"middle\" x=\"725\" y=\"-96.8\" font-family=\"Times,serif\" font-size=\"14.00\">x1*w1 + x2*w2</text>\n<polyline fill=\"none\" stroke=\"black\" points=\"778,-82.5 778,-118.5 \"/>\n<text text-anchor=\"middle\" x=\"820.5\" y=\"-96.8\" font-family=\"Times,serif\" font-size=\"14.00\">data &#45;6.0000</text>\n<polyline fill=\"none\" stroke=\"black\" points=\"863,-82.5 863,-118.5 \"/>\n<text text-anchor=\"middle\" x=\"904\" y=\"-96.8\" font-family=\"Times,serif\" font-size=\"14.00\">grad 0.0000</text>\n</g>\n<!-- 140281082045008+ -->\n<g id=\"node5\" class=\"node\">\n<title>140281082045008+</title>\n<ellipse fill=\"none\" stroke=\"black\" cx=\"1008\" cy=\"-72.5\" rx=\"27\" ry=\"18\"/>\n<text text-anchor=\"middle\" x=\"1008\" y=\"-68.8\" font-family=\"Times,serif\" font-size=\"14.00\">+</text>\n</g>\n<!-- 140281082046032&#45;&gt;140281082045008+ -->\n<g id=\"edge14\" class=\"edge\">\n<title>140281082046032&#45;&gt;140281082045008+</title>\n<path fill=\"none\" stroke=\"black\" d=\"M936.53,-82.49C949.09,-80.71 960.99,-79.02 971.3,-77.56\"/>\n<polygon fill=\"black\" stroke=\"black\" points=\"972.03,-80.99 981.44,-76.12 971.05,-74.06 972.03,-80.99\"/>\n</g>\n<!-- 140281082046032+ -->\n<g id=\"node3\" class=\"node\">\n<title>140281082046032+</title>\n<ellipse fill=\"none\" stroke=\"black\" cx=\"609\" cy=\"-100.5\" rx=\"27\" ry=\"18\"/>\n<text text-anchor=\"middle\" x=\"609\" y=\"-96.8\" font-family=\"Times,serif\" font-size=\"14.00\">+</text>\n</g>\n<!-- 140281082046032+&#45;&gt;140281082046032 -->\n<g id=\"edge1\" class=\"edge\">\n<title>140281082046032+&#45;&gt;140281082046032</title>\n<path fill=\"none\" stroke=\"black\" d=\"M636.23,-100.5C643.7,-100.5 652.41,-100.5 661.87,-100.5\"/>\n<polygon fill=\"black\" stroke=\"black\" points=\"661.98,-104 671.98,-100.5 661.98,-97 661.98,-104\"/>\n</g>\n<!-- 140281082045008 -->\n<g id=\"node4\" class=\"node\">\n<title>140281082045008</title>\n<polygon fill=\"none\" stroke=\"black\" points=\"1071,-54.5 1071,-90.5 1256,-90.5 1256,-54.5 1071,-54.5\"/>\n<text text-anchor=\"middle\" x=\"1082.5\" y=\"-68.8\" font-family=\"Times,serif\" font-size=\"14.00\">n</text>\n<polyline fill=\"none\" stroke=\"black\" points=\"1094,-54.5 1094,-90.5 \"/>\n<text text-anchor=\"middle\" x=\"1134\" y=\"-68.8\" font-family=\"Times,serif\" font-size=\"14.00\">data 0.8814</text>\n<polyline fill=\"none\" stroke=\"black\" points=\"1174,-54.5 1174,-90.5 \"/>\n<text text-anchor=\"middle\" x=\"1215\" y=\"-68.8\" font-family=\"Times,serif\" font-size=\"14.00\">grad 0.0000</text>\n</g>\n<!-- 140281082045072tanh -->\n<g id=\"node7\" class=\"node\">\n<title>140281082045072tanh</title>\n<ellipse fill=\"none\" stroke=\"black\" cx=\"1319\" cy=\"-72.5\" rx=\"27\" ry=\"18\"/>\n<text text-anchor=\"middle\" x=\"1319\" y=\"-68.8\" font-family=\"Times,serif\" font-size=\"14.00\">tanh</text>\n</g>\n<!-- 140281082045008&#45;&gt;140281082045072tanh -->\n<g id=\"edge8\" class=\"edge\">\n<title>140281082045008&#45;&gt;140281082045072tanh</title>\n<path fill=\"none\" stroke=\"black\" d=\"M1256.01,-72.5C1265.01,-72.5 1273.74,-72.5 1281.66,-72.5\"/>\n<polygon fill=\"black\" stroke=\"black\" points=\"1281.91,-76 1291.91,-72.5 1281.91,-69 1281.91,-76\"/>\n</g>\n<!-- 140281082045008+&#45;&gt;140281082045008 -->\n<g id=\"edge2\" class=\"edge\">\n<title>140281082045008+&#45;&gt;140281082045008</title>\n<path fill=\"none\" stroke=\"black\" d=\"M1035.04,-72.5C1042.58,-72.5 1051.3,-72.5 1060.57,-72.5\"/>\n<polygon fill=\"black\" stroke=\"black\" points=\"1060.81,-76 1070.81,-72.5 1060.81,-69 1060.81,-76\"/>\n</g>\n<!-- 140281082045072 -->\n<g id=\"node6\" class=\"node\">\n<title>140281082045072</title>\n<polygon fill=\"none\" stroke=\"black\" points=\"1382,-54.5 1382,-90.5 1578,-90.5 1578,-54.5 1382,-54.5\"/>\n<text text-anchor=\"middle\" x=\"1399\" y=\"-68.8\" font-family=\"Times,serif\" font-size=\"14.00\">out</text>\n<polyline fill=\"none\" stroke=\"black\" points=\"1416,-54.5 1416,-90.5 \"/>\n<text text-anchor=\"middle\" x=\"1456\" y=\"-68.8\" font-family=\"Times,serif\" font-size=\"14.00\">data 0.7071</text>\n<polyline fill=\"none\" stroke=\"black\" points=\"1496,-54.5 1496,-90.5 \"/>\n<text text-anchor=\"middle\" x=\"1537\" y=\"-68.8\" font-family=\"Times,serif\" font-size=\"14.00\">grad 0.0000</text>\n</g>\n<!-- 140281082045072tanh&#45;&gt;140281082045072 -->\n<g id=\"edge3\" class=\"edge\">\n<title>140281082045072tanh&#45;&gt;140281082045072</title>\n<path fill=\"none\" stroke=\"black\" d=\"M1346.26,-72.5C1353.77,-72.5 1362.46,-72.5 1371.72,-72.5\"/>\n<polygon fill=\"black\" stroke=\"black\" points=\"1371.97,-76 1381.97,-72.5 1371.97,-69 1371.97,-76\"/>\n</g>\n<!-- 140281082048208 -->\n<g id=\"node8\" class=\"node\">\n<title>140281082048208</title>\n<polygon fill=\"none\" stroke=\"black\" points=\"326,-110.5 326,-146.5 546,-146.5 546,-110.5 326,-110.5\"/>\n<text text-anchor=\"middle\" x=\"352.5\" y=\"-124.8\" font-family=\"Times,serif\" font-size=\"14.00\">x1*w1</text>\n<polyline fill=\"none\" stroke=\"black\" points=\"379,-110.5 379,-146.5 \"/>\n<text text-anchor=\"middle\" x=\"421.5\" y=\"-124.8\" font-family=\"Times,serif\" font-size=\"14.00\">data &#45;6.0000</text>\n<polyline fill=\"none\" stroke=\"black\" points=\"464,-110.5 464,-146.5 \"/>\n<text text-anchor=\"middle\" x=\"505\" y=\"-124.8\" font-family=\"Times,serif\" font-size=\"14.00\">grad 0.0000</text>\n</g>\n<!-- 140281082048208&#45;&gt;140281082046032+ -->\n<g id=\"edge10\" class=\"edge\">\n<title>140281082048208&#45;&gt;140281082046032+</title>\n<path fill=\"none\" stroke=\"black\" d=\"M546.27,-110.61C555.64,-109.07 564.6,-107.61 572.65,-106.29\"/>\n<polygon fill=\"black\" stroke=\"black\" points=\"573.35,-109.72 582.65,-104.65 572.22,-102.81 573.35,-109.72\"/>\n</g>\n<!-- 140281082048208*&#45;&gt;140281082048208 -->\n<g id=\"edge4\" class=\"edge\">\n<title>140281082048208*&#45;&gt;140281082048208</title>\n<path fill=\"none\" stroke=\"black\" d=\"M290.34,-128.5C297.77,-128.5 306.37,-128.5 315.6,-128.5\"/>\n<polygon fill=\"black\" stroke=\"black\" points=\"315.84,-132 325.84,-128.5 315.84,-125 315.84,-132\"/>\n</g>\n<!-- 140281082045712 -->\n<g id=\"node10\" class=\"node\">\n<title>140281082045712</title>\n<polygon fill=\"none\" stroke=\"black\" points=\"4,-55.5 4,-91.5 196,-91.5 196,-55.5 4,-55.5\"/>\n<text text-anchor=\"middle\" x=\"19\" y=\"-69.8\" font-family=\"Times,serif\" font-size=\"14.00\">x2</text>\n<polyline fill=\"none\" stroke=\"black\" points=\"34,-55.5 34,-91.5 \"/>\n<text text-anchor=\"middle\" x=\"74\" y=\"-69.8\" font-family=\"Times,serif\" font-size=\"14.00\">data 0.0000</text>\n<polyline fill=\"none\" stroke=\"black\" points=\"114,-55.5 114,-91.5 \"/>\n<text text-anchor=\"middle\" x=\"155\" y=\"-69.8\" font-family=\"Times,serif\" font-size=\"14.00\">grad 0.0000</text>\n</g>\n<!-- 140281082046352* -->\n<g id=\"node14\" class=\"node\">\n<title>140281082046352*</title>\n<ellipse fill=\"none\" stroke=\"black\" cx=\"263\" cy=\"-73.5\" rx=\"27\" ry=\"18\"/>\n<text text-anchor=\"middle\" x=\"263\" y=\"-69.8\" font-family=\"Times,serif\" font-size=\"14.00\">*</text>\n</g>\n<!-- 140281082045712&#45;&gt;140281082046352* -->\n<g id=\"edge9\" class=\"edge\">\n<title>140281082045712&#45;&gt;140281082046352*</title>\n<path fill=\"none\" stroke=\"black\" d=\"M196.05,-73.5C206.52,-73.5 216.65,-73.5 225.71,-73.5\"/>\n<polygon fill=\"black\" stroke=\"black\" points=\"225.79,-77 235.79,-73.5 225.79,-70 225.79,-77\"/>\n</g>\n<!-- 140281082044688 -->\n<g id=\"node11\" class=\"node\">\n<title>140281082044688</title>\n<polygon fill=\"none\" stroke=\"black\" points=\"2.5,-0.5 2.5,-36.5 197.5,-36.5 197.5,-0.5 2.5,-0.5\"/>\n<text text-anchor=\"middle\" x=\"19\" y=\"-14.8\" font-family=\"Times,serif\" font-size=\"14.00\">w2</text>\n<polyline fill=\"none\" stroke=\"black\" points=\"35.5,-0.5 35.5,-36.5 \"/>\n<text text-anchor=\"middle\" x=\"75.5\" y=\"-14.8\" font-family=\"Times,serif\" font-size=\"14.00\">data 1.0000</text>\n<polyline fill=\"none\" stroke=\"black\" points=\"115.5,-0.5 115.5,-36.5 \"/>\n<text text-anchor=\"middle\" x=\"156.5\" y=\"-14.8\" font-family=\"Times,serif\" font-size=\"14.00\">grad 0.0000</text>\n</g>\n<!-- 140281082044688&#45;&gt;140281082046352* -->\n<g id=\"edge11\" class=\"edge\">\n<title>140281082044688&#45;&gt;140281082046352*</title>\n<path fill=\"none\" stroke=\"black\" d=\"M169.28,-36.5C179.65,-39.61 190.16,-42.98 200,-46.5 210.28,-50.17 221.28,-54.74 231.11,-59.07\"/>\n<polygon fill=\"black\" stroke=\"black\" points=\"229.93,-62.37 240.48,-63.27 232.79,-55.99 229.93,-62.37\"/>\n</g>\n<!-- 140281082042320 -->\n<g id=\"node12\" class=\"node\">\n<title>140281082042320</title>\n<polygon fill=\"none\" stroke=\"black\" points=\"4,-110.5 4,-146.5 196,-146.5 196,-110.5 4,-110.5\"/>\n<text text-anchor=\"middle\" x=\"19\" y=\"-124.8\" font-family=\"Times,serif\" font-size=\"14.00\">x1</text>\n<polyline fill=\"none\" stroke=\"black\" points=\"34,-110.5 34,-146.5 \"/>\n<text text-anchor=\"middle\" x=\"74\" y=\"-124.8\" font-family=\"Times,serif\" font-size=\"14.00\">data 2.0000</text>\n<polyline fill=\"none\" stroke=\"black\" points=\"114,-110.5 114,-146.5 \"/>\n<text text-anchor=\"middle\" x=\"155\" y=\"-124.8\" font-family=\"Times,serif\" font-size=\"14.00\">grad 0.0000</text>\n</g>\n<!-- 140281082042320&#45;&gt;140281082048208* -->\n<g id=\"edge13\" class=\"edge\">\n<title>140281082042320&#45;&gt;140281082048208*</title>\n<path fill=\"none\" stroke=\"black\" d=\"M196.05,-128.5C206.52,-128.5 216.65,-128.5 225.71,-128.5\"/>\n<polygon fill=\"black\" stroke=\"black\" points=\"225.79,-132 235.79,-128.5 225.79,-125 225.79,-132\"/>\n</g>\n<!-- 140281082046352 -->\n<g id=\"node13\" class=\"node\">\n<title>140281082046352</title>\n<polygon fill=\"none\" stroke=\"black\" points=\"328.5,-55.5 328.5,-91.5 543.5,-91.5 543.5,-55.5 328.5,-55.5\"/>\n<text text-anchor=\"middle\" x=\"355\" y=\"-69.8\" font-family=\"Times,serif\" font-size=\"14.00\">x2*w2</text>\n<polyline fill=\"none\" stroke=\"black\" points=\"381.5,-55.5 381.5,-91.5 \"/>\n<text text-anchor=\"middle\" x=\"421.5\" y=\"-69.8\" font-family=\"Times,serif\" font-size=\"14.00\">data 0.0000</text>\n<polyline fill=\"none\" stroke=\"black\" points=\"461.5,-55.5 461.5,-91.5 \"/>\n<text text-anchor=\"middle\" x=\"502.5\" y=\"-69.8\" font-family=\"Times,serif\" font-size=\"14.00\">grad 0.0000</text>\n</g>\n<!-- 140281082046352&#45;&gt;140281082046032+ -->\n<g id=\"edge7\" class=\"edge\">\n<title>140281082046352&#45;&gt;140281082046032+</title>\n<path fill=\"none\" stroke=\"black\" d=\"M543.84,-90.37C554.01,-91.98 563.76,-93.51 572.44,-94.89\"/>\n<polygon fill=\"black\" stroke=\"black\" points=\"572.05,-98.37 582.47,-96.47 573.14,-91.45 572.05,-98.37\"/>\n</g>\n<!-- 140281082046352*&#45;&gt;140281082046352 -->\n<g id=\"edge5\" class=\"edge\">\n<title>140281082046352*&#45;&gt;140281082046352</title>\n<path fill=\"none\" stroke=\"black\" d=\"M290.34,-73.5C298.51,-73.5 308.08,-73.5 318.36,-73.5\"/>\n<polygon fill=\"black\" stroke=\"black\" points=\"318.39,-77 328.39,-73.5 318.39,-70 318.39,-77\"/>\n</g>\n<!-- 140281082045904 -->\n<g id=\"node15\" class=\"node\">\n<title>140281082045904</title>\n<polygon fill=\"none\" stroke=\"black\" points=\"708.5,-27.5 708.5,-63.5 908.5,-63.5 908.5,-27.5 708.5,-27.5\"/>\n<text text-anchor=\"middle\" x=\"727.5\" y=\"-41.8\" font-family=\"Times,serif\" font-size=\"14.00\">bias</text>\n<polyline fill=\"none\" stroke=\"black\" points=\"746.5,-27.5 746.5,-63.5 \"/>\n<text text-anchor=\"middle\" x=\"786.5\" y=\"-41.8\" font-family=\"Times,serif\" font-size=\"14.00\">data 6.8814</text>\n<polyline fill=\"none\" stroke=\"black\" points=\"826.5,-27.5 826.5,-63.5 \"/>\n<text text-anchor=\"middle\" x=\"867.5\" y=\"-41.8\" font-family=\"Times,serif\" font-size=\"14.00\">grad 0.0000</text>\n</g>\n<!-- 140281082045904&#45;&gt;140281082045008+ -->\n<g id=\"edge12\" class=\"edge\">\n<title>140281082045904&#45;&gt;140281082045008+</title>\n<path fill=\"none\" stroke=\"black\" d=\"M908.54,-59.04C930.96,-62.1 953.36,-65.17 971.12,-67.6\"/>\n<polygon fill=\"black\" stroke=\"black\" points=\"970.89,-71.1 981.27,-68.98 971.84,-64.16 970.89,-71.1\"/>\n</g>\n</g>\n</svg>\n",
            "text/plain": [
              "<graphviz.graphs.Digraph at 0x7f95bc1060d0>"
            ]
          },
          "metadata": {},
          "execution_count": 16
        }
      ]
    },
    {
      "cell_type": "code",
      "source": [
        "# SAME VALUES & DIFF. OPS\n",
        "\n",
        "# inputs\n",
        "x1 = Value(2.0, label='x1')\n",
        "x2 = Value(0.0, label='x2')\n",
        "\n",
        "# weights\n",
        "w1 = Value(-3.0, label='w1')\n",
        "w2 = Value(1.0, label='w2')\n",
        "\n",
        "# bias of the neuron\n",
        "bias = Value(6.8813735870195432, label='bias')\n",
        "\n",
        "x1w1 = x1*w1\n",
        "x2w2 = x2*w2\n",
        "\n",
        "x1w1.label = 'x1*w1'\n",
        "x2w2.label = 'x2*w2'\n",
        "\n",
        "# x1w1 + x2w2 + bias\n",
        "x1w1x2w2 = x1w1 + x2w2\n",
        "x1w1x2w2.label = 'x1*w1 + x2*w2'\n",
        "n = x1w1x2w2 + bias\n",
        "n.label = 'n'\n",
        "\n",
        "e = (2*n).exp()\n",
        "out = (e - 1) / (e + 1)\n",
        "\n",
        "out.label = 'out'\n",
        "e.label = 'e'\n",
        "\n",
        "draw_graph(out)"
      ],
      "metadata": {
        "colab": {
          "base_uri": "https://localhost:8080/",
          "height": 356
        },
        "id": "cRO68XqFtRfS",
        "outputId": "32a19466-fe8b-41eb-dad9-488c4f786364"
      },
      "execution_count": 22,
      "outputs": [
        {
          "output_type": "execute_result",
          "data": {
            "image/svg+xml": "<?xml version=\"1.0\" encoding=\"UTF-8\" standalone=\"no\"?>\n<!DOCTYPE svg PUBLIC \"-//W3C//DTD SVG 1.1//EN\"\n \"http://www.w3.org/Graphics/SVG/1.1/DTD/svg11.dtd\">\n<!-- Generated by graphviz version 2.43.0 (0)\n -->\n<!-- Title: %3 Pages: 1 -->\n<svg width=\"2951pt\" height=\"236pt\"\n viewBox=\"0.00 0.00 2951.00 236.00\" xmlns=\"http://www.w3.org/2000/svg\" xmlns:xlink=\"http://www.w3.org/1999/xlink\">\n<g id=\"graph0\" class=\"graph\" transform=\"scale(1 1) rotate(0) translate(4 232)\">\n<title>%3</title>\n<polygon fill=\"white\" stroke=\"transparent\" points=\"-4,4 -4,-232 2947,-232 2947,4 -4,4\"/>\n<!-- 140281082746448 -->\n<g id=\"node1\" class=\"node\">\n<title>140281082746448</title>\n<polygon fill=\"none\" stroke=\"black\" points=\"328.5,-55.5 328.5,-91.5 543.5,-91.5 543.5,-55.5 328.5,-55.5\"/>\n<text text-anchor=\"middle\" x=\"355\" y=\"-69.8\" font-family=\"Times,serif\" font-size=\"14.00\">x2*w2</text>\n<polyline fill=\"none\" stroke=\"black\" points=\"381.5,-55.5 381.5,-91.5 \"/>\n<text text-anchor=\"middle\" x=\"421.5\" y=\"-69.8\" font-family=\"Times,serif\" font-size=\"14.00\">data 0.0000</text>\n<polyline fill=\"none\" stroke=\"black\" points=\"461.5,-55.5 461.5,-91.5 \"/>\n<text text-anchor=\"middle\" x=\"502.5\" y=\"-69.8\" font-family=\"Times,serif\" font-size=\"14.00\">grad 0.0000</text>\n</g>\n<!-- 140281082746704+ -->\n<g id=\"node21\" class=\"node\">\n<title>140281082746704+</title>\n<ellipse fill=\"none\" stroke=\"black\" cx=\"609\" cy=\"-100.5\" rx=\"27\" ry=\"18\"/>\n<text text-anchor=\"middle\" x=\"609\" y=\"-96.8\" font-family=\"Times,serif\" font-size=\"14.00\">+</text>\n</g>\n<!-- 140281082746448&#45;&gt;140281082746704+ -->\n<g id=\"edge20\" class=\"edge\">\n<title>140281082746448&#45;&gt;140281082746704+</title>\n<path fill=\"none\" stroke=\"black\" d=\"M543.84,-90.37C554.01,-91.98 563.76,-93.51 572.44,-94.89\"/>\n<polygon fill=\"black\" stroke=\"black\" points=\"572.05,-98.37 582.47,-96.47 573.14,-91.45 572.05,-98.37\"/>\n</g>\n<!-- 140281082746448* -->\n<g id=\"node2\" class=\"node\">\n<title>140281082746448*</title>\n<ellipse fill=\"none\" stroke=\"black\" cx=\"263\" cy=\"-73.5\" rx=\"27\" ry=\"18\"/>\n<text text-anchor=\"middle\" x=\"263\" y=\"-69.8\" font-family=\"Times,serif\" font-size=\"14.00\">*</text>\n</g>\n<!-- 140281082746448*&#45;&gt;140281082746448 -->\n<g id=\"edge1\" class=\"edge\">\n<title>140281082746448*&#45;&gt;140281082746448</title>\n<path fill=\"none\" stroke=\"black\" d=\"M290.34,-73.5C298.51,-73.5 308.08,-73.5 318.36,-73.5\"/>\n<polygon fill=\"black\" stroke=\"black\" points=\"318.39,-77 328.39,-73.5 318.39,-70 318.39,-77\"/>\n</g>\n<!-- 140281082745232 -->\n<g id=\"node3\" class=\"node\">\n<title>140281082745232</title>\n<polygon fill=\"none\" stroke=\"black\" points=\"708.5,-137.5 708.5,-173.5 908.5,-173.5 908.5,-137.5 708.5,-137.5\"/>\n<text text-anchor=\"middle\" x=\"727.5\" y=\"-151.8\" font-family=\"Times,serif\" font-size=\"14.00\">bias</text>\n<polyline fill=\"none\" stroke=\"black\" points=\"746.5,-137.5 746.5,-173.5 \"/>\n<text text-anchor=\"middle\" x=\"786.5\" y=\"-151.8\" font-family=\"Times,serif\" font-size=\"14.00\">data 6.8814</text>\n<polyline fill=\"none\" stroke=\"black\" points=\"826.5,-137.5 826.5,-173.5 \"/>\n<text text-anchor=\"middle\" x=\"867.5\" y=\"-151.8\" font-family=\"Times,serif\" font-size=\"14.00\">grad 0.0000</text>\n</g>\n<!-- 140281082746192+ -->\n<g id=\"node19\" class=\"node\">\n<title>140281082746192+</title>\n<ellipse fill=\"none\" stroke=\"black\" cx=\"1008\" cy=\"-127.5\" rx=\"27\" ry=\"18\"/>\n<text text-anchor=\"middle\" x=\"1008\" y=\"-123.8\" font-family=\"Times,serif\" font-size=\"14.00\">+</text>\n</g>\n<!-- 140281082745232&#45;&gt;140281082746192+ -->\n<g id=\"edge22\" class=\"edge\">\n<title>140281082745232&#45;&gt;140281082746192+</title>\n<path fill=\"none\" stroke=\"black\" d=\"M908.54,-141.46C930.96,-138.28 953.36,-135.1 971.12,-132.59\"/>\n<polygon fill=\"black\" stroke=\"black\" points=\"971.86,-136.02 981.27,-131.15 970.88,-129.09 971.86,-136.02\"/>\n</g>\n<!-- 140281082746512 -->\n<g id=\"node4\" class=\"node\">\n<title>140281082746512</title>\n<polygon fill=\"none\" stroke=\"black\" points=\"2003,-108.5 2003,-144.5 2185,-144.5 2185,-108.5 2003,-108.5\"/>\n<text text-anchor=\"middle\" x=\"2013\" y=\"-122.8\" font-family=\"Times,serif\" font-size=\"14.00\"> </text>\n<polyline fill=\"none\" stroke=\"black\" points=\"2023,-108.5 2023,-144.5 \"/>\n<text text-anchor=\"middle\" x=\"2063\" y=\"-122.8\" font-family=\"Times,serif\" font-size=\"14.00\">data 6.8284</text>\n<polyline fill=\"none\" stroke=\"black\" points=\"2103,-108.5 2103,-144.5 \"/>\n<text text-anchor=\"middle\" x=\"2144\" y=\"-122.8\" font-family=\"Times,serif\" font-size=\"14.00\">grad 0.0000</text>\n</g>\n<!-- 140281082747152**&#45;1 -->\n<g id=\"node13\" class=\"node\">\n<title>140281082747152**&#45;1</title>\n<ellipse fill=\"none\" stroke=\"black\" cx=\"2312\" cy=\"-126.5\" rx=\"27\" ry=\"18\"/>\n<text text-anchor=\"middle\" x=\"2312\" y=\"-122.8\" font-family=\"Times,serif\" font-size=\"14.00\">**&#45;1</text>\n</g>\n<!-- 140281082746512&#45;&gt;140281082747152**&#45;1 -->\n<g id=\"edge12\" class=\"edge\">\n<title>140281082746512&#45;&gt;140281082747152**&#45;1</title>\n<path fill=\"none\" stroke=\"black\" d=\"M2185.04,-126.5C2216.5,-126.5 2250.05,-126.5 2274.61,-126.5\"/>\n<polygon fill=\"black\" stroke=\"black\" points=\"2274.89,-130 2284.89,-126.5 2274.89,-123 2274.89,-130\"/>\n</g>\n<!-- 140281082746512+ -->\n<g id=\"node5\" class=\"node\">\n<title>140281082746512+</title>\n<ellipse fill=\"none\" stroke=\"black\" cx=\"1940\" cy=\"-126.5\" rx=\"27\" ry=\"18\"/>\n<text text-anchor=\"middle\" x=\"1940\" y=\"-122.8\" font-family=\"Times,serif\" font-size=\"14.00\">+</text>\n</g>\n<!-- 140281082746512+&#45;&gt;140281082746512 -->\n<g id=\"edge2\" class=\"edge\">\n<title>140281082746512+&#45;&gt;140281082746512</title>\n<path fill=\"none\" stroke=\"black\" d=\"M1967.13,-126.5C1974.67,-126.5 1983.39,-126.5 1992.64,-126.5\"/>\n<polygon fill=\"black\" stroke=\"black\" points=\"1992.87,-130 2002.87,-126.5 1992.87,-123 1992.87,-130\"/>\n</g>\n<!-- 140281082747024 -->\n<g id=\"node6\" class=\"node\">\n<title>140281082747024</title>\n<polygon fill=\"none\" stroke=\"black\" points=\"1690,-191.5 1690,-227.5 1877,-227.5 1877,-191.5 1690,-191.5\"/>\n<text text-anchor=\"middle\" x=\"1700\" y=\"-205.8\" font-family=\"Times,serif\" font-size=\"14.00\"> </text>\n<polyline fill=\"none\" stroke=\"black\" points=\"1710,-191.5 1710,-227.5 \"/>\n<text text-anchor=\"middle\" x=\"1752.5\" y=\"-205.8\" font-family=\"Times,serif\" font-size=\"14.00\">data &#45;1.0000</text>\n<polyline fill=\"none\" stroke=\"black\" points=\"1795,-191.5 1795,-227.5 \"/>\n<text text-anchor=\"middle\" x=\"1836\" y=\"-205.8\" font-family=\"Times,serif\" font-size=\"14.00\">grad 0.0000</text>\n</g>\n<!-- 140281082745168+ -->\n<g id=\"node24\" class=\"node\">\n<title>140281082745168+</title>\n<ellipse fill=\"none\" stroke=\"black\" cx=\"1940\" cy=\"-181.5\" rx=\"27\" ry=\"18\"/>\n<text text-anchor=\"middle\" x=\"1940\" y=\"-177.8\" font-family=\"Times,serif\" font-size=\"14.00\">+</text>\n</g>\n<!-- 140281082747024&#45;&gt;140281082745168+ -->\n<g id=\"edge21\" class=\"edge\">\n<title>140281082747024&#45;&gt;140281082745168+</title>\n<path fill=\"none\" stroke=\"black\" d=\"M1877.05,-192.73C1886.54,-191.01 1895.71,-189.35 1903.95,-187.85\"/>\n<polygon fill=\"black\" stroke=\"black\" points=\"1904.64,-191.28 1913.85,-186.06 1903.39,-184.4 1904.64,-191.28\"/>\n</g>\n<!-- 140281082747088 -->\n<g id=\"node7\" class=\"node\">\n<title>140281082747088</title>\n<polygon fill=\"none\" stroke=\"black\" points=\"2747,-135.5 2747,-171.5 2943,-171.5 2943,-135.5 2747,-135.5\"/>\n<text text-anchor=\"middle\" x=\"2764\" y=\"-149.8\" font-family=\"Times,serif\" font-size=\"14.00\">out</text>\n<polyline fill=\"none\" stroke=\"black\" points=\"2781,-135.5 2781,-171.5 \"/>\n<text text-anchor=\"middle\" x=\"2821\" y=\"-149.8\" font-family=\"Times,serif\" font-size=\"14.00\">data 0.7071</text>\n<polyline fill=\"none\" stroke=\"black\" points=\"2861,-135.5 2861,-171.5 \"/>\n<text text-anchor=\"middle\" x=\"2902\" y=\"-149.8\" font-family=\"Times,serif\" font-size=\"14.00\">grad 0.0000</text>\n</g>\n<!-- 140281082747088* -->\n<g id=\"node8\" class=\"node\">\n<title>140281082747088*</title>\n<ellipse fill=\"none\" stroke=\"black\" cx=\"2684\" cy=\"-153.5\" rx=\"27\" ry=\"18\"/>\n<text text-anchor=\"middle\" x=\"2684\" y=\"-149.8\" font-family=\"Times,serif\" font-size=\"14.00\">*</text>\n</g>\n<!-- 140281082747088*&#45;&gt;140281082747088 -->\n<g id=\"edge3\" class=\"edge\">\n<title>140281082747088*&#45;&gt;140281082747088</title>\n<path fill=\"none\" stroke=\"black\" d=\"M2711.26,-153.5C2718.77,-153.5 2727.46,-153.5 2736.72,-153.5\"/>\n<polygon fill=\"black\" stroke=\"black\" points=\"2736.97,-157 2746.97,-153.5 2736.97,-150 2736.97,-157\"/>\n</g>\n<!-- 140281082746576 -->\n<g id=\"node9\" class=\"node\">\n<title>140281082746576</title>\n<polygon fill=\"none\" stroke=\"black\" points=\"326,-110.5 326,-146.5 546,-146.5 546,-110.5 326,-110.5\"/>\n<text text-anchor=\"middle\" x=\"352.5\" y=\"-124.8\" font-family=\"Times,serif\" font-size=\"14.00\">x1*w1</text>\n<polyline fill=\"none\" stroke=\"black\" points=\"379,-110.5 379,-146.5 \"/>\n<text text-anchor=\"middle\" x=\"421.5\" y=\"-124.8\" font-family=\"Times,serif\" font-size=\"14.00\">data &#45;6.0000</text>\n<polyline fill=\"none\" stroke=\"black\" points=\"464,-110.5 464,-146.5 \"/>\n<text text-anchor=\"middle\" x=\"505\" y=\"-124.8\" font-family=\"Times,serif\" font-size=\"14.00\">grad 0.0000</text>\n</g>\n<!-- 140281082746576&#45;&gt;140281082746704+ -->\n<g id=\"edge24\" class=\"edge\">\n<title>140281082746576&#45;&gt;140281082746704+</title>\n<path fill=\"none\" stroke=\"black\" d=\"M546.27,-110.61C555.64,-109.07 564.6,-107.61 572.65,-106.29\"/>\n<polygon fill=\"black\" stroke=\"black\" points=\"573.35,-109.72 582.65,-104.65 572.22,-102.81 573.35,-109.72\"/>\n</g>\n<!-- 140281082746576* -->\n<g id=\"node10\" class=\"node\">\n<title>140281082746576*</title>\n<ellipse fill=\"none\" stroke=\"black\" cx=\"263\" cy=\"-128.5\" rx=\"27\" ry=\"18\"/>\n<text text-anchor=\"middle\" x=\"263\" y=\"-124.8\" font-family=\"Times,serif\" font-size=\"14.00\">*</text>\n</g>\n<!-- 140281082746576*&#45;&gt;140281082746576 -->\n<g id=\"edge4\" class=\"edge\">\n<title>140281082746576*&#45;&gt;140281082746576</title>\n<path fill=\"none\" stroke=\"black\" d=\"M290.34,-128.5C297.77,-128.5 306.37,-128.5 315.6,-128.5\"/>\n<polygon fill=\"black\" stroke=\"black\" points=\"315.84,-132 325.84,-128.5 315.84,-125 315.84,-132\"/>\n</g>\n<!-- 140281082745040 -->\n<g id=\"node11\" class=\"node\">\n<title>140281082745040</title>\n<polygon fill=\"none\" stroke=\"black\" points=\"0,-165.5 0,-201.5 200,-201.5 200,-165.5 0,-165.5\"/>\n<text text-anchor=\"middle\" x=\"16.5\" y=\"-179.8\" font-family=\"Times,serif\" font-size=\"14.00\">w1</text>\n<polyline fill=\"none\" stroke=\"black\" points=\"33,-165.5 33,-201.5 \"/>\n<text text-anchor=\"middle\" x=\"75.5\" y=\"-179.8\" font-family=\"Times,serif\" font-size=\"14.00\">data &#45;3.0000</text>\n<polyline fill=\"none\" stroke=\"black\" points=\"118,-165.5 118,-201.5 \"/>\n<text text-anchor=\"middle\" x=\"159\" y=\"-179.8\" font-family=\"Times,serif\" font-size=\"14.00\">grad 0.0000</text>\n</g>\n<!-- 140281082745040&#45;&gt;140281082746576* -->\n<g id=\"edge11\" class=\"edge\">\n<title>140281082745040&#45;&gt;140281082746576*</title>\n<path fill=\"none\" stroke=\"black\" d=\"M172.53,-165.44C181.84,-162.67 191.2,-159.67 200,-156.5 210.53,-152.71 221.75,-147.9 231.72,-143.33\"/>\n<polygon fill=\"black\" stroke=\"black\" points=\"233.25,-146.48 240.82,-139.07 230.28,-140.14 233.25,-146.48\"/>\n</g>\n<!-- 140281082747152 -->\n<g id=\"node12\" class=\"node\">\n<title>140281082747152</title>\n<polygon fill=\"none\" stroke=\"black\" points=\"2439,-112.5 2439,-148.5 2621,-148.5 2621,-112.5 2439,-112.5\"/>\n<text text-anchor=\"middle\" x=\"2449\" y=\"-126.8\" font-family=\"Times,serif\" font-size=\"14.00\"> </text>\n<polyline fill=\"none\" stroke=\"black\" points=\"2459,-112.5 2459,-148.5 \"/>\n<text text-anchor=\"middle\" x=\"2499\" y=\"-126.8\" font-family=\"Times,serif\" font-size=\"14.00\">data 0.1464</text>\n<polyline fill=\"none\" stroke=\"black\" points=\"2539,-112.5 2539,-148.5 \"/>\n<text text-anchor=\"middle\" x=\"2580\" y=\"-126.8\" font-family=\"Times,serif\" font-size=\"14.00\">grad 0.0000</text>\n</g>\n<!-- 140281082747152&#45;&gt;140281082747088* -->\n<g id=\"edge16\" class=\"edge\">\n<title>140281082747152&#45;&gt;140281082747088*</title>\n<path fill=\"none\" stroke=\"black\" d=\"M2621.18,-144.15C2630.42,-145.54 2639.38,-146.9 2647.47,-148.12\"/>\n<polygon fill=\"black\" stroke=\"black\" points=\"2647.15,-151.61 2657.56,-149.65 2648.19,-144.69 2647.15,-151.61\"/>\n</g>\n<!-- 140281082747152**&#45;1&#45;&gt;140281082747152 -->\n<g id=\"edge5\" class=\"edge\">\n<title>140281082747152**&#45;1&#45;&gt;140281082747152</title>\n<path fill=\"none\" stroke=\"black\" d=\"M2339.05,-126.98C2361.53,-127.4 2395.48,-128.03 2428.5,-128.64\"/>\n<polygon fill=\"black\" stroke=\"black\" points=\"2428.64,-132.14 2438.7,-128.83 2428.77,-125.14 2428.64,-132.14\"/>\n</g>\n<!-- 140281082745104 -->\n<g id=\"node14\" class=\"node\">\n<title>140281082745104</title>\n<polygon fill=\"none\" stroke=\"black\" points=\"1692.5,-81.5 1692.5,-117.5 1874.5,-117.5 1874.5,-81.5 1692.5,-81.5\"/>\n<text text-anchor=\"middle\" x=\"1702.5\" y=\"-95.8\" font-family=\"Times,serif\" font-size=\"14.00\"> </text>\n<polyline fill=\"none\" stroke=\"black\" points=\"1712.5,-81.5 1712.5,-117.5 \"/>\n<text text-anchor=\"middle\" x=\"1752.5\" y=\"-95.8\" font-family=\"Times,serif\" font-size=\"14.00\">data 1.0000</text>\n<polyline fill=\"none\" stroke=\"black\" points=\"1792.5,-81.5 1792.5,-117.5 \"/>\n<text text-anchor=\"middle\" x=\"1833.5\" y=\"-95.8\" font-family=\"Times,serif\" font-size=\"14.00\">grad 0.0000</text>\n</g>\n<!-- 140281082745104&#45;&gt;140281082746512+ -->\n<g id=\"edge19\" class=\"edge\">\n<title>140281082745104&#45;&gt;140281082746512+</title>\n<path fill=\"none\" stroke=\"black\" d=\"M1874.82,-115.28C1885.07,-117.08 1895.01,-118.81 1903.88,-120.36\"/>\n<polygon fill=\"black\" stroke=\"black\" points=\"1903.3,-123.81 1913.75,-122.09 1904.5,-116.92 1903.3,-123.81\"/>\n</g>\n<!-- 140281082746640 -->\n<g id=\"node15\" class=\"node\">\n<title>140281082746640</title>\n<polygon fill=\"none\" stroke=\"black\" points=\"1382,-136.5 1382,-172.5 1564,-172.5 1564,-136.5 1382,-136.5\"/>\n<text text-anchor=\"middle\" x=\"1392\" y=\"-150.8\" font-family=\"Times,serif\" font-size=\"14.00\"> </text>\n<polyline fill=\"none\" stroke=\"black\" points=\"1402,-136.5 1402,-172.5 \"/>\n<text text-anchor=\"middle\" x=\"1442\" y=\"-150.8\" font-family=\"Times,serif\" font-size=\"14.00\">data 1.7627</text>\n<polyline fill=\"none\" stroke=\"black\" points=\"1482,-136.5 1482,-172.5 \"/>\n<text text-anchor=\"middle\" x=\"1523\" y=\"-150.8\" font-family=\"Times,serif\" font-size=\"14.00\">grad 0.0000</text>\n</g>\n<!-- 140281082746832exp -->\n<g id=\"node28\" class=\"node\">\n<title>140281082746832exp</title>\n<ellipse fill=\"none\" stroke=\"black\" cx=\"1627\" cy=\"-154.5\" rx=\"27\" ry=\"18\"/>\n<text text-anchor=\"middle\" x=\"1627\" y=\"-150.8\" font-family=\"Times,serif\" font-size=\"14.00\">exp</text>\n</g>\n<!-- 140281082746640&#45;&gt;140281082746832exp -->\n<g id=\"edge28\" class=\"edge\">\n<title>140281082746640&#45;&gt;140281082746832exp</title>\n<path fill=\"none\" stroke=\"black\" d=\"M1564.18,-154.5C1573.14,-154.5 1581.83,-154.5 1589.73,-154.5\"/>\n<polygon fill=\"black\" stroke=\"black\" points=\"1589.96,-158 1599.96,-154.5 1589.96,-151 1589.96,-158\"/>\n</g>\n<!-- 140281082746640* -->\n<g id=\"node16\" class=\"node\">\n<title>140281082746640*</title>\n<ellipse fill=\"none\" stroke=\"black\" cx=\"1319\" cy=\"-154.5\" rx=\"27\" ry=\"18\"/>\n<text text-anchor=\"middle\" x=\"1319\" y=\"-150.8\" font-family=\"Times,serif\" font-size=\"14.00\">*</text>\n</g>\n<!-- 140281082746640*&#45;&gt;140281082746640 -->\n<g id=\"edge6\" class=\"edge\">\n<title>140281082746640*&#45;&gt;140281082746640</title>\n<path fill=\"none\" stroke=\"black\" d=\"M1346.13,-154.5C1353.67,-154.5 1362.39,-154.5 1371.64,-154.5\"/>\n<polygon fill=\"black\" stroke=\"black\" points=\"1371.87,-158 1381.87,-154.5 1371.87,-151 1371.87,-158\"/>\n</g>\n<!-- 140281082746128 -->\n<g id=\"node17\" class=\"node\">\n<title>140281082746128</title>\n<polygon fill=\"none\" stroke=\"black\" points=\"2.5,-55.5 2.5,-91.5 197.5,-91.5 197.5,-55.5 2.5,-55.5\"/>\n<text text-anchor=\"middle\" x=\"19\" y=\"-69.8\" font-family=\"Times,serif\" font-size=\"14.00\">w2</text>\n<polyline fill=\"none\" stroke=\"black\" points=\"35.5,-55.5 35.5,-91.5 \"/>\n<text text-anchor=\"middle\" x=\"75.5\" y=\"-69.8\" font-family=\"Times,serif\" font-size=\"14.00\">data 1.0000</text>\n<polyline fill=\"none\" stroke=\"black\" points=\"115.5,-55.5 115.5,-91.5 \"/>\n<text text-anchor=\"middle\" x=\"156.5\" y=\"-69.8\" font-family=\"Times,serif\" font-size=\"14.00\">grad 0.0000</text>\n</g>\n<!-- 140281082746128&#45;&gt;140281082746448* -->\n<g id=\"edge14\" class=\"edge\">\n<title>140281082746128&#45;&gt;140281082746448*</title>\n<path fill=\"none\" stroke=\"black\" d=\"M197.91,-73.5C207.65,-73.5 217.05,-73.5 225.52,-73.5\"/>\n<polygon fill=\"black\" stroke=\"black\" points=\"225.7,-77 235.7,-73.5 225.7,-70 225.7,-77\"/>\n</g>\n<!-- 140281082746192 -->\n<g id=\"node18\" class=\"node\">\n<title>140281082746192</title>\n<polygon fill=\"none\" stroke=\"black\" points=\"1071,-109.5 1071,-145.5 1256,-145.5 1256,-109.5 1071,-109.5\"/>\n<text text-anchor=\"middle\" x=\"1082.5\" y=\"-123.8\" font-family=\"Times,serif\" font-size=\"14.00\">n</text>\n<polyline fill=\"none\" stroke=\"black\" points=\"1094,-109.5 1094,-145.5 \"/>\n<text text-anchor=\"middle\" x=\"1134\" y=\"-123.8\" font-family=\"Times,serif\" font-size=\"14.00\">data 0.8814</text>\n<polyline fill=\"none\" stroke=\"black\" points=\"1174,-109.5 1174,-145.5 \"/>\n<text text-anchor=\"middle\" x=\"1215\" y=\"-123.8\" font-family=\"Times,serif\" font-size=\"14.00\">grad 0.0000</text>\n</g>\n<!-- 140281082746192&#45;&gt;140281082746640* -->\n<g id=\"edge26\" class=\"edge\">\n<title>140281082746192&#45;&gt;140281082746640*</title>\n<path fill=\"none\" stroke=\"black\" d=\"M1256.01,-143.6C1265.49,-145.26 1274.66,-146.88 1282.9,-148.33\"/>\n<polygon fill=\"black\" stroke=\"black\" points=\"1282.36,-151.78 1292.81,-150.07 1283.57,-144.89 1282.36,-151.78\"/>\n</g>\n<!-- 140281082746192+&#45;&gt;140281082746192 -->\n<g id=\"edge7\" class=\"edge\">\n<title>140281082746192+&#45;&gt;140281082746192</title>\n<path fill=\"none\" stroke=\"black\" d=\"M1035.04,-127.5C1042.58,-127.5 1051.3,-127.5 1060.57,-127.5\"/>\n<polygon fill=\"black\" stroke=\"black\" points=\"1060.81,-131 1070.81,-127.5 1060.81,-124 1060.81,-131\"/>\n</g>\n<!-- 140281082746704 -->\n<g id=\"node20\" class=\"node\">\n<title>140281082746704</title>\n<polygon fill=\"none\" stroke=\"black\" points=\"672,-82.5 672,-118.5 945,-118.5 945,-82.5 672,-82.5\"/>\n<text text-anchor=\"middle\" x=\"725\" y=\"-96.8\" font-family=\"Times,serif\" font-size=\"14.00\">x1*w1 + x2*w2</text>\n<polyline fill=\"none\" stroke=\"black\" points=\"778,-82.5 778,-118.5 \"/>\n<text text-anchor=\"middle\" x=\"820.5\" y=\"-96.8\" font-family=\"Times,serif\" font-size=\"14.00\">data &#45;6.0000</text>\n<polyline fill=\"none\" stroke=\"black\" points=\"863,-82.5 863,-118.5 \"/>\n<text text-anchor=\"middle\" x=\"904\" y=\"-96.8\" font-family=\"Times,serif\" font-size=\"14.00\">grad 0.0000</text>\n</g>\n<!-- 140281082746704&#45;&gt;140281082746192+ -->\n<g id=\"edge15\" class=\"edge\">\n<title>140281082746704&#45;&gt;140281082746192+</title>\n<path fill=\"none\" stroke=\"black\" d=\"M941.24,-118.51C952.12,-120 962.4,-121.4 971.45,-122.64\"/>\n<polygon fill=\"black\" stroke=\"black\" points=\"971.11,-126.13 981.49,-124.01 972.05,-119.19 971.11,-126.13\"/>\n</g>\n<!-- 140281082746704+&#45;&gt;140281082746704 -->\n<g id=\"edge8\" class=\"edge\">\n<title>140281082746704+&#45;&gt;140281082746704</title>\n<path fill=\"none\" stroke=\"black\" d=\"M636.23,-100.5C643.7,-100.5 652.41,-100.5 661.87,-100.5\"/>\n<polygon fill=\"black\" stroke=\"black\" points=\"661.98,-104 671.98,-100.5 661.98,-97 661.98,-104\"/>\n</g>\n<!-- 140281082745680 -->\n<g id=\"node22\" class=\"node\">\n<title>140281082745680</title>\n<polygon fill=\"none\" stroke=\"black\" points=\"4,-110.5 4,-146.5 196,-146.5 196,-110.5 4,-110.5\"/>\n<text text-anchor=\"middle\" x=\"19\" y=\"-124.8\" font-family=\"Times,serif\" font-size=\"14.00\">x1</text>\n<polyline fill=\"none\" stroke=\"black\" points=\"34,-110.5 34,-146.5 \"/>\n<text text-anchor=\"middle\" x=\"74\" y=\"-124.8\" font-family=\"Times,serif\" font-size=\"14.00\">data 2.0000</text>\n<polyline fill=\"none\" stroke=\"black\" points=\"114,-110.5 114,-146.5 \"/>\n<text text-anchor=\"middle\" x=\"155\" y=\"-124.8\" font-family=\"Times,serif\" font-size=\"14.00\">grad 0.0000</text>\n</g>\n<!-- 140281082745680&#45;&gt;140281082746576* -->\n<g id=\"edge18\" class=\"edge\">\n<title>140281082745680&#45;&gt;140281082746576*</title>\n<path fill=\"none\" stroke=\"black\" d=\"M196.05,-128.5C206.52,-128.5 216.65,-128.5 225.71,-128.5\"/>\n<polygon fill=\"black\" stroke=\"black\" points=\"225.79,-132 235.79,-128.5 225.79,-125 225.79,-132\"/>\n</g>\n<!-- 140281082745168 -->\n<g id=\"node23\" class=\"node\">\n<title>140281082745168</title>\n<polygon fill=\"none\" stroke=\"black\" points=\"2221,-163.5 2221,-199.5 2403,-199.5 2403,-163.5 2221,-163.5\"/>\n<text text-anchor=\"middle\" x=\"2231\" y=\"-177.8\" font-family=\"Times,serif\" font-size=\"14.00\"> </text>\n<polyline fill=\"none\" stroke=\"black\" points=\"2241,-163.5 2241,-199.5 \"/>\n<text text-anchor=\"middle\" x=\"2281\" y=\"-177.8\" font-family=\"Times,serif\" font-size=\"14.00\">data 4.8284</text>\n<polyline fill=\"none\" stroke=\"black\" points=\"2321,-163.5 2321,-199.5 \"/>\n<text text-anchor=\"middle\" x=\"2362\" y=\"-177.8\" font-family=\"Times,serif\" font-size=\"14.00\">grad 0.0000</text>\n</g>\n<!-- 140281082745168&#45;&gt;140281082747088* -->\n<g id=\"edge13\" class=\"edge\">\n<title>140281082745168&#45;&gt;140281082747088*</title>\n<path fill=\"none\" stroke=\"black\" d=\"M2403.31,-174.9C2464.7,-170.37 2547.76,-164.19 2621,-158.5 2629.42,-157.85 2638.48,-157.13 2647.01,-156.44\"/>\n<polygon fill=\"black\" stroke=\"black\" points=\"2647.37,-159.92 2657.06,-155.63 2646.81,-152.94 2647.37,-159.92\"/>\n</g>\n<!-- 140281082745168+&#45;&gt;140281082745168 -->\n<g id=\"edge9\" class=\"edge\">\n<title>140281082745168+&#45;&gt;140281082745168</title>\n<path fill=\"none\" stroke=\"black\" d=\"M1967.02,-181.5C2016.84,-181.5 2128.08,-181.5 2210.65,-181.5\"/>\n<polygon fill=\"black\" stroke=\"black\" points=\"2210.82,-185 2220.82,-181.5 2210.82,-178 2210.82,-185\"/>\n</g>\n<!-- 140281082746768 -->\n<g id=\"node25\" class=\"node\">\n<title>140281082746768</title>\n<polygon fill=\"none\" stroke=\"black\" points=\"1072.5,-164.5 1072.5,-200.5 1254.5,-200.5 1254.5,-164.5 1072.5,-164.5\"/>\n<text text-anchor=\"middle\" x=\"1082.5\" y=\"-178.8\" font-family=\"Times,serif\" font-size=\"14.00\"> </text>\n<polyline fill=\"none\" stroke=\"black\" points=\"1092.5,-164.5 1092.5,-200.5 \"/>\n<text text-anchor=\"middle\" x=\"1132.5\" y=\"-178.8\" font-family=\"Times,serif\" font-size=\"14.00\">data 2.0000</text>\n<polyline fill=\"none\" stroke=\"black\" points=\"1172.5,-164.5 1172.5,-200.5 \"/>\n<text text-anchor=\"middle\" x=\"1213.5\" y=\"-178.8\" font-family=\"Times,serif\" font-size=\"14.00\">grad 0.0000</text>\n</g>\n<!-- 140281082746768&#45;&gt;140281082746640* -->\n<g id=\"edge27\" class=\"edge\">\n<title>140281082746768&#45;&gt;140281082746640*</title>\n<path fill=\"none\" stroke=\"black\" d=\"M1254.68,-166.05C1264.61,-164.24 1274.23,-162.48 1282.84,-160.91\"/>\n<polygon fill=\"black\" stroke=\"black\" points=\"1283.6,-164.33 1292.81,-159.09 1282.35,-157.45 1283.6,-164.33\"/>\n</g>\n<!-- 140281082746320 -->\n<g id=\"node26\" class=\"node\">\n<title>140281082746320</title>\n<polygon fill=\"none\" stroke=\"black\" points=\"4,-0.5 4,-36.5 196,-36.5 196,-0.5 4,-0.5\"/>\n<text text-anchor=\"middle\" x=\"19\" y=\"-14.8\" font-family=\"Times,serif\" font-size=\"14.00\">x2</text>\n<polyline fill=\"none\" stroke=\"black\" points=\"34,-0.5 34,-36.5 \"/>\n<text text-anchor=\"middle\" x=\"74\" y=\"-14.8\" font-family=\"Times,serif\" font-size=\"14.00\">data 0.0000</text>\n<polyline fill=\"none\" stroke=\"black\" points=\"114,-0.5 114,-36.5 \"/>\n<text text-anchor=\"middle\" x=\"155\" y=\"-14.8\" font-family=\"Times,serif\" font-size=\"14.00\">grad 0.0000</text>\n</g>\n<!-- 140281082746320&#45;&gt;140281082746448* -->\n<g id=\"edge25\" class=\"edge\">\n<title>140281082746320&#45;&gt;140281082746448*</title>\n<path fill=\"none\" stroke=\"black\" d=\"M172.53,-36.56C181.84,-39.33 191.2,-42.33 200,-45.5 210.53,-49.29 221.75,-54.1 231.72,-58.67\"/>\n<polygon fill=\"black\" stroke=\"black\" points=\"230.28,-61.86 240.82,-62.93 233.25,-55.52 230.28,-61.86\"/>\n</g>\n<!-- 140281082746832 -->\n<g id=\"node27\" class=\"node\">\n<title>140281082746832</title>\n<polygon fill=\"none\" stroke=\"black\" points=\"1691,-136.5 1691,-172.5 1876,-172.5 1876,-136.5 1691,-136.5\"/>\n<text text-anchor=\"middle\" x=\"1702.5\" y=\"-150.8\" font-family=\"Times,serif\" font-size=\"14.00\">e</text>\n<polyline fill=\"none\" stroke=\"black\" points=\"1714,-136.5 1714,-172.5 \"/>\n<text text-anchor=\"middle\" x=\"1754\" y=\"-150.8\" font-family=\"Times,serif\" font-size=\"14.00\">data 5.8284</text>\n<polyline fill=\"none\" stroke=\"black\" points=\"1794,-136.5 1794,-172.5 \"/>\n<text text-anchor=\"middle\" x=\"1835\" y=\"-150.8\" font-family=\"Times,serif\" font-size=\"14.00\">grad 0.0000</text>\n</g>\n<!-- 140281082746832&#45;&gt;140281082746512+ -->\n<g id=\"edge17\" class=\"edge\">\n<title>140281082746832&#45;&gt;140281082746512+</title>\n<path fill=\"none\" stroke=\"black\" d=\"M1876.16,-137.89C1885.84,-136.13 1895.22,-134.43 1903.64,-132.91\"/>\n<polygon fill=\"black\" stroke=\"black\" points=\"1904.53,-136.3 1913.75,-131.08 1903.28,-129.42 1904.53,-136.3\"/>\n</g>\n<!-- 140281082746832&#45;&gt;140281082745168+ -->\n<g id=\"edge23\" class=\"edge\">\n<title>140281082746832&#45;&gt;140281082745168+</title>\n<path fill=\"none\" stroke=\"black\" d=\"M1876.16,-170.52C1885.84,-172.21 1895.22,-173.85 1903.64,-175.32\"/>\n<polygon fill=\"black\" stroke=\"black\" points=\"1903.29,-178.81 1913.75,-177.09 1904.5,-171.92 1903.29,-178.81\"/>\n</g>\n<!-- 140281082746832exp&#45;&gt;140281082746832 -->\n<g id=\"edge10\" class=\"edge\">\n<title>140281082746832exp&#45;&gt;140281082746832</title>\n<path fill=\"none\" stroke=\"black\" d=\"M1654.21,-154.5C1662,-154.5 1671.05,-154.5 1680.67,-154.5\"/>\n<polygon fill=\"black\" stroke=\"black\" points=\"1680.87,-158 1690.87,-154.5 1680.87,-151 1680.87,-158\"/>\n</g>\n</g>\n</svg>\n",
            "text/plain": [
              "<graphviz.graphs.Digraph at 0x7f95bc1b1990>"
            ]
          },
          "metadata": {},
          "execution_count": 22
        }
      ]
    },
    {
      "cell_type": "code",
      "source": [],
      "metadata": {
        "id": "sIS83woLzfdw"
      },
      "execution_count": null,
      "outputs": []
    }
  ]
}