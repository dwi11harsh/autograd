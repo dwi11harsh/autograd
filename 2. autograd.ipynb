{
  "nbformat": 4,
  "nbformat_minor": 0,
  "metadata": {
    "colab": {
      "provenance": [],
      "authorship_tag": "ABX9TyPrBrflxilu7rKnU47xvcpi",
      "include_colab_link": true
    },
    "kernelspec": {
      "name": "python3",
      "display_name": "Python 3"
    },
    "language_info": {
      "name": "python"
    }
  },
  "cells": [
    {
      "cell_type": "markdown",
      "metadata": {
        "id": "view-in-github",
        "colab_type": "text"
      },
      "source": [
        "<a href=\"https://colab.research.google.com/github/dwi11harsh/micrograd/blob/main/2.%20autograd.ipynb\" target=\"_parent\"><img src=\"https://colab.research.google.com/assets/colab-badge.svg\" alt=\"Open In Colab\"/></a>"
      ]
    },
    {
      "cell_type": "code",
      "execution_count": 23,
      "metadata": {
        "id": "yBgHT3ySZXS6"
      },
      "outputs": [],
      "source": [
        "import numpy as np\n",
        "import matplotlib.pyplot as plt\n",
        "import math\n",
        "import random\n",
        "from graphviz import Digraph"
      ]
    },
    {
      "cell_type": "code",
      "source": [
        "def trace(root):\n",
        "  nodes, edges = set(), set()\n",
        "  def build(v):\n",
        "    if v not in nodes:\n",
        "      nodes.add(v)\n",
        "      for child in v._prev:\n",
        "        edges.add((child, v))\n",
        "        build(child)\n",
        "  build(root)\n",
        "  return nodes, edges\n",
        "\n",
        "def draw_graph(root):\n",
        "  dot = Digraph(format='svg', graph_attr={'rankdir': 'LR'})\n",
        "\n",
        "  nodes, edges = trace(root)\n",
        "  for n in nodes:\n",
        "    uid = str(id(n))\n",
        "    dot.node(name = uid, label = \"{ %s | data %.4f | grad %.4f }\" % (n.label, n.data, n.grad), shape='record')\n",
        "    if n._op:\n",
        "      dot.node(name = uid + n._op, label = n._op)\n",
        "      dot.edge(uid + n._op, uid)\n",
        "\n",
        "  for n1, n2 in edges:\n",
        "    dot.edge(str(id(n1)), str(id(n2)) + n2._op)\n",
        "\n",
        "  return dot"
      ],
      "metadata": {
        "id": "M3yHg_WDZiCT"
      },
      "execution_count": 24,
      "outputs": []
    },
    {
      "cell_type": "markdown",
      "source": [
        "# Adding More Methods and Updating Older Ones\n",
        "\n",
        "1. Currently we cannot use scalars in any of the operations, so adding the functionality to deal with scalars in all the `ops`"
      ],
      "metadata": {
        "id": "au4Cfjwfasbl"
      }
    },
    {
      "cell_type": "code",
      "source": [
        "class Value:\n",
        "\n",
        "  def __init__(self, data, _children=(), _op='', label=''):\n",
        "    self.data = data\n",
        "    self.grad = 0.0\n",
        "    self._backward = lambda: None\n",
        "    self._prev = set(_children)\n",
        "    self._op = _op\n",
        "    self.label = label\n",
        "\n",
        "  def __repr__(self):\n",
        "    return f\"Value(data={self.data})\"\n",
        "\n",
        "  def __add__(self, other):\n",
        "    other = other if isinstance(other, Value) else Value(other)\n",
        "    out = Value(self.data + other.data, (self, other), '+')\n",
        "\n",
        "    def _backward():\n",
        "      self.grad += 1.0 * out.grad\n",
        "      other.grad += 1.0 * out.grad\n",
        "    out._backward = _backward\n",
        "\n",
        "    return out\n",
        "\n",
        "  def __mul__(self, other):\n",
        "    other = other if isinstance(other, Value) else Value(other)\n",
        "    out = Value(self.data * other.data, (self, other), '*')\n",
        "\n",
        "    def _backward():\n",
        "      self.grad += other.data * out.grad\n",
        "      other.grad += self.data * out.grad\n",
        "    out._backward = _backward\n",
        "\n",
        "    return out\n",
        "\n",
        "  def __pow__(self, other):\n",
        "    assert isinstance(other, (int, float)), \"only supporting int/float powers for now\"\n",
        "    out = Value(self.data**other, (self,), f'**{other}')\n",
        "\n",
        "    def _backward():\n",
        "        self.grad += other * (self.data ** (other - 1)) * out.grad\n",
        "    out._backward = _backward\n",
        "\n",
        "    return out\n",
        "\n",
        "  def __rmul__(self, other): # other * self\n",
        "    return self * other\n",
        "\n",
        "  def __truediv__(self, other): # self / other\n",
        "    return self * other**-1\n",
        "\n",
        "  def __neg__(self): # -self\n",
        "    return self * -1\n",
        "\n",
        "  def __sub__(self, other): # self - other\n",
        "    return self + (-other)\n",
        "\n",
        "  def __radd__(self, other): # other + self\n",
        "    return self + other\n",
        "\n",
        "  def tanh(self):\n",
        "    x = self.data\n",
        "    t = (math.exp(2*x) - 1)/(math.exp(2*x) + 1)\n",
        "    out = Value(t, (self, ), 'tanh')\n",
        "\n",
        "    def _backward():\n",
        "      self.grad += (1 - t**2) * out.grad\n",
        "    out._backward = _backward\n",
        "\n",
        "    return out\n",
        "\n",
        "  def exp(self):\n",
        "    x = self.data\n",
        "    out = Value(math.exp(x), (self, ), 'exp')\n",
        "\n",
        "    def _backward():\n",
        "      self.grad += out.data * out.grad\n",
        "    out._backward = _backward\n",
        "\n",
        "    return out\n",
        "\n",
        "\n",
        "  def backward(self):\n",
        "\n",
        "    topo = []\n",
        "    visited = set()\n",
        "    def build_topo(v):\n",
        "      if v not in visited:\n",
        "        visited.add(v)\n",
        "        for child in v._prev:\n",
        "          build_topo(child)\n",
        "        topo.append(v)\n",
        "    build_topo(self)\n",
        "\n",
        "    self.grad = 1.0\n",
        "    for node in reversed(topo):\n",
        "      node._backward()"
      ],
      "metadata": {
        "id": "KLIP1MQzZ4_a"
      },
      "execution_count": 25,
      "outputs": []
    },
    {
      "cell_type": "code",
      "source": [
        "# testing the newer methods with previously known results\n",
        "\n",
        "# PREVIOUS VALUES\n",
        "\n",
        "# inputs\n",
        "x1 = Value(2.0, label='x1')\n",
        "x2 = Value(0.0, label='x2')\n",
        "\n",
        "# weights\n",
        "w1 = Value(-3.0, label='w1')\n",
        "w2 = Value(1.0, label='w2')\n",
        "\n",
        "# bias of the neuron\n",
        "bias = Value(6.8813735870195432, label='bias')\n",
        "\n",
        "x1w1 = x1*w1\n",
        "x2w2 = x2*w2\n",
        "\n",
        "x1w1.label = 'x1*w1'\n",
        "x2w2.label = 'x2*w2'\n",
        "\n",
        "# x1w1 + x2w2 + bias\n",
        "x1w1x2w2 = x1w1 + x2w2\n",
        "x1w1x2w2.label = 'x1*w1 + x2*w2'\n",
        "n = x1w1x2w2 + bias\n",
        "n.label = 'n'\n",
        "\n",
        "out = n.tanh()\n",
        "out.label = 'out'\n",
        "\n",
        "draw_graph(out)"
      ],
      "metadata": {
        "colab": {
          "base_uri": "https://localhost:8080/",
          "height": 321
        },
        "id": "YeE8OrMqaHa7",
        "outputId": "76de2fb5-468e-4419-f48c-e112b08dcf68"
      },
      "execution_count": 26,
      "outputs": [
        {
          "output_type": "execute_result",
          "data": {
            "image/svg+xml": "<?xml version=\"1.0\" encoding=\"UTF-8\" standalone=\"no\"?>\n<!DOCTYPE svg PUBLIC \"-//W3C//DTD SVG 1.1//EN\"\n \"http://www.w3.org/Graphics/SVG/1.1/DTD/svg11.dtd\">\n<!-- Generated by graphviz version 2.43.0 (0)\n -->\n<!-- Title: %3 Pages: 1 -->\n<svg width=\"1586pt\" height=\"210pt\"\n viewBox=\"0.00 0.00 1586.00 210.00\" xmlns=\"http://www.w3.org/2000/svg\" xmlns:xlink=\"http://www.w3.org/1999/xlink\">\n<g id=\"graph0\" class=\"graph\" transform=\"scale(1 1) rotate(0) translate(4 206)\">\n<title>%3</title>\n<polygon fill=\"white\" stroke=\"transparent\" points=\"-4,4 -4,-206 1582,-206 1582,4 -4,4\"/>\n<!-- 134498259639760 -->\n<g id=\"node1\" class=\"node\">\n<title>134498259639760</title>\n<polygon fill=\"none\" stroke=\"black\" points=\"708.5,-137.5 708.5,-173.5 908.5,-173.5 908.5,-137.5 708.5,-137.5\"/>\n<text text-anchor=\"middle\" x=\"727.5\" y=\"-151.8\" font-family=\"Times,serif\" font-size=\"14.00\">bias</text>\n<polyline fill=\"none\" stroke=\"black\" points=\"746.5,-137.5 746.5,-173.5 \"/>\n<text text-anchor=\"middle\" x=\"786.5\" y=\"-151.8\" font-family=\"Times,serif\" font-size=\"14.00\">data 6.8814</text>\n<polyline fill=\"none\" stroke=\"black\" points=\"826.5,-137.5 826.5,-173.5 \"/>\n<text text-anchor=\"middle\" x=\"867.5\" y=\"-151.8\" font-family=\"Times,serif\" font-size=\"14.00\">grad 0.0000</text>\n</g>\n<!-- 134498259641680+ -->\n<g id=\"node12\" class=\"node\">\n<title>134498259641680+</title>\n<ellipse fill=\"none\" stroke=\"black\" cx=\"1008\" cy=\"-127.5\" rx=\"27\" ry=\"18\"/>\n<text text-anchor=\"middle\" x=\"1008\" y=\"-123.8\" font-family=\"Times,serif\" font-size=\"14.00\">+</text>\n</g>\n<!-- 134498259639760&#45;&gt;134498259641680+ -->\n<g id=\"edge10\" class=\"edge\">\n<title>134498259639760&#45;&gt;134498259641680+</title>\n<path fill=\"none\" stroke=\"black\" d=\"M908.54,-141.46C930.96,-138.28 953.36,-135.1 971.12,-132.59\"/>\n<polygon fill=\"black\" stroke=\"black\" points=\"971.86,-136.02 981.27,-131.15 970.88,-129.09 971.86,-136.02\"/>\n</g>\n<!-- 134498259647056 -->\n<g id=\"node2\" class=\"node\">\n<title>134498259647056</title>\n<polygon fill=\"none\" stroke=\"black\" points=\"1382,-109.5 1382,-145.5 1578,-145.5 1578,-109.5 1382,-109.5\"/>\n<text text-anchor=\"middle\" x=\"1399\" y=\"-123.8\" font-family=\"Times,serif\" font-size=\"14.00\">out</text>\n<polyline fill=\"none\" stroke=\"black\" points=\"1416,-109.5 1416,-145.5 \"/>\n<text text-anchor=\"middle\" x=\"1456\" y=\"-123.8\" font-family=\"Times,serif\" font-size=\"14.00\">data 0.7071</text>\n<polyline fill=\"none\" stroke=\"black\" points=\"1496,-109.5 1496,-145.5 \"/>\n<text text-anchor=\"middle\" x=\"1537\" y=\"-123.8\" font-family=\"Times,serif\" font-size=\"14.00\">grad 0.0000</text>\n</g>\n<!-- 134498259647056tanh -->\n<g id=\"node3\" class=\"node\">\n<title>134498259647056tanh</title>\n<ellipse fill=\"none\" stroke=\"black\" cx=\"1319\" cy=\"-127.5\" rx=\"27\" ry=\"18\"/>\n<text text-anchor=\"middle\" x=\"1319\" y=\"-123.8\" font-family=\"Times,serif\" font-size=\"14.00\">tanh</text>\n</g>\n<!-- 134498259647056tanh&#45;&gt;134498259647056 -->\n<g id=\"edge1\" class=\"edge\">\n<title>134498259647056tanh&#45;&gt;134498259647056</title>\n<path fill=\"none\" stroke=\"black\" d=\"M1346.26,-127.5C1353.77,-127.5 1362.46,-127.5 1371.72,-127.5\"/>\n<polygon fill=\"black\" stroke=\"black\" points=\"1371.97,-131 1381.97,-127.5 1371.97,-124 1371.97,-131\"/>\n</g>\n<!-- 134498259642448 -->\n<g id=\"node4\" class=\"node\">\n<title>134498259642448</title>\n<polygon fill=\"none\" stroke=\"black\" points=\"328.5,-110.5 328.5,-146.5 543.5,-146.5 543.5,-110.5 328.5,-110.5\"/>\n<text text-anchor=\"middle\" x=\"355\" y=\"-124.8\" font-family=\"Times,serif\" font-size=\"14.00\">x2*w2</text>\n<polyline fill=\"none\" stroke=\"black\" points=\"381.5,-110.5 381.5,-146.5 \"/>\n<text text-anchor=\"middle\" x=\"421.5\" y=\"-124.8\" font-family=\"Times,serif\" font-size=\"14.00\">data 0.0000</text>\n<polyline fill=\"none\" stroke=\"black\" points=\"461.5,-110.5 461.5,-146.5 \"/>\n<text text-anchor=\"middle\" x=\"502.5\" y=\"-124.8\" font-family=\"Times,serif\" font-size=\"14.00\">grad 0.0000</text>\n</g>\n<!-- 134498259641488+ -->\n<g id=\"node7\" class=\"node\">\n<title>134498259641488+</title>\n<ellipse fill=\"none\" stroke=\"black\" cx=\"609\" cy=\"-100.5\" rx=\"27\" ry=\"18\"/>\n<text text-anchor=\"middle\" x=\"609\" y=\"-96.8\" font-family=\"Times,serif\" font-size=\"14.00\">+</text>\n</g>\n<!-- 134498259642448&#45;&gt;134498259641488+ -->\n<g id=\"edge14\" class=\"edge\">\n<title>134498259642448&#45;&gt;134498259641488+</title>\n<path fill=\"none\" stroke=\"black\" d=\"M543.84,-111.01C554.01,-109.34 563.76,-107.74 572.44,-106.32\"/>\n<polygon fill=\"black\" stroke=\"black\" points=\"573.17,-109.75 582.47,-104.68 572.04,-102.84 573.17,-109.75\"/>\n</g>\n<!-- 134498259642448* -->\n<g id=\"node5\" class=\"node\">\n<title>134498259642448*</title>\n<ellipse fill=\"none\" stroke=\"black\" cx=\"263\" cy=\"-128.5\" rx=\"27\" ry=\"18\"/>\n<text text-anchor=\"middle\" x=\"263\" y=\"-124.8\" font-family=\"Times,serif\" font-size=\"14.00\">*</text>\n</g>\n<!-- 134498259642448*&#45;&gt;134498259642448 -->\n<g id=\"edge2\" class=\"edge\">\n<title>134498259642448*&#45;&gt;134498259642448</title>\n<path fill=\"none\" stroke=\"black\" d=\"M290.34,-128.5C298.51,-128.5 308.08,-128.5 318.36,-128.5\"/>\n<polygon fill=\"black\" stroke=\"black\" points=\"318.39,-132 328.39,-128.5 318.39,-125 318.39,-132\"/>\n</g>\n<!-- 134498259641488 -->\n<g id=\"node6\" class=\"node\">\n<title>134498259641488</title>\n<polygon fill=\"none\" stroke=\"black\" points=\"672,-82.5 672,-118.5 945,-118.5 945,-82.5 672,-82.5\"/>\n<text text-anchor=\"middle\" x=\"725\" y=\"-96.8\" font-family=\"Times,serif\" font-size=\"14.00\">x1*w1 + x2*w2</text>\n<polyline fill=\"none\" stroke=\"black\" points=\"778,-82.5 778,-118.5 \"/>\n<text text-anchor=\"middle\" x=\"820.5\" y=\"-96.8\" font-family=\"Times,serif\" font-size=\"14.00\">data &#45;6.0000</text>\n<polyline fill=\"none\" stroke=\"black\" points=\"863,-82.5 863,-118.5 \"/>\n<text text-anchor=\"middle\" x=\"904\" y=\"-96.8\" font-family=\"Times,serif\" font-size=\"14.00\">grad 0.0000</text>\n</g>\n<!-- 134498259641488&#45;&gt;134498259641680+ -->\n<g id=\"edge13\" class=\"edge\">\n<title>134498259641488&#45;&gt;134498259641680+</title>\n<path fill=\"none\" stroke=\"black\" d=\"M941.24,-118.51C952.12,-120 962.4,-121.4 971.45,-122.64\"/>\n<polygon fill=\"black\" stroke=\"black\" points=\"971.11,-126.13 981.49,-124.01 972.05,-119.19 971.11,-126.13\"/>\n</g>\n<!-- 134498259641488+&#45;&gt;134498259641488 -->\n<g id=\"edge3\" class=\"edge\">\n<title>134498259641488+&#45;&gt;134498259641488</title>\n<path fill=\"none\" stroke=\"black\" d=\"M636.23,-100.5C643.7,-100.5 652.41,-100.5 661.87,-100.5\"/>\n<polygon fill=\"black\" stroke=\"black\" points=\"661.98,-104 671.98,-100.5 661.98,-97 661.98,-104\"/>\n</g>\n<!-- 134498259643600 -->\n<g id=\"node8\" class=\"node\">\n<title>134498259643600</title>\n<polygon fill=\"none\" stroke=\"black\" points=\"4,-55.5 4,-91.5 196,-91.5 196,-55.5 4,-55.5\"/>\n<text text-anchor=\"middle\" x=\"19\" y=\"-69.8\" font-family=\"Times,serif\" font-size=\"14.00\">x1</text>\n<polyline fill=\"none\" stroke=\"black\" points=\"34,-55.5 34,-91.5 \"/>\n<text text-anchor=\"middle\" x=\"74\" y=\"-69.8\" font-family=\"Times,serif\" font-size=\"14.00\">data 2.0000</text>\n<polyline fill=\"none\" stroke=\"black\" points=\"114,-55.5 114,-91.5 \"/>\n<text text-anchor=\"middle\" x=\"155\" y=\"-69.8\" font-family=\"Times,serif\" font-size=\"14.00\">grad 0.0000</text>\n</g>\n<!-- 134498259647376* -->\n<g id=\"node14\" class=\"node\">\n<title>134498259647376*</title>\n<ellipse fill=\"none\" stroke=\"black\" cx=\"263\" cy=\"-73.5\" rx=\"27\" ry=\"18\"/>\n<text text-anchor=\"middle\" x=\"263\" y=\"-69.8\" font-family=\"Times,serif\" font-size=\"14.00\">*</text>\n</g>\n<!-- 134498259643600&#45;&gt;134498259647376* -->\n<g id=\"edge8\" class=\"edge\">\n<title>134498259643600&#45;&gt;134498259647376*</title>\n<path fill=\"none\" stroke=\"black\" d=\"M196.05,-73.5C206.52,-73.5 216.65,-73.5 225.71,-73.5\"/>\n<polygon fill=\"black\" stroke=\"black\" points=\"225.79,-77 235.79,-73.5 225.79,-70 225.79,-77\"/>\n</g>\n<!-- 134498259647248 -->\n<g id=\"node9\" class=\"node\">\n<title>134498259647248</title>\n<polygon fill=\"none\" stroke=\"black\" points=\"4,-165.5 4,-201.5 196,-201.5 196,-165.5 4,-165.5\"/>\n<text text-anchor=\"middle\" x=\"19\" y=\"-179.8\" font-family=\"Times,serif\" font-size=\"14.00\">x2</text>\n<polyline fill=\"none\" stroke=\"black\" points=\"34,-165.5 34,-201.5 \"/>\n<text text-anchor=\"middle\" x=\"74\" y=\"-179.8\" font-family=\"Times,serif\" font-size=\"14.00\">data 0.0000</text>\n<polyline fill=\"none\" stroke=\"black\" points=\"114,-165.5 114,-201.5 \"/>\n<text text-anchor=\"middle\" x=\"155\" y=\"-179.8\" font-family=\"Times,serif\" font-size=\"14.00\">grad 0.0000</text>\n</g>\n<!-- 134498259647248&#45;&gt;134498259642448* -->\n<g id=\"edge9\" class=\"edge\">\n<title>134498259647248&#45;&gt;134498259642448*</title>\n<path fill=\"none\" stroke=\"black\" d=\"M172.53,-165.44C181.84,-162.67 191.2,-159.67 200,-156.5 210.53,-152.71 221.75,-147.9 231.72,-143.33\"/>\n<polygon fill=\"black\" stroke=\"black\" points=\"233.25,-146.48 240.82,-139.07 230.28,-140.14 233.25,-146.48\"/>\n</g>\n<!-- 134498259644240 -->\n<g id=\"node10\" class=\"node\">\n<title>134498259644240</title>\n<polygon fill=\"none\" stroke=\"black\" points=\"0,-0.5 0,-36.5 200,-36.5 200,-0.5 0,-0.5\"/>\n<text text-anchor=\"middle\" x=\"16.5\" y=\"-14.8\" font-family=\"Times,serif\" font-size=\"14.00\">w1</text>\n<polyline fill=\"none\" stroke=\"black\" points=\"33,-0.5 33,-36.5 \"/>\n<text text-anchor=\"middle\" x=\"75.5\" y=\"-14.8\" font-family=\"Times,serif\" font-size=\"14.00\">data &#45;3.0000</text>\n<polyline fill=\"none\" stroke=\"black\" points=\"118,-0.5 118,-36.5 \"/>\n<text text-anchor=\"middle\" x=\"159\" y=\"-14.8\" font-family=\"Times,serif\" font-size=\"14.00\">grad 0.0000</text>\n</g>\n<!-- 134498259644240&#45;&gt;134498259647376* -->\n<g id=\"edge11\" class=\"edge\">\n<title>134498259644240&#45;&gt;134498259647376*</title>\n<path fill=\"none\" stroke=\"black\" d=\"M169.28,-36.5C179.65,-39.61 190.16,-42.98 200,-46.5 210.28,-50.17 221.28,-54.74 231.11,-59.07\"/>\n<polygon fill=\"black\" stroke=\"black\" points=\"229.93,-62.37 240.48,-63.27 232.79,-55.99 229.93,-62.37\"/>\n</g>\n<!-- 134498259641680 -->\n<g id=\"node11\" class=\"node\">\n<title>134498259641680</title>\n<polygon fill=\"none\" stroke=\"black\" points=\"1071,-109.5 1071,-145.5 1256,-145.5 1256,-109.5 1071,-109.5\"/>\n<text text-anchor=\"middle\" x=\"1082.5\" y=\"-123.8\" font-family=\"Times,serif\" font-size=\"14.00\">n</text>\n<polyline fill=\"none\" stroke=\"black\" points=\"1094,-109.5 1094,-145.5 \"/>\n<text text-anchor=\"middle\" x=\"1134\" y=\"-123.8\" font-family=\"Times,serif\" font-size=\"14.00\">data 0.8814</text>\n<polyline fill=\"none\" stroke=\"black\" points=\"1174,-109.5 1174,-145.5 \"/>\n<text text-anchor=\"middle\" x=\"1215\" y=\"-123.8\" font-family=\"Times,serif\" font-size=\"14.00\">grad 0.0000</text>\n</g>\n<!-- 134498259641680&#45;&gt;134498259647056tanh -->\n<g id=\"edge7\" class=\"edge\">\n<title>134498259641680&#45;&gt;134498259647056tanh</title>\n<path fill=\"none\" stroke=\"black\" d=\"M1256.01,-127.5C1265.01,-127.5 1273.74,-127.5 1281.66,-127.5\"/>\n<polygon fill=\"black\" stroke=\"black\" points=\"1281.91,-131 1291.91,-127.5 1281.91,-124 1281.91,-131\"/>\n</g>\n<!-- 134498259641680+&#45;&gt;134498259641680 -->\n<g id=\"edge4\" class=\"edge\">\n<title>134498259641680+&#45;&gt;134498259641680</title>\n<path fill=\"none\" stroke=\"black\" d=\"M1035.04,-127.5C1042.58,-127.5 1051.3,-127.5 1060.57,-127.5\"/>\n<polygon fill=\"black\" stroke=\"black\" points=\"1060.81,-131 1070.81,-127.5 1060.81,-124 1060.81,-131\"/>\n</g>\n<!-- 134498259647376 -->\n<g id=\"node13\" class=\"node\">\n<title>134498259647376</title>\n<polygon fill=\"none\" stroke=\"black\" points=\"326,-55.5 326,-91.5 546,-91.5 546,-55.5 326,-55.5\"/>\n<text text-anchor=\"middle\" x=\"352.5\" y=\"-69.8\" font-family=\"Times,serif\" font-size=\"14.00\">x1*w1</text>\n<polyline fill=\"none\" stroke=\"black\" points=\"379,-55.5 379,-91.5 \"/>\n<text text-anchor=\"middle\" x=\"421.5\" y=\"-69.8\" font-family=\"Times,serif\" font-size=\"14.00\">data &#45;6.0000</text>\n<polyline fill=\"none\" stroke=\"black\" points=\"464,-55.5 464,-91.5 \"/>\n<text text-anchor=\"middle\" x=\"505\" y=\"-69.8\" font-family=\"Times,serif\" font-size=\"14.00\">grad 0.0000</text>\n</g>\n<!-- 134498259647376&#45;&gt;134498259641488+ -->\n<g id=\"edge6\" class=\"edge\">\n<title>134498259647376&#45;&gt;134498259641488+</title>\n<path fill=\"none\" stroke=\"black\" d=\"M546.27,-90.75C555.64,-92.23 564.6,-93.65 572.65,-94.92\"/>\n<polygon fill=\"black\" stroke=\"black\" points=\"572.23,-98.4 582.65,-96.5 573.32,-91.48 572.23,-98.4\"/>\n</g>\n<!-- 134498259647376*&#45;&gt;134498259647376 -->\n<g id=\"edge5\" class=\"edge\">\n<title>134498259647376*&#45;&gt;134498259647376</title>\n<path fill=\"none\" stroke=\"black\" d=\"M290.34,-73.5C297.77,-73.5 306.37,-73.5 315.6,-73.5\"/>\n<polygon fill=\"black\" stroke=\"black\" points=\"315.84,-77 325.84,-73.5 315.84,-70 315.84,-77\"/>\n</g>\n<!-- 134498259642320 -->\n<g id=\"node15\" class=\"node\">\n<title>134498259642320</title>\n<polygon fill=\"none\" stroke=\"black\" points=\"2.5,-110.5 2.5,-146.5 197.5,-146.5 197.5,-110.5 2.5,-110.5\"/>\n<text text-anchor=\"middle\" x=\"19\" y=\"-124.8\" font-family=\"Times,serif\" font-size=\"14.00\">w2</text>\n<polyline fill=\"none\" stroke=\"black\" points=\"35.5,-110.5 35.5,-146.5 \"/>\n<text text-anchor=\"middle\" x=\"75.5\" y=\"-124.8\" font-family=\"Times,serif\" font-size=\"14.00\">data 1.0000</text>\n<polyline fill=\"none\" stroke=\"black\" points=\"115.5,-110.5 115.5,-146.5 \"/>\n<text text-anchor=\"middle\" x=\"156.5\" y=\"-124.8\" font-family=\"Times,serif\" font-size=\"14.00\">grad 0.0000</text>\n</g>\n<!-- 134498259642320&#45;&gt;134498259642448* -->\n<g id=\"edge12\" class=\"edge\">\n<title>134498259642320&#45;&gt;134498259642448*</title>\n<path fill=\"none\" stroke=\"black\" d=\"M197.91,-128.5C207.65,-128.5 217.05,-128.5 225.52,-128.5\"/>\n<polygon fill=\"black\" stroke=\"black\" points=\"225.7,-132 235.7,-128.5 225.7,-125 225.7,-132\"/>\n</g>\n</g>\n</svg>\n",
            "text/plain": [
              "<graphviz.graphs.Digraph at 0x7a5350fd3350>"
            ]
          },
          "metadata": {},
          "execution_count": 26
        }
      ]
    },
    {
      "cell_type": "code",
      "source": [
        "# SAME VALUES & DIFF. OPS\n",
        "\n",
        "# inputs\n",
        "x1 = Value(2.0, label='x1')\n",
        "x2 = Value(0.0, label='x2')\n",
        "\n",
        "# weights\n",
        "w1 = Value(-3.0, label='w1')\n",
        "w2 = Value(1.0, label='w2')\n",
        "\n",
        "# bias of the neuron\n",
        "bias = Value(6.8813735870195432, label='bias')\n",
        "\n",
        "x1w1 = x1*w1\n",
        "x2w2 = x2*w2\n",
        "\n",
        "x1w1.label = 'x1*w1'\n",
        "x2w2.label = 'x2*w2'\n",
        "\n",
        "# x1w1 + x2w2 + bias\n",
        "x1w1x2w2 = x1w1 + x2w2\n",
        "x1w1x2w2.label = 'x1*w1 + x2*w2'\n",
        "n = x1w1x2w2 + bias\n",
        "n.label = 'n'\n",
        "\n",
        "e = (2*n).exp()\n",
        "out = (e - 1) / (e + 1)\n",
        "\n",
        "out.label = 'out'\n",
        "e.label = 'e'\n",
        "\n",
        "draw_graph(out)"
      ],
      "metadata": {
        "colab": {
          "base_uri": "https://localhost:8080/",
          "height": 321
        },
        "id": "cRO68XqFtRfS",
        "outputId": "9d6b434f-a22e-4687-f389-14638b57dbb5"
      },
      "execution_count": 27,
      "outputs": [
        {
          "output_type": "execute_result",
          "data": {
            "image/svg+xml": "<?xml version=\"1.0\" encoding=\"UTF-8\" standalone=\"no\"?>\n<!DOCTYPE svg PUBLIC \"-//W3C//DTD SVG 1.1//EN\"\n \"http://www.w3.org/Graphics/SVG/1.1/DTD/svg11.dtd\">\n<!-- Generated by graphviz version 2.43.0 (0)\n -->\n<!-- Title: %3 Pages: 1 -->\n<svg width=\"2951pt\" height=\"210pt\"\n viewBox=\"0.00 0.00 2951.00 210.00\" xmlns=\"http://www.w3.org/2000/svg\" xmlns:xlink=\"http://www.w3.org/1999/xlink\">\n<g id=\"graph0\" class=\"graph\" transform=\"scale(1 1) rotate(0) translate(4 206)\">\n<title>%3</title>\n<polygon fill=\"white\" stroke=\"transparent\" points=\"-4,4 -4,-206 2947,-206 2947,4 -4,4\"/>\n<!-- 134498259078672 -->\n<g id=\"node1\" class=\"node\">\n<title>134498259078672</title>\n<polygon fill=\"none\" stroke=\"black\" points=\"1382,-81.5 1382,-117.5 1564,-117.5 1564,-81.5 1382,-81.5\"/>\n<text text-anchor=\"middle\" x=\"1392\" y=\"-95.8\" font-family=\"Times,serif\" font-size=\"14.00\"> </text>\n<polyline fill=\"none\" stroke=\"black\" points=\"1402,-81.5 1402,-117.5 \"/>\n<text text-anchor=\"middle\" x=\"1442\" y=\"-95.8\" font-family=\"Times,serif\" font-size=\"14.00\">data 1.7627</text>\n<polyline fill=\"none\" stroke=\"black\" points=\"1482,-81.5 1482,-117.5 \"/>\n<text text-anchor=\"middle\" x=\"1523\" y=\"-95.8\" font-family=\"Times,serif\" font-size=\"14.00\">grad 0.0000</text>\n</g>\n<!-- 134498259090576exp -->\n<g id=\"node5\" class=\"node\">\n<title>134498259090576exp</title>\n<ellipse fill=\"none\" stroke=\"black\" cx=\"1627\" cy=\"-99.5\" rx=\"27\" ry=\"18\"/>\n<text text-anchor=\"middle\" x=\"1627\" y=\"-95.8\" font-family=\"Times,serif\" font-size=\"14.00\">exp</text>\n</g>\n<!-- 134498259078672&#45;&gt;134498259090576exp -->\n<g id=\"edge13\" class=\"edge\">\n<title>134498259078672&#45;&gt;134498259090576exp</title>\n<path fill=\"none\" stroke=\"black\" d=\"M1564.18,-99.5C1573.14,-99.5 1581.83,-99.5 1589.73,-99.5\"/>\n<polygon fill=\"black\" stroke=\"black\" points=\"1589.96,-103 1599.96,-99.5 1589.96,-96 1589.96,-103\"/>\n</g>\n<!-- 134498259078672* -->\n<g id=\"node2\" class=\"node\">\n<title>134498259078672*</title>\n<ellipse fill=\"none\" stroke=\"black\" cx=\"1319\" cy=\"-99.5\" rx=\"27\" ry=\"18\"/>\n<text text-anchor=\"middle\" x=\"1319\" y=\"-95.8\" font-family=\"Times,serif\" font-size=\"14.00\">*</text>\n</g>\n<!-- 134498259078672*&#45;&gt;134498259078672 -->\n<g id=\"edge1\" class=\"edge\">\n<title>134498259078672*&#45;&gt;134498259078672</title>\n<path fill=\"none\" stroke=\"black\" d=\"M1346.13,-99.5C1353.67,-99.5 1362.39,-99.5 1371.64,-99.5\"/>\n<polygon fill=\"black\" stroke=\"black\" points=\"1371.87,-103 1381.87,-99.5 1371.87,-96 1371.87,-103\"/>\n</g>\n<!-- 134498259100112 -->\n<g id=\"node3\" class=\"node\">\n<title>134498259100112</title>\n<polygon fill=\"none\" stroke=\"black\" points=\"4,-165.5 4,-201.5 196,-201.5 196,-165.5 4,-165.5\"/>\n<text text-anchor=\"middle\" x=\"19\" y=\"-179.8\" font-family=\"Times,serif\" font-size=\"14.00\">x2</text>\n<polyline fill=\"none\" stroke=\"black\" points=\"34,-165.5 34,-201.5 \"/>\n<text text-anchor=\"middle\" x=\"74\" y=\"-179.8\" font-family=\"Times,serif\" font-size=\"14.00\">data 0.0000</text>\n<polyline fill=\"none\" stroke=\"black\" points=\"114,-165.5 114,-201.5 \"/>\n<text text-anchor=\"middle\" x=\"155\" y=\"-179.8\" font-family=\"Times,serif\" font-size=\"14.00\">grad 0.0000</text>\n</g>\n<!-- 134498259088592* -->\n<g id=\"node13\" class=\"node\">\n<title>134498259088592*</title>\n<ellipse fill=\"none\" stroke=\"black\" cx=\"263\" cy=\"-128.5\" rx=\"27\" ry=\"18\"/>\n<text text-anchor=\"middle\" x=\"263\" y=\"-124.8\" font-family=\"Times,serif\" font-size=\"14.00\">*</text>\n</g>\n<!-- 134498259100112&#45;&gt;134498259088592* -->\n<g id=\"edge12\" class=\"edge\">\n<title>134498259100112&#45;&gt;134498259088592*</title>\n<path fill=\"none\" stroke=\"black\" d=\"M172.53,-165.44C181.84,-162.67 191.2,-159.67 200,-156.5 210.53,-152.71 221.75,-147.9 231.72,-143.33\"/>\n<polygon fill=\"black\" stroke=\"black\" points=\"233.25,-146.48 240.82,-139.07 230.28,-140.14 233.25,-146.48\"/>\n</g>\n<!-- 134498259090576 -->\n<g id=\"node4\" class=\"node\">\n<title>134498259090576</title>\n<polygon fill=\"none\" stroke=\"black\" points=\"1691,-81.5 1691,-117.5 1876,-117.5 1876,-81.5 1691,-81.5\"/>\n<text text-anchor=\"middle\" x=\"1702.5\" y=\"-95.8\" font-family=\"Times,serif\" font-size=\"14.00\">e</text>\n<polyline fill=\"none\" stroke=\"black\" points=\"1714,-81.5 1714,-117.5 \"/>\n<text text-anchor=\"middle\" x=\"1754\" y=\"-95.8\" font-family=\"Times,serif\" font-size=\"14.00\">data 5.8284</text>\n<polyline fill=\"none\" stroke=\"black\" points=\"1794,-81.5 1794,-117.5 \"/>\n<text text-anchor=\"middle\" x=\"1835\" y=\"-95.8\" font-family=\"Times,serif\" font-size=\"14.00\">grad 0.0000</text>\n</g>\n<!-- 134498259088144+ -->\n<g id=\"node19\" class=\"node\">\n<title>134498259088144+</title>\n<ellipse fill=\"none\" stroke=\"black\" cx=\"1940\" cy=\"-71.5\" rx=\"27\" ry=\"18\"/>\n<text text-anchor=\"middle\" x=\"1940\" y=\"-67.8\" font-family=\"Times,serif\" font-size=\"14.00\">+</text>\n</g>\n<!-- 134498259090576&#45;&gt;134498259088144+ -->\n<g id=\"edge14\" class=\"edge\">\n<title>134498259090576&#45;&gt;134498259088144+</title>\n<path fill=\"none\" stroke=\"black\" d=\"M1876.16,-82.89C1885.84,-81.13 1895.22,-79.43 1903.64,-77.91\"/>\n<polygon fill=\"black\" stroke=\"black\" points=\"1904.53,-81.3 1913.75,-76.08 1903.28,-74.42 1904.53,-81.3\"/>\n</g>\n<!-- 134498259078480+ -->\n<g id=\"node24\" class=\"node\">\n<title>134498259078480+</title>\n<ellipse fill=\"none\" stroke=\"black\" cx=\"1940\" cy=\"-126.5\" rx=\"27\" ry=\"18\"/>\n<text text-anchor=\"middle\" x=\"1940\" y=\"-122.8\" font-family=\"Times,serif\" font-size=\"14.00\">+</text>\n</g>\n<!-- 134498259090576&#45;&gt;134498259078480+ -->\n<g id=\"edge16\" class=\"edge\">\n<title>134498259090576&#45;&gt;134498259078480+</title>\n<path fill=\"none\" stroke=\"black\" d=\"M1876.16,-115.52C1885.84,-117.21 1895.22,-118.85 1903.64,-120.32\"/>\n<polygon fill=\"black\" stroke=\"black\" points=\"1903.29,-123.81 1913.75,-122.09 1904.5,-116.92 1903.29,-123.81\"/>\n</g>\n<!-- 134498259090576exp&#45;&gt;134498259090576 -->\n<g id=\"edge2\" class=\"edge\">\n<title>134498259090576exp&#45;&gt;134498259090576</title>\n<path fill=\"none\" stroke=\"black\" d=\"M1654.21,-99.5C1662,-99.5 1671.05,-99.5 1680.67,-99.5\"/>\n<polygon fill=\"black\" stroke=\"black\" points=\"1680.87,-103 1690.87,-99.5 1680.87,-96 1680.87,-103\"/>\n</g>\n<!-- 134498259090064 -->\n<g id=\"node6\" class=\"node\">\n<title>134498259090064</title>\n<polygon fill=\"none\" stroke=\"black\" points=\"708.5,-137.5 708.5,-173.5 908.5,-173.5 908.5,-137.5 708.5,-137.5\"/>\n<text text-anchor=\"middle\" x=\"727.5\" y=\"-151.8\" font-family=\"Times,serif\" font-size=\"14.00\">bias</text>\n<polyline fill=\"none\" stroke=\"black\" points=\"746.5,-137.5 746.5,-173.5 \"/>\n<text text-anchor=\"middle\" x=\"786.5\" y=\"-151.8\" font-family=\"Times,serif\" font-size=\"14.00\">data 6.8814</text>\n<polyline fill=\"none\" stroke=\"black\" points=\"826.5,-137.5 826.5,-173.5 \"/>\n<text text-anchor=\"middle\" x=\"867.5\" y=\"-151.8\" font-family=\"Times,serif\" font-size=\"14.00\">grad 0.0000</text>\n</g>\n<!-- 134498259088080+ -->\n<g id=\"node11\" class=\"node\">\n<title>134498259088080+</title>\n<ellipse fill=\"none\" stroke=\"black\" cx=\"1008\" cy=\"-127.5\" rx=\"27\" ry=\"18\"/>\n<text text-anchor=\"middle\" x=\"1008\" y=\"-123.8\" font-family=\"Times,serif\" font-size=\"14.00\">+</text>\n</g>\n<!-- 134498259090064&#45;&gt;134498259088080+ -->\n<g id=\"edge11\" class=\"edge\">\n<title>134498259090064&#45;&gt;134498259088080+</title>\n<path fill=\"none\" stroke=\"black\" d=\"M908.54,-141.46C930.96,-138.28 953.36,-135.1 971.12,-132.59\"/>\n<polygon fill=\"black\" stroke=\"black\" points=\"971.86,-136.02 981.27,-131.15 970.88,-129.09 971.86,-136.02\"/>\n</g>\n<!-- 134498259087504 -->\n<g id=\"node7\" class=\"node\">\n<title>134498259087504</title>\n<polygon fill=\"none\" stroke=\"black\" points=\"2439,-106.5 2439,-142.5 2621,-142.5 2621,-106.5 2439,-106.5\"/>\n<text text-anchor=\"middle\" x=\"2449\" y=\"-120.8\" font-family=\"Times,serif\" font-size=\"14.00\"> </text>\n<polyline fill=\"none\" stroke=\"black\" points=\"2459,-106.5 2459,-142.5 \"/>\n<text text-anchor=\"middle\" x=\"2499\" y=\"-120.8\" font-family=\"Times,serif\" font-size=\"14.00\">data 0.1464</text>\n<polyline fill=\"none\" stroke=\"black\" points=\"2539,-106.5 2539,-142.5 \"/>\n<text text-anchor=\"middle\" x=\"2580\" y=\"-120.8\" font-family=\"Times,serif\" font-size=\"14.00\">grad 0.0000</text>\n</g>\n<!-- 134498259089680* -->\n<g id=\"node17\" class=\"node\">\n<title>134498259089680*</title>\n<ellipse fill=\"none\" stroke=\"black\" cx=\"2684\" cy=\"-98.5\" rx=\"27\" ry=\"18\"/>\n<text text-anchor=\"middle\" x=\"2684\" y=\"-94.8\" font-family=\"Times,serif\" font-size=\"14.00\">*</text>\n</g>\n<!-- 134498259087504&#45;&gt;134498259089680* -->\n<g id=\"edge19\" class=\"edge\">\n<title>134498259087504&#45;&gt;134498259089680*</title>\n<path fill=\"none\" stroke=\"black\" d=\"M2621.18,-109.08C2630.42,-107.49 2639.38,-105.96 2647.47,-104.58\"/>\n<polygon fill=\"black\" stroke=\"black\" points=\"2648.29,-107.99 2657.56,-102.85 2647.11,-101.09 2648.29,-107.99\"/>\n</g>\n<!-- 134498259087504**&#45;1 -->\n<g id=\"node8\" class=\"node\">\n<title>134498259087504**&#45;1</title>\n<ellipse fill=\"none\" stroke=\"black\" cx=\"2312\" cy=\"-126.5\" rx=\"27\" ry=\"18\"/>\n<text text-anchor=\"middle\" x=\"2312\" y=\"-122.8\" font-family=\"Times,serif\" font-size=\"14.00\">**&#45;1</text>\n</g>\n<!-- 134498259087504**&#45;1&#45;&gt;134498259087504 -->\n<g id=\"edge3\" class=\"edge\">\n<title>134498259087504**&#45;1&#45;&gt;134498259087504</title>\n<path fill=\"none\" stroke=\"black\" d=\"M2339.05,-126.26C2361.53,-126.05 2395.48,-125.74 2428.5,-125.43\"/>\n<polygon fill=\"black\" stroke=\"black\" points=\"2428.74,-128.93 2438.7,-125.34 2428.67,-121.93 2428.74,-128.93\"/>\n</g>\n<!-- 134498259082896 -->\n<g id=\"node9\" class=\"node\">\n<title>134498259082896</title>\n<polygon fill=\"none\" stroke=\"black\" points=\"1692.5,-136.5 1692.5,-172.5 1874.5,-172.5 1874.5,-136.5 1692.5,-136.5\"/>\n<text text-anchor=\"middle\" x=\"1702.5\" y=\"-150.8\" font-family=\"Times,serif\" font-size=\"14.00\"> </text>\n<polyline fill=\"none\" stroke=\"black\" points=\"1712.5,-136.5 1712.5,-172.5 \"/>\n<text text-anchor=\"middle\" x=\"1752.5\" y=\"-150.8\" font-family=\"Times,serif\" font-size=\"14.00\">data 1.0000</text>\n<polyline fill=\"none\" stroke=\"black\" points=\"1792.5,-136.5 1792.5,-172.5 \"/>\n<text text-anchor=\"middle\" x=\"1833.5\" y=\"-150.8\" font-family=\"Times,serif\" font-size=\"14.00\">grad 0.0000</text>\n</g>\n<!-- 134498259082896&#45;&gt;134498259078480+ -->\n<g id=\"edge20\" class=\"edge\">\n<title>134498259082896&#45;&gt;134498259078480+</title>\n<path fill=\"none\" stroke=\"black\" d=\"M1874.82,-138.13C1885.07,-136.27 1895.01,-134.47 1903.88,-132.87\"/>\n<polygon fill=\"black\" stroke=\"black\" points=\"1904.54,-136.3 1913.75,-131.08 1903.29,-129.42 1904.54,-136.3\"/>\n</g>\n<!-- 134498259088080 -->\n<g id=\"node10\" class=\"node\">\n<title>134498259088080</title>\n<polygon fill=\"none\" stroke=\"black\" points=\"1071,-109.5 1071,-145.5 1256,-145.5 1256,-109.5 1071,-109.5\"/>\n<text text-anchor=\"middle\" x=\"1082.5\" y=\"-123.8\" font-family=\"Times,serif\" font-size=\"14.00\">n</text>\n<polyline fill=\"none\" stroke=\"black\" points=\"1094,-109.5 1094,-145.5 \"/>\n<text text-anchor=\"middle\" x=\"1134\" y=\"-123.8\" font-family=\"Times,serif\" font-size=\"14.00\">data 0.8814</text>\n<polyline fill=\"none\" stroke=\"black\" points=\"1174,-109.5 1174,-145.5 \"/>\n<text text-anchor=\"middle\" x=\"1215\" y=\"-123.8\" font-family=\"Times,serif\" font-size=\"14.00\">grad 0.0000</text>\n</g>\n<!-- 134498259088080&#45;&gt;134498259078672* -->\n<g id=\"edge17\" class=\"edge\">\n<title>134498259088080&#45;&gt;134498259078672*</title>\n<path fill=\"none\" stroke=\"black\" d=\"M1256.01,-110.81C1265.49,-109.08 1274.66,-107.41 1282.9,-105.9\"/>\n<polygon fill=\"black\" stroke=\"black\" points=\"1283.6,-109.33 1292.81,-104.09 1282.35,-102.45 1283.6,-109.33\"/>\n</g>\n<!-- 134498259088080+&#45;&gt;134498259088080 -->\n<g id=\"edge4\" class=\"edge\">\n<title>134498259088080+&#45;&gt;134498259088080</title>\n<path fill=\"none\" stroke=\"black\" d=\"M1035.04,-127.5C1042.58,-127.5 1051.3,-127.5 1060.57,-127.5\"/>\n<polygon fill=\"black\" stroke=\"black\" points=\"1060.81,-131 1070.81,-127.5 1060.81,-124 1060.81,-131\"/>\n</g>\n<!-- 134498259088592 -->\n<g id=\"node12\" class=\"node\">\n<title>134498259088592</title>\n<polygon fill=\"none\" stroke=\"black\" points=\"328.5,-110.5 328.5,-146.5 543.5,-146.5 543.5,-110.5 328.5,-110.5\"/>\n<text text-anchor=\"middle\" x=\"355\" y=\"-124.8\" font-family=\"Times,serif\" font-size=\"14.00\">x2*w2</text>\n<polyline fill=\"none\" stroke=\"black\" points=\"381.5,-110.5 381.5,-146.5 \"/>\n<text text-anchor=\"middle\" x=\"421.5\" y=\"-124.8\" font-family=\"Times,serif\" font-size=\"14.00\">data 0.0000</text>\n<polyline fill=\"none\" stroke=\"black\" points=\"461.5,-110.5 461.5,-146.5 \"/>\n<text text-anchor=\"middle\" x=\"502.5\" y=\"-124.8\" font-family=\"Times,serif\" font-size=\"14.00\">grad 0.0000</text>\n</g>\n<!-- 134498259081680+ -->\n<g id=\"node28\" class=\"node\">\n<title>134498259081680+</title>\n<ellipse fill=\"none\" stroke=\"black\" cx=\"609\" cy=\"-100.5\" rx=\"27\" ry=\"18\"/>\n<text text-anchor=\"middle\" x=\"609\" y=\"-96.8\" font-family=\"Times,serif\" font-size=\"14.00\">+</text>\n</g>\n<!-- 134498259088592&#45;&gt;134498259081680+ -->\n<g id=\"edge23\" class=\"edge\">\n<title>134498259088592&#45;&gt;134498259081680+</title>\n<path fill=\"none\" stroke=\"black\" d=\"M543.84,-111.01C554.01,-109.34 563.76,-107.74 572.44,-106.32\"/>\n<polygon fill=\"black\" stroke=\"black\" points=\"573.17,-109.75 582.47,-104.68 572.04,-102.84 573.17,-109.75\"/>\n</g>\n<!-- 134498259088592*&#45;&gt;134498259088592 -->\n<g id=\"edge5\" class=\"edge\">\n<title>134498259088592*&#45;&gt;134498259088592</title>\n<path fill=\"none\" stroke=\"black\" d=\"M290.34,-128.5C298.51,-128.5 308.08,-128.5 318.36,-128.5\"/>\n<polygon fill=\"black\" stroke=\"black\" points=\"318.39,-132 328.39,-128.5 318.39,-125 318.39,-132\"/>\n</g>\n<!-- 134498259075280 -->\n<g id=\"node14\" class=\"node\">\n<title>134498259075280</title>\n<polygon fill=\"none\" stroke=\"black\" points=\"326,-55.5 326,-91.5 546,-91.5 546,-55.5 326,-55.5\"/>\n<text text-anchor=\"middle\" x=\"352.5\" y=\"-69.8\" font-family=\"Times,serif\" font-size=\"14.00\">x1*w1</text>\n<polyline fill=\"none\" stroke=\"black\" points=\"379,-55.5 379,-91.5 \"/>\n<text text-anchor=\"middle\" x=\"421.5\" y=\"-69.8\" font-family=\"Times,serif\" font-size=\"14.00\">data &#45;6.0000</text>\n<polyline fill=\"none\" stroke=\"black\" points=\"464,-55.5 464,-91.5 \"/>\n<text text-anchor=\"middle\" x=\"505\" y=\"-69.8\" font-family=\"Times,serif\" font-size=\"14.00\">grad 0.0000</text>\n</g>\n<!-- 134498259075280&#45;&gt;134498259081680+ -->\n<g id=\"edge15\" class=\"edge\">\n<title>134498259075280&#45;&gt;134498259081680+</title>\n<path fill=\"none\" stroke=\"black\" d=\"M546.27,-90.75C555.64,-92.23 564.6,-93.65 572.65,-94.92\"/>\n<polygon fill=\"black\" stroke=\"black\" points=\"572.23,-98.4 582.65,-96.5 573.32,-91.48 572.23,-98.4\"/>\n</g>\n<!-- 134498259075280* -->\n<g id=\"node15\" class=\"node\">\n<title>134498259075280*</title>\n<ellipse fill=\"none\" stroke=\"black\" cx=\"263\" cy=\"-73.5\" rx=\"27\" ry=\"18\"/>\n<text text-anchor=\"middle\" x=\"263\" y=\"-69.8\" font-family=\"Times,serif\" font-size=\"14.00\">*</text>\n</g>\n<!-- 134498259075280*&#45;&gt;134498259075280 -->\n<g id=\"edge6\" class=\"edge\">\n<title>134498259075280*&#45;&gt;134498259075280</title>\n<path fill=\"none\" stroke=\"black\" d=\"M290.34,-73.5C297.77,-73.5 306.37,-73.5 315.6,-73.5\"/>\n<polygon fill=\"black\" stroke=\"black\" points=\"315.84,-77 325.84,-73.5 315.84,-70 315.84,-77\"/>\n</g>\n<!-- 134498259089680 -->\n<g id=\"node16\" class=\"node\">\n<title>134498259089680</title>\n<polygon fill=\"none\" stroke=\"black\" points=\"2747,-80.5 2747,-116.5 2943,-116.5 2943,-80.5 2747,-80.5\"/>\n<text text-anchor=\"middle\" x=\"2764\" y=\"-94.8\" font-family=\"Times,serif\" font-size=\"14.00\">out</text>\n<polyline fill=\"none\" stroke=\"black\" points=\"2781,-80.5 2781,-116.5 \"/>\n<text text-anchor=\"middle\" x=\"2821\" y=\"-94.8\" font-family=\"Times,serif\" font-size=\"14.00\">data 0.7071</text>\n<polyline fill=\"none\" stroke=\"black\" points=\"2861,-80.5 2861,-116.5 \"/>\n<text text-anchor=\"middle\" x=\"2902\" y=\"-94.8\" font-family=\"Times,serif\" font-size=\"14.00\">grad 0.0000</text>\n</g>\n<!-- 134498259089680*&#45;&gt;134498259089680 -->\n<g id=\"edge7\" class=\"edge\">\n<title>134498259089680*&#45;&gt;134498259089680</title>\n<path fill=\"none\" stroke=\"black\" d=\"M2711.26,-98.5C2718.77,-98.5 2727.46,-98.5 2736.72,-98.5\"/>\n<polygon fill=\"black\" stroke=\"black\" points=\"2736.97,-102 2746.97,-98.5 2736.97,-95 2736.97,-102\"/>\n</g>\n<!-- 134498259088144 -->\n<g id=\"node18\" class=\"node\">\n<title>134498259088144</title>\n<polygon fill=\"none\" stroke=\"black\" points=\"2221,-53.5 2221,-89.5 2403,-89.5 2403,-53.5 2221,-53.5\"/>\n<text text-anchor=\"middle\" x=\"2231\" y=\"-67.8\" font-family=\"Times,serif\" font-size=\"14.00\"> </text>\n<polyline fill=\"none\" stroke=\"black\" points=\"2241,-53.5 2241,-89.5 \"/>\n<text text-anchor=\"middle\" x=\"2281\" y=\"-67.8\" font-family=\"Times,serif\" font-size=\"14.00\">data 4.8284</text>\n<polyline fill=\"none\" stroke=\"black\" points=\"2321,-53.5 2321,-89.5 \"/>\n<text text-anchor=\"middle\" x=\"2362\" y=\"-67.8\" font-family=\"Times,serif\" font-size=\"14.00\">grad 0.0000</text>\n</g>\n<!-- 134498259088144&#45;&gt;134498259089680* -->\n<g id=\"edge28\" class=\"edge\">\n<title>134498259088144&#45;&gt;134498259089680*</title>\n<path fill=\"none\" stroke=\"black\" d=\"M2403.04,-78.07C2481.41,-83.79 2590.98,-91.79 2646.96,-95.87\"/>\n<polygon fill=\"black\" stroke=\"black\" points=\"2646.87,-99.37 2657.1,-96.61 2647.38,-92.39 2646.87,-99.37\"/>\n</g>\n<!-- 134498259088144+&#45;&gt;134498259088144 -->\n<g id=\"edge8\" class=\"edge\">\n<title>134498259088144+&#45;&gt;134498259088144</title>\n<path fill=\"none\" stroke=\"black\" d=\"M1967.02,-71.5C2016.84,-71.5 2128.08,-71.5 2210.65,-71.5\"/>\n<polygon fill=\"black\" stroke=\"black\" points=\"2210.82,-75 2220.82,-71.5 2210.82,-68 2210.82,-75\"/>\n</g>\n<!-- 134498259085712 -->\n<g id=\"node20\" class=\"node\">\n<title>134498259085712</title>\n<polygon fill=\"none\" stroke=\"black\" points=\"2.5,-110.5 2.5,-146.5 197.5,-146.5 197.5,-110.5 2.5,-110.5\"/>\n<text text-anchor=\"middle\" x=\"19\" y=\"-124.8\" font-family=\"Times,serif\" font-size=\"14.00\">w2</text>\n<polyline fill=\"none\" stroke=\"black\" points=\"35.5,-110.5 35.5,-146.5 \"/>\n<text text-anchor=\"middle\" x=\"75.5\" y=\"-124.8\" font-family=\"Times,serif\" font-size=\"14.00\">data 1.0000</text>\n<polyline fill=\"none\" stroke=\"black\" points=\"115.5,-110.5 115.5,-146.5 \"/>\n<text text-anchor=\"middle\" x=\"156.5\" y=\"-124.8\" font-family=\"Times,serif\" font-size=\"14.00\">grad 0.0000</text>\n</g>\n<!-- 134498259085712&#45;&gt;134498259088592* -->\n<g id=\"edge21\" class=\"edge\">\n<title>134498259085712&#45;&gt;134498259088592*</title>\n<path fill=\"none\" stroke=\"black\" d=\"M197.91,-128.5C207.65,-128.5 217.05,-128.5 225.52,-128.5\"/>\n<polygon fill=\"black\" stroke=\"black\" points=\"225.7,-132 235.7,-128.5 225.7,-125 225.7,-132\"/>\n</g>\n<!-- 134498259107664 -->\n<g id=\"node21\" class=\"node\">\n<title>134498259107664</title>\n<polygon fill=\"none\" stroke=\"black\" points=\"4,-55.5 4,-91.5 196,-91.5 196,-55.5 4,-55.5\"/>\n<text text-anchor=\"middle\" x=\"19\" y=\"-69.8\" font-family=\"Times,serif\" font-size=\"14.00\">x1</text>\n<polyline fill=\"none\" stroke=\"black\" points=\"34,-55.5 34,-91.5 \"/>\n<text text-anchor=\"middle\" x=\"74\" y=\"-69.8\" font-family=\"Times,serif\" font-size=\"14.00\">data 2.0000</text>\n<polyline fill=\"none\" stroke=\"black\" points=\"114,-55.5 114,-91.5 \"/>\n<text text-anchor=\"middle\" x=\"155\" y=\"-69.8\" font-family=\"Times,serif\" font-size=\"14.00\">grad 0.0000</text>\n</g>\n<!-- 134498259107664&#45;&gt;134498259075280* -->\n<g id=\"edge18\" class=\"edge\">\n<title>134498259107664&#45;&gt;134498259075280*</title>\n<path fill=\"none\" stroke=\"black\" d=\"M196.05,-73.5C206.52,-73.5 216.65,-73.5 225.71,-73.5\"/>\n<polygon fill=\"black\" stroke=\"black\" points=\"225.79,-77 235.79,-73.5 225.79,-70 225.79,-77\"/>\n</g>\n<!-- 134498259106640 -->\n<g id=\"node22\" class=\"node\">\n<title>134498259106640</title>\n<polygon fill=\"none\" stroke=\"black\" points=\"0,-0.5 0,-36.5 200,-36.5 200,-0.5 0,-0.5\"/>\n<text text-anchor=\"middle\" x=\"16.5\" y=\"-14.8\" font-family=\"Times,serif\" font-size=\"14.00\">w1</text>\n<polyline fill=\"none\" stroke=\"black\" points=\"33,-0.5 33,-36.5 \"/>\n<text text-anchor=\"middle\" x=\"75.5\" y=\"-14.8\" font-family=\"Times,serif\" font-size=\"14.00\">data &#45;3.0000</text>\n<polyline fill=\"none\" stroke=\"black\" points=\"118,-0.5 118,-36.5 \"/>\n<text text-anchor=\"middle\" x=\"159\" y=\"-14.8\" font-family=\"Times,serif\" font-size=\"14.00\">grad 0.0000</text>\n</g>\n<!-- 134498259106640&#45;&gt;134498259075280* -->\n<g id=\"edge27\" class=\"edge\">\n<title>134498259106640&#45;&gt;134498259075280*</title>\n<path fill=\"none\" stroke=\"black\" d=\"M172.53,-36.56C181.84,-39.33 191.2,-42.33 200,-45.5 210.53,-49.29 221.75,-54.1 231.72,-58.67\"/>\n<polygon fill=\"black\" stroke=\"black\" points=\"230.28,-61.86 240.82,-62.93 233.25,-55.52 230.28,-61.86\"/>\n</g>\n<!-- 134498259078480 -->\n<g id=\"node23\" class=\"node\">\n<title>134498259078480</title>\n<polygon fill=\"none\" stroke=\"black\" points=\"2003,-108.5 2003,-144.5 2185,-144.5 2185,-108.5 2003,-108.5\"/>\n<text text-anchor=\"middle\" x=\"2013\" y=\"-122.8\" font-family=\"Times,serif\" font-size=\"14.00\"> </text>\n<polyline fill=\"none\" stroke=\"black\" points=\"2023,-108.5 2023,-144.5 \"/>\n<text text-anchor=\"middle\" x=\"2063\" y=\"-122.8\" font-family=\"Times,serif\" font-size=\"14.00\">data 6.8284</text>\n<polyline fill=\"none\" stroke=\"black\" points=\"2103,-108.5 2103,-144.5 \"/>\n<text text-anchor=\"middle\" x=\"2144\" y=\"-122.8\" font-family=\"Times,serif\" font-size=\"14.00\">grad 0.0000</text>\n</g>\n<!-- 134498259078480&#45;&gt;134498259087504**&#45;1 -->\n<g id=\"edge25\" class=\"edge\">\n<title>134498259078480&#45;&gt;134498259087504**&#45;1</title>\n<path fill=\"none\" stroke=\"black\" d=\"M2185.04,-126.5C2216.5,-126.5 2250.05,-126.5 2274.61,-126.5\"/>\n<polygon fill=\"black\" stroke=\"black\" points=\"2274.89,-130 2284.89,-126.5 2274.89,-123 2274.89,-130\"/>\n</g>\n<!-- 134498259078480+&#45;&gt;134498259078480 -->\n<g id=\"edge9\" class=\"edge\">\n<title>134498259078480+&#45;&gt;134498259078480</title>\n<path fill=\"none\" stroke=\"black\" d=\"M1967.13,-126.5C1974.67,-126.5 1983.39,-126.5 1992.64,-126.5\"/>\n<polygon fill=\"black\" stroke=\"black\" points=\"1992.87,-130 2002.87,-126.5 1992.87,-123 1992.87,-130\"/>\n</g>\n<!-- 134498259086224 -->\n<g id=\"node25\" class=\"node\">\n<title>134498259086224</title>\n<polygon fill=\"none\" stroke=\"black\" points=\"1072.5,-54.5 1072.5,-90.5 1254.5,-90.5 1254.5,-54.5 1072.5,-54.5\"/>\n<text text-anchor=\"middle\" x=\"1082.5\" y=\"-68.8\" font-family=\"Times,serif\" font-size=\"14.00\"> </text>\n<polyline fill=\"none\" stroke=\"black\" points=\"1092.5,-54.5 1092.5,-90.5 \"/>\n<text text-anchor=\"middle\" x=\"1132.5\" y=\"-68.8\" font-family=\"Times,serif\" font-size=\"14.00\">data 2.0000</text>\n<polyline fill=\"none\" stroke=\"black\" points=\"1172.5,-54.5 1172.5,-90.5 \"/>\n<text text-anchor=\"middle\" x=\"1213.5\" y=\"-68.8\" font-family=\"Times,serif\" font-size=\"14.00\">grad 0.0000</text>\n</g>\n<!-- 134498259086224&#45;&gt;134498259078672* -->\n<g id=\"edge22\" class=\"edge\">\n<title>134498259086224&#45;&gt;134498259078672*</title>\n<path fill=\"none\" stroke=\"black\" d=\"M1254.68,-88.36C1264.61,-90.11 1274.23,-91.8 1282.84,-93.32\"/>\n<polygon fill=\"black\" stroke=\"black\" points=\"1282.36,-96.78 1292.81,-95.07 1283.57,-89.89 1282.36,-96.78\"/>\n</g>\n<!-- 134498259106192 -->\n<g id=\"node26\" class=\"node\">\n<title>134498259106192</title>\n<polygon fill=\"none\" stroke=\"black\" points=\"1690,-26.5 1690,-62.5 1877,-62.5 1877,-26.5 1690,-26.5\"/>\n<text text-anchor=\"middle\" x=\"1700\" y=\"-40.8\" font-family=\"Times,serif\" font-size=\"14.00\"> </text>\n<polyline fill=\"none\" stroke=\"black\" points=\"1710,-26.5 1710,-62.5 \"/>\n<text text-anchor=\"middle\" x=\"1752.5\" y=\"-40.8\" font-family=\"Times,serif\" font-size=\"14.00\">data &#45;1.0000</text>\n<polyline fill=\"none\" stroke=\"black\" points=\"1795,-26.5 1795,-62.5 \"/>\n<text text-anchor=\"middle\" x=\"1836\" y=\"-40.8\" font-family=\"Times,serif\" font-size=\"14.00\">grad 0.0000</text>\n</g>\n<!-- 134498259106192&#45;&gt;134498259088144+ -->\n<g id=\"edge26\" class=\"edge\">\n<title>134498259106192&#45;&gt;134498259088144+</title>\n<path fill=\"none\" stroke=\"black\" d=\"M1877.05,-60.67C1886.34,-62.3 1895.33,-63.87 1903.44,-65.29\"/>\n<polygon fill=\"black\" stroke=\"black\" points=\"1903.1,-68.78 1913.55,-67.05 1904.3,-61.88 1903.1,-68.78\"/>\n</g>\n<!-- 134498259081680 -->\n<g id=\"node27\" class=\"node\">\n<title>134498259081680</title>\n<polygon fill=\"none\" stroke=\"black\" points=\"672,-82.5 672,-118.5 945,-118.5 945,-82.5 672,-82.5\"/>\n<text text-anchor=\"middle\" x=\"725\" y=\"-96.8\" font-family=\"Times,serif\" font-size=\"14.00\">x1*w1 + x2*w2</text>\n<polyline fill=\"none\" stroke=\"black\" points=\"778,-82.5 778,-118.5 \"/>\n<text text-anchor=\"middle\" x=\"820.5\" y=\"-96.8\" font-family=\"Times,serif\" font-size=\"14.00\">data &#45;6.0000</text>\n<polyline fill=\"none\" stroke=\"black\" points=\"863,-82.5 863,-118.5 \"/>\n<text text-anchor=\"middle\" x=\"904\" y=\"-96.8\" font-family=\"Times,serif\" font-size=\"14.00\">grad 0.0000</text>\n</g>\n<!-- 134498259081680&#45;&gt;134498259088080+ -->\n<g id=\"edge24\" class=\"edge\">\n<title>134498259081680&#45;&gt;134498259088080+</title>\n<path fill=\"none\" stroke=\"black\" d=\"M941.24,-118.51C952.12,-120 962.4,-121.4 971.45,-122.64\"/>\n<polygon fill=\"black\" stroke=\"black\" points=\"971.11,-126.13 981.49,-124.01 972.05,-119.19 971.11,-126.13\"/>\n</g>\n<!-- 134498259081680+&#45;&gt;134498259081680 -->\n<g id=\"edge10\" class=\"edge\">\n<title>134498259081680+&#45;&gt;134498259081680</title>\n<path fill=\"none\" stroke=\"black\" d=\"M636.23,-100.5C643.7,-100.5 652.41,-100.5 661.87,-100.5\"/>\n<polygon fill=\"black\" stroke=\"black\" points=\"661.98,-104 671.98,-100.5 661.98,-97 661.98,-104\"/>\n</g>\n</g>\n</svg>\n",
            "text/plain": [
              "<graphviz.graphs.Digraph at 0x7a5350f48410>"
            ]
          },
          "metadata": {},
          "execution_count": 27
        }
      ]
    },
    {
      "cell_type": "code",
      "source": [
        "# Same thing, but using pytorch\n",
        "import torch"
      ],
      "metadata": {
        "id": "sIS83woLzfdw"
      },
      "execution_count": 28,
      "outputs": []
    },
    {
      "cell_type": "code",
      "source": [
        "x1 = torch.Tensor([2.0]).double();                    x1.requires_grad = True;  # here we are assigning a single value to a tensor and then making it a double precision float value, and by default the grad is not applied to the leaf node and so we explicitely set it to true\n",
        "x2 = torch.Tensor([0.0]).double();                    x2.requires_grad = True;\n",
        "w1 = torch.Tensor([2.0]).double();                    w1.requires_grad = True;\n",
        "w2 = torch.Tensor([2.0]).double();                    w2.requires_grad = True;\n",
        "b = torch.Tensor([6.8813735870195432]).double();      x1.requires_grad = True;\n",
        "\n",
        "n = x1*w1 + x2*w2 + b\n",
        "out = torch.tanh(n)\n",
        "\n",
        "print(out.data.item())          # .item() strips the tensor and returns the single value stored in it\n",
        "out.backward()\n",
        "\n",
        "print(\"<==============>\")\n",
        "print('x2', x2.grad.item())\n",
        "print('w2', w2.grad.item())\n",
        "print('x1', x1.grad.item())\n",
        "print('w1', w1.grad.item())"
      ],
      "metadata": {
        "colab": {
          "base_uri": "https://localhost:8080/"
        },
        "id": "YbxidwBE5w7F",
        "outputId": "5774e518-268b-4675-87c5-30d9ccfcd93d"
      },
      "execution_count": 29,
      "outputs": [
        {
          "output_type": "stream",
          "name": "stdout",
          "text": [
            "0.9999999992927237\n",
            "<==============>\n",
            "x2 2.8291053933969226e-09\n",
            "w2 0.0\n",
            "x1 2.8291053933969226e-09\n",
            "w1 2.8291053933969226e-09\n"
          ]
        }
      ]
    },
    {
      "cell_type": "code",
      "source": [
        "class Neuron:\n",
        "  def __init__(self, nin):                            # the contructor takes in the number of neurons, i.e, how many inputs does this neuron takes\n",
        "    self.w = [Value(random.uniform(-1,1)) for _ in range (nin)]\n",
        "    self.b = Value(random.uniform(-1,1))\n",
        "\n",
        "  def __call__(self, x):\n",
        "    # w * x + b\n",
        "    zipped = zip(self.w,x)                            # iterates through all the values in both the lists and returns tuples of values in corresponding indices\n",
        "    act = sum((wi*xi for wi,xi in zipped), self.b)    # summing all the wi's and xi's then adding bias to it\n",
        "    out = act.tanh()\n",
        "    return out\n",
        "\n",
        "  def parameters(self):\n",
        "    return self.w + [self.b]\n",
        "\n",
        "\n",
        "class Layer:\n",
        "  def __init__(self, nin, nout):                      # nout -> no. of neurons in each of the layer\n",
        "    self.neurons = [Neuron(nin) for _ in range(nout)]\n",
        "\n",
        "  def __call__(self, x):\n",
        "    outs = [n(x) for n in self.neurons]\n",
        "    return outs[0] if len(outs) == 1 else outs\n",
        "\n",
        "  def parameters(self):\n",
        "    return [p for neuron in self.neurons for p in neuron.parameters()]\n",
        "\n",
        "\n",
        "class MLP:\n",
        "  def __init__(self, nin, nouts):\n",
        "    sz = [nin] + nouts\n",
        "    self.layers = [Layer(sz[i], sz[i+1]) for i in range(len(nouts))]\n",
        "\n",
        "  def __call__(self, x):\n",
        "    for layer in self.layers:\n",
        "      x = layer(x)\n",
        "    return x\n",
        "\n",
        "  def parameters(self):\n",
        "    return [p for layer in self.layers for p in layer.parameters()]\n"
      ],
      "metadata": {
        "id": "njNnOTVB5y_M"
      },
      "execution_count": 83,
      "outputs": []
    },
    {
      "cell_type": "code",
      "source": [
        "x = [2.0, 3.0, -1.0]\n",
        "n = MLP(3, [4,4,1])\n",
        "n(x)\n",
        "# draw_graph(n(x))"
      ],
      "metadata": {
        "colab": {
          "base_uri": "https://localhost:8080/"
        },
        "id": "LOScmQLV7PtS",
        "outputId": "5dad9250-c3dd-4668-cb54-e2e3e23006b2"
      },
      "execution_count": 84,
      "outputs": [
        {
          "output_type": "execute_result",
          "data": {
            "text/plain": [
              "Value(data=-0.42623144312360545)"
            ]
          },
          "metadata": {},
          "execution_count": 84
        }
      ]
    },
    {
      "cell_type": "code",
      "source": [
        "# current parameters\n",
        "len(n.parameters()), n.parameters()"
      ],
      "metadata": {
        "colab": {
          "base_uri": "https://localhost:8080/"
        },
        "id": "VNyFsiotQvl5",
        "outputId": "de4ba5d9-360a-4a7f-ac56-9194b47dbebc"
      },
      "execution_count": 123,
      "outputs": [
        {
          "output_type": "execute_result",
          "data": {
            "text/plain": [
              "(41,\n",
              " [Value(data=-0.1597246273128979),\n",
              "  Value(data=-0.22125453102231638),\n",
              "  Value(data=0.05918101576478964),\n",
              "  Value(data=0.020937437595632748),\n",
              "  Value(data=0.3890214226238092),\n",
              "  Value(data=-0.8554943984907828),\n",
              "  Value(data=-0.18153337966585023),\n",
              "  Value(data=-0.6327828864370006),\n",
              "  Value(data=-0.7939812619932008),\n",
              "  Value(data=0.12306912234946808),\n",
              "  Value(data=0.5631301313017472),\n",
              "  Value(data=-0.41614772524021415),\n",
              "  Value(data=-0.13518718937485408),\n",
              "  Value(data=-0.20524432941592563),\n",
              "  Value(data=-0.17469663529057813),\n",
              "  Value(data=-0.14371999966025553),\n",
              "  Value(data=0.616169382972226),\n",
              "  Value(data=-0.08030258029244422),\n",
              "  Value(data=-0.561577291490869),\n",
              "  Value(data=-0.6274807671870363),\n",
              "  Value(data=-0.6455327258159925),\n",
              "  Value(data=-0.205841680916291),\n",
              "  Value(data=0.8171487513148085),\n",
              "  Value(data=-0.3695541298785737),\n",
              "  Value(data=-0.5565051854596833),\n",
              "  Value(data=0.49868700727963833),\n",
              "  Value(data=-0.23644405591100728),\n",
              "  Value(data=0.1875525847347874),\n",
              "  Value(data=0.9734235680381077),\n",
              "  Value(data=-0.520641425567937),\n",
              "  Value(data=0.8263192273448672),\n",
              "  Value(data=-0.4727578175271005),\n",
              "  Value(data=-0.6051958756605308),\n",
              "  Value(data=0.976522980095111),\n",
              "  Value(data=-0.5845700195502307),\n",
              "  Value(data=-0.5988401396039887),\n",
              "  Value(data=0.06516926017521593),\n",
              "  Value(data=-0.460889044418014),\n",
              "  Value(data=-0.7202554161985564),\n",
              "  Value(data=-0.6750140200778295),\n",
              "  Value(data=0.6654591415829596)])"
            ]
          },
          "metadata": {},
          "execution_count": 123
        }
      ]
    },
    {
      "cell_type": "code",
      "source": [
        "xs = [\n",
        "    [2.0, 3.0, -1.0],\n",
        "    [3.0, -1.0, 0.5],\n",
        "    [0.5, 1.0, 1.0],\n",
        "    [1.0, 1.0, -1.0]\n",
        "]\n",
        "\n",
        "ys = [1.0, -1.0, -1.0, 1.0] # desired output"
      ],
      "metadata": {
        "id": "PgmTQOCD5CDP"
      },
      "execution_count": 125,
      "outputs": []
    },
    {
      "cell_type": "code",
      "source": [
        "# generated output\n",
        "# forward pass\n",
        "ypred = [n(x) for x in xs]\n",
        "ypred"
      ],
      "metadata": {
        "colab": {
          "base_uri": "https://localhost:8080/"
        },
        "id": "uCEYsOS85zIr",
        "outputId": "6e03c03b-06e0-4045-d77e-4ebb81fdb2a2"
      },
      "execution_count": 182,
      "outputs": [
        {
          "output_type": "execute_result",
          "data": {
            "text/plain": [
              "[Value(data=0.9868888272174385),\n",
              " Value(data=-0.9999918033554193),\n",
              " Value(data=-0.9980965781935204),\n",
              " Value(data=0.9706658552907721)]"
            ]
          },
          "metadata": {},
          "execution_count": 182
        }
      ]
    },
    {
      "cell_type": "code",
      "source": [
        "# loss calculation\n",
        "loss = sum((yout - yexp)**2 for yout, yexp in zip(ypred, ys))\n",
        "loss"
      ],
      "metadata": {
        "colab": {
          "base_uri": "https://localhost:8080/"
        },
        "id": "xOpZXNqH6C1M",
        "outputId": "fc1952c4-0108-454d-957e-493f919c074c"
      },
      "execution_count": 179,
      "outputs": [
        {
          "output_type": "execute_result",
          "data": {
            "text/plain": [
              "Value(data=0.0021674663146977846)"
            ]
          },
          "metadata": {},
          "execution_count": 179
        }
      ]
    },
    {
      "cell_type": "code",
      "source": [
        "# calculating the gradient of each node w.r.t the loss\n",
        "# backward pass\n",
        "loss.backward()"
      ],
      "metadata": {
        "id": "g7glhCvt6fWH"
      },
      "execution_count": 180,
      "outputs": []
    },
    {
      "cell_type": "code",
      "source": [
        "# draw_graph(loss)"
      ],
      "metadata": {
        "id": "qrb1yCrt6pt-"
      },
      "execution_count": 135,
      "outputs": []
    },
    {
      "cell_type": "code",
      "source": [
        "# taking one of the parameter's value and gradient to see the changes after tweaking the parameters\n",
        "print(\"data: \",n.layers[0].neurons[0].w[0].data, \"| grad: \", n.layers[0].neurons[0].w[0].grad)"
      ],
      "metadata": {
        "colab": {
          "base_uri": "https://localhost:8080/"
        },
        "id": "cnC2hgxa6xQw",
        "outputId": "7ffc56d8-b98a-4037-c007-1960cc72bb19"
      },
      "execution_count": 150,
      "outputs": [
        {
          "output_type": "stream",
          "name": "stdout",
          "text": [
            "data:  -0.443108417743277 | grad:  27.53524313332398\n"
          ]
        }
      ]
    },
    {
      "cell_type": "code",
      "source": [
        "# update parameters\n",
        "for p in n.parameters():\n",
        "  p.data += -0.01 * p.grad"
      ],
      "metadata": {
        "id": "xgN_5j5k8CL6"
      },
      "execution_count": 181,
      "outputs": []
    },
    {
      "cell_type": "code",
      "source": [
        "print(\"data: \",n.layers[0].neurons[0].w[0].data, \"| grad: \", n.layers[0].neurons[0].w[0].grad)"
      ],
      "metadata": {
        "colab": {
          "base_uri": "https://localhost:8080/"
        },
        "id": "QNS-CTII8aeo",
        "outputId": "e750ada4-95bd-40fe-94af-bf1cb14126b5"
      },
      "execution_count": 183,
      "outputs": [
        {
          "output_type": "stream",
          "name": "stdout",
          "text": [
            "data:  -2.59158618119384 | grad:  26.743847929150174\n"
          ]
        }
      ]
    },
    {
      "cell_type": "code",
      "source": [
        "# repeat ( forward pass -> loss calculation -> backward pass -> update parameters ) until the loss converges\n",
        "# and this is basically gradient descent"
      ],
      "metadata": {
        "id": "OUhLT16H8jck"
      },
      "execution_count": 185,
      "outputs": []
    },
    {
      "cell_type": "code",
      "source": [
        "# lets reinitialize the network and add a better (loop) method\n",
        "\n",
        "# re-initialization\n",
        "x = [2.0, 3.0, -1.0]\n",
        "n = MLP(3, [4,4,1])\n",
        "\n",
        "xs = [\n",
        "    [2.0, 3.0, -1.0],\n",
        "    [3.0, -1.0, 0.5],\n",
        "    [0.5, 1.0, 1.0],\n",
        "    [1.0, 1.0, -1.0]\n",
        "]\n",
        "\n",
        "ys = [1.0, -1.0, -1.0, 1.0]"
      ],
      "metadata": {
        "id": "Xz-ZrfA3AR6M"
      },
      "execution_count": 223,
      "outputs": []
    },
    {
      "cell_type": "code",
      "source": [
        "for i in range(100):\n",
        "  # forward pass\n",
        "  ypred = [n(x) for x in xs]\n",
        "  loss = sum((yout-ypred)**2 for yout, ypred in zip(ypred, ys))\n",
        "\n",
        "  # backward pass\n",
        "  for p in n.parameters():\n",
        "    p.grad = 0.0\n",
        "  loss.backward()\n",
        "\n",
        "  # update parameters\n",
        "  for p in n.parameters():\n",
        "    p.data += -0.1 * p.grad\n",
        "\n",
        "  print(i, loss.data)"
      ],
      "metadata": {
        "colab": {
          "base_uri": "https://localhost:8080/"
        },
        "id": "iKW4tC61EdOa",
        "outputId": "2e73c776-6332-4584-f069-0f93f24ceaf6"
      },
      "execution_count": 226,
      "outputs": [
        {
          "output_type": "stream",
          "name": "stdout",
          "text": [
            "0 0.009784531151443124\n",
            "1 0.009547487133495736\n",
            "2 0.009321093258347348\n",
            "3 0.009104664022840023\n",
            "4 0.008897570691634774\n",
            "5 0.00869923559735607\n",
            "6 0.008509127108992608\n",
            "7 0.008326755179419595\n",
            "8 0.008151667396178454\n",
            "9 0.007983445470748867\n",
            "10 0.007821702110857228\n",
            "11 0.007666078228204424\n",
            "12 0.007516240440611671\n",
            "13 0.007371878833188633\n",
            "14 0.007232704947887505\n",
            "15 0.00709844997486108\n",
            "16 0.006968863122505763\n",
            "17 0.006843710146036387\n",
            "18 0.006722772016983713\n",
            "19 0.006605843718198182\n",
            "20 0.006492733150831894\n",
            "21 0.006383260141406095\n",
            "22 0.006277255538486441\n",
            "23 0.006174560389719171\n",
            "24 0.006075025191050828\n",
            "25 0.005978509200888564\n",
            "26 0.005884879812772308\n",
            "27 0.005794011980845851\n",
            "28 0.005705787693038696\n",
            "29 0.00562009548742225\n",
            "30 0.005536830007687219\n",
            "31 0.005455891594117935\n",
            "32 0.005377185906814633\n",
            "33 0.005300623578251009\n",
            "34 0.0052261198925482415\n",
            "35 0.005153594489110664\n",
            "36 0.005082971088501011\n",
            "37 0.005014177238641279\n",
            "38 0.004947144079610496\n",
            "39 0.004881806125475849\n",
            "40 0.0048181010617420125\n",
            "41 0.004755969557135121\n",
            "42 0.0046953550885575224\n",
            "43 0.004636203778154336\n",
            "44 0.004578464241530622\n",
            "45 0.004522087446242015\n",
            "46 0.004467026579760609\n",
            "47 0.004413236926187041\n",
            "48 0.004360675751043558\n",
            "49 0.0043093021935389254\n",
            "50 0.004259077165748719\n",
            "51 0.004209963258200669\n",
            "52 0.004161924651397331\n",
            "53 0.004114927032846794\n",
            "54 0.004068937519207304\n",
            "55 0.004023924583183274\n",
            "56 0.003979857984839151\n",
            "57 0.003936708707024212\n",
            "58 0.003894448894624997\n",
            "59 0.003853051797384836\n",
            "60 0.0038124917160488802\n",
            "61 0.0037727439516125156\n",
            "62 0.003733784757467261\n",
            "63 0.0036955912942536473\n",
            "64 0.0036581415872449135\n",
            "65 0.0036214144860982583\n",
            "66 0.00358538962682197\n",
            "67 0.0035500473958183505\n",
            "68 0.0035153688958716837\n",
            "69 0.003481335913960001\n",
            "70 0.0034479308907784693\n",
            "71 0.003415136891869029\n",
            "72 0.003382937580259089\n",
            "73 0.0033513171905183428\n",
            "74 0.0033202605041488748\n",
            "75 0.003289752826229913\n",
            "76 0.0032597799632431176\n",
            "77 0.003230328202010081\n",
            "78 0.0032013842896772594\n",
            "79 0.003172935414688772\n",
            "80 0.0031449691886905095\n",
            "81 0.0031174736293131883\n",
            "82 0.0030904371437850834\n",
            "83 0.0030638485133283283\n",
            "84 0.00303769687829553\n",
            "85 0.0030119717240062963\n",
            "86 0.002986662867245761\n",
            "87 0.0029617604433889886\n",
            "88 0.0029372548941183495\n",
            "89 0.002913136955701946\n",
            "90 0.0028893976478037587\n",
            "91 0.0028660282627976557\n",
            "92 0.002843020355558845\n",
            "93 0.0028203657337086837\n",
            "94 0.0027980564482888745\n",
            "95 0.002776084784844066\n",
            "96 0.002754443254891492\n",
            "97 0.002733124587758767\n",
            "98 0.0027121217227711403\n",
            "99 0.0026914278017712663\n"
          ]
        }
      ]
    },
    {
      "cell_type": "code",
      "source": [
        "ypred"
      ],
      "metadata": {
        "colab": {
          "base_uri": "https://localhost:8080/"
        },
        "id": "tbmEh6KPFvZq",
        "outputId": "91f1ee77-26c7-45a3-d9d1-221b31e9dc70"
      },
      "execution_count": 227,
      "outputs": [
        {
          "output_type": "execute_result",
          "data": {
            "text/plain": [
              "[Value(data=0.9794354566537836),\n",
              " Value(data=-0.9656001909790067),\n",
              " Value(data=-0.9852513112534033),\n",
              " Value(data=0.9705439873997166)]"
            ]
          },
          "metadata": {},
          "execution_count": 227
        }
      ]
    }
  ]
}