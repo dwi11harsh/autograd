{
  "nbformat": 4,
  "nbformat_minor": 0,
  "metadata": {
    "colab": {
      "provenance": [],
      "authorship_tag": "ABX9TyNhThPM8rs4bFdafFdHZ/Li",
      "include_colab_link": true
    },
    "kernelspec": {
      "name": "python3",
      "display_name": "Python 3"
    },
    "language_info": {
      "name": "python"
    }
  },
  "cells": [
    {
      "cell_type": "markdown",
      "metadata": {
        "id": "view-in-github",
        "colab_type": "text"
      },
      "source": [
        "<a href=\"https://colab.research.google.com/github/dwi11harsh/micrograd/blob/main/autograd.ipynb\" target=\"_parent\"><img src=\"https://colab.research.google.com/assets/colab-badge.svg\" alt=\"Open In Colab\"/></a>"
      ]
    },
    {
      "cell_type": "markdown",
      "source": [
        "<h1>Building Micrograd</h1>\n",
        "This Notebook explains the <a href=\"https://youtu.be/VMj-3S1tku0?si=9F4b9_SziPxp53SM\">The spelled-out intro to neural networks and backpropagation: building micrograd</a> by <a href=\"https://karpathy.ai/\">Andrej Karpathy</a>.<br>\n"
      ],
      "metadata": {
        "id": "rOu6A6GN5u2-"
      }
    },
    {
      "cell_type": "code",
      "source": [
        "import numpy as np\n",
        "import matplotlib.pyplot as plt\n",
        "import math"
      ],
      "metadata": {
        "id": "zq0ESK6f7ia2"
      },
      "execution_count": 40,
      "outputs": []
    },
    {
      "cell_type": "code",
      "source": [
        "# a simple function that takes in a single scalar `x` and returns a single scalar `y`\n",
        "def f(x):\n",
        "  return 3*x**2 - 4*x + 5"
      ],
      "metadata": {
        "id": "HZBTuU987zbj"
      },
      "execution_count": 41,
      "outputs": []
    },
    {
      "cell_type": "code",
      "source": [
        "f(3)"
      ],
      "metadata": {
        "colab": {
          "base_uri": "https://localhost:8080/"
        },
        "id": "ymHrnPRY8FgA",
        "outputId": "ec0c3c2b-8bca-4e45-c203-6f547b0038c5"
      },
      "execution_count": 42,
      "outputs": [
        {
          "output_type": "execute_result",
          "data": {
            "text/plain": [
              "20"
            ]
          },
          "metadata": {},
          "execution_count": 42
        }
      ]
    },
    {
      "cell_type": "code",
      "source": [
        "# now creating some x values\n",
        "xs = np.arange(-5, 5, 0.25)\n",
        "xs"
      ],
      "metadata": {
        "colab": {
          "base_uri": "https://localhost:8080/"
        },
        "id": "PmtqqGiw8Io-",
        "outputId": "e0c15ef3-3dca-48f0-b18c-d91104caf89b"
      },
      "execution_count": 43,
      "outputs": [
        {
          "output_type": "execute_result",
          "data": {
            "text/plain": [
              "array([-5.  , -4.75, -4.5 , -4.25, -4.  , -3.75, -3.5 , -3.25, -3.  ,\n",
              "       -2.75, -2.5 , -2.25, -2.  , -1.75, -1.5 , -1.25, -1.  , -0.75,\n",
              "       -0.5 , -0.25,  0.  ,  0.25,  0.5 ,  0.75,  1.  ,  1.25,  1.5 ,\n",
              "        1.75,  2.  ,  2.25,  2.5 ,  2.75,  3.  ,  3.25,  3.5 ,  3.75,\n",
              "        4.  ,  4.25,  4.5 ,  4.75])"
            ]
          },
          "metadata": {},
          "execution_count": 43
        }
      ]
    },
    {
      "cell_type": "code",
      "source": [
        "# and now some y values using the function described above\n",
        "ys = f(xs)\n",
        "ys"
      ],
      "metadata": {
        "colab": {
          "base_uri": "https://localhost:8080/"
        },
        "id": "Esop2_h88eth",
        "outputId": "afe54830-2b9a-441e-b1bf-044f27e75805"
      },
      "execution_count": 44,
      "outputs": [
        {
          "output_type": "execute_result",
          "data": {
            "text/plain": [
              "array([100.    ,  91.6875,  83.75  ,  76.1875,  69.    ,  62.1875,\n",
              "        55.75  ,  49.6875,  44.    ,  38.6875,  33.75  ,  29.1875,\n",
              "        25.    ,  21.1875,  17.75  ,  14.6875,  12.    ,   9.6875,\n",
              "         7.75  ,   6.1875,   5.    ,   4.1875,   3.75  ,   3.6875,\n",
              "         4.    ,   4.6875,   5.75  ,   7.1875,   9.    ,  11.1875,\n",
              "        13.75  ,  16.6875,  20.    ,  23.6875,  27.75  ,  32.1875,\n",
              "        37.    ,  42.1875,  47.75  ,  53.6875])"
            ]
          },
          "metadata": {},
          "execution_count": 44
        }
      ]
    },
    {
      "cell_type": "code",
      "source": [
        "# plotting these xs and ys\n",
        "plt.plot(xs, ys)"
      ],
      "metadata": {
        "colab": {
          "base_uri": "https://localhost:8080/",
          "height": 448
        },
        "id": "JSKG-5VF8x96",
        "outputId": "8f4a28ec-e765-4caa-cb19-eb8b7838a7ee"
      },
      "execution_count": 45,
      "outputs": [
        {
          "output_type": "execute_result",
          "data": {
            "text/plain": [
              "[<matplotlib.lines.Line2D at 0x79e56bc36350>]"
            ]
          },
          "metadata": {},
          "execution_count": 45
        },
        {
          "output_type": "display_data",
          "data": {
            "text/plain": [
              "<Figure size 640x480 with 1 Axes>"
            ],
            "image/png": "[encoded data removed]"
          },
          "metadata": {}
        }
      ]
    },
    {
      "cell_type": "code",
      "source": [
        "# Now, (from calculus class) a derivative of a function at any point is the measure of how sensitive the function is at that point\n",
        "# if we slightly bump up (or down) the value of the argument which we are passing. This change is offcourse infinitely small (close to 0).\n",
        "# lets take a very small `h`\n",
        "h = 0.001\n",
        "x = 3.0\n",
        "(f(x+h)-f(x))/h"
      ],
      "metadata": {
        "colab": {
          "base_uri": "https://localhost:8080/"
        },
        "id": "2gYojl2c89Yx",
        "outputId": "28ab41d5-8240-47c6-d96a-cdd13a51fa60"
      },
      "execution_count": 46,
      "outputs": [
        {
          "output_type": "execute_result",
          "data": {
            "text/plain": [
              "14.00300000000243"
            ]
          },
          "metadata": {},
          "execution_count": 46
        }
      ]
    },
    {
      "cell_type": "code",
      "source": [
        "# now if we calculate by hand then derivative of our function would be 6x-4 and equating it with 0 we get x=2/3\n",
        "# so at x = 2/3 the derivative is not very responsive to infinitely small changes in h"
      ],
      "metadata": {
        "id": "lAZf88nW_sM8"
      },
      "execution_count": 47,
      "outputs": []
    },
    {
      "cell_type": "code",
      "source": [
        "h=0.000001\n",
        "x=2/3\n",
        "(f(x+h)-f(x))/h"
      ],
      "metadata": {
        "id": "ulAsnQnmAv7s",
        "colab": {
          "base_uri": "https://localhost:8080/"
        },
        "outputId": "7c288f65-9cc5-4ec1-a8f9-56dfe8d7f229"
      },
      "execution_count": 48,
      "outputs": [
        {
          "output_type": "execute_result",
          "data": {
            "text/plain": [
              "2.999378523327323e-06"
            ]
          },
          "metadata": {},
          "execution_count": 48
        }
      ]
    },
    {
      "cell_type": "code",
      "source": [
        "# now writing a small equation to understand the effect of nudging any of its variables\n",
        "a = 2.0\n",
        "b = -3.0\n",
        "c = 10.0\n",
        "\n",
        "# equation\n",
        "d = a*b + c\n",
        "d"
      ],
      "metadata": {
        "colab": {
          "base_uri": "https://localhost:8080/"
        },
        "id": "QDpOks_DnmcD",
        "outputId": "91eae0bc-bf21-4488-a7d0-45174e578cb4"
      },
      "execution_count": 49,
      "outputs": [
        {
          "output_type": "execute_result",
          "data": {
            "text/plain": [
              "4.0"
            ]
          },
          "metadata": {},
          "execution_count": 49
        }
      ]
    },
    {
      "cell_type": "code",
      "source": [
        "# nudging each of the variables to see how much each of them affect this value (4.0)\n",
        "\n",
        "h = 0.0001\n",
        "\n",
        "# nudging `a`\n",
        "a1 = a + h\n",
        "\n",
        "d1 = a1*b + c\n",
        "\n",
        "# now wile finding the differential w.r.t a we expect a negative slope coz when we differentiate the equation w.r.t `a` we get b and it is negative\n",
        "# so we should be left with a value close to b\n",
        "(d1-d)/h"
      ],
      "metadata": {
        "colab": {
          "base_uri": "https://localhost:8080/"
        },
        "id": "3dS1XTFuoJGt",
        "outputId": "ceb9328d-8137-4032-a581-6082ba681404"
      },
      "execution_count": 50,
      "outputs": [
        {
          "output_type": "execute_result",
          "data": {
            "text/plain": [
              "-3.000000000010772"
            ]
          },
          "metadata": {},
          "execution_count": 50
        }
      ]
    },
    {
      "cell_type": "code",
      "source": [
        "# nudging `b`\n",
        "b1 = b + h\n",
        "\n",
        "d2 = a*b1 + c\n",
        "\n",
        "# now wile finding the differential w.r.t `b` we expect a value close to `a`\n",
        "(d2-d)/h"
      ],
      "metadata": {
        "colab": {
          "base_uri": "https://localhost:8080/"
        },
        "id": "z93lDeF9ownk",
        "outputId": "14272f10-ff04-4603-fbfd-b810474c0d8e"
      },
      "execution_count": 51,
      "outputs": [
        {
          "output_type": "execute_result",
          "data": {
            "text/plain": [
              "2.0000000000042206"
            ]
          },
          "metadata": {},
          "execution_count": 51
        }
      ]
    },
    {
      "cell_type": "code",
      "source": [
        "# nudging `c`\n",
        "c1 = c + h\n",
        "\n",
        "d3 = a*b + c1\n",
        "\n",
        "# now wile finding the differential w.r.t `c` we expect a slope of one as there would be just 1 left while partially differentiating original equation w.r.t. c\n",
        "(d3-d)/h"
      ],
      "metadata": {
        "colab": {
          "base_uri": "https://localhost:8080/"
        },
        "id": "0wF0k5IkpgBB",
        "outputId": "507d6c02-61c0-448f-8a5c-cc832730111a"
      },
      "execution_count": 52,
      "outputs": [
        {
          "output_type": "execute_result",
          "data": {
            "text/plain": [
              "0.9999999999976694"
            ]
          },
          "metadata": {},
          "execution_count": 52
        }
      ]
    },
    {
      "cell_type": "code",
      "source": [
        "# so now we have some sense of what this derivative function actually represents"
      ],
      "metadata": {
        "id": "yenTni3Pp_la"
      },
      "execution_count": 53,
      "outputs": []
    },
    {
      "cell_type": "code",
      "source": [
        "# now lets get cookin\n",
        "# first we need to build a data structure which can store our neural nets\n",
        "\n",
        "class Value:\n",
        "  def __init__(self, data):   # this will be used to initialize any variable\n",
        "    self.data = data\n",
        "\n",
        "  def __repr__(self):         # repr allows us to print a better looking expression or else we get something we wont be expecting\n",
        "    return f\"Value(data={self.data})\"\n",
        "\n",
        "  def __add__(self, other):\n",
        "    return Value(self.data + other.data)    # internally it calculates a.__add__(b)\n",
        "\n",
        "  def __mul__(self, other):\n",
        "    return Value(self.data * other.data)"
      ],
      "metadata": {
        "id": "U5DYitqPqV_j"
      },
      "execution_count": 54,
      "outputs": []
    },
    {
      "cell_type": "code",
      "source": [
        "# now that we have our data structure, lets try to recreate the above expression with this data structure\n",
        "\n",
        "a = Value(2.0)\n",
        "b = Value(-3.0)\n",
        "c = Value(10.0)\n",
        "\n",
        "# and now we should be able to recreate the above expression\n",
        "\n",
        "a*b + c # this calls the following expression internally\n",
        "# (a.__mul__(b)).__add__(c)"
      ],
      "metadata": {
        "colab": {
          "base_uri": "https://localhost:8080/"
        },
        "id": "zLw-G6MEuw0Z",
        "outputId": "35739650-82c0-45bb-b59c-777b6dcb10e0"
      },
      "execution_count": 55,
      "outputs": [
        {
          "output_type": "execute_result",
          "data": {
            "text/plain": [
              "Value(data=4.0)"
            ]
          },
          "metadata": {},
          "execution_count": 55
        }
      ]
    },
    {
      "cell_type": "code",
      "source": [
        "# since we already have the basic data structure, what we need now is to have a method which would tell us the values which produced the newer values\n",
        "\n",
        "# for this purpose we add an empty tuple during initialization to this data structure which then keeps record of the initial values used to create the newer values\n",
        "class Value:\n",
        "  def __init__(self, data, _children=()):\n",
        "    self.data = data\n",
        "    self._prev = set(_children) # now inside the class we are instead maintaining a set (just for efficiency purpose, dont fuss about it)\n",
        "\n",
        "  def __repr__(self):\n",
        "    return f\"Value(data={self.data})\"\n",
        "\n",
        "  def __add__(self, other):\n",
        "    out = Value(self.data + other.data, (self, other))\n",
        "    return out\n",
        "\n",
        "  def __mul__(self, other):\n",
        "    out = Value(self.data * other.data, (self, other))\n",
        "    return out\n",
        "\n",
        "\n",
        "a = Value(2.0)\n",
        "b = Value(-3.0)\n",
        "c = Value(10.0)\n",
        "\n",
        "d = a*b + c\n",
        "d"
      ],
      "metadata": {
        "colab": {
          "base_uri": "https://localhost:8080/"
        },
        "id": "WkV4GvHivh72",
        "outputId": "ebd181e8-821e-43d6-c6f9-c8c694792d0e"
      },
      "execution_count": 56,
      "outputs": [
        {
          "output_type": "execute_result",
          "data": {
            "text/plain": [
              "Value(data=4.0)"
            ]
          },
          "metadata": {},
          "execution_count": 56
        }
      ]
    },
    {
      "cell_type": "code",
      "source": [
        "# but the amazing thing that we can do now is know which values contributed to output d\n",
        "d._prev"
      ],
      "metadata": {
        "colab": {
          "base_uri": "https://localhost:8080/"
        },
        "id": "cALcpBI9wjQR",
        "outputId": "9175dcce-b44e-4cdd-dc1f-7563bb18cd6a"
      },
      "execution_count": 57,
      "outputs": [
        {
          "output_type": "execute_result",
          "data": {
            "text/plain": [
              "{Value(data=-6.0), Value(data=10.0)}"
            ]
          },
          "metadata": {},
          "execution_count": 57
        }
      ]
    },
    {
      "cell_type": "code",
      "source": [
        "# and the last thing we need is to also maintain what expressions contributed to this end value\n",
        "class Value:\n",
        "  def __init__(self, data, _children=(), _op='', _label=''):\n",
        "    self.data = data\n",
        "    self.grad = 0.0\n",
        "    self._prev = set(_children)\n",
        "    self._op = _op\n",
        "    self._label = _label\n",
        "\n",
        "  def __repr__(self):\n",
        "    return f\"Value(data={self.data})\"\n",
        "\n",
        "  def __add__(self, other):\n",
        "    out = Value(self.data + other.data, (self, other), '+')\n",
        "    return out\n",
        "\n",
        "  def __mul__(self, other):\n",
        "    out = Value(self.data * other.data, (self, other), '*')\n",
        "    return out\n",
        "\n",
        "\n",
        "a = Value(2.0, _label='a')\n",
        "b = Value(-3.0, _label='b')\n",
        "c = Value(10.0, _label='c')\n",
        "e = a*b\n",
        "e._label='e'\n",
        "d = e + c\n",
        "d._label='d'\n",
        "f = Value(-2.0, _label='f')\n",
        "L = d*f\n",
        "L._label='L'\n",
        "L"
      ],
      "metadata": {
        "colab": {
          "base_uri": "https://localhost:8080/"
        },
        "id": "X8n6H_doyUGX",
        "outputId": "ce8a9719-db18-4ece-ee4f-f861f069c2d2"
      },
      "execution_count": 58,
      "outputs": [
        {
          "output_type": "execute_result",
          "data": {
            "text/plain": [
              "Value(data=-8.0)"
            ]
          },
          "metadata": {},
          "execution_count": 58
        }
      ]
    },
    {
      "cell_type": "code",
      "source": [
        "# and now we can also know the expression which was performed to get the output value\n",
        "d._op, d._prev, d"
      ],
      "metadata": {
        "colab": {
          "base_uri": "https://localhost:8080/"
        },
        "id": "-rybEteDy7QO",
        "outputId": "a51b744e-087e-404e-c1f0-636bd693170e"
      },
      "execution_count": 59,
      "outputs": [
        {
          "output_type": "execute_result",
          "data": {
            "text/plain": [
              "('+', {Value(data=-6.0), Value(data=10.0)}, Value(data=4.0))"
            ]
          },
          "metadata": {},
          "execution_count": 59
        }
      ]
    },
    {
      "cell_type": "code",
      "source": [
        "# so this tells us that a + op was performed on Value -6.0 and Value 10.0 to get the value 4"
      ],
      "metadata": {
        "id": "adg-IQplzHr_"
      },
      "execution_count": 60,
      "outputs": []
    },
    {
      "cell_type": "code",
      "source": [
        "# we know that in neurals, these expressions could get really big, so, we need a way to easily visualize our data structure and for that we are going to use graphviz\n",
        "from graphviz import Digraph\n",
        "\n",
        "# getting all the nodes and edges by tracing the data structure\n",
        "def trace(root):\n",
        "  # building a set of all the nodes and edges in the graph\n",
        "  nodes, edges = set(), set()\n",
        "  def build(v):\n",
        "    if v not in nodes:\n",
        "      nodes.add(v)\n",
        "      for child in v._prev:\n",
        "        edges.add((child, v))\n",
        "        build(child)\n",
        "  build(root)\n",
        "\n",
        "  return nodes, edges\n",
        "\n",
        "# generating the graph\n",
        "def draw_graph(root):\n",
        "  graph = Digraph(format='svg', graph_attr={'rankdir': 'LR'})\n",
        "\n",
        "  nodes,edges = trace(root)\n",
        "\n",
        "  for node in nodes:\n",
        "    uid = str(id(node))\n",
        "    # for any value in graph, create a rectangular node for it\n",
        "    graph.node(name = uid, label = \"{ %s | data %.4f | grad %.4f }\" % (node._label, node.data, node.grad ), shape='record')\n",
        "\n",
        "    if node._op:\n",
        "      # if this value is a result of some operation, create an operation node for it\n",
        "      graph.node(name = uid + node._op, label = node._op)\n",
        "      # and connect this node to it\n",
        "      graph.edge(uid + node._op, uid)\n",
        "\n",
        "  for n1, n2 in edges:\n",
        "    # connect n1 to the operation node of n2\n",
        "    graph.edge(str(id(n1)), str(id(n2)) + n2._op)\n",
        "\n",
        "  return graph"
      ],
      "metadata": {
        "id": "W_Tq_fS3zloc"
      },
      "execution_count": 61,
      "outputs": []
    },
    {
      "cell_type": "code",
      "source": [
        "draw_graph(L)"
      ],
      "metadata": {
        "colab": {
          "base_uri": "https://localhost:8080/",
          "height": 246
        },
        "id": "hlSJI0aliUbG",
        "outputId": "9e777c06-336a-4926-e312-636cbb83d6e3"
      },
      "execution_count": 62,
      "outputs": [
        {
          "output_type": "execute_result",
          "data": {
            "image/svg+xml": "<?xml version=\"1.0\" encoding=\"UTF-8\" standalone=\"no\"?>\n<!DOCTYPE svg PUBLIC \"-//W3C//DTD SVG 1.1//EN\"\n \"http://www.w3.org/Graphics/SVG/1.1/DTD/svg11.dtd\">\n<!-- Generated by graphviz version 2.43.0 (0)\n -->\n<!-- Title: %3 Pages: 1 -->\n<svg width=\"1148pt\" height=\"154pt\"\n viewBox=\"0.00 0.00 1148.00 154.00\" xmlns=\"http://www.w3.org/2000/svg\" xmlns:xlink=\"http://www.w3.org/1999/xlink\">\n<g id=\"graph0\" class=\"graph\" transform=\"scale(1 1) rotate(0) translate(4 150)\">\n<title>%3</title>\n<polygon fill=\"white\" stroke=\"transparent\" points=\"-4,4 -4,-150 1144,-150 1144,4 -4,4\"/>\n<!-- 134026083042320 -->\n<g id=\"node1\" class=\"node\">\n<title>134026083042320</title>\n<polygon fill=\"none\" stroke=\"black\" points=\"634,-109.5 634,-145.5 822,-145.5 822,-109.5 634,-109.5\"/>\n<text text-anchor=\"middle\" x=\"644.5\" y=\"-123.8\" font-family=\"Times,serif\" font-size=\"14.00\">f</text>\n<polyline fill=\"none\" stroke=\"black\" points=\"655,-109.5 655,-145.5 \"/>\n<text text-anchor=\"middle\" x=\"697.5\" y=\"-123.8\" font-family=\"Times,serif\" font-size=\"14.00\">data &#45;2.0000</text>\n<polyline fill=\"none\" stroke=\"black\" points=\"740,-109.5 740,-145.5 \"/>\n<text text-anchor=\"middle\" x=\"781\" y=\"-123.8\" font-family=\"Times,serif\" font-size=\"14.00\">grad 0.0000</text>\n</g>\n<!-- 134026083042576* -->\n<g id=\"node7\" class=\"node\">\n<title>134026083042576*</title>\n<ellipse fill=\"none\" stroke=\"black\" cx=\"885\" cy=\"-99.5\" rx=\"27\" ry=\"18\"/>\n<text text-anchor=\"middle\" x=\"885\" y=\"-95.8\" font-family=\"Times,serif\" font-size=\"14.00\">*</text>\n</g>\n<!-- 134026083042320&#45;&gt;134026083042576* -->\n<g id=\"edge9\" class=\"edge\">\n<title>134026083042320&#45;&gt;134026083042576*</title>\n<path fill=\"none\" stroke=\"black\" d=\"M822.29,-110.65C831.57,-108.97 840.52,-107.35 848.61,-105.89\"/>\n<polygon fill=\"black\" stroke=\"black\" points=\"849.46,-109.3 858.68,-104.07 848.21,-102.41 849.46,-109.3\"/>\n</g>\n<!-- 134026083041488 -->\n<g id=\"node2\" class=\"node\">\n<title>134026083041488</title>\n<polygon fill=\"none\" stroke=\"black\" points=\"316,-82.5 316,-118.5 508,-118.5 508,-82.5 316,-82.5\"/>\n<text text-anchor=\"middle\" x=\"327.5\" y=\"-96.8\" font-family=\"Times,serif\" font-size=\"14.00\">c</text>\n<polyline fill=\"none\" stroke=\"black\" points=\"339,-82.5 339,-118.5 \"/>\n<text text-anchor=\"middle\" x=\"382.5\" y=\"-96.8\" font-family=\"Times,serif\" font-size=\"14.00\">data 10.0000</text>\n<polyline fill=\"none\" stroke=\"black\" points=\"426,-82.5 426,-118.5 \"/>\n<text text-anchor=\"middle\" x=\"467\" y=\"-96.8\" font-family=\"Times,serif\" font-size=\"14.00\">grad 0.0000</text>\n</g>\n<!-- 134026083042512+ -->\n<g id=\"node4\" class=\"node\">\n<title>134026083042512+</title>\n<ellipse fill=\"none\" stroke=\"black\" cx=\"571\" cy=\"-72.5\" rx=\"27\" ry=\"18\"/>\n<text text-anchor=\"middle\" x=\"571\" y=\"-68.8\" font-family=\"Times,serif\" font-size=\"14.00\">+</text>\n</g>\n<!-- 134026083041488&#45;&gt;134026083042512+ -->\n<g id=\"edge4\" class=\"edge\">\n<title>134026083041488&#45;&gt;134026083042512+</title>\n<path fill=\"none\" stroke=\"black\" d=\"M508.4,-83.49C517.69,-81.83 526.64,-80.23 534.71,-78.79\"/>\n<polygon fill=\"black\" stroke=\"black\" points=\"535.53,-82.2 544.76,-77 534.31,-75.31 535.53,-82.2\"/>\n</g>\n<!-- 134026083042512 -->\n<g id=\"node3\" class=\"node\">\n<title>134026083042512</title>\n<polygon fill=\"none\" stroke=\"black\" points=\"635.5,-54.5 635.5,-90.5 820.5,-90.5 820.5,-54.5 635.5,-54.5\"/>\n<text text-anchor=\"middle\" x=\"647\" y=\"-68.8\" font-family=\"Times,serif\" font-size=\"14.00\">d</text>\n<polyline fill=\"none\" stroke=\"black\" points=\"658.5,-54.5 658.5,-90.5 \"/>\n<text text-anchor=\"middle\" x=\"698.5\" y=\"-68.8\" font-family=\"Times,serif\" font-size=\"14.00\">data 4.0000</text>\n<polyline fill=\"none\" stroke=\"black\" points=\"738.5,-54.5 738.5,-90.5 \"/>\n<text text-anchor=\"middle\" x=\"779.5\" y=\"-68.8\" font-family=\"Times,serif\" font-size=\"14.00\">grad 0.0000</text>\n</g>\n<!-- 134026083042512&#45;&gt;134026083042576* -->\n<g id=\"edge8\" class=\"edge\">\n<title>134026083042512&#45;&gt;134026083042576*</title>\n<path fill=\"none\" stroke=\"black\" d=\"M820.51,-88.44C830.48,-90.18 840.13,-91.86 848.77,-93.36\"/>\n<polygon fill=\"black\" stroke=\"black\" points=\"848.31,-96.84 858.77,-95.1 849.52,-89.94 848.31,-96.84\"/>\n</g>\n<!-- 134026083042512+&#45;&gt;134026083042512 -->\n<g id=\"edge1\" class=\"edge\">\n<title>134026083042512+&#45;&gt;134026083042512</title>\n<path fill=\"none\" stroke=\"black\" d=\"M598.29,-72.5C606.26,-72.5 615.54,-72.5 625.39,-72.5\"/>\n<polygon fill=\"black\" stroke=\"black\" points=\"625.41,-76 635.41,-72.5 625.41,-69 625.41,-76\"/>\n</g>\n<!-- 134026083037392 -->\n<g id=\"node5\" class=\"node\">\n<title>134026083037392</title>\n<polygon fill=\"none\" stroke=\"black\" points=\"0,-55.5 0,-91.5 190,-91.5 190,-55.5 0,-55.5\"/>\n<text text-anchor=\"middle\" x=\"11.5\" y=\"-69.8\" font-family=\"Times,serif\" font-size=\"14.00\">b</text>\n<polyline fill=\"none\" stroke=\"black\" points=\"23,-55.5 23,-91.5 \"/>\n<text text-anchor=\"middle\" x=\"65.5\" y=\"-69.8\" font-family=\"Times,serif\" font-size=\"14.00\">data &#45;3.0000</text>\n<polyline fill=\"none\" stroke=\"black\" points=\"108,-55.5 108,-91.5 \"/>\n<text text-anchor=\"middle\" x=\"149\" y=\"-69.8\" font-family=\"Times,serif\" font-size=\"14.00\">grad 0.0000</text>\n</g>\n<!-- 134026083042128* -->\n<g id=\"node10\" class=\"node\">\n<title>134026083042128*</title>\n<ellipse fill=\"none\" stroke=\"black\" cx=\"253\" cy=\"-45.5\" rx=\"27\" ry=\"18\"/>\n<text text-anchor=\"middle\" x=\"253\" y=\"-41.8\" font-family=\"Times,serif\" font-size=\"14.00\">*</text>\n</g>\n<!-- 134026083037392&#45;&gt;134026083042128* -->\n<g id=\"edge5\" class=\"edge\">\n<title>134026083037392&#45;&gt;134026083042128*</title>\n<path fill=\"none\" stroke=\"black\" d=\"M190.34,-56.57C199.62,-54.9 208.58,-53.29 216.66,-51.84\"/>\n<polygon fill=\"black\" stroke=\"black\" points=\"217.49,-55.25 226.72,-50.04 216.26,-48.36 217.49,-55.25\"/>\n</g>\n<!-- 134026083042576 -->\n<g id=\"node6\" class=\"node\">\n<title>134026083042576</title>\n<polygon fill=\"none\" stroke=\"black\" points=\"948,-81.5 948,-117.5 1140,-117.5 1140,-81.5 948,-81.5\"/>\n<text text-anchor=\"middle\" x=\"960.5\" y=\"-95.8\" font-family=\"Times,serif\" font-size=\"14.00\">L</text>\n<polyline fill=\"none\" stroke=\"black\" points=\"973,-81.5 973,-117.5 \"/>\n<text text-anchor=\"middle\" x=\"1015.5\" y=\"-95.8\" font-family=\"Times,serif\" font-size=\"14.00\">data &#45;8.0000</text>\n<polyline fill=\"none\" stroke=\"black\" points=\"1058,-81.5 1058,-117.5 \"/>\n<text text-anchor=\"middle\" x=\"1099\" y=\"-95.8\" font-family=\"Times,serif\" font-size=\"14.00\">grad 0.0000</text>\n</g>\n<!-- 134026083042576*&#45;&gt;134026083042576 -->\n<g id=\"edge2\" class=\"edge\">\n<title>134026083042576*&#45;&gt;134026083042576</title>\n<path fill=\"none\" stroke=\"black\" d=\"M912.28,-99.5C919.78,-99.5 928.44,-99.5 937.67,-99.5\"/>\n<polygon fill=\"black\" stroke=\"black\" points=\"937.87,-103 947.87,-99.5 937.87,-96 937.87,-103\"/>\n</g>\n<!-- 134026083041040 -->\n<g id=\"node8\" class=\"node\">\n<title>134026083041040</title>\n<polygon fill=\"none\" stroke=\"black\" points=\"2.5,-0.5 2.5,-36.5 187.5,-36.5 187.5,-0.5 2.5,-0.5\"/>\n<text text-anchor=\"middle\" x=\"14\" y=\"-14.8\" font-family=\"Times,serif\" font-size=\"14.00\">a</text>\n<polyline fill=\"none\" stroke=\"black\" points=\"25.5,-0.5 25.5,-36.5 \"/>\n<text text-anchor=\"middle\" x=\"65.5\" y=\"-14.8\" font-family=\"Times,serif\" font-size=\"14.00\">data 2.0000</text>\n<polyline fill=\"none\" stroke=\"black\" points=\"105.5,-0.5 105.5,-36.5 \"/>\n<text text-anchor=\"middle\" x=\"146.5\" y=\"-14.8\" font-family=\"Times,serif\" font-size=\"14.00\">grad 0.0000</text>\n</g>\n<!-- 134026083041040&#45;&gt;134026083042128* -->\n<g id=\"edge7\" class=\"edge\">\n<title>134026083041040&#45;&gt;134026083042128*</title>\n<path fill=\"none\" stroke=\"black\" d=\"M187.65,-34.36C197.94,-36.14 207.91,-37.87 216.81,-39.41\"/>\n<polygon fill=\"black\" stroke=\"black\" points=\"216.26,-42.87 226.71,-41.12 217.45,-35.97 216.26,-42.87\"/>\n</g>\n<!-- 134026083042128 -->\n<g id=\"node9\" class=\"node\">\n<title>134026083042128</title>\n<polygon fill=\"none\" stroke=\"black\" points=\"317,-27.5 317,-63.5 507,-63.5 507,-27.5 317,-27.5\"/>\n<text text-anchor=\"middle\" x=\"328.5\" y=\"-41.8\" font-family=\"Times,serif\" font-size=\"14.00\">e</text>\n<polyline fill=\"none\" stroke=\"black\" points=\"340,-27.5 340,-63.5 \"/>\n<text text-anchor=\"middle\" x=\"382.5\" y=\"-41.8\" font-family=\"Times,serif\" font-size=\"14.00\">data &#45;6.0000</text>\n<polyline fill=\"none\" stroke=\"black\" points=\"425,-27.5 425,-63.5 \"/>\n<text text-anchor=\"middle\" x=\"466\" y=\"-41.8\" font-family=\"Times,serif\" font-size=\"14.00\">grad 0.0000</text>\n</g>\n<!-- 134026083042128&#45;&gt;134026083042512+ -->\n<g id=\"edge6\" class=\"edge\">\n<title>134026083042128&#45;&gt;134026083042512+</title>\n<path fill=\"none\" stroke=\"black\" d=\"M507.05,-61.67C516.78,-63.35 526.18,-64.96 534.62,-66.42\"/>\n<polygon fill=\"black\" stroke=\"black\" points=\"534.3,-69.91 544.75,-68.16 535.49,-63.01 534.3,-69.91\"/>\n</g>\n<!-- 134026083042128*&#45;&gt;134026083042128 -->\n<g id=\"edge3\" class=\"edge\">\n<title>134026083042128*&#45;&gt;134026083042128</title>\n<path fill=\"none\" stroke=\"black\" d=\"M280.28,-45.5C288.05,-45.5 297.08,-45.5 306.68,-45.5\"/>\n<polygon fill=\"black\" stroke=\"black\" points=\"306.88,-49 316.88,-45.5 306.88,-42 306.88,-49\"/>\n</g>\n</g>\n</svg>\n",
            "text/plain": [
              "<graphviz.graphs.Digraph at 0x79e5610ef690>"
            ]
          },
          "metadata": {},
          "execution_count": 62
        }
      ]
    },
    {
      "cell_type": "markdown",
      "source": [
        "# Manual Backpropagation Equations\n",
        "1. $ \\frac{dL}{dL} = 1   $\n",
        "\n",
        "  The derivative of a variable with respect to itself is always 1.\n",
        "\n",
        "2. $ \\frac{dL}{da} = \\frac{d((a \\cdot b + c) \\cdot f)}{da} = b \\cdot f = (-3.0) \\cdot (-2.0) = 6.0 $\n",
        "\n",
        "\n",
        "3. $ \\frac{dL}{db} = \\frac{d((a \\cdot b + c) \\cdot f)}{db} = a \\cdot f = 2.0 \\cdot (-2.0) = -4.0 $\n",
        "\n",
        "4. $ \\frac{dL}{dc} = \\frac{d((a \\cdot b + c) \\cdot f)}{dc} = f = -2.0 $\n",
        "\n",
        "5. $ \\frac{dL}{dd} = \\frac{d(d \\cdot f)}{dd} = f = -2.0 $\n",
        "\n",
        "6. $ \\frac{dL}{de} = \\frac{d((e + c) \\cdot f)}{de} = f = -2.0 $\n",
        "\n",
        "7. $ \\frac{dL}{df} = \\frac{d(d \\cdot f)}{df} = d = 4.0 $"
      ],
      "metadata": {
        "id": "N8m80E9UF_6R"
      }
    },
    {
      "cell_type": "code",
      "source": [
        "# manual backpropagation\n",
        "\n",
        "def man_back():\n",
        "  h = 0.001\n",
        "\n",
        "  # original value of L\n",
        "  a = Value(2.0, _label='a')\n",
        "  b = Value(-3.0, _label='b')\n",
        "  c = Value(10.0, _label='c')\n",
        "  e = a*b\n",
        "  e._label='e'\n",
        "  d = e + c\n",
        "  d._label='d'\n",
        "  f = Value(-2.0, _label='f')\n",
        "  L = d*f\n",
        "  L._label='L'\n",
        "  L1=L.data\n",
        "\n",
        "  # effect of increasing increasing `L` by `h` on `L`\n",
        "  a = Value(2.0, _label='a')\n",
        "  b = Value(-3.0, _label='b')\n",
        "  c = Value(10.0, _label='c')\n",
        "  e = a*b\n",
        "  e._label='e'\n",
        "  d = e + c\n",
        "  d._label='d'\n",
        "  f = Value(-2.0, _label='f')\n",
        "  L = d*f\n",
        "  L._label='L'\n",
        "  L2=L.data + h\n",
        "\n",
        "  print(\"derivative of `L` w.r.t. `L`:\", (L2-L1)/h) # o/p: 1.000000000000334\n",
        "\n",
        "\n",
        "  # effect of increasing increasing `a` by `h` on `L`\n",
        "  a = Value(2.0 + h, _label='a')\n",
        "  b = Value(-3.0, _label='b')\n",
        "  c = Value(10.0, _label='c')\n",
        "  e = a*b\n",
        "  e._label='e'\n",
        "  d = e + c\n",
        "  d._label='d'\n",
        "  f = Value(-2.0, _label='f')\n",
        "  L = d*f\n",
        "  L._label='L'\n",
        "  L3=L.data\n",
        "\n",
        "  print(\"derivative of `L` w.r.t. `a`:\", (L3-L1)/h) # o/p: 6.000000000000227\n",
        "\n",
        "\n",
        "  # effect of increasing increasing `b` by `h` on `L`\n",
        "  a = Value(2.0, _label='a')\n",
        "  b = Value(-3.0 + h, _label='b')\n",
        "  c = Value(10.0, _label='c')\n",
        "  e = a*b\n",
        "  e._label='e'\n",
        "  d = e + c\n",
        "  d._label='d'\n",
        "  f = Value(-2.0, _label='f')\n",
        "  L = d*f\n",
        "  L._label='L'\n",
        "  L4=L.data\n",
        "\n",
        "  print(\"derivative of `L` w.r.t. `b`:\", (L4-L1)/h) # o/p: -3.9999999999995595\n",
        "\n",
        "\n",
        "  # effect of increasing increasing `c` by `h` on `L`\n",
        "  a = Value(2.0, _label='a')\n",
        "  b = Value(-3.0, _label='b')\n",
        "  c = Value(10.0 + h, _label='c')\n",
        "  e = a*b\n",
        "  e._label='e'\n",
        "  d = e + c\n",
        "  d._label='d'\n",
        "  f = Value(-2.0, _label='f')\n",
        "  L = d*f\n",
        "  L._label='L'\n",
        "  L5=L.data\n",
        "\n",
        "  print(\"derivative of `L` w.r.t. `c`:\", (L5-L1)/h) # o/p: -1.9999999999988916\n",
        "\n",
        "\n",
        "  # effect of increasing increasing `d` by `h` on `L`\n",
        "  a = Value(2.0, _label='a')\n",
        "  b = Value(-3.0, _label='b')\n",
        "  c = Value(10.0, _label='c')\n",
        "  e = a*b\n",
        "  e._label='e'\n",
        "  d = e + c\n",
        "  d.data += h\n",
        "  d._label='d'\n",
        "  f = Value(-2.0, _label='f')\n",
        "  L = d*f\n",
        "  L._label='L'\n",
        "  L6=L.data\n",
        "\n",
        "  print(\"derivative of `L` w.r.t. `d`:\", (L6-L1)/h) # o/p: 2.0009999999990313\n",
        "\n",
        "\n",
        "  # effect of increasing increasing `e` by `h` on `L`\n",
        "  a = Value(2.0, _label='a')\n",
        "  b = Value(-3.0, _label='b')\n",
        "  c = Value(10.0, _label='c')\n",
        "  e = a*b\n",
        "  e._label='e'\n",
        "  e.data += h\n",
        "  d = e + c\n",
        "  d._label='d'\n",
        "  f = Value(-2.0, _label='f')\n",
        "  L = d*f\n",
        "  L._label='L'\n",
        "  L6=L.data\n",
        "\n",
        "  print(\"derivative of `L` w.r.t. `e`:\", (L6-L1)/h) # o/p: 2.0009999999990313\n",
        "\n",
        "\n",
        "  # effect of increasing increasing `f` by `h` on `L`\n",
        "  a = Value(2.0, _label='a')\n",
        "  b = Value(-3.0, _label='b')\n",
        "  c = Value(10.0, _label='c')\n",
        "  e = a*b\n",
        "  e._label='e'\n",
        "  d = e + c\n",
        "  d._label='d'\n",
        "  f = Value(-2.0 + h, _label='f')\n",
        "  L = d*f\n",
        "  L._label='L'\n",
        "  L6=L.data\n",
        "\n",
        "  print(\"derivative of `L` w.r.t. `f`:\", (L6-L1)/h) # o/p: 3.9999999999995595\n",
        "\n",
        "\n",
        "man_back()"
      ],
      "metadata": {
        "id": "icZcPwPqiXp2",
        "colab": {
          "base_uri": "https://localhost:8080/"
        },
        "outputId": "52810e08-a186-4a73-da7a-734261b0d8bb"
      },
      "execution_count": 63,
      "outputs": [
        {
          "output_type": "stream",
          "name": "stdout",
          "text": [
            "derivative of `L` w.r.t. `L`: 1.000000000000334\n",
            "derivative of `L` w.r.t. `a`: 6.000000000000227\n",
            "derivative of `L` w.r.t. `b`: -3.9999999999995595\n",
            "derivative of `L` w.r.t. `c`: -1.9999999999988916\n",
            "derivative of `L` w.r.t. `d`: -2.000000000000668\n",
            "derivative of `L` w.r.t. `e`: -2.000000000000668\n",
            "derivative of `L` w.r.t. `f`: 3.9999999999995595\n"
          ]
        }
      ]
    },
    {
      "cell_type": "code",
      "source": [
        "# lets the fill these values to the gradients\n",
        "L.grad = 1.0\n",
        "a.grad = 6.0\n",
        "b.grad = -4.0\n",
        "c.grad = -2.0\n",
        "d.grad = -2.0\n",
        "e.grad = -2.0\n",
        "f.grad = 4.0\n",
        "draw_graph(L)"
      ],
      "metadata": {
        "colab": {
          "base_uri": "https://localhost:8080/",
          "height": 246
        },
        "id": "MzeYrYXIDHw4",
        "outputId": "7045a48d-426e-4d56-a5dc-f58fc791357d"
      },
      "execution_count": 64,
      "outputs": [
        {
          "output_type": "execute_result",
          "data": {
            "image/svg+xml": "<?xml version=\"1.0\" encoding=\"UTF-8\" standalone=\"no\"?>\n<!DOCTYPE svg PUBLIC \"-//W3C//DTD SVG 1.1//EN\"\n \"http://www.w3.org/Graphics/SVG/1.1/DTD/svg11.dtd\">\n<!-- Generated by graphviz version 2.43.0 (0)\n -->\n<!-- Title: %3 Pages: 1 -->\n<svg width=\"1157pt\" height=\"154pt\"\n viewBox=\"0.00 0.00 1157.00 154.00\" xmlns=\"http://www.w3.org/2000/svg\" xmlns:xlink=\"http://www.w3.org/1999/xlink\">\n<g id=\"graph0\" class=\"graph\" transform=\"scale(1 1) rotate(0) translate(4 150)\">\n<title>%3</title>\n<polygon fill=\"white\" stroke=\"transparent\" points=\"-4,4 -4,-150 1153,-150 1153,4 -4,4\"/>\n<!-- 134026083042320 -->\n<g id=\"node1\" class=\"node\">\n<title>134026083042320</title>\n<polygon fill=\"none\" stroke=\"black\" points=\"642.5,-109.5 642.5,-145.5 830.5,-145.5 830.5,-109.5 642.5,-109.5\"/>\n<text text-anchor=\"middle\" x=\"653\" y=\"-123.8\" font-family=\"Times,serif\" font-size=\"14.00\">f</text>\n<polyline fill=\"none\" stroke=\"black\" points=\"663.5,-109.5 663.5,-145.5 \"/>\n<text text-anchor=\"middle\" x=\"706\" y=\"-123.8\" font-family=\"Times,serif\" font-size=\"14.00\">data &#45;2.0000</text>\n<polyline fill=\"none\" stroke=\"black\" points=\"748.5,-109.5 748.5,-145.5 \"/>\n<text text-anchor=\"middle\" x=\"789.5\" y=\"-123.8\" font-family=\"Times,serif\" font-size=\"14.00\">grad 4.0000</text>\n</g>\n<!-- 134026083042576* -->\n<g id=\"node7\" class=\"node\">\n<title>134026083042576*</title>\n<ellipse fill=\"none\" stroke=\"black\" cx=\"894\" cy=\"-99.5\" rx=\"27\" ry=\"18\"/>\n<text text-anchor=\"middle\" x=\"894\" y=\"-95.8\" font-family=\"Times,serif\" font-size=\"14.00\">*</text>\n</g>\n<!-- 134026083042320&#45;&gt;134026083042576* -->\n<g id=\"edge9\" class=\"edge\">\n<title>134026083042320&#45;&gt;134026083042576*</title>\n<path fill=\"none\" stroke=\"black\" d=\"M830.65,-110.73C840.2,-109.01 849.43,-107.35 857.72,-105.85\"/>\n<polygon fill=\"black\" stroke=\"black\" points=\"858.47,-109.27 867.69,-104.06 857.23,-102.39 858.47,-109.27\"/>\n</g>\n<!-- 134026083041488 -->\n<g id=\"node2\" class=\"node\">\n<title>134026083041488</title>\n<polygon fill=\"none\" stroke=\"black\" points=\"320,-82.5 320,-118.5 516,-118.5 516,-82.5 320,-82.5\"/>\n<text text-anchor=\"middle\" x=\"331.5\" y=\"-96.8\" font-family=\"Times,serif\" font-size=\"14.00\">c</text>\n<polyline fill=\"none\" stroke=\"black\" points=\"343,-82.5 343,-118.5 \"/>\n<text text-anchor=\"middle\" x=\"386.5\" y=\"-96.8\" font-family=\"Times,serif\" font-size=\"14.00\">data 10.0000</text>\n<polyline fill=\"none\" stroke=\"black\" points=\"430,-82.5 430,-118.5 \"/>\n<text text-anchor=\"middle\" x=\"473\" y=\"-96.8\" font-family=\"Times,serif\" font-size=\"14.00\">grad &#45;2.0000</text>\n</g>\n<!-- 134026083042512+ -->\n<g id=\"node4\" class=\"node\">\n<title>134026083042512+</title>\n<ellipse fill=\"none\" stroke=\"black\" cx=\"579\" cy=\"-72.5\" rx=\"27\" ry=\"18\"/>\n<text text-anchor=\"middle\" x=\"579\" y=\"-68.8\" font-family=\"Times,serif\" font-size=\"14.00\">+</text>\n</g>\n<!-- 134026083041488&#45;&gt;134026083042512+ -->\n<g id=\"edge4\" class=\"edge\">\n<title>134026083041488&#45;&gt;134026083042512+</title>\n<path fill=\"none\" stroke=\"black\" d=\"M516.07,-83.41C525.42,-81.76 534.43,-80.17 542.55,-78.74\"/>\n<polygon fill=\"black\" stroke=\"black\" points=\"543.41,-82.15 552.65,-76.96 542.2,-75.25 543.41,-82.15\"/>\n</g>\n<!-- 134026083042512 -->\n<g id=\"node3\" class=\"node\">\n<title>134026083042512</title>\n<polygon fill=\"none\" stroke=\"black\" points=\"642,-54.5 642,-90.5 831,-90.5 831,-54.5 642,-54.5\"/>\n<text text-anchor=\"middle\" x=\"653.5\" y=\"-68.8\" font-family=\"Times,serif\" font-size=\"14.00\">d</text>\n<polyline fill=\"none\" stroke=\"black\" points=\"665,-54.5 665,-90.5 \"/>\n<text text-anchor=\"middle\" x=\"705\" y=\"-68.8\" font-family=\"Times,serif\" font-size=\"14.00\">data 4.0000</text>\n<polyline fill=\"none\" stroke=\"black\" points=\"745,-54.5 745,-90.5 \"/>\n<text text-anchor=\"middle\" x=\"788\" y=\"-68.8\" font-family=\"Times,serif\" font-size=\"14.00\">grad &#45;2.0000</text>\n</g>\n<!-- 134026083042512&#45;&gt;134026083042576* -->\n<g id=\"edge8\" class=\"edge\">\n<title>134026083042512&#45;&gt;134026083042576*</title>\n<path fill=\"none\" stroke=\"black\" d=\"M831.1,-88.75C840.4,-90.37 849.38,-91.93 857.49,-93.33\"/>\n<polygon fill=\"black\" stroke=\"black\" points=\"857.14,-96.83 867.59,-95.09 858.34,-89.93 857.14,-96.83\"/>\n</g>\n<!-- 134026083042512+&#45;&gt;134026083042512 -->\n<g id=\"edge1\" class=\"edge\">\n<title>134026083042512+&#45;&gt;134026083042512</title>\n<path fill=\"none\" stroke=\"black\" d=\"M606.03,-72.5C613.66,-72.5 622.52,-72.5 631.94,-72.5\"/>\n<polygon fill=\"black\" stroke=\"black\" points=\"631.94,-76 641.94,-72.5 631.94,-69 631.94,-76\"/>\n</g>\n<!-- 134026083037392 -->\n<g id=\"node5\" class=\"node\">\n<title>134026083037392</title>\n<polygon fill=\"none\" stroke=\"black\" points=\"0,-55.5 0,-91.5 194,-91.5 194,-55.5 0,-55.5\"/>\n<text text-anchor=\"middle\" x=\"11.5\" y=\"-69.8\" font-family=\"Times,serif\" font-size=\"14.00\">b</text>\n<polyline fill=\"none\" stroke=\"black\" points=\"23,-55.5 23,-91.5 \"/>\n<text text-anchor=\"middle\" x=\"65.5\" y=\"-69.8\" font-family=\"Times,serif\" font-size=\"14.00\">data &#45;3.0000</text>\n<polyline fill=\"none\" stroke=\"black\" points=\"108,-55.5 108,-91.5 \"/>\n<text text-anchor=\"middle\" x=\"151\" y=\"-69.8\" font-family=\"Times,serif\" font-size=\"14.00\">grad &#45;4.0000</text>\n</g>\n<!-- 134026083042128* -->\n<g id=\"node10\" class=\"node\">\n<title>134026083042128*</title>\n<ellipse fill=\"none\" stroke=\"black\" cx=\"257\" cy=\"-45.5\" rx=\"27\" ry=\"18\"/>\n<text text-anchor=\"middle\" x=\"257\" y=\"-41.8\" font-family=\"Times,serif\" font-size=\"14.00\">*</text>\n</g>\n<!-- 134026083037392&#45;&gt;134026083042128* -->\n<g id=\"edge5\" class=\"edge\">\n<title>134026083037392&#45;&gt;134026083042128*</title>\n<path fill=\"none\" stroke=\"black\" d=\"M194.01,-56.49C203.35,-54.83 212.37,-53.23 220.49,-51.79\"/>\n<polygon fill=\"black\" stroke=\"black\" points=\"221.37,-55.19 230.6,-50 220.15,-48.3 221.37,-55.19\"/>\n</g>\n<!-- 134026083042576 -->\n<g id=\"node6\" class=\"node\">\n<title>134026083042576</title>\n<polygon fill=\"none\" stroke=\"black\" points=\"957,-81.5 957,-117.5 1149,-117.5 1149,-81.5 957,-81.5\"/>\n<text text-anchor=\"middle\" x=\"969.5\" y=\"-95.8\" font-family=\"Times,serif\" font-size=\"14.00\">L</text>\n<polyline fill=\"none\" stroke=\"black\" points=\"982,-81.5 982,-117.5 \"/>\n<text text-anchor=\"middle\" x=\"1024.5\" y=\"-95.8\" font-family=\"Times,serif\" font-size=\"14.00\">data &#45;8.0000</text>\n<polyline fill=\"none\" stroke=\"black\" points=\"1067,-81.5 1067,-117.5 \"/>\n<text text-anchor=\"middle\" x=\"1108\" y=\"-95.8\" font-family=\"Times,serif\" font-size=\"14.00\">grad 1.0000</text>\n</g>\n<!-- 134026083042576*&#45;&gt;134026083042576 -->\n<g id=\"edge2\" class=\"edge\">\n<title>134026083042576*&#45;&gt;134026083042576</title>\n<path fill=\"none\" stroke=\"black\" d=\"M921.28,-99.5C928.78,-99.5 937.44,-99.5 946.67,-99.5\"/>\n<polygon fill=\"black\" stroke=\"black\" points=\"946.87,-103 956.87,-99.5 946.87,-96 946.87,-103\"/>\n</g>\n<!-- 134026083041040 -->\n<g id=\"node8\" class=\"node\">\n<title>134026083041040</title>\n<polygon fill=\"none\" stroke=\"black\" points=\"4.5,-0.5 4.5,-36.5 189.5,-36.5 189.5,-0.5 4.5,-0.5\"/>\n<text text-anchor=\"middle\" x=\"16\" y=\"-14.8\" font-family=\"Times,serif\" font-size=\"14.00\">a</text>\n<polyline fill=\"none\" stroke=\"black\" points=\"27.5,-0.5 27.5,-36.5 \"/>\n<text text-anchor=\"middle\" x=\"67.5\" y=\"-14.8\" font-family=\"Times,serif\" font-size=\"14.00\">data 2.0000</text>\n<polyline fill=\"none\" stroke=\"black\" points=\"107.5,-0.5 107.5,-36.5 \"/>\n<text text-anchor=\"middle\" x=\"148.5\" y=\"-14.8\" font-family=\"Times,serif\" font-size=\"14.00\">grad 6.0000</text>\n</g>\n<!-- 134026083041040&#45;&gt;134026083042128* -->\n<g id=\"edge7\" class=\"edge\">\n<title>134026083041040&#45;&gt;134026083042128*</title>\n<path fill=\"none\" stroke=\"black\" d=\"M189.91,-34.21C200.76,-36.06 211.28,-37.86 220.61,-39.45\"/>\n<polygon fill=\"black\" stroke=\"black\" points=\"220.16,-42.93 230.6,-41.16 221.34,-36.03 220.16,-42.93\"/>\n</g>\n<!-- 134026083042128 -->\n<g id=\"node9\" class=\"node\">\n<title>134026083042128</title>\n<polygon fill=\"none\" stroke=\"black\" points=\"321,-27.5 321,-63.5 515,-63.5 515,-27.5 321,-27.5\"/>\n<text text-anchor=\"middle\" x=\"332.5\" y=\"-41.8\" font-family=\"Times,serif\" font-size=\"14.00\">e</text>\n<polyline fill=\"none\" stroke=\"black\" points=\"344,-27.5 344,-63.5 \"/>\n<text text-anchor=\"middle\" x=\"386.5\" y=\"-41.8\" font-family=\"Times,serif\" font-size=\"14.00\">data &#45;6.0000</text>\n<polyline fill=\"none\" stroke=\"black\" points=\"429,-27.5 429,-63.5 \"/>\n<text text-anchor=\"middle\" x=\"472\" y=\"-41.8\" font-family=\"Times,serif\" font-size=\"14.00\">grad &#45;2.0000</text>\n</g>\n<!-- 134026083042128&#45;&gt;134026083042512+ -->\n<g id=\"edge6\" class=\"edge\">\n<title>134026083042128&#45;&gt;134026083042512+</title>\n<path fill=\"none\" stroke=\"black\" d=\"M515.16,-61.83C524.82,-63.47 534.13,-65.05 542.49,-66.47\"/>\n<polygon fill=\"black\" stroke=\"black\" points=\"542.09,-69.95 552.54,-68.18 543.26,-63.05 542.09,-69.95\"/>\n</g>\n<!-- 134026083042128*&#45;&gt;134026083042128 -->\n<g id=\"edge3\" class=\"edge\">\n<title>134026083042128*&#45;&gt;134026083042128</title>\n<path fill=\"none\" stroke=\"black\" d=\"M284.26,-45.5C292.05,-45.5 301.1,-45.5 310.75,-45.5\"/>\n<polygon fill=\"black\" stroke=\"black\" points=\"310.99,-49 320.99,-45.5 310.99,-42 310.99,-49\"/>\n</g>\n</g>\n</svg>\n",
            "text/plain": [
              "<graphviz.graphs.Digraph at 0x79e561120950>"
            ]
          },
          "metadata": {},
          "execution_count": 64
        }
      ]
    },
    {
      "cell_type": "code",
      "source": [
        "# an example of what a tanh curve looks like\n",
        "plt.plot(np.arange(-5.0, 5.0, 0.2), np.tanh(np.arange(-5.0, 5.0, 0.2)))\n",
        "plt.grid()"
      ],
      "metadata": {
        "colab": {
          "base_uri": "https://localhost:8080/",
          "height": 430
        },
        "id": "rbjLMc5uuFgJ",
        "outputId": "807c0ddb-c59a-40ea-dc2f-0684864e4da2"
      },
      "execution_count": 65,
      "outputs": [
        {
          "output_type": "display_data",
          "data": {
            "text/plain": [
              "<Figure size 640x480 with 1 Axes>"
            ],
            "image/png": "[encoded data removed]"
          },
          "metadata": {}
        }
      ]
    },
    {
      "cell_type": "markdown",
      "source": [
        "![artificial_neuron.jpg](data:image/jpeg;base64,/9j/4AAQSkZJRgABAQEASABIAAD/2wBDAAYEBQYFBAYGBQYHBwYIChAKCgkJChQODwwQFxQYGBcUFhYaHSUfGhsjHBYWICwgIyYnKSopGR8tMC0oMCUoKSj/2wBDAQcHBwoIChMKChMoGhYaKCgoKCgoKCgoKCgoKCgoKCgoKCgoKCgoKCgoKCgoKCgoKCgoKCgoKCgoKCgoKCgoKCj/wgARCAF4ApMDASIAAhEBAxEB/8QAGwABAAMBAQEBAAAAAAAAAAAAAAQFBgMBAgf/xAAaAQEBAQEBAQEAAAAAAAAAAAAAAQIDBAUG/9oADAMBAAIQAxAAAAH9UAAAUeNP05kJpogAAAAACrLRieJvGWtS0AAAAAAAAAAAAAAAAAAAAAAAAAAAAAABjqb9HGEmX1ZGnFAAAAAIksfmlluRkPq4+osxQAAAAAAAAAAAAAAAAAAAAAAAAAAHxW2fHMhJySCnCCnCCnCCnCCnCCnCCnCCnCCnCDTaalzPMVbYry/rP0/UflH6v6fj+M5E159cxXdrXMlTzX6KyXa4078+mze09yWt35g1zAAAAAAAAAAAAAAAAAAAAAec8RjO8ZjlJrPMvENnzz1svxZYiczqfcxHXXsPrdWWy/SNJ5QRjUMV5mbfyhiVqfcvwNJjZOwnqz+j+a7Dzlb/AF1zlrmwLSxdL4uRt7gubk3ZKi29a5BcgAAAAAAAAAAAAAAAAAAAAcaXQMyl62pM/MtBAk9ltPIsEU8if6VM/uqm6WqSAnlpvbhJnbKwVUfNylrZ/wBtHnpayf0ruHSx85du3MNI3b88kG374ywNHFrqg1Mn841kXbPaGwFAAAAAAAAAAAAAAAAAAAAAAAAAAAAAAAAAAr5EiDw6TkWV1xkK39Bamer9hTxR0P6JPMxF2FeZ7ZVFvYCgAAAAAAAAAAAAAAAAAAAAAAAAAAAAAHlZy1aI/up3QZEvZWd82YqZp8OnzmykCf1wG4AAAAAAAAAAAAAAAAAAAAAAAAAAAAAAAAABDi2sPy9YPSwY1X8rbyoaR2spJFh841Dto8j0cuEaw5HVW2Op6OmSrqustqyxtazXmmRm2kGa80ys5fs8aVmdJh9DFAAAAAAAAAAAAAAAAAAAAAAAAAAAAAAAA+M7pY/l7e0MDUe7lCuTGQlK2dZ0RJcoBElnLMax0kGdkb3UsRx0AAKQ+7iHMAAAAAAKi3qvoswAAAAAAAAAAAAAAAAAAAM3ZR+0nTDjWV1WV7zhw7ffqzVbnL6rncd3+/ntPrvHk4VsmTW6m07Hzd56PI0HpnHvlNXyoc6MsafKXFGa/wDP/wBCyBbw/NKVVr8VJcqWyJDN6M9IRN+frDG5yepyJsQAAAAAAAAAAACuLFB5FmfJ9KOWWIAABX1T6iot+kDlQAAAAOcSesCXPaHPaHtKvy1zBpxxrNaWnLjG7LIGv5dMAWmsy8M2eIvLwznLTcTM2V5Fj2l0flcsTvBxymxyJrgAAAAAAAAAAAMXtKkyl5xtypvM3cyZ/QVV7bUajGbMAAZnTZrtNKfjvG/sTN9i+Yi/LgAAAABFlGe0Oe0PaM3oImU36prnIM1l9RzPpRX5XTqu2k9FoAAAEelaE9AAAAAAAAAPD1mhpWaGlZoaVmhdSM6NL85wXMzNDSs0NKzVGfoOax2s6zVV1i5X8m/WcHrid56Kztl/s0vXM3BwucJpC7Kc72OR0xjdbn+ZYX9Be9phNVj/ANC43I/GHifo/oftkv8AMdr8Px3Kmebja9KYXKmFyphcqYXKmFyphcqYW33TC5YiZmasdNgAAAAAAAAAAAAAAAIsocaDS5rtNLBnYTjb+8xXhtoOA3oi3QoJ1iKiLoQBElhWT+gz1zTc+0h7Hh9cb+c0/wChaD6vozujPm8QxkAZzM0bIzpLaVl0moY62qxlZjQr2YW4k0TL+1eyMxJNAN7AAAAAAAAAAAAAAAAAZrS0PWXyNJ5XyqtKA0IAAAAAAM9oc9oe0UF/mI0Hc5UAABR3jMooepSU1ZrORTR9MKebLW5mVeJKHnohU9LJoF0AAAAAAAAAAAAAAAAA89GX1Gdue0kjjQAAAAAAM9oc9oe05UHLT19Kitz01HHOx+mtRJy3fM0XxQQDSTMbYW6NlPg1zz3z8gAAAAAAAAAAAAAAAAAAAAAAAGS1sbpJLI66AxQAAAAAM9KgfXrzMuDy3OctO69cv96ZVNX6lJlPvULchM0aMpNvh56ceYAAAAAAAAAAAAAAAAA5HVW9CchTQhV5eufQAAfj22sSkk6zn0nv3lp9XQ5UAAAcDvUVln3zD0ZyoZuUuIUf2d7KNRWdtvWfHmZ0m0/csuGfudXSjxecAAAAAAAAAAAAAAAAABBneGG+uv0QrO8oIvsPbqke2dZGoOdfeQ5645SwAV9gszHumdVTaQqs0bN+F5TdrgzvTRI89OVAA5c5Ij/XYcXYRPqSt4uyQAAAAAAAAAAAAAAAAAAAACDwtQBW+2ME7ZXprj5+gAAAAAAAAAAAAAAAAAAAAAAAAAAAAAAAAAAAAAAFIdqztogAAAAAAAAAAAAAAAAAAAAAAAAAAAAAAAAAAAAAAAZg79O1sAAAAAAAAAAAAAAAAAAAAAAAAAAAAAAAAAAAAAAAHmOOt72lAAAAAAAAAAAAAAAAAAAAAAAAAAAAAAAAAAAAAAAAFdNDoAAAAAAAAAAAAAAAAAAAAAAAAAAAAD//xAAuEAACAgIABAUDBAMBAQAAAAADBAECAAUSExQVBhARMFAgNWAhIiNAJDE0JTb/2gAIAQEAAQUC/GWV7tMrL8/ZI8zVafrDBL7r1SkromLSqnLLPhxVsg1E2ufb51jaXX22hYGnTeSadN4l/wCb3WqWIsG140C1ufqyR6eJUv8A6H530iZ4Y9dirDql1WGyf0GlecVRXkW+XvaKV7grncFc7grncFc7grncFc7grncFc7grncFc7grncFc7grncFc7grncFc7grncFc7grncFc7grncFc70ODM7UA17bZybajZdX8zP6xyR5yR5yR5yR5yR5yR5yR5yR5yR5yR5yR5yR5yR5yR5yR5yR5yR5yR5yR5yR5yR5yR52leTeIgwOM0VZnZZtRXuRSgDD51mEumobaLegLHqKFTjhjZDp0uy5dRVdLzW9fxUd+TvaKUTYIxX32QUYFbQfuTWrrpxpWSkEv09teOhnqL8Ll0Yve+vKUDAbzsgJ8JO3lgZUYnFlLDN8YSfSl6BlZiOLXrXmy40R3TmZbkYqq7N+lSKXDWNcYFBlIKqTKqg2LCXqXVK2m6zfJu3qfWCbiOKhQUUb4qsMF5na9t/ykXqxtQgo2xPqMRlaU1tJ9aTETH6rTExMfLFpBB9CSQ9FxVhWIY6EkU6SOZdfibLTmClP1A0vB4GpbnLL8nBKcCAacoN1LwdRTpyNA5+ML84l1LwWEadLdAhK1X4WyqW51Uohcq3GjSOGvlNZXmlovX6CnELJtFYuWlPMrAQzY4qk/B70sKw71JXz8Qjka3iL1Hqt6nQgZOVl/WNy0J1eq2qU1EsarYs2DIWCC2H4MQc1sIsEjy3i5SG2HUtNj43G9T+m40nFzii2bmqFczObWJ7y3+viT8HKL9Ql5n0mTmWE1qKh8nFas0XU4GPwgwuPAl4p/CDM15diVpUZKXjqRZa9a15/EbqB8VzTQHNpFBloTCigkCLPF+DN+vTscHRX4uqpFupXiOhj/RfTq1Yjin/AIz8XU1i3VYUdSVGS1LfU08urnXNHzkbIudrtbO0BnJ1NM6FqmcW0DlNsGLVtF6/LdMLLjpeBioPK0rWnLpy6gHWa0imcqnByR8AxUH53pF61vYM+bjoVI4HnsVQXV9i9K3rfV8u1NhcF4n1j8BtWLQU1gyK8EGw6QpkkBrT7ZKVJSy59bKjImxeyua7DPu2PYLvxJBUJk8bBllxrB+iXQRWlotUZxkL5wcdmPPai6PEWhuB+vcMWXRUBVZb3dmv1KWuZ6tL4jYnIQqq41g+XNadbZdaUVq9ddg3/Op/yiGyTb9yKBVi2wSXMwdl1ajPc+43nSii0DzxB9neFZQwSVML6YmJjZfy7if9KbB2+y5LmHHtK11rF2FvY9f1zRfsJ8O+zCi2sVlcXnymkmjotsLDCwVgiZ5CvWagijq2x7aU6rFdg6uZY6ziImu5BW4t/wCXiD7PgP8Azn/o8QHvRLXrjXBf93irPEOtlsOi2MbBXPSIwL4imFsBksYtRDJthit5VJMt5Qwg7msxauv/AG+IPh4/ztt7t6xeqioVB+XiD7PmxW6tXWM9Up57L+XYZ/rxXhL1GPWJV6zyZCeLL1tMCOTtqfPqyAnM2JRQWKKU68Y4HWRGlQVIGJL9fEn9htsSsWaDVUrq4iZM+md0U4lXAsz9b7HSp6peVkv6PiD7P5C/xd15qoBWNjf8fiLC7ZFhrv2tw/iNCldSQrCuTETARUDTKAHQv06iOPZf2PEXoBPci5Wt2IaFbeKyLYtjoVbbRVjbAUAFnXlYnZ/Vtf5mf6XiD7P5bz9i8frH0b6s1BExMekYySo44Y9s5KhDoRWHrv7GyTq8sfWHZsuvepduYcbLYqV2KNNUQZ1V4XqiYU736h/y77NwIus2YEETh7Spjmii9NWUhFPaKcQpzxB9ny9opVscMJ6cvO1n0XrF6a2ZB5Or3MT2346w39yy4bWrEVjJ/WIWDWfq1f7nMfVG6ro2iap/zs8CrEsigyjImwGLQNJ2itYpaL18kSWKLN1Ie7rMDYr4g+z/AOo2V6ObnWq1SS1bI1Nd34XEucbA/OaxM+7FYj+pP+u5GzuRs7kbO5GzuRs7kbO5GzuRs7kbO5GzuRs7kbO5GzuRs7kbO5GzuRs3O0ZqhqvELhb6GZtXy8UpjZEkMglfIwq232tvW2wBI1NUzdcZVIAzJiirOXC3N9eFuQhreo145niHQ8RT+IPs9oi1daksfcREVhq09VmhYuIvVkzrCZ1hM6wmdYTOsJnWEzrCZ1hM6wmdYTOsJnWEzrCZ1hM6wmdYTOsJnWEzZvnHbX7EzHwbABsjGOgqaf8AQuOM0VCitfj8lmKMwwoFi9darW2zAQ0nVGzFNetS7YDX2HksHkUxhIB70rWlfEH2e5aUzwvX/ByuvlwHb2+LUIdGP2bGrU3nzq9R9JQCLaPhU/2bnGQbW+w9d7nrvsbT3rVUF4UT9zxB9n2Grq4wEdQiJaKD0NeHVexEXcZIUowP3vXVMi4toIZGGinLVLZ3tRbleu6L6wMpa1C5cgqVMUaRQGEsW5DsrcYNh8I1/DufNY1Dn97xB9n8t4Saa0A4EH2LrnExRKZEVRwyzQC2OCGOs6H1VMs4cZQF65oXPXuq2RWypC2olMVsu5cXTTDfIt3D4TdCkiK5YODJj1jVhMK3veIPs/k3/kbb3a0rWfj9VPTMf0fEH2fC3qMemra9POxK1vQ1Lk8rTFa2ZFWnym2FeIXNRgP9DxB9nzYzLjUR6Q9Y0Ym3brA2cbCxU937lPNmG7XVaubnVORnXUuUCHMYaZs2ai5iuBW+Sj/y3P6HiD7RsG+lDrVZWFj65LNhAfrw1cUCcLNLqhvVxJIgnLLlo4sqfg5DN1eWwqzZQ913wELq4/18icVDhUZ6Jn3/ABFaI1SCxLm/APEmzdE5ptSOuqGcuttWYtHuPPDVxRMly+e2MTnqGrNpeHFO5i9WW6Asy/xJc/iAd6gy9eLpI2QuP4Yl6joq4BqYaDMqMibDjLIl4naqcsd6kp9LLZWzB1qwlstWL1lRhGymwCxb2SkoKkundxJEa30vfcQloDaccEU2cemj46h27ZxGAe9bgRJRdk08xfbREaqPhmgVYpoZ5xvDVeYkpeyWrAwcG25NKtaZWj6hrSvfXNG7h5lOXaEWXEqH6GlANV6V1bO52FgdiobImJ8ynELL7dSJ52wZwerHx/VNK2sQIy5yR+lh0vQg6ErUdKUquGsFCIuSOk0uOt6/DTi+uaWArr2gqnKJNZHlS6fWGtsVtcwFVtgaQNXAaHy9q0pMl3VhDqIfsGTXNk6ZH1jUBjOzK4PUojylK0r820qFqq2vVWJ5NJLtSqkurJzDAKgy7i0RFY/D3GhJgAqXYF/EH3RpCTSIY/4hsX6q4gjahfxDYPyImuQhb8RddJc2vSGkP8QYbK8ZJQSYfw+Z9IIYu2uuAa4fxB5WrgR0qOnzP//EAC4RAAEDAgQFAgUFAAAAAAAAAAABAhEDEhATIUEEMDFAUAUUICIyUfBgYWJwof/aAAgBAwEBPwH9KLJqampqampqampqLdsek8FRdQSo9JVT1Xh2UK9tPoJQRWXye1ib1G8Jc62fxT26R11iT2euilWnlrHbqsFxcIojtC7YRZLtRVLi4uOG46tQ0prA9611ud9RnORLNipXc5f8E4mom4/iXORGnuKg96vWV7i1C1MIQgggggtQgjD6+vUiPFIqO0UVFTr4VrFdohavUscmwtNyC03IfxeObHhKb0TqZiQZqSotRIhDNQe6eg12yjmxhOEEEeEo1EavzdB8T8vTkTt4NcEx/fDcTwCcnfwC8rfxW+FDhWqyXFZmW+0kkkkkkkkkvSY73fClxTmNgc5XrK4qpcXFwilxcT2a8rcX4rS0tTC0tI7ROTvglNVSRKesKpliUhaZlL4PfDMWIMzczFM1TMMxeveTyYlv59zLbMDWIioK1Iky29/qampHwSSSSpP9t//EADoRAAEDAgMEBQoEBwAAAAAAAAEAAhEDEhMhIjFAQVEQMDNxwQQUICNCUGGh0fAFgZHhFTJSYHBysf/aAAgBAgEBPwH+1DPBalqWpalqWpalqWpak6/gq1R4MKg8ubmr1fyRqQJVyxEDO7udai+Crii7TKuKvQMoOkq7NXou4IvgSixrzqCzo/6qBtCDQFYEGBWBARu5aCrQrQo4KFaFCDQFAVoVoVoUdEGlmNiBBEj3UWmmbmprg4SPctSq2mJcr2zEoVGHihWYeKFdhRHt00x4eMvclak5028QvN3XLzcwPyTaLrrnLzd0R3fJUWFgzT2Z3N2pj7uhtIkXHIK6m3YJ71ju4LHqc1jH2gCvVv8Agn0yzb7i8pouqD1ZgqkMNgNUauSc8vMu6C0jaiCNvQQRtTKhblwVSlpxGbPcNMWDEP5IkkyVQjPn8UMO3hxnZ8uP6Lyl4LcvvIImmT6yI0+C0+1F2fKPojY86oyAP7dDX2U2958FUZactm/tFxgKs7VA2D07jEdB7JvefBM1sLeWf13+hkS7l1R7JvefBUnWvBT22uLd+Zkx3VHsm958Oin+HU6gxKm0ryukPJ6pYrgrgrgrgrgrgrgrgrgsQTG5082u++PVHsm958Oj+I1KDiwZhVajqrr3dJKvVxVyBylXq9A57nQOuDxREZdSeyb3nwVAa5PBHP0CJVgVuatCtyhWhWhRulXUMT7nqT2Te8+CPq6ccT/xCiS24Jvk+cEo0DOSFAkTKNDkcl5s7nvVN9uR2FVKdh6hrW4Ic7mfBPcXm4oVyGwsczMLHdn8V5w6IWOeSx3SDy3tlSBa7YnUsrmZj0sMU86n6J7y859FodTEDh4rBYCGniU2mARkjTETH3KwWAgcz9N9BLTIWKD/ADhRRPEj7/JW0v6vl+69UOZ+X1WMdjMvQkqSpKuKn/Lf/8QASBAAAgECAgMKCwYFAgYDAAAAAQIDABEEEhMhMRAiMjNBUWFxkaEFFCAjMDRQUoGx0TVAQmBiciRDU8HhY/BEgoOSk7JkovH/2gAIAQEABj8C/LISW4wircgHht09FY/CxeqRa1iJ3uf6UzY5sxUk2XuFQDFxoqzHKCrXynmPpkjiJVWbfuDwVrGTMzHDLI2jzG+9FTSPO6yyZnDX2D/YrAREaXFSx31m3JtNSxuuSaI2Zb39vNDIqLh1TNc8Jj0VjDjDkxby3MX4j1CojibCQyqSBya9lYa23xhPTSonCZSBXiEcE3jeUqUyEcu2+yocDFHIsmUJLmQjIOWoByeLG3bXhDmyR/L29cir2108JNr7DzGsP42IljhbPvTfO39vuMUyPo5o72a19R5Kldmzyym7ta3tgs2oDWa49K49K49K49K49K49K49K49K49K49K49K49K49K49K49K49K49K49K49K49K49K49KZXS6A6mWtJEwdtgWr6S3QBRjl1Sjv8AbOuuLXsri07K4tOyuLTsri07K4tOyuLTsri07K4tOyuLTsri07K4tOyuLTsri07K4tOyuLTsri07K4tOyuLTsri07K4tOyuLXsp5JLtc3tsFQaNQsevYNyO3JcncibRmaEXzIDasRBHpEzDin/DUOF/ms2jf4bamR76MIu9FY+ESFIo7ZTty3FGSGGfSDXpzq+NYdZCcpiubctCGDVHIl8vMa/jIZllv6wpvUUTCSaDR57R/irLFDNHh2XgvyH2ozHYBes7Q6NDwTmvf7gY5RdTW9n3vStEbQ38zcSWKQxSrqva9SYnESmR8utrWsOqp8WgOjOpOnnNST5uGALWrFFm1T21c1q0UuKJTkstu2sOiyFXWLhAU0s8mllYZb2tqowrimEHu5dduuo2gcxSRjKDt1UZppTLJa17WA9msb5dW3mp3SLESSAX051fGocTmtNGoYNz9FYjHGxlsbD3bclCVi2nK5tJm13rwdpCQWDXtUaQXVHQ3W9Shxfe3rB6PemSRbkVBhYrpFISz69tYc4e6rI2RlvqNYsy3NpWsL7KM8hZpQpytm2WqJm2lQaYSiXEEDi0GpaxMdmVFIsrG9qw4BIvMBcVhmguudsra9tTnEQTzBWyqF2CsSrrIEDDJn22vSfvWpVkvkyA2vU4muyRHIiX1CvCGHuTGi3W/JcUMQC2nCg570DVjsrlMP/rVx7XZG2MLVoWxLGK1rBaw6PJeOL8NuFUjhvNyDfpbb01olxTCD3cuu3XWGZDlWG+qo583BBFqdL2zC1YePPxTBr222pd8UdDdWHJSy4iYysvB3tgKl319I5fZso4bPfURmtz0iXvlFqeWCfR5+EMt6lbSF9Jz1FvrZHD1C2a2jbNs208mGnMWfhDLcVJE7Mxk1s3TSibFF8pBG9p583CW1rU0uHmMTNwtVwamTOTJLwnNeL5rb0LmtQG7mTXHyrzVdTceSullRM2zM1r1diAOmlzuq5jZbnbugSyxoTsDNa9CNpUEjbFLaz+SM8OzlWrr5ExfK+IxUgjj/SvNWGwYN3lZY+u1YIDU6Sqif7+FTYfDuI1gAzNluSTUmkAEsTmN7bNVYybEhJZ3U5mt2CsF53IxIkkNrluaoIYbaad8oJ5Oc0MJiGEmdM6Pa3w/I+kh4XKOetXxG7gsRDGZRh3zMg2kVhMVHhZdDh2uVYWY9QqOZo3ihivlDixZjy2rwsDtzJ8q8KFP65t10+GkSRps2dy4sLe6OeoI4opsPEli5cZTq/CK8FHkzN8qwFuSNyfyRnj1SfOrHU42jyTPBKYZWGVtVwRWjjudeYk7WPPuqCSrI2ZHG1TTTyyGWcjLe1rD8k5lOVxsNZX3sg5PyS2jffUC5tW9N6G/rMTqqMRtqN71bNrvamIfM17DVWcnVW8N65mGw1o5dT/P8jvatWy2qly5eDqzVvmXNl2CusGsLm4NQ8+upj+upf31HbLs1Xpc7Je2wbljWjm+Dc/l+elUH3dp7K/hME+X35jl7q85i4oeiKO/zrzuOxjdT2rXLiT/ANU1vcTi16pTXmfCMv8A1FDVrjgxK/pOU1lxSSYZ/wDUGrtrMpBB5R7X4FWYXrei1ZAN7WS29oELrFHKNuuittRrJl3tb0btmGqskutOR/IGkbfHgoutjXnG8Ug91eGfjyVeKMZveOs9voCrqGU8hrP4PlbDPzDWh+FCPwlHoidkq8A/SrjZ+QrHZRjja4HdQYctHDeDwGkHDkPBj/zRkJMs54UrbfSFXUMp2g1nwV5cN+KA7R+2hJC1x8vRSGM2w8e8/e30HphHKfNTcW3M3u+yt+tSYPAyFYgfOy83QOmhHCuVR5MxL6oeHqOqgy7DrFSRo13jtmHN5DQhvOKLkeQ3hDC7114xOSQVpI+plO1TzegYx8a50adZqOFNiC3ppEXU/CQ8zDZUU/vDX18vskYLCG0r63f+mtLFCLKu7OmHmEEUJy3y5ixpFxGjXEPJo1c8G3vVAGx0OLSRshC2BXsrw3+6ov2ivCAw8whW63bLmOysWJwr4iAhdX4r7K8ZkxCzBdbxZLdhoYfCSCJQmdpMtz1VjVaQafQjLIB32oSj1o+at+vZSh2zNbWefcxHUPnXj2FF/wCtGPxDn66WSM3RhcHyrg3rwbByAtKfgNVattSYLFSRQyjg+buG769bj/8AD/miYJ8O55mjt/egZlyTrvZF5j6PH4fkjnJHUfZDSkXOxV5zRabfYiU5pG6fInfDwieKY5rZspU0skzI2IWTSKh4IHu1F/BQ4VFN2O9YnqrwooTXMd5rGuo1baFArFzRYcSxSEWGcA7KxRnITETsG1bFtsrxaTDrCG1PLnv2ChicJGJQUyNHmseupsRiYwiugAAa9uipApvBGdMV5nI3cR1D57mg/wCFnN4/0tzeSYo1kzTERhl6TR0SPGGYvlfkpB7uGv37gmw+rFQ60I5eirtqnTVIP77hNqdLMMqaTMdhXnrChUk/iFLISOai7bBTrJDKrIRmGrVfZuyR/hCKfnuY/EGN8saqrMovblJPdQI2GvCa84Q93sgnbBhNnS/+PTFW2HVWTDoEXbu4jqHz3GjvZ9qNzGldtUg3rjmbyPB0PJnMp/5R/nc68L/fcZ3IVV1kmpvCGQxabgp0c5693wmqQu0mIULGRsy27uWomWJkSCPKok1a6M8GHRpGfNlHLr4XZrrFuYGEs0gILDUEA/3qqYMiXjUKG5er5GgGLj9rFflUwzTcWv8AObnbprKMx/cxNYzCKj6fETNdiN7lJ236qRBsUWrwj0Iny+8jTE6+QC5rxkyDQ2zZqgR5LNNwOnc11rlygi4ZlIVuo8tOImOZdqspB7/QSzH8IpFbjDvn6z9yxHUPnuun8vFLnH7ht8iSVMxdr8I7L7mBf+pG8f8AfctPOBh4jqWxOkbnPRXrI/7TR0bPKeZVrxifUZTmC+6OTcIOygkS5V3HkVQHbafK8KTc8gTsH3meVL6acCAdArA+D0/mOsdeD0y79ZM4PMoH/wCVg10w0MslsoXo56dJWyxkb43tqrwZhQBkB0p6hWJkgPn5Nb3N7VjIcRKHEapay5Rr8vBYXkd87dS/c8R1D57seJG3DyB/hy+VDil24aQSH9vLVxsrZSgNGrsQBnrYPRvI/BQZjSNJxkpMrfH7zomYqQcysOQ1HLNi/PRG8eVLKOsUZsRIJJiMtwLADorwdeRBlkN99s1U0WewaxBGukxMeIXxhVya03mXmAvTlnzyOczueWvCFpE3wjtvtury5j/RiC9uvcWV2llwchvlznspJI87IwuDpW+tcGX/AMz/AFr+FxWIifpkJFBZxaePeSdY9GBLIiE7LncxHUPnuZmIAHKalQaw6ECsO+05LeSyuLqwsRRwUp30XAPvJyfTcgKZbI2Y37vSLg14vhzno5F+P30looyTylasBYboKxRgj9I8vwjJ/q5ewbjwy7G5eam8HYzUhO9PMfofIEJffk5dmq/Nfnpoi40irnI5hQmgbMh5aLyGy02ZmBXhLkOZesUGU3U6wd1mfbpHXsYjc8HB1GYEuTlu2rYKJiOw2IIsQaxHUPnuQYXSgQpGzk3Fr7BUcCOXC8pp9K1ljldB21xT5eeg8TXXyASBcbD6Y2AF9v3X7Nxfd9a+zcX3fWvs3F931r7Nxfd9a+zcX3fWvs3F931r7Nxfd9a+zcX3fWvs3F931r7Nxfd9a+zcX3fWvs3F931r7Nxfd9a+zcX3fWvs3F931r7Nxfd9a+zcX3fWnMeFxOHa4841rDXQjfCnEdMYsaxpIKk4p9R5Nm7Dl9bLZYwPxVFHM+kkVbFufdwsCiyRq2IPSxNeFcU53qto+oLSRu5gMm+3o4GY/wCawwxDb8taO/Ka8LYnFDNAz5PgtQ4dZWhN1tlH/wBdw5cWoXkGi/zTZcWo87J/K/WemgJXztz2tWMdv5MaIvx11j8V/Lml3nSBy1iOofOiGFwdRBrwiTh4jDGQirlFqsNQrELfUJnNvjuSKsbyAi9lr1Sfur1Sfur1Sfur1Sfur1Sfur1Sfur1Sfur1Sfur1Sfur1Sfur1Sfur1Sfur1Sfur1Sfur1Sfur1Sfur1Sfur1Sfur1SfuqIxrJDt4XLQDYdm/Umz2Ho50DpzGssSKi8yi1Y9f/AJBO4ZJL8wUbWPMKOJxVjiX1W5Ix7o3XMetVbLm5+qleRTnXYysVPdV1itzgE2PWOWoNGgZQ+Z9dtmz4XqPTi7JsKm1ZkitrvlB3t+e2yoJERTGgJ/5uc/DdKg3uzN2m+5nkU5rZTZiLjmPPQVAAo1ACsR1D51v2ANr2vUk7bZ5WfcnmitpNO/xF6y6B70S+uVtvR6JIjw32eRofx5c3lKZUDFdl61exccnvhJB8tzxhEw2VNUau18vT11wcF31swXfRSSaJUPIhtUUA/AtvS4jqHzqObSMjKuTUOSkjjFkUWApmOwC9Q32tdu0+hnBlkjjjOUBDa9Y2EyMWiAKvy1mViGsusGsPv5BmU7GrFBp5VjVtQVrViozI2eFgA+w2pCjFTnXYaO/k4vNwun5U2UgG207KLx4yeSddeq+WosWrHKBv0vqIqXGO12fgrfUtGcYmUyqMxBO97KwoSRo1kjubUYNK8iGPPvzcjX7FwkvJKpiPzHkStHMzAADJa1un0+I6h892ULw5PNj41HGNiqF9C8uFaPznCV6xGme8s3CI5K0LyQ5Ra1r66hmgKZkuLNWMOHMfD1h6mjd7ySnMzdNKsrw70g72+ulniKWy5WDU8d7Zha9aBmhVbW3t9dQCUroYxwRytU8BI8Wfg861oJJItHsLDhEVA620caZbVp9WTR5enb7FZo+MiIlX4VHKvBcX3LGpzMgUu5Y69vNbot6fEdQ+e7hoPww+ef8At6YlVAJ29PtCfAtsTfxftP3LEdQ+e4zubKouTUmLk4eIbN1LyeQiFt82wc9SIp3ycLdJY2AqNy29kIC6tvtWPFwC80Gu3vLyikljN0YXH3HEdQ+e4mATg8Oc/p5qsNlII3SJPxSNyU0LYhcQmTNmA2V4xFMsYPAjy37awRZ9G5DagAcuqseIn30eUrq6Kw/i5tJOQB0c9ENiUw0Q2E2JasWplBMdxnUcIVgbSXzug2DUOapUgkEMcWq+W5JrFo5GnhHDA20uLaVSuomLL/f2nlPqU51f6bfT7jiOr+9b0Zpn3sae8aJkOaeQ5pG5zuRSiITootoye+lleJUjyFbKdleLxwiQDgyZrdtYSVRp3jvm12vesW7rZXy5eyiZOJjvovjU0hwy4jPwWJG9rGrKADLsI2bKwkbQ5TDKt98Ng5aleCLSxy67ZrEGsW7gaefYgOyjEi3ksur2m0cozI2o0MBipM39KTnHMen7hMCdbWAHPrrxzGccw3if0x9fyDJh451WIf0tvx6ayYpM0k+/e+0c1CLGkvhtiT83Q1Ag3B9KF1yTNwI12mvGsfZp/wAKfhj/AM+RDCumCk6zHtPVTwDPmiAuXqdrN5k2ahdJRGf5mXe0q2Z5G2IguamaISCVdRFta1gzJpkJcD93X0UY1SSVxtCC9qfEC5Vdo5RS3SUIxsJCu9PsdnchVUXJNOsLb5NoIINTASLeHjP00JcO2ZDy7g0rWzbABcn4UH0t9uoKSRbbcclK6EMrC4I8psJ4OOscbPyJ1dNCDRh1vmJbazc53CrAEHkNZvB5zxcuHc/+prRm8U42xvqPoi8jBVHKTWXwcmWP+vINXwHLRe5kmbhSNtPk4Drb5VjNKwTNlIzG19VeE2XYW1Vq91f7UWmNg8dlY1jdCt8qa5By14OyMG84o1dVYtJ2COXzDNyivCcycUxXKeev+35+xwrk5AwYjntWP8IPsd8q/tFYjEy/8RKzG/N/u9YUQKwGIl2hb5Adn9q8Smk0yOmdGIsR0U+ILXfLl1/hFeEJZrhcTKdY5hWCwWFzpE4tpFGa1qxOCxDCQxgMslrXHT5DQYJjHhRqkxA/F0L9aWKBcqLyeTlnjDfMV/CYjSp/Tn+tfxuEmh/UBnXtFebxEfbatR3fOSIn7jassTNO/uxLmrzMC4ZPelNz2VpMW7YqXnk2D4eWrMoJXYeahpI1a3OKYZFs23VtrIyqU5iKyyKrDmIrIqqF5gKAWJAAbjVy152NX/cL1kKqU922qsrqCvMR7IkwkMsXizk78g51BrxLSx+La9+L57c1Zm3qLqA/tWmlkSTGTDYhuI1HJU88cqhZkyEnag5bV4lpI/FbnfDhleahsvwY0va9S+dWbFSDPI67OrcLOQqjWSasuaLwcNp2NN/ilSNQqLqAHofOwRsecrV1iKn9LkVqlxA/6prfaZ+uQ1vcNH/za6sihRzD24FxEayKNYvWeCBEbZcbqnERLJl2XpvF4VjzbbU0kzBUXaTQkxAMeAGtIuWTpbooACwHJ+UDLO1l+dLifCK5Y11xYfm6W6fyjme7O2pI12seihjPCNjN/Li/DF/n8oqiLpcTJxcQ5f8AFeNY1tLi25eRBzL+URhsIulxjbF5F6TTSytpcVJw5T8h0flE4TwdZsR+N/wxdfTRC3aRtbyNtY/lFsL4OayjVLiORegdNCOEWHKeUnnP5Q10YsIxjwQ1STe/0L9aWKFQsa7APyjopGcJe5Cm2booIihVGwD21//EACsQAQABAwIEBAcBAQAAAAAAAAERACExQVFhcYHxEJGh8CAwUGCxwdFA4f/aAAgBAQABPyH7ZxUADM4heHrNTJY5JOEE63TamchhpiWz1/NXp/6kkkhruUfNglKjECWOLY60x2SewJy3itZbticGxd50hUKFsAVPd6sO3bFyRHUfr0Z4rIsB1vaIpT6CDSk1G60FGhjVR0Wq3hh6/OY2G/ilMTJsgSl2Ecane0UOtlytwjeoKIICkrO45/XiQBTDtWTENYvU97F2xkaguUp4GMhDXX/DwwmhyI1KJlnbcggA0D6wlgOR0K7pXfK75XfK75XfK75XdK7pXfK75XfK75XfK75XfK75XfK75XfK75XfKE8QHzJyp6lbBniVG5OxilQgEyYPjJ4TU1JvU+Em9c65fTQIAR0a7Lrsmuya7Jrsmuya7Jrsmuya7Jrsmuya7Jrsmuya7Jrsmuya7Jrsmuya7LrIr9E8qjVkIiJt76eCfODyER+zw1IbeXR40umdOOcpZl15cM3l+aMn2Mg7TFReIkeSVEzoJZdTUqABURnFCwVbsha0t5ula88KExgW91blqlrhgW4N36pnLS6VaKAoIeWn+D8HgVc2eo/NNA1+rk1m5RUQQYE2SitwViG9hRElwSJQQHQrPXgtHGl1pmBFqnkdQB5OKkFojWHCmeLwwGwKmUMkyjZS2SlnQTWkMmGwOB9NBSITP1U2NN8V5mmXLScBK50yay2NDPWXoQmkkZWoWC/nFSxGTEk1vQwSITuFDo3zpRvVt6ccxMTWf9JMmtQI4pocXP8AlIntRa0R5UxktHjFE4wBnNbxNMRetiZilVXUgmb1OrLdsY1mlFEk2zqXpGxlHILdK9+3qbsXFEuk0BIWQADNMTetS6CoH3cs6W5UzWUmnQitK9xP/FEkkdfq8v0xRs0Y3lKMaS60qEqSIyMLf0o3xCwlSZZbWngURiJBGZkjNYEY3meNawDLaa976TNqdTURlV7hYQ4yN69DQXaVqwdeNOtaYjOImCltOMhmm1ZvQWN551H5HJmNK4QouorBuQM78GphUk5d1D0iMQI33rMiDbRxqDBwEYmsb0qDrHu22r+NgcK1BgjwSSGoqr8ziKGETb4Ww2oiScJpqQ5VAVsRoCWxv44D70uSaw/Iw5B9kKilX3+JRhpPgwKK2HA248WpY5n2f9RUuULNlv6S6U93J9EgMRFFAVGZ1HBpOQLyu2CcBJFJknVgtE5IIiobMDZDmDXlUnUTT2YUev2O9/Af+6m9qWTJ48OIExjyo6sfA8vBgog+1FIjgAT50XUC6KoKGlGeIHap5yhImF4r7UAs8iBoMs6uIqRdL1oX9IiE+yHZ8XlwNAENY5PhmbxQlYkdTepUSK7purj4gr5iTr/yrMwbAnmAOP2TKNEn8NKhajdxPshgJat4ji1HzlSpts1tl+DUbZvpM+WmOFI8mIc1fCFNN8UkwXuVIXRkxRq+gclAwTDpy/Y/GsVsFimVB5SpB1oLipWxkV58zvpWMjW5RVsCZV6h+SszybM1Jbissp4eSlMlA8jyv+vjsbPAu9F6NYmw/s0Xxmv5CmQpqR/IKTFs3o1H71tNeFK4sN717UDYrRGuWFHLthJH6s3rPZfi0aGDHCgEvs8aslYRNLBFNgaj7YGWsVJyvrW4/KTVqpDBSimLrl8W85UDSS36mjxnacYk8Csp21ZLjRamebz1X+RkYAEjQNmB841HdbXHX/aiJBVxNfsJmcrRqTqrLngrGNS2rb2p4K3CRlctj5liMAJGkF6SqeKv1WmS0crZNH5UrBso5keRxZ2+cWpsQREZc8nU2+lG2HjrTjRKDrf2KLZojXi8fhi2rD/lv0pHJKThUvxiJLiT4JxhYrYePwI0ETjSL8eNCZCHAahfIxKzm8H96ViEvNx+ciazAzcLzojrNvsLDzPpMD1QvN5ulQNd1eL4wHvjMDfOAoapgULc25UZZwjbhJYr0T8V7NtUyxMVHEBtUcxxEGvjSrAlQJDXUtxoW63C9gDQW+ASTtROW6CBN+j1qB0ghiW/h7Jsqe2z8TcFHfiBr8UaQ3KeoHfsZos5RoYrOnae5F6dGnIDdXPrKpDQdq/ps9fkwsknbwW0u7XT9/SNPxjL4Ka7+JnIx8GB9uYG+clZAF74j+6myXvyWBbnVvCU7XnbrRMQ4OMVoCVSsif3UdtgU6POvOrQlQJTXUvxoCT3YWAtqQPyRYfVQnsAMQn/AHx9k2Vko39lbevyunw2UKQtYTOUmiBzCXT6GKUtrjr4ZHt1AL9W1C4Orv6PgIAC5YzRpHDEukh5a6UHiWgSE3vtSfvDJVwHOaIFLEoWqzedi9mpJjXwa0Qm2qz/AAeFjya72RG1KGISJqVa2Pduv0gSGg2L/Hr84LJORuUsWGUKq83x9k2UYKMbyU8NIG6Aln4NyDhuD1HwJPGUhYKg51k0clvlGnPwb0Hoh8UYnZSByNprA6AETxpEy8FAOlmbN1C1OdFAV3zunzpQ2AdzPp5ElRUBn+4pNji6tCZoGqPm0cM2rDkKIxGZrGnzOwRV52Po/wBK4JCi4jLBob1Blj2YaEfg4ezwASgCiMSJDAzIR0VYaWIU4Yuj5Abkw3dDzrcP9y3n/F7Jsox4WTb3Gal/gnZFTJclDm/g8DK48k/6pQJcUr0feG0YaGrfavff6pe0Sk9WKO6ne2EeRPXwNoUQjrQ8AwHh1AI2P4eXhBM6/BE1z0W/0yScmuRZDnf0rX+txDPrFRzSeYLpNQfKFHYNUr+lNPitwXJ2cUgIoTGh0s0Si2mQmLbVheKYgra/5+PkA/Wh6x/j9k2UYPAO15ZZQPJpAJcfhBBYs1wPk+lE0FEjwrhPKognys3NvcxXZPlu9CeQULEc0XP4j/TGhm8J4aI1Gecasl5tqVGoA1fwJdc3oJYj0dXatqNqWZ6lBYag2ALgRzpEmAef6AtFOS4URdLHx73I/Zf6FNIK7IcbyHOpQJkgY6KaHKg6dAH9nTCkxep1Ievy0UiAMWivZNlaUsy2SApHhAF8lqkJsE8Sz+PhPIwjUdKmoQv9dzMum/gnxsHmB6oWY5fMyWCA0N+YjyHegg/2Zk7AVoSYLAFjwAgkjpV6iAhR8fHCfKHgIdq2p6JSn5fwmE9k9aPFvxH34Z2LNKCq/J7VwU4gmHjRsy147G7T1LcogXmCQuXoLwQGo+KuCLA0A9A8LM0rIMCLt9KX63sbEjcr2TZSkiwUrJRYllL2Us0IAnjSz5UExCNW5g86LVPjE+VEWb0+BKqaQuT85tuOYES7/wCRQmFjQrtNXaau01dpq7TV2mrtNXaau01dpq7TV2mrtNXaau01dpq7TUCZxh6hSYnWM8XT8U42Bz7DHjsYjXOo8DM6dagYhu3jBMLLNonzoEceWwvQy+ZztztYIFY5tZNmJtz9aPNlepmI6U+gEeqK0Eg+XgoolsWDaaI5MERb3HqosJzJv9Kj2ZRoXGls+c5KeybKFoKAslWsEtrrBvajJgEAYKa5pbYv/PhI0OikRzfnXav6rsX9V2L+q7F/Vdi/quxf1XYv6rsX9V2L+q7F/Vdi/quxf1XYv6rsX9V2L+q7F/Vdi/quxf1XYv6rXugJGPP20sGcr1f36G9QUXExejBDiIOlaPE82HhJQuCyjAarQI8bDPskur4TU46p0My8E26VfEMMI6SpirMViFR4uR1VFf8ACCYKXoLWrXlGKQwl4aHgIJggxurZipDQBYhwQZYlHHxBduV48PXwlbKZymGznQvVgIAr2TZUCLkFBYzFKlOc7TH6fCDNNDylCRdJbzpk5oWBt8qbyBbNvg3zgbRMfFMt2zMT2oAQID6LdeBHSXhNlkUQa8zeu/0dIutM3GIt9JqM2wnd1fP5vsmype0qBumY2bt6jq1tgrOul0pE469R/fyb3E4q1VqXMgoi7prSrS+jk1o50gXCINKjQDkkxvtwpvQqMiSMa01CAsFpqKILLV0fxSTDqMLnRuilenyiIqEZWsGxvSHBDfFgtVxAUS3KL33P6248akOFFwWZ+i7SZ/ZrPioEtipkbrFrBaWTp8/2TZRjw0Gwd1x+JrAzjoR8mAUgy4ncShwC2VrLByqKwIRlHfaobFSWEeVWhUCVGMyVO2aEts6UKsGQwurQ513ZMTMka1dN0hTM/iRKGJ2qAtKosW9sUtFcM3H9TULKMW/oUxDomb8KsJaTOV30X1KsXP4mscJPXwJAEbJvSRjC7KLGAT5/smyjB4OLuTzseuX5yGJlBEuP09JIaklcvatjo2/xeybKMUK5TYBQnpGDo2Pl+fgOkT70C9Td4wQ2m54ikFKulXZKcmTj6rKSdqhvEiP8PsmyjFOC4g00c7QAEDAUqm5tngAaxaRMSnFrU8QTYyB1UjPPgC6N5qP5ZJdyYvSxJlAeNHChiIL4dc4qMVwTBtW6LS8ntOakpAcXWtKjn0lkHDG9YeYrEMc03oZJ+pPTJL0XTm/w+jfhRGySBn+NfrZ5zkeDZ+oBDzWpzdxa9f8AyniqbWAuioZPMzMM1NgaUl4uorDf98vlig4KEFyX/VAvWGavNat7PIkvaKgIYOLrVRn4FiBgnerFYrzRJrB9SNaCBpwLCZ5G3+X+AehvsoWKcHiaG3+z9gwkEjAToslEfNRmidz8rS0E7n2M0JYUiYfmgsWO7f8ARxommgrjw/b4I3umAWcKpEIt4sk53phR4gvyvUbocD/NT5ETIBvQhayYvFlNqiyOcQKjiyoExz5203QmDL2yNQywxKc/o8jMgQBTkWCPU4YQs0/V+Am9D1chBMc/BVZKHH8BdoIEW7giCYcaBmS6CPxGWFjOO2735W6BvoLyb+B02hCRpQdWbB+itsgOHlv0+VlR9CKSdEMSkX4y/wDyOHxSDcdxQKZVTluRQKCAh86IVHqwWbk0DCoCEKMTrFJwA6Uw6KWddlEuIosBTQRZSoAERb5KwPoxvgQiJph4TUrr7ge0ogg7Ac1EK5idWqjlTAU9YWVFmhkkINDKxzc8qfK6jDNOebUowxagtdtfeoA3JImgLT4qBLilRnqm73v6R01h+efwxtZhfQclaFPiJyN/OsXcKQQ0tdGbyaEkE4eIcmcGnFIhT+qbJpwzwP7phPMehYlABAQfFngUF+SnpXhGxSqHw4efeueWoeVc9ForTDdoeVQEJQbbudQtixDCtN8S/BXM9wPo4kRq2wFqAAYedO8mIrtlhgdJnpVsYwWugKclBA97frfVo/omHFs4Zjpxq3VETZTLsHSasCVEQFFi+DjoVlI75N4DsGngK05CAKQu1Hojb35BmSCgD5LattBPnW6FT+6r0eqBMwmY/vrNjk/egxLgIPrieRg0tWFvY3ijwTHCIcTSY1CzmKJq00nP5Lts/gFEWFACA+0IJXY1VsGrU1TScfncGn2iUlDIbYVBK8Fw/fH9ogrWWSt3bipwUX6a05/aIRSzou/oUijx0fwcH2iPWqbh7LUsKuW3y/r7RmnWH/1fwrU7iX3Rq/aAIqAyulIsqDZ38L24kvSPtED3M2UGrhQujgUAfWv/2gAMAwEAAgADAAAAEPPPONPPPPPPPINPPPPPPPPPPPPPPPPPPPPPPPPPPPPPPPGNFPPPPPPOKvPPPPPPPPPPPPPPPPPPPPPPPPPPPHv+88+8899+7pQY/Sus6/PPPPPPPPPPPPPPPPPPPPPGR1u1LSAFN04WbDv1kMs/PPPPPPPPPPPPPPPPPPPPPIMYQYugAYk8UhPg0/FICCtfPPPPPPPPPPPPPPPPPPPPPPPPPPPPPPPPPPJAHPsqsfPPPPPPPPPPPPPPPPPPPPPPPPPPPPPPByTnybifPPPPPPPPPPPPPPPPPPPPPPPPPPPPPPPPPPGYqYrQghPCSujmEsfPPPPPPPPPPPPPPPPPPPPPPPPPPPPPPPPAtB/C+vOoS/PPOPPPPPPPHPPPPPPPPPPPPPPPPPPPPBjgpICGGzRyfOGCBHPOOMCPPPPPPPPPPPPOMNMNPPLAPPPPPPKfAJvLDJNKMFoDIPPPPPPPPPPPPOIAzKPPEoCGPPPPPOAKefODJ3PPPPPPPPPPPPPPOPPPPPPPPPMrLOEPHJPMFNOpjbTffffbXQPPPPPPPPPPPPPPPPPLKLGGHLOHHDEBHovPBDBS7QRWfPPPPPPPPPPPPPPPPPANlHPPPPPPABlPPPE8BEkIgwfPPPPPPPPPPPPPPPPPPKvPPPPPPPAFB/ZT3APPPPPPPPPPPPPPPPPPPPPPPPPBg/PPPPPPHlzoEQ8wnPPPPPPPPPPPPPPPPPPMNNNPPMBpvPPPNGX/AA3c9vfTzzzzzzzzzzzzzzzzzzgRZSLyxzxWII5BJzzxcM/x/wA8888888888888888888ssMoMc888888888888888888888888888888888888888k8888888888888888888888888888888888888888c888888888888888888888888888888888888888088888888888888888888888888888888888888888A88888888888888888888888888888/8QAKxEAAgIBAQYHAAMBAQAAAAAAAREAITFBEEBRYaHwIDBQcYGx0ZHB4XDx/9oACAEDAQE/EPAfJPoPP0bgeX34wEBcbDVpXCaggCuGYO/Kg1au29bC5xcSgTh0CA8jJJXtB2qKRXACGyFnQkwiADhCpB6vk8QgoaLZQVcLRfMg8VBhAsEP/wBs387xAy5zFrPf9whJB0h7Hg/5jA0uUqhQBCgmsTOHQOXUxuHKA6I2s/YhKRl1/wBgajwYDTaaa6QrIoEBM0Fr8OK1glQpAAKqoCApSC0Zt5TXLEJiC+gt5dW+bn+EegrdyAYNgAIuAQUAi4AEVuEDFbgBFbgALYCAXycff9hIkfSgurof2HVtOCa+gG0QrpUKAJXElQACtVAeR9j/ACENH0QGA1F1CfmS7MsDqSf5BH9zM2F1Jge+Z6gCCMcEAtP69oQ+XHYdEROYkThOSWOcBB9Co9wwwcALGx7XCHBZvQTdQBR1UL0775wL+T9wNlZZ9tZaru4WGHdQUIQyhPf2pgz409gyhovetdmu3g8oZQhiAsPfjkeUMtgtmMEaFixYsWLFixYNzA5HlDLYLZw5znaiJ99ICZ+PpxETwfSEJIgAwNgQC2Bw67nhsPkDKYeEhxIWS7pQmC7uAAFxMRNIo74bpSvJ1TJiAgWAp9ITYXdOEKLqusTg0Nfn2g1iP3H7vRDxAX5BdBAFUAqOUd0Gvy+9JWRxXSEgS4dITOQFCcjgL+vzeyNRBoPibxAFsIjAFgP6RAEMlfX7AUni/eFUfHzCAgEZK9qH7vB8JuJYOw+DY5vACGI2YyUsbjf9b//EACsRAQABAgQEBgMBAQEAAAAAAAERACExQVFhcYGRoRBAscHR8CAwUOFw8f/aAAgBAgEBPxD9uP8AB+f0nnQqRsqNlRsqNlRsqNlRsqNlRsqNlCyRV04jSpHSUpFXpGZ+JrAH37wqc3M4oswv92qNPmFICYX5UkxF7d6SQxv2oKybUrI17R81OR271bKYwi0h1omTFKMDOO01gDJSkRcKJIb+j/KGoMDT770vlQFW9FICDy6ktNAFRiiUiigBcpCSlvWsqgGfulYxFQFdaSaW4unThttRpJPyP4jgZMz3N9s6nTbxLEeGUfwGib7vCjCU6Z0IobY3qcssxiXwbdaZSYgHEzq7PM4mT/tSD/x/EXcMC+WOzrQCZtKzL6f7yphCLA5iPSrYGK23A02pjBLGbOW2+NKTEs60uT7HZ+aMxgmJp4Th3HPgYvLnWr2th0PlphiAbAd4mliF1NYDgHch70GFL6nyd6hoWcHEeD/Cku47aU8zR4Dd44h10ZpS+A8hPs0rAjwwBFTuJYjg/wC7l6hF5sbjo+znxt/BCFnIauvA9Y3p0krWxstZGJONsNfWrrNsOF3Rq2oOIbnpetGlKMIiZgMxeImZ2ii02SNiJjiidpppZMIwsQ2asbaUss07okRTUi37hjREuVcdvkwd/PqOM2oHZh882/5hotnLLw+50rcuNj2dL8vNGHhl48Cl54HdP1fc6VJDCb8M+1Ixkp0/A801ZmB3n2/E/H7nTwvrl22U0YWQ/VVVUP5PMPYeg+f1fc6VCUCrZwUJ2pSsr4woFAZTbvRhRr2oKTw707Nv2ajDOXvTAmMMaDJj7eTCGBI6kTyb0iVifp+50qUMK55X74c6SpfwG7wE3Tr3r2u1Qlkfetb7FZVRt5QxHOz9a48Z0/T9zpUcw+zq35GtNkLXi8+kd6BZxBnGyC6ek1AGaOUgy2w+GjEUWnG08o6NRLBCbs5MaTQiCCWDG8gkWznPn5okjOJ8m5/mdJFiODqfen6CYOWNbW8NX3pTitQyGEZ4dY7VlaWZxvJDN98orCGQOhHWLc2lLBlrlEZxlkUosiGbXi7Os470tALpOUAcLFN/NWwl5abmj2c6WSeocTLjhv8AiCsFGuernp68ManXIZBoeCWuEuLb6VFhkDHCQ92r+kszldw9uNJV6Jt0cbVOI4GOEi6i+WPA/EwsJWRXcs9rdRo9iB7z6K1lFE4Z0PpzpMgDtj1b94/ALBq9jViJtVyZqWvmI/6H/8QAKxABAAICAQIEBQUBAQAAAAAAAREhADFBUWEQcYGRIFChwfAwQGCx8dHh/9oACAEBAAE/EPiknOcnFP2E5Pz5wEgjZsBMokxUhMha77o/RIOi2cSFVlTYTuQtqVQGimjIQ2LxQEJhWiSIi80P1Qj5FOklsQFChNQOFAQpbC9WkStjk6Il4IblArQkyQgDQhj1IkNKrzcoYI4AUeIVig0iVhr546yf8sEO2V3QTtemLUTwygdijInzi8A7utKKKUQXSjiVaGhwzg/VAAqDANC+Lca5wwSCYSpvZQDFRp8MgMAAiJVlQOUAdBQkUPSMk4T3hH0nD5448i1QF8jxioRKBiB0HcYs8opKdC5hNcknOEghb5UcAFlEp13TRP60YmStpEUxDaSQRCIgjuR0eCCgiYRAStqrOHzdA5dEBKvpn+4z/UZ/qM/1Gf6jP9Rn+oz/AHGf7jP9Rn+oz/UZ/qM/1Gf6jP8AUZ/qM/1Gf6jP9Rn+oz/UZtVVEVKo42i+WIS+EuxaWHeMt9UkX7WL7uRI/wCnkIcJ0/8AY5xQ2hghIieeKUziOp74B0mGpHviClDzcEdI49BPnihsHngiWHyzz+WCEJEJE6Jj+Cf1n4B9s/APtn4B9s/EPtn4h9s/EPtn4h9s/EPtn4B9s/EPtn4h9s/EPtn4h9s/EPtn4h9s/APtn4h9s/APtn4B9s/APtn4J9sAAhM7bIBZjzjtiaaRgnK45Q8ARSlOJf7eArhFlCKZKxrDKBKacMGzth2whrBvlmWaWeZBiU5PC4RoSF1rAgXbIIrLokhktkly5NpWekc4SEm2ounEo94xqPtNVqLUzHTDcgmdHSY0ioTXGQ9BilKDaRJg5cDqQ0WadSTjA+WeXgob8O0+E3k6TCJcCXGSVXRJuBPDfXJl34Vk+M+/hOawxcXFgycPLcphRpHhxm6WiUHdAPsZLhQIUTQcF098EAgjpMDicBtFTsrrjIhyUCJD/bWI/wCEQSSCpQnm8bt5Bvu1zPQxZfSWoCMss3o1zhdPu0N1MxpgSYxVpJiSBK5kZanJ0NQOlnXe3AETlFNl8XyORVOGhqTtK685MC+DMzA1Pdlyb+WAjSNED+m8BGjEALBGiNBo65zpGzPcBKI6xhky/YZiHDpesnqEa0xqgS4A1HTvkMUR1AsQnJHViMJiVwaSQTD/AO9cEgbcEI+mIAcrhlRetrjjkg2Dd0w8w4AEEZAVFWE6/wDshHLEDMpBCUlvRkh/SWcATHsllvWLEarlFXGGPhS3ICSeWvbHOdGBZZC1piXfWcCg6aIRg8JNYc45I0lMjLN5IuPVS0F3ax0ycOPinQ2WfdT6YqV48JmZKZkUIWJfXHnGUgJiNr1/8gMcQcqLNlg4OmT+B2OvBMUYiNRms1r2wmqQokTOdLd7/wCn48xZGkDT4ABUHlh28DWRfifLgRtGhghj3xOMOE8QJVBVQSU4U2sCPDJQHmm76Sog2ejBkhRhpm8ByxqVbO4emqw6Gg+nyVETpnG79Y9y1e2dhA80RMc7zQjmCpIjknq5T15LyKaR5HFBzE5UhgWe5ftEU/TQepmI3Xlkn9KGJKbcd2e27UBMcayT3M5BAySK89+yaWHYkZYMMroCNZCPrjfURM7vyz+jrRETJHneMQM6dWFO51yYyDtxGBohBDJKtSoiwMqJJWpmMkbpWWbtflGKbkKKoJEiHM/fAnICqKCkAEsE4/rKHC7cxqctalLrB4EgCOxxMgpG/svbNI4m3g34w9mTfQkJfLCMrIgOqusp8BdvqRJPAXk+WT5ZXLFHNUQvpgW+EC+6y+hk9zJOp8sM58BvxMjp4OF38O58A8fL4YxRDoev6L2yVu76j0fF1m8Doq0ZOyio32TDb+HsBK+Y9+LVML2AMToaWz14dflJFVEAErarBETgHhYRLUygIxxZxl0gqyWFTDQRYu1x+V4kBdaMCYNxjoSL44ppINSJU4yOjAysTmFCiRUkSTnH8GhzOWwX27sTsq0K9Ey/CexFCQuS0px74y8cgtCizAiVlWqJy7GJaSpSuCYVbAAtLqKcyJ9HAuk3sRv1cRQ5CSnGNEUoQTrICdrikTIEBTAgq0DrC9wjLZtQ4XsJTD+DxfkhnT0Pvi0an5hO/hvIMTBvBYSK+qmA6YRMLAlkIZU2nsGg1hnlkXAieAEkJaKpFxydZd3Q6bKqvbWHz8vHwnOfFwwFTz4/sMgTm5odTk/hCUgBauBpxfRu4Uh9MhOgipV7BgtxqhE8xsxOTopxT1qvXJbqCTpnp1wMKBSWJEiSYQQJt1DjX/mGdsgCjo4OcG26BQV6BvK07AKPRvGhTJ3X/nbI4BqNXX/j9OTrknUyTqfOpL3PHSb+k5PZxvrUR+dcCOA6llNxHMYa3QKTKlnOqY03bjFGc3CubnVo3ZH3ximYzHT/AHwpBmTdK9fXMRkJ0g+aOeJ++c5ENkZdC9R4cVWatPZenZnr8M5HQ25B1EinywahQDPuWL2yA7gJPPn6ZMkAQB5D6Dr98IU7C++u9+WS1fEWX1n/AJidYXQNvSoPriitVSs7k/rxZ0QWvsyzuphS2hQOolPzYARBHeSrdmSg8ia9M7p0A+RLMGXypV8y3mnAbWnd75w0oCUwee8nNpZJsi5brHti2mVtvAoNY5Mq7xYqlUViejvrmz2iVPVvxPJxHjuYztEj8Z785BJLPFpqbohB23U674O4Dm9mODRPDj8ilv8AdzJbzjIr4yzRB5OiNONp7NTOjUaiSImcdCA+t81rt0bwfaiEgeR5/Tn9aflIWywhI5GBZBPmef8AlZQiFnRNmN6/fdQU9pp3pMnxW2W8f0jiNxh+mI74ODojvBplGgOVS+um+WhKI6Y+94Onrpn9FcNJQ0pxNOkmR6Cx+o4uxqRSDwsBXdcWD5ReX04rQeuGhoOU9CbVS6h1wm91sXKcrlfhaYJOJJMeQ9WQZKgJKJGHNx4ihrEhkOFw8ao7NSoGkPkM+Li6yVggUaDMm294pboRC6PCfoLeRrMLMjuS4BnB1jcLXdZXu/rJkHmyRnhgei4cgejr6YIfKebrLcD9EO81TlThA2nKcq2vhxgpUC70IrQNS/0xCIfaxzw5O/bNaF4NaaZ0yVVuWT8o5+f6c8qndgAC1WOhzRrFX9kvJcoPFRjS/JqoQtpU7b7YuznC7bFWqP0suwO7dmUgzSaryxt/6BsLEDTGIjFSNmKNwCCXg8bbaCA4matG3iSfJHArhD9+PhXASLMJI+uaXUjrEvc4kTYZJA9Yqc20t4hLSmJgOsIwkYgpeeAsck1dqET6RhV4No58W0I2iCF38c+FBkySVp1x78Zf5SDpr6e75Q5IY6YhxdvTiXAa2gmVYXosDW9THjxgaYnVutVKdyf26gIxrZQuvd2vEESqQeusLlD01ctvWYhN0sPDLNUEMACSVvL4RqCZxImRIOknHURLKJfIhBzU8pK0EqjC2hRCNd8J3TxjvsCkYrzq/gL5lkt5LEXAuAKdeQKPeB9vwW4BGxMTkiNbR8GwVdAs/CicMcEclDVFRdphdxGrdkChAgGI9chlXmRB/vDWBFwguUJ1X3ebj0wkGOUA7D5InF4vKxIDAi3msMeiUCCBUGSQFQhDgpTSBU3otgJykWBJgQIbSAOVDLE1ctJSiTycCCc5g2YnwauH5aGk+WS1escAbXKJqeCCSYlEE4CFjkiWJ6Jm3iL99/3KcnJ+CfjfALEItj29HR2X6wl3V8hCe2LtGHUAor0t+C39BkZSgjCuTdlkeS5KxLzkwxxZJ2TxcAOVG4KJ9NhRlypVb1j/AM4YycscFarjyLSUhwvDY7DdmDWACMYdGHhuaYJNGJUicc0HgFs2n4GcTFvGGTFQ7zVLgkTrCR7STFbqathxIZm4amZpd0YKhW3h46IreqC+TlUIaBYLbRRSwXqXCq6UsPqq+k4J+hIdd2gALojcTMvI5EPoZMPSPmp9v3Di1Yb45j1itRBPfNZdGVRQ1dqVucWh4Tl4ho2kCYtweqTiEgSqwB1e2MTgSIZZkQcntl7RiHMoRIEjGT3+KcDIV3ctesg9clHQbJaVeUWPQ/Z29Hl4BDTB8BgQ6qJ6ni5PDuq+nSoJWXkrOM1NnHElGFaACVeMP+5jUBJAn5qJUSQ/7uTSg2m9xH94RykFMMDO5kPKtUEdTGRuEkDSe2RlfJToDm2AA7AcYnbEjnI7cCegpLG4TrDImQkAsWh/r4RjqsJ9C73mH1P3J0kZhAGKgt3KdGHKFUOhX71kgGEFto8zHmmGg7evYZbdD1YTIwzoSKgJXZbMN4vQxiMFSiwpx5TuTfImWKmIGAhgOMFEEkum1rD4TDG2zgIegV7M0ZPZyfPJ88nzyf1rf0HgYjMIWQTs2+WOOCETSfA4dYYMskT3HtgXTgWK05GfbYb8zRnJIgyjBcS6oRN+0wAAKDjxjwj4ZQ2zsK/1kapVEawjqQen7mHNsywwNJaR34yrVY4IotcJQBFG8I5+I0yahNkpYNAGPtqKpaNtpN9c3BQ8qAkEkjhOprKbWrEYiq0jNVZ3GQHq2MQCihACgObUce3TECRbRSYneHwzhlWF+pU+cGaYckpZE1hBMkwkTMOQhyO1fSmk4d4cg55FkZLLy9kWHnLHRxBRGMyQX5GF0n6CcnwejQ9VgAWVVisU+Fs08sDX0hg6q0YxPUgMshN3DiT2dVbbvK+G7oRgZFdkYy2Jz7mjuSgcQtDHWRl/qKgOilyQUUkWa/SceUJwpHoEk4ZwkAAANQfuo8FyBPExakuDasHAcAGjIwQwoUSJ0e2NF6XC6jEjh8SlJZQzowvz8J/tQKPuh97NOHKgV3Fh7HlCYwp8AiWpwmwUlmhcIqDaY8zKkAY7UmxGxqZ7ZNZ4uCgyASzpi93BQqpAAtFAAVcciyLAFUMSZFkM1ikUhkBInZE8HBpL0CDmOpY5b8LneaCqYJM4HJOOo3PsiThIeTwtwjASqwHngo7hEcBwEGbcYhoRS0UBRajp1wLEUCoEDl/HOP8AOwPrffKeiyUrkTY/BSYEDpMOyeev60iIMSiCXVgCXgP2jHJCmx7fsmjRo0aNGjRo0aNGjRo0aP0k0MUwt6iEZvKsyEgvCC/p75G+BBq2CSapSqY8HAUqCYMZ6Ylaq2HRx0RARPfpLbEtr4OOGWYkQS2opOmtGEkC00/PpC36Zwqv0wUkMnoAxl7urI7mBEgyUgeC4JyyUwgJWZZEWoGVGfrACoqGoYYUZsIcTPEr5pORVT2wjHQpxGSFMmOJjiVDjQ8WqihBW+MkfTrgUk6sSTq5B9CNwSF2ZCeo+FtY3wCohEaRHGPwZhiOGCW/fAMmHgAgANEGcQ4hMD7wzjIbTbQAogiIe3T9p5MGDBgwYsGDBgwYMGDBgxYSS7r8mOnp0Y5UMJQPeYH1dsNa+RJUWpkQJjZIVrC+DQeSBGQgksDw8fp4crSYdHOKg9Wsj3L1AROzf0CMPTEGahrQxsjkJl1XF4ASGyhASTpMZD7cu8ZDKOobtnB9FGBQDsRG4KHFO1WXYgAbJs3h5E8WwQWkHJQzN4e4ccN4QQ4XIGC8NYzxg0FUART9Cz08Gm2JFzARJNSPfDIsDBUAGjwtxe2qCZQ2wWxgwEx2VB9fcx1kzodsC83UZh7323qUSx+tH1yN7MrgmA+sr5dMPia3m8/rHCYMUgyq5PXJ8NOsyGjrOs/09vB8anOFoiKJprh7YKBSAKPkqnSSidTX3DGeMXgQam0ABFA2go7sFfh98YQt1E++HxpI8cikx2WMk1BB5/rJfXxjNaPCK/QtuW9OJiV4yo71zh5iw0CA7+eM17NBX+sj+kO7SfoMj42sII6vrQEp0NfWdINYjEOA1PM5IWoIlTWDNi4ruL3kq6B5jeBT68kB7gGhUuOUROspPQkX+7xEIRkqwpw9MKkkAQtfyROPNCZCxT2HOE1gs3Inh78++KXAyyBtGIrXWulym9tTQQVNiu+KvNP/ANlk1IDcYbiyvBChropJxgLxl3CB0dvkrLlHtCR74Hr4skAJVqDHtAZDRaQDCMqCv2FvR5eDCSHNgRPUvTPppogP6/QjFAGCkkjcS8n4QM4JhkCrrzXzkD2AEsiadE0MoaMOGqt2FQmayWPAu7UWTwnNXgWFcESEBOkB5TqYwUz+CQSsMVKAWu4xBosXhmWnRcHnxuucBMuscnbnAszdIVJEFglB7ZOGagJEhBHjrydJHUlU9KBEchdRq3JHaYDnENFNsuJ3KobgQIiIOuL1ZvuqRERHee3yU4pSIn7wwHnjcz2PAMPgGp1BIHZGCh74mpyUmDDK0RZ+vb+gx755nQBufSZdSP0Y8Y8INznrqI293wcnwflRMAiQjiJwnuOR56vP9nb0eWIxU2gSvsZznXV/2NPi24nbw/UPQHOIEfE0xsSGuk5z4PEA9ADavTCNhT4D0VPeMMc1hj8wmijznI9Ys3ZVuRHy5l7HojT3P2VvR5YC8J0wTMnCx3C9YXokAgA6ZIdFMohIIVZt1kmFSTAC9xDPXGEMoBgJbFjiI+mS+fiBlyPqTGUXsVj3AhLndZMDcRDDIkYCOQeNo0LI4A9rwZ6RKv3YFJGOtdcbEEd0z67fcyMeooZKRQHlP2D6EwDzJkOos6YTOAAFxB2C9TxkT1E/MW6yUkST359Np0Z1vCzD9h/TzuDRquiZXg9M6hghLw7FB/U+EiQmfsx3MV6GC76xDInGVvRCvPCJesBhFbknjeC6LaAAhQIL+mSPHFowUGSHrGEZQoB7BMkOQY3n3qAiZqd5aybX4taxBwKEoTvCUBECuDvX1Ynl1AMhZojvf/qDQYEeJcD1NGOWcsK0iVioecKA7AHOPmLzR8kPI8JseHD56QeUoHBoXo53+v1e5s0g5YF9HAwdR08eqnR21PiuHgngbx8H5tLVkq4KS0EMggkMZIiQkpBRsArOzAMfSRZWujwGrU8wXLC8g6RNn6T40EYL0LsMrgd6wz+J8uHFUE79GL+AUH8USRI2O9euSdzkU9MmaXq8oW4Ejie9vmMBIg6GvezE1MR3xC+I2m4aDupi08CmkrPRsnCYT8cg8ly8vTBo4l8JJKQJ6bxGh9mSCwQk8uQnGaKahMw8MR6Ya+TPDoMCJVemSucGqJkxCxiML0IiWkrNaF5iMISxESoRAI+nfDEelNwJQrAXRWSWzAzCQQpEoAnHrEVBpE7Jk/DXzFJbbm66493DWIvrANxkeUKRFeDbjGAOxHZk64GA9ZN3o1a4meonp2NHvL9I6eSIXq42VWWidUtd2CS8mYaVzek9ggVAfEOEnVAEBRe+DHtIcCE7O56ODog44MruvaHYqnTH/cl+ZEnGJ2G+mKOtDgKVHPbCIxRjBmdxCdsKhjoQidUJ55yEoMQIgx+iPk1d+XDBn6QpzHngtxJDMGn2h6d8oFc5I1AaiXFDteJY0WIuQlYYhOyxllkgwKbg4xjQ6EMobBJ6odMpZdc4OEJEnUYvIWMRI+ACWSqHyuSC01Jc6ASWRNtYaPBEgC1eM0c6whyvO9DioxG35cl5TtXK/CT00yJ1H6DgOVijQdPRACEYLrfDMc7DyjC+Ahvoj9MJs2lSZJ1Mk6mKBzaIe7jgZ15aEP7YNJj6zUR7LG9TKCTmOrnThoQEAER8TIWUtRIZNknTHi2Gz5JKyJ0E0UADTgBeNHgCJCNEqqD2zkrML2nKqAwELulZAsTWdKRXcXm0ln2AkYyTkggKDRSIxLU9alkpqqw18mAhIkJ54NurwB9JooSQsw6y3HSAnchJbUDJKx1WFYrSsEtB9YBchMxioQIzzKNlAZRmNnQAk2hUkrGJTjh12kScKirGgbDMlYFMJKCEugeQwEHHilNeUBtCXgw0Y6eI4IlVaDHHNHLR1Weu0uuuIY8FdCA+JwyJ3m3Aiv0pyVd0Vg8iPPTCkDeD/fNlgSYn0H/cZFw1J/e5rTkZehnb5xGRjkYYJqQRJ6LiRbbipQpvVGDrj5Y7HizRgoexhJKDijKB8pffEW9YgDoG16Ba6wLvWHnwmpQ8u9QpgsGgBAAaDp/DH4CCtACX1vJwerALi2QXpTjqHCoPVT+I0/kzjgltpLxPkN8YqZlkj6nXrRH8QRbi2f1mtV0ejEcj0BlcjS0dm+rP8QtNtDP4WmmJlkjY4GkBL6JoqgbgnQH8Qhffq32tKuOveoxT3bl7dqJWNDuqv8Q5CVR1VHtyexsQuLOyRfII36EFfxAMp5RAOritlhsOpZ3D7KrHBxVwcq7VZVbW3+I2w4YlK8TPkIa2ZFCxILgDXzr/2Q==)"
      ],
      "metadata": {
        "id": "x2hBP2uNvw6A"
      }
    },
    {
      "cell_type": "code",
      "source": [
        "class Value:\n",
        "  def __init__(self, data, _children=(), _op='', _label=''):\n",
        "    self.data = data\n",
        "    self.grad = 0.0\n",
        "    self._prev = set(_children)\n",
        "    self._op = _op\n",
        "    self._label = _label\n",
        "\n",
        "  def __repr__(self):\n",
        "    return f\"Value(data={self.data})\"\n",
        "\n",
        "  def __add__(self, other):\n",
        "    out = Value(self.data + other.data, (self, other), '+')\n",
        "    return out\n",
        "\n",
        "  def __mul__(self, other):\n",
        "    out = Value(self.data * other.data, (self, other), '*')\n",
        "    return out\n",
        "\n",
        "  def tanh(self):\n",
        "    x = self.data\n",
        "    t = (math.exp(2*x) - 1)/(math.exp(2*x) + 1)\n",
        "    out = Value(t, _children=(self,), _op='tanh')\n",
        "    return out"
      ],
      "metadata": {
        "id": "sYpxZSMP_ekn"
      },
      "execution_count": 66,
      "outputs": []
    },
    {
      "cell_type": "code",
      "source": [
        "# Now, our goal is to implement this artificial neuron and use the tanh activation function\n",
        "\n",
        "# inputs\n",
        "x1 = Value(2.0, _label='x1')\n",
        "x2 = Value(0.0, _label='x2')\n",
        "\n",
        "# weights\n",
        "w1 = Value(-3.0, _label='w1')\n",
        "w2 = Value(1.0, _label='w2')\n",
        "\n",
        "# bias of the neuron\n",
        "bias = Value(6.8813735870195432, _label='bias')\n",
        "\n",
        "x1w1 = x1*w1\n",
        "x2w2 = x2*w2\n",
        "\n",
        "x1w1._label = 'x1*w1'\n",
        "x2w2._label = 'x2*w2'\n",
        "\n",
        "# x1w1 + x2w2 + bias\n",
        "x1w1x2w2 = x1w1 + x2w2\n",
        "x1w1x2w2._label = 'x1*w1 + x2*w2'\n",
        "n = x1w1x2w2 + bias\n",
        "n._label = 'n'\n",
        "\n",
        "out = n.tanh()\n",
        "out._label = 'out'\n",
        "\n",
        "draw_graph(out)"
      ],
      "metadata": {
        "colab": {
          "base_uri": "https://localhost:8080/",
          "height": 321
        },
        "id": "qYocS_yPv_sF",
        "outputId": "834b13e9-4679-4fdc-9bcb-8baa21e98c94"
      },
      "execution_count": 67,
      "outputs": [
        {
          "output_type": "execute_result",
          "data": {
            "image/svg+xml": "<?xml version=\"1.0\" encoding=\"UTF-8\" standalone=\"no\"?>\n<!DOCTYPE svg PUBLIC \"-//W3C//DTD SVG 1.1//EN\"\n \"http://www.w3.org/Graphics/SVG/1.1/DTD/svg11.dtd\">\n<!-- Generated by graphviz version 2.43.0 (0)\n -->\n<!-- Title: %3 Pages: 1 -->\n<svg width=\"1586pt\" height=\"210pt\"\n viewBox=\"0.00 0.00 1586.00 210.00\" xmlns=\"http://www.w3.org/2000/svg\" xmlns:xlink=\"http://www.w3.org/1999/xlink\">\n<g id=\"graph0\" class=\"graph\" transform=\"scale(1 1) rotate(0) translate(4 206)\">\n<title>%3</title>\n<polygon fill=\"white\" stroke=\"transparent\" points=\"-4,4 -4,-206 1582,-206 1582,4 -4,4\"/>\n<!-- 134026082839056 -->\n<g id=\"node1\" class=\"node\">\n<title>134026082839056</title>\n<polygon fill=\"none\" stroke=\"black\" points=\"326,-55.5 326,-91.5 546,-91.5 546,-55.5 326,-55.5\"/>\n<text text-anchor=\"middle\" x=\"352.5\" y=\"-69.8\" font-family=\"Times,serif\" font-size=\"14.00\">x1*w1</text>\n<polyline fill=\"none\" stroke=\"black\" points=\"379,-55.5 379,-91.5 \"/>\n<text text-anchor=\"middle\" x=\"421.5\" y=\"-69.8\" font-family=\"Times,serif\" font-size=\"14.00\">data &#45;6.0000</text>\n<polyline fill=\"none\" stroke=\"black\" points=\"464,-55.5 464,-91.5 \"/>\n<text text-anchor=\"middle\" x=\"505\" y=\"-69.8\" font-family=\"Times,serif\" font-size=\"14.00\">grad 0.0000</text>\n</g>\n<!-- 134026081333328+ -->\n<g id=\"node4\" class=\"node\">\n<title>134026081333328+</title>\n<ellipse fill=\"none\" stroke=\"black\" cx=\"609\" cy=\"-100.5\" rx=\"27\" ry=\"18\"/>\n<text text-anchor=\"middle\" x=\"609\" y=\"-96.8\" font-family=\"Times,serif\" font-size=\"14.00\">+</text>\n</g>\n<!-- 134026082839056&#45;&gt;134026081333328+ -->\n<g id=\"edge14\" class=\"edge\">\n<title>134026082839056&#45;&gt;134026081333328+</title>\n<path fill=\"none\" stroke=\"black\" d=\"M546.27,-90.75C555.64,-92.23 564.6,-93.65 572.65,-94.92\"/>\n<polygon fill=\"black\" stroke=\"black\" points=\"572.23,-98.4 582.65,-96.5 573.32,-91.48 572.23,-98.4\"/>\n</g>\n<!-- 134026082839056* -->\n<g id=\"node2\" class=\"node\">\n<title>134026082839056*</title>\n<ellipse fill=\"none\" stroke=\"black\" cx=\"263\" cy=\"-73.5\" rx=\"27\" ry=\"18\"/>\n<text text-anchor=\"middle\" x=\"263\" y=\"-69.8\" font-family=\"Times,serif\" font-size=\"14.00\">*</text>\n</g>\n<!-- 134026082839056*&#45;&gt;134026082839056 -->\n<g id=\"edge1\" class=\"edge\">\n<title>134026082839056*&#45;&gt;134026082839056</title>\n<path fill=\"none\" stroke=\"black\" d=\"M290.34,-73.5C297.77,-73.5 306.37,-73.5 315.6,-73.5\"/>\n<polygon fill=\"black\" stroke=\"black\" points=\"315.84,-77 325.84,-73.5 315.84,-70 315.84,-77\"/>\n</g>\n<!-- 134026081333328 -->\n<g id=\"node3\" class=\"node\">\n<title>134026081333328</title>\n<polygon fill=\"none\" stroke=\"black\" points=\"672,-82.5 672,-118.5 945,-118.5 945,-82.5 672,-82.5\"/>\n<text text-anchor=\"middle\" x=\"725\" y=\"-96.8\" font-family=\"Times,serif\" font-size=\"14.00\">x1*w1 + x2*w2</text>\n<polyline fill=\"none\" stroke=\"black\" points=\"778,-82.5 778,-118.5 \"/>\n<text text-anchor=\"middle\" x=\"820.5\" y=\"-96.8\" font-family=\"Times,serif\" font-size=\"14.00\">data &#45;6.0000</text>\n<polyline fill=\"none\" stroke=\"black\" points=\"863,-82.5 863,-118.5 \"/>\n<text text-anchor=\"middle\" x=\"904\" y=\"-96.8\" font-family=\"Times,serif\" font-size=\"14.00\">grad 0.0000</text>\n</g>\n<!-- 134026081349392+ -->\n<g id=\"node14\" class=\"node\">\n<title>134026081349392+</title>\n<ellipse fill=\"none\" stroke=\"black\" cx=\"1008\" cy=\"-127.5\" rx=\"27\" ry=\"18\"/>\n<text text-anchor=\"middle\" x=\"1008\" y=\"-123.8\" font-family=\"Times,serif\" font-size=\"14.00\">+</text>\n</g>\n<!-- 134026081333328&#45;&gt;134026081349392+ -->\n<g id=\"edge8\" class=\"edge\">\n<title>134026081333328&#45;&gt;134026081349392+</title>\n<path fill=\"none\" stroke=\"black\" d=\"M941.24,-118.51C952.12,-120 962.4,-121.4 971.45,-122.64\"/>\n<polygon fill=\"black\" stroke=\"black\" points=\"971.11,-126.13 981.49,-124.01 972.05,-119.19 971.11,-126.13\"/>\n</g>\n<!-- 134026081333328+&#45;&gt;134026081333328 -->\n<g id=\"edge2\" class=\"edge\">\n<title>134026081333328+&#45;&gt;134026081333328</title>\n<path fill=\"none\" stroke=\"black\" d=\"M636.23,-100.5C643.7,-100.5 652.41,-100.5 661.87,-100.5\"/>\n<polygon fill=\"black\" stroke=\"black\" points=\"661.98,-104 671.98,-100.5 661.98,-97 661.98,-104\"/>\n</g>\n<!-- 134026082328656 -->\n<g id=\"node5\" class=\"node\">\n<title>134026082328656</title>\n<polygon fill=\"none\" stroke=\"black\" points=\"1382,-109.5 1382,-145.5 1578,-145.5 1578,-109.5 1382,-109.5\"/>\n<text text-anchor=\"middle\" x=\"1399\" y=\"-123.8\" font-family=\"Times,serif\" font-size=\"14.00\">out</text>\n<polyline fill=\"none\" stroke=\"black\" points=\"1416,-109.5 1416,-145.5 \"/>\n<text text-anchor=\"middle\" x=\"1456\" y=\"-123.8\" font-family=\"Times,serif\" font-size=\"14.00\">data 0.7071</text>\n<polyline fill=\"none\" stroke=\"black\" points=\"1496,-109.5 1496,-145.5 \"/>\n<text text-anchor=\"middle\" x=\"1537\" y=\"-123.8\" font-family=\"Times,serif\" font-size=\"14.00\">grad 0.0000</text>\n</g>\n<!-- 134026082328656tanh -->\n<g id=\"node6\" class=\"node\">\n<title>134026082328656tanh</title>\n<ellipse fill=\"none\" stroke=\"black\" cx=\"1319\" cy=\"-127.5\" rx=\"27\" ry=\"18\"/>\n<text text-anchor=\"middle\" x=\"1319\" y=\"-123.8\" font-family=\"Times,serif\" font-size=\"14.00\">tanh</text>\n</g>\n<!-- 134026082328656tanh&#45;&gt;134026082328656 -->\n<g id=\"edge3\" class=\"edge\">\n<title>134026082328656tanh&#45;&gt;134026082328656</title>\n<path fill=\"none\" stroke=\"black\" d=\"M1346.26,-127.5C1353.77,-127.5 1362.46,-127.5 1371.72,-127.5\"/>\n<polygon fill=\"black\" stroke=\"black\" points=\"1371.97,-131 1381.97,-127.5 1371.97,-124 1371.97,-131\"/>\n</g>\n<!-- 134026081352784 -->\n<g id=\"node7\" class=\"node\">\n<title>134026081352784</title>\n<polygon fill=\"none\" stroke=\"black\" points=\"328.5,-110.5 328.5,-146.5 543.5,-146.5 543.5,-110.5 328.5,-110.5\"/>\n<text text-anchor=\"middle\" x=\"355\" y=\"-124.8\" font-family=\"Times,serif\" font-size=\"14.00\">x2*w2</text>\n<polyline fill=\"none\" stroke=\"black\" points=\"381.5,-110.5 381.5,-146.5 \"/>\n<text text-anchor=\"middle\" x=\"421.5\" y=\"-124.8\" font-family=\"Times,serif\" font-size=\"14.00\">data 0.0000</text>\n<polyline fill=\"none\" stroke=\"black\" points=\"461.5,-110.5 461.5,-146.5 \"/>\n<text text-anchor=\"middle\" x=\"502.5\" y=\"-124.8\" font-family=\"Times,serif\" font-size=\"14.00\">grad 0.0000</text>\n</g>\n<!-- 134026081352784&#45;&gt;134026081333328+ -->\n<g id=\"edge13\" class=\"edge\">\n<title>134026081352784&#45;&gt;134026081333328+</title>\n<path fill=\"none\" stroke=\"black\" d=\"M543.84,-111.01C554.01,-109.34 563.76,-107.74 572.44,-106.32\"/>\n<polygon fill=\"black\" stroke=\"black\" points=\"573.17,-109.75 582.47,-104.68 572.04,-102.84 573.17,-109.75\"/>\n</g>\n<!-- 134026081352784* -->\n<g id=\"node8\" class=\"node\">\n<title>134026081352784*</title>\n<ellipse fill=\"none\" stroke=\"black\" cx=\"263\" cy=\"-128.5\" rx=\"27\" ry=\"18\"/>\n<text text-anchor=\"middle\" x=\"263\" y=\"-124.8\" font-family=\"Times,serif\" font-size=\"14.00\">*</text>\n</g>\n<!-- 134026081352784*&#45;&gt;134026081352784 -->\n<g id=\"edge4\" class=\"edge\">\n<title>134026081352784*&#45;&gt;134026081352784</title>\n<path fill=\"none\" stroke=\"black\" d=\"M290.34,-128.5C298.51,-128.5 308.08,-128.5 318.36,-128.5\"/>\n<polygon fill=\"black\" stroke=\"black\" points=\"318.39,-132 328.39,-128.5 318.39,-125 318.39,-132\"/>\n</g>\n<!-- 134026081351312 -->\n<g id=\"node9\" class=\"node\">\n<title>134026081351312</title>\n<polygon fill=\"none\" stroke=\"black\" points=\"708.5,-137.5 708.5,-173.5 908.5,-173.5 908.5,-137.5 708.5,-137.5\"/>\n<text text-anchor=\"middle\" x=\"727.5\" y=\"-151.8\" font-family=\"Times,serif\" font-size=\"14.00\">bias</text>\n<polyline fill=\"none\" stroke=\"black\" points=\"746.5,-137.5 746.5,-173.5 \"/>\n<text text-anchor=\"middle\" x=\"786.5\" y=\"-151.8\" font-family=\"Times,serif\" font-size=\"14.00\">data 6.8814</text>\n<polyline fill=\"none\" stroke=\"black\" points=\"826.5,-137.5 826.5,-173.5 \"/>\n<text text-anchor=\"middle\" x=\"867.5\" y=\"-151.8\" font-family=\"Times,serif\" font-size=\"14.00\">grad 0.0000</text>\n</g>\n<!-- 134026081351312&#45;&gt;134026081349392+ -->\n<g id=\"edge9\" class=\"edge\">\n<title>134026081351312&#45;&gt;134026081349392+</title>\n<path fill=\"none\" stroke=\"black\" d=\"M908.54,-141.46C930.96,-138.28 953.36,-135.1 971.12,-132.59\"/>\n<polygon fill=\"black\" stroke=\"black\" points=\"971.86,-136.02 981.27,-131.15 970.88,-129.09 971.86,-136.02\"/>\n</g>\n<!-- 134026081348752 -->\n<g id=\"node10\" class=\"node\">\n<title>134026081348752</title>\n<polygon fill=\"none\" stroke=\"black\" points=\"2.5,-165.5 2.5,-201.5 197.5,-201.5 197.5,-165.5 2.5,-165.5\"/>\n<text text-anchor=\"middle\" x=\"19\" y=\"-179.8\" font-family=\"Times,serif\" font-size=\"14.00\">w2</text>\n<polyline fill=\"none\" stroke=\"black\" points=\"35.5,-165.5 35.5,-201.5 \"/>\n<text text-anchor=\"middle\" x=\"75.5\" y=\"-179.8\" font-family=\"Times,serif\" font-size=\"14.00\">data 1.0000</text>\n<polyline fill=\"none\" stroke=\"black\" points=\"115.5,-165.5 115.5,-201.5 \"/>\n<text text-anchor=\"middle\" x=\"156.5\" y=\"-179.8\" font-family=\"Times,serif\" font-size=\"14.00\">grad 0.0000</text>\n</g>\n<!-- 134026081348752&#45;&gt;134026081352784* -->\n<g id=\"edge7\" class=\"edge\">\n<title>134026081348752&#45;&gt;134026081352784*</title>\n<path fill=\"none\" stroke=\"black\" d=\"M172.53,-165.44C181.84,-162.67 191.2,-159.67 200,-156.5 210.53,-152.71 221.75,-147.9 231.72,-143.33\"/>\n<polygon fill=\"black\" stroke=\"black\" points=\"233.25,-146.48 240.82,-139.07 230.28,-140.14 233.25,-146.48\"/>\n</g>\n<!-- 134026082917072 -->\n<g id=\"node11\" class=\"node\">\n<title>134026082917072</title>\n<polygon fill=\"none\" stroke=\"black\" points=\"0,-55.5 0,-91.5 200,-91.5 200,-55.5 0,-55.5\"/>\n<text text-anchor=\"middle\" x=\"16.5\" y=\"-69.8\" font-family=\"Times,serif\" font-size=\"14.00\">w1</text>\n<polyline fill=\"none\" stroke=\"black\" points=\"33,-55.5 33,-91.5 \"/>\n<text text-anchor=\"middle\" x=\"75.5\" y=\"-69.8\" font-family=\"Times,serif\" font-size=\"14.00\">data &#45;3.0000</text>\n<polyline fill=\"none\" stroke=\"black\" points=\"118,-55.5 118,-91.5 \"/>\n<text text-anchor=\"middle\" x=\"159\" y=\"-69.8\" font-family=\"Times,serif\" font-size=\"14.00\">grad 0.0000</text>\n</g>\n<!-- 134026082917072&#45;&gt;134026082839056* -->\n<g id=\"edge10\" class=\"edge\">\n<title>134026082917072&#45;&gt;134026082839056*</title>\n<path fill=\"none\" stroke=\"black\" d=\"M200.21,-73.5C209.2,-73.5 217.86,-73.5 225.7,-73.5\"/>\n<polygon fill=\"black\" stroke=\"black\" points=\"225.85,-77 235.85,-73.5 225.85,-70 225.85,-77\"/>\n</g>\n<!-- 134026082799312 -->\n<g id=\"node12\" class=\"node\">\n<title>134026082799312</title>\n<polygon fill=\"none\" stroke=\"black\" points=\"4,-110.5 4,-146.5 196,-146.5 196,-110.5 4,-110.5\"/>\n<text text-anchor=\"middle\" x=\"19\" y=\"-124.8\" font-family=\"Times,serif\" font-size=\"14.00\">x2</text>\n<polyline fill=\"none\" stroke=\"black\" points=\"34,-110.5 34,-146.5 \"/>\n<text text-anchor=\"middle\" x=\"74\" y=\"-124.8\" font-family=\"Times,serif\" font-size=\"14.00\">data 0.0000</text>\n<polyline fill=\"none\" stroke=\"black\" points=\"114,-110.5 114,-146.5 \"/>\n<text text-anchor=\"middle\" x=\"155\" y=\"-124.8\" font-family=\"Times,serif\" font-size=\"14.00\">grad 0.0000</text>\n</g>\n<!-- 134026082799312&#45;&gt;134026081352784* -->\n<g id=\"edge12\" class=\"edge\">\n<title>134026082799312&#45;&gt;134026081352784*</title>\n<path fill=\"none\" stroke=\"black\" d=\"M196.05,-128.5C206.52,-128.5 216.65,-128.5 225.71,-128.5\"/>\n<polygon fill=\"black\" stroke=\"black\" points=\"225.79,-132 235.79,-128.5 225.79,-125 225.79,-132\"/>\n</g>\n<!-- 134026081349392 -->\n<g id=\"node13\" class=\"node\">\n<title>134026081349392</title>\n<polygon fill=\"none\" stroke=\"black\" points=\"1071,-109.5 1071,-145.5 1256,-145.5 1256,-109.5 1071,-109.5\"/>\n<text text-anchor=\"middle\" x=\"1082.5\" y=\"-123.8\" font-family=\"Times,serif\" font-size=\"14.00\">n</text>\n<polyline fill=\"none\" stroke=\"black\" points=\"1094,-109.5 1094,-145.5 \"/>\n<text text-anchor=\"middle\" x=\"1134\" y=\"-123.8\" font-family=\"Times,serif\" font-size=\"14.00\">data 0.8814</text>\n<polyline fill=\"none\" stroke=\"black\" points=\"1174,-109.5 1174,-145.5 \"/>\n<text text-anchor=\"middle\" x=\"1215\" y=\"-123.8\" font-family=\"Times,serif\" font-size=\"14.00\">grad 0.0000</text>\n</g>\n<!-- 134026081349392&#45;&gt;134026082328656tanh -->\n<g id=\"edge11\" class=\"edge\">\n<title>134026081349392&#45;&gt;134026082328656tanh</title>\n<path fill=\"none\" stroke=\"black\" d=\"M1256.01,-127.5C1265.01,-127.5 1273.74,-127.5 1281.66,-127.5\"/>\n<polygon fill=\"black\" stroke=\"black\" points=\"1281.91,-131 1291.91,-127.5 1281.91,-124 1281.91,-131\"/>\n</g>\n<!-- 134026081349392+&#45;&gt;134026081349392 -->\n<g id=\"edge5\" class=\"edge\">\n<title>134026081349392+&#45;&gt;134026081349392</title>\n<path fill=\"none\" stroke=\"black\" d=\"M1035.04,-127.5C1042.58,-127.5 1051.3,-127.5 1060.57,-127.5\"/>\n<polygon fill=\"black\" stroke=\"black\" points=\"1060.81,-131 1070.81,-127.5 1060.81,-124 1060.81,-131\"/>\n</g>\n<!-- 134026081238800 -->\n<g id=\"node15\" class=\"node\">\n<title>134026081238800</title>\n<polygon fill=\"none\" stroke=\"black\" points=\"4,-0.5 4,-36.5 196,-36.5 196,-0.5 4,-0.5\"/>\n<text text-anchor=\"middle\" x=\"19\" y=\"-14.8\" font-family=\"Times,serif\" font-size=\"14.00\">x1</text>\n<polyline fill=\"none\" stroke=\"black\" points=\"34,-0.5 34,-36.5 \"/>\n<text text-anchor=\"middle\" x=\"74\" y=\"-14.8\" font-family=\"Times,serif\" font-size=\"14.00\">data 2.0000</text>\n<polyline fill=\"none\" stroke=\"black\" points=\"114,-0.5 114,-36.5 \"/>\n<text text-anchor=\"middle\" x=\"155\" y=\"-14.8\" font-family=\"Times,serif\" font-size=\"14.00\">grad 0.0000</text>\n</g>\n<!-- 134026081238800&#45;&gt;134026082839056* -->\n<g id=\"edge6\" class=\"edge\">\n<title>134026081238800&#45;&gt;134026082839056*</title>\n<path fill=\"none\" stroke=\"black\" d=\"M169.28,-36.5C179.65,-39.61 190.16,-42.98 200,-46.5 210.28,-50.17 221.28,-54.74 231.11,-59.07\"/>\n<polygon fill=\"black\" stroke=\"black\" points=\"229.93,-62.37 240.48,-63.27 232.79,-55.99 229.93,-62.37\"/>\n</g>\n</g>\n</svg>\n",
            "text/plain": [
              "<graphviz.graphs.Digraph at 0x79e560f4b150>"
            ]
          },
          "metadata": {},
          "execution_count": 67
        }
      ]
    },
    {
      "cell_type": "code",
      "source": [
        "# now we will again be manually backpropagating through this network and calculating the derivative of `out` w.r.t. x1,w1,x2,w2\n",
        "# but what we actually want is to calculate the gradient of w1 & w2 (the weights) coz that is what we will be adjusting in the actual neural net"
      ],
      "metadata": {
        "id": "y2Vssypc0uh6"
      },
      "execution_count": 68,
      "outputs": []
    },
    {
      "cell_type": "markdown",
      "source": [
        "$  \\frac{d}{dx}\\tanh x = 1 - \\tanh^2 x = \\operatorname{sech}^2 x = \\frac{1}{\\cosh^2 x} $\n",
        "\n",
        "\n",
        "So, we will be using the relation\n",
        "\n",
        "$ \\frac{d}{dx}\\tanh x = 1 - \\tanh^2 x $\n",
        "\n",
        "Since, $ n = w1x1 + w2x2 + bias $\n",
        "\n",
        "so the gradient will flow equally to bias and $ w1x1w2x2 $ node\n",
        "\n",
        "and for same reason $ x1w1 $ and $ x2w2 $ will get the same weight\n",
        "\n",
        "from chain rule, we can also calculate the gradient of $ x1 $, $ w1 $, $ x2 $ & $ w2 $, i.e. ,\n",
        "\n",
        "$ \\frac{d}{dx2}(out) =  \\frac{d(x2w2)}{dx2} \\cdot \\frac{d}{d(x2w2)}(out) = w2 \\cdot \\frac{d}{d(x2w2)}(out) $\n",
        "\n",
        "& with similar reasoning we can find out the gradients of $ w1, x1, w2 $"
      ],
      "metadata": {
        "id": "mpp4YV1z2BVj"
      }
    },
    {
      "cell_type": "code",
      "source": [
        "1 - out.data**2"
      ],
      "metadata": {
        "colab": {
          "base_uri": "https://localhost:8080/"
        },
        "id": "0IqQOPHb3tfl",
        "outputId": "74024431-0612-46b3-bcbf-bb651ae23b0b"
      },
      "execution_count": 69,
      "outputs": [
        {
          "output_type": "execute_result",
          "data": {
            "text/plain": [
              "0.4999999999999999"
            ]
          },
          "metadata": {},
          "execution_count": 69
        }
      ]
    },
    {
      "cell_type": "code",
      "source": [
        "out.grad = 1\n",
        "n.grad = 0.5\n",
        "\n",
        "x1w1x2w2.grad = 0.5\n",
        "bias.grad = 0.5\n",
        "\n",
        "x1w1.grad = 0.5\n",
        "x2w2.grad = 0.5\n",
        "\n",
        "x2.grad = w2.data * x2w2.grad\n",
        "w2.grad = x2.data * x2w2.grad\n",
        "\n",
        "x1.grad = w1.data * x1w1.grad\n",
        "w1.grad = x1.data * x1w1.grad\n",
        "\n",
        "draw_graph(out)"
      ],
      "metadata": {
        "colab": {
          "base_uri": "https://localhost:8080/",
          "height": 321
        },
        "id": "eT13k4fx2Gws",
        "outputId": "7dd3de04-ba2a-45fe-ca16-d5628e9d1ca1"
      },
      "execution_count": 70,
      "outputs": [
        {
          "output_type": "execute_result",
          "data": {
            "image/svg+xml": "<?xml version=\"1.0\" encoding=\"UTF-8\" standalone=\"no\"?>\n<!DOCTYPE svg PUBLIC \"-//W3C//DTD SVG 1.1//EN\"\n \"http://www.w3.org/Graphics/SVG/1.1/DTD/svg11.dtd\">\n<!-- Generated by graphviz version 2.43.0 (0)\n -->\n<!-- Title: %3 Pages: 1 -->\n<svg width=\"1586pt\" height=\"210pt\"\n viewBox=\"0.00 0.00 1586.00 210.00\" xmlns=\"http://www.w3.org/2000/svg\" xmlns:xlink=\"http://www.w3.org/1999/xlink\">\n<g id=\"graph0\" class=\"graph\" transform=\"scale(1 1) rotate(0) translate(4 206)\">\n<title>%3</title>\n<polygon fill=\"white\" stroke=\"transparent\" points=\"-4,4 -4,-206 1582,-206 1582,4 -4,4\"/>\n<!-- 134026082839056 -->\n<g id=\"node1\" class=\"node\">\n<title>134026082839056</title>\n<polygon fill=\"none\" stroke=\"black\" points=\"326,-55.5 326,-91.5 546,-91.5 546,-55.5 326,-55.5\"/>\n<text text-anchor=\"middle\" x=\"352.5\" y=\"-69.8\" font-family=\"Times,serif\" font-size=\"14.00\">x1*w1</text>\n<polyline fill=\"none\" stroke=\"black\" points=\"379,-55.5 379,-91.5 \"/>\n<text text-anchor=\"middle\" x=\"421.5\" y=\"-69.8\" font-family=\"Times,serif\" font-size=\"14.00\">data &#45;6.0000</text>\n<polyline fill=\"none\" stroke=\"black\" points=\"464,-55.5 464,-91.5 \"/>\n<text text-anchor=\"middle\" x=\"505\" y=\"-69.8\" font-family=\"Times,serif\" font-size=\"14.00\">grad 0.5000</text>\n</g>\n<!-- 134026081333328+ -->\n<g id=\"node4\" class=\"node\">\n<title>134026081333328+</title>\n<ellipse fill=\"none\" stroke=\"black\" cx=\"609\" cy=\"-100.5\" rx=\"27\" ry=\"18\"/>\n<text text-anchor=\"middle\" x=\"609\" y=\"-96.8\" font-family=\"Times,serif\" font-size=\"14.00\">+</text>\n</g>\n<!-- 134026082839056&#45;&gt;134026081333328+ -->\n<g id=\"edge14\" class=\"edge\">\n<title>134026082839056&#45;&gt;134026081333328+</title>\n<path fill=\"none\" stroke=\"black\" d=\"M546.27,-90.75C555.64,-92.23 564.6,-93.65 572.65,-94.92\"/>\n<polygon fill=\"black\" stroke=\"black\" points=\"572.23,-98.4 582.65,-96.5 573.32,-91.48 572.23,-98.4\"/>\n</g>\n<!-- 134026082839056* -->\n<g id=\"node2\" class=\"node\">\n<title>134026082839056*</title>\n<ellipse fill=\"none\" stroke=\"black\" cx=\"263\" cy=\"-73.5\" rx=\"27\" ry=\"18\"/>\n<text text-anchor=\"middle\" x=\"263\" y=\"-69.8\" font-family=\"Times,serif\" font-size=\"14.00\">*</text>\n</g>\n<!-- 134026082839056*&#45;&gt;134026082839056 -->\n<g id=\"edge1\" class=\"edge\">\n<title>134026082839056*&#45;&gt;134026082839056</title>\n<path fill=\"none\" stroke=\"black\" d=\"M290.34,-73.5C297.77,-73.5 306.37,-73.5 315.6,-73.5\"/>\n<polygon fill=\"black\" stroke=\"black\" points=\"315.84,-77 325.84,-73.5 315.84,-70 315.84,-77\"/>\n</g>\n<!-- 134026081333328 -->\n<g id=\"node3\" class=\"node\">\n<title>134026081333328</title>\n<polygon fill=\"none\" stroke=\"black\" points=\"672,-82.5 672,-118.5 945,-118.5 945,-82.5 672,-82.5\"/>\n<text text-anchor=\"middle\" x=\"725\" y=\"-96.8\" font-family=\"Times,serif\" font-size=\"14.00\">x1*w1 + x2*w2</text>\n<polyline fill=\"none\" stroke=\"black\" points=\"778,-82.5 778,-118.5 \"/>\n<text text-anchor=\"middle\" x=\"820.5\" y=\"-96.8\" font-family=\"Times,serif\" font-size=\"14.00\">data &#45;6.0000</text>\n<polyline fill=\"none\" stroke=\"black\" points=\"863,-82.5 863,-118.5 \"/>\n<text text-anchor=\"middle\" x=\"904\" y=\"-96.8\" font-family=\"Times,serif\" font-size=\"14.00\">grad 0.5000</text>\n</g>\n<!-- 134026081349392+ -->\n<g id=\"node14\" class=\"node\">\n<title>134026081349392+</title>\n<ellipse fill=\"none\" stroke=\"black\" cx=\"1008\" cy=\"-127.5\" rx=\"27\" ry=\"18\"/>\n<text text-anchor=\"middle\" x=\"1008\" y=\"-123.8\" font-family=\"Times,serif\" font-size=\"14.00\">+</text>\n</g>\n<!-- 134026081333328&#45;&gt;134026081349392+ -->\n<g id=\"edge8\" class=\"edge\">\n<title>134026081333328&#45;&gt;134026081349392+</title>\n<path fill=\"none\" stroke=\"black\" d=\"M941.24,-118.51C952.12,-120 962.4,-121.4 971.45,-122.64\"/>\n<polygon fill=\"black\" stroke=\"black\" points=\"971.11,-126.13 981.49,-124.01 972.05,-119.19 971.11,-126.13\"/>\n</g>\n<!-- 134026081333328+&#45;&gt;134026081333328 -->\n<g id=\"edge2\" class=\"edge\">\n<title>134026081333328+&#45;&gt;134026081333328</title>\n<path fill=\"none\" stroke=\"black\" d=\"M636.23,-100.5C643.7,-100.5 652.41,-100.5 661.87,-100.5\"/>\n<polygon fill=\"black\" stroke=\"black\" points=\"661.98,-104 671.98,-100.5 661.98,-97 661.98,-104\"/>\n</g>\n<!-- 134026082328656 -->\n<g id=\"node5\" class=\"node\">\n<title>134026082328656</title>\n<polygon fill=\"none\" stroke=\"black\" points=\"1382,-109.5 1382,-145.5 1578,-145.5 1578,-109.5 1382,-109.5\"/>\n<text text-anchor=\"middle\" x=\"1399\" y=\"-123.8\" font-family=\"Times,serif\" font-size=\"14.00\">out</text>\n<polyline fill=\"none\" stroke=\"black\" points=\"1416,-109.5 1416,-145.5 \"/>\n<text text-anchor=\"middle\" x=\"1456\" y=\"-123.8\" font-family=\"Times,serif\" font-size=\"14.00\">data 0.7071</text>\n<polyline fill=\"none\" stroke=\"black\" points=\"1496,-109.5 1496,-145.5 \"/>\n<text text-anchor=\"middle\" x=\"1537\" y=\"-123.8\" font-family=\"Times,serif\" font-size=\"14.00\">grad 1.0000</text>\n</g>\n<!-- 134026082328656tanh -->\n<g id=\"node6\" class=\"node\">\n<title>134026082328656tanh</title>\n<ellipse fill=\"none\" stroke=\"black\" cx=\"1319\" cy=\"-127.5\" rx=\"27\" ry=\"18\"/>\n<text text-anchor=\"middle\" x=\"1319\" y=\"-123.8\" font-family=\"Times,serif\" font-size=\"14.00\">tanh</text>\n</g>\n<!-- 134026082328656tanh&#45;&gt;134026082328656 -->\n<g id=\"edge3\" class=\"edge\">\n<title>134026082328656tanh&#45;&gt;134026082328656</title>\n<path fill=\"none\" stroke=\"black\" d=\"M1346.26,-127.5C1353.77,-127.5 1362.46,-127.5 1371.72,-127.5\"/>\n<polygon fill=\"black\" stroke=\"black\" points=\"1371.97,-131 1381.97,-127.5 1371.97,-124 1371.97,-131\"/>\n</g>\n<!-- 134026081352784 -->\n<g id=\"node7\" class=\"node\">\n<title>134026081352784</title>\n<polygon fill=\"none\" stroke=\"black\" points=\"328.5,-110.5 328.5,-146.5 543.5,-146.5 543.5,-110.5 328.5,-110.5\"/>\n<text text-anchor=\"middle\" x=\"355\" y=\"-124.8\" font-family=\"Times,serif\" font-size=\"14.00\">x2*w2</text>\n<polyline fill=\"none\" stroke=\"black\" points=\"381.5,-110.5 381.5,-146.5 \"/>\n<text text-anchor=\"middle\" x=\"421.5\" y=\"-124.8\" font-family=\"Times,serif\" font-size=\"14.00\">data 0.0000</text>\n<polyline fill=\"none\" stroke=\"black\" points=\"461.5,-110.5 461.5,-146.5 \"/>\n<text text-anchor=\"middle\" x=\"502.5\" y=\"-124.8\" font-family=\"Times,serif\" font-size=\"14.00\">grad 0.5000</text>\n</g>\n<!-- 134026081352784&#45;&gt;134026081333328+ -->\n<g id=\"edge13\" class=\"edge\">\n<title>134026081352784&#45;&gt;134026081333328+</title>\n<path fill=\"none\" stroke=\"black\" d=\"M543.84,-111.01C554.01,-109.34 563.76,-107.74 572.44,-106.32\"/>\n<polygon fill=\"black\" stroke=\"black\" points=\"573.17,-109.75 582.47,-104.68 572.04,-102.84 573.17,-109.75\"/>\n</g>\n<!-- 134026081352784* -->\n<g id=\"node8\" class=\"node\">\n<title>134026081352784*</title>\n<ellipse fill=\"none\" stroke=\"black\" cx=\"263\" cy=\"-128.5\" rx=\"27\" ry=\"18\"/>\n<text text-anchor=\"middle\" x=\"263\" y=\"-124.8\" font-family=\"Times,serif\" font-size=\"14.00\">*</text>\n</g>\n<!-- 134026081352784*&#45;&gt;134026081352784 -->\n<g id=\"edge4\" class=\"edge\">\n<title>134026081352784*&#45;&gt;134026081352784</title>\n<path fill=\"none\" stroke=\"black\" d=\"M290.34,-128.5C298.51,-128.5 308.08,-128.5 318.36,-128.5\"/>\n<polygon fill=\"black\" stroke=\"black\" points=\"318.39,-132 328.39,-128.5 318.39,-125 318.39,-132\"/>\n</g>\n<!-- 134026081351312 -->\n<g id=\"node9\" class=\"node\">\n<title>134026081351312</title>\n<polygon fill=\"none\" stroke=\"black\" points=\"708.5,-137.5 708.5,-173.5 908.5,-173.5 908.5,-137.5 708.5,-137.5\"/>\n<text text-anchor=\"middle\" x=\"727.5\" y=\"-151.8\" font-family=\"Times,serif\" font-size=\"14.00\">bias</text>\n<polyline fill=\"none\" stroke=\"black\" points=\"746.5,-137.5 746.5,-173.5 \"/>\n<text text-anchor=\"middle\" x=\"786.5\" y=\"-151.8\" font-family=\"Times,serif\" font-size=\"14.00\">data 6.8814</text>\n<polyline fill=\"none\" stroke=\"black\" points=\"826.5,-137.5 826.5,-173.5 \"/>\n<text text-anchor=\"middle\" x=\"867.5\" y=\"-151.8\" font-family=\"Times,serif\" font-size=\"14.00\">grad 0.5000</text>\n</g>\n<!-- 134026081351312&#45;&gt;134026081349392+ -->\n<g id=\"edge9\" class=\"edge\">\n<title>134026081351312&#45;&gt;134026081349392+</title>\n<path fill=\"none\" stroke=\"black\" d=\"M908.54,-141.46C930.96,-138.28 953.36,-135.1 971.12,-132.59\"/>\n<polygon fill=\"black\" stroke=\"black\" points=\"971.86,-136.02 981.27,-131.15 970.88,-129.09 971.86,-136.02\"/>\n</g>\n<!-- 134026081348752 -->\n<g id=\"node10\" class=\"node\">\n<title>134026081348752</title>\n<polygon fill=\"none\" stroke=\"black\" points=\"2.5,-165.5 2.5,-201.5 197.5,-201.5 197.5,-165.5 2.5,-165.5\"/>\n<text text-anchor=\"middle\" x=\"19\" y=\"-179.8\" font-family=\"Times,serif\" font-size=\"14.00\">w2</text>\n<polyline fill=\"none\" stroke=\"black\" points=\"35.5,-165.5 35.5,-201.5 \"/>\n<text text-anchor=\"middle\" x=\"75.5\" y=\"-179.8\" font-family=\"Times,serif\" font-size=\"14.00\">data 1.0000</text>\n<polyline fill=\"none\" stroke=\"black\" points=\"115.5,-165.5 115.5,-201.5 \"/>\n<text text-anchor=\"middle\" x=\"156.5\" y=\"-179.8\" font-family=\"Times,serif\" font-size=\"14.00\">grad 0.0000</text>\n</g>\n<!-- 134026081348752&#45;&gt;134026081352784* -->\n<g id=\"edge7\" class=\"edge\">\n<title>134026081348752&#45;&gt;134026081352784*</title>\n<path fill=\"none\" stroke=\"black\" d=\"M172.53,-165.44C181.84,-162.67 191.2,-159.67 200,-156.5 210.53,-152.71 221.75,-147.9 231.72,-143.33\"/>\n<polygon fill=\"black\" stroke=\"black\" points=\"233.25,-146.48 240.82,-139.07 230.28,-140.14 233.25,-146.48\"/>\n</g>\n<!-- 134026082917072 -->\n<g id=\"node11\" class=\"node\">\n<title>134026082917072</title>\n<polygon fill=\"none\" stroke=\"black\" points=\"0,-55.5 0,-91.5 200,-91.5 200,-55.5 0,-55.5\"/>\n<text text-anchor=\"middle\" x=\"16.5\" y=\"-69.8\" font-family=\"Times,serif\" font-size=\"14.00\">w1</text>\n<polyline fill=\"none\" stroke=\"black\" points=\"33,-55.5 33,-91.5 \"/>\n<text text-anchor=\"middle\" x=\"75.5\" y=\"-69.8\" font-family=\"Times,serif\" font-size=\"14.00\">data &#45;3.0000</text>\n<polyline fill=\"none\" stroke=\"black\" points=\"118,-55.5 118,-91.5 \"/>\n<text text-anchor=\"middle\" x=\"159\" y=\"-69.8\" font-family=\"Times,serif\" font-size=\"14.00\">grad 1.0000</text>\n</g>\n<!-- 134026082917072&#45;&gt;134026082839056* -->\n<g id=\"edge10\" class=\"edge\">\n<title>134026082917072&#45;&gt;134026082839056*</title>\n<path fill=\"none\" stroke=\"black\" d=\"M200.21,-73.5C209.2,-73.5 217.86,-73.5 225.7,-73.5\"/>\n<polygon fill=\"black\" stroke=\"black\" points=\"225.85,-77 235.85,-73.5 225.85,-70 225.85,-77\"/>\n</g>\n<!-- 134026082799312 -->\n<g id=\"node12\" class=\"node\">\n<title>134026082799312</title>\n<polygon fill=\"none\" stroke=\"black\" points=\"4,-110.5 4,-146.5 196,-146.5 196,-110.5 4,-110.5\"/>\n<text text-anchor=\"middle\" x=\"19\" y=\"-124.8\" font-family=\"Times,serif\" font-size=\"14.00\">x2</text>\n<polyline fill=\"none\" stroke=\"black\" points=\"34,-110.5 34,-146.5 \"/>\n<text text-anchor=\"middle\" x=\"74\" y=\"-124.8\" font-family=\"Times,serif\" font-size=\"14.00\">data 0.0000</text>\n<polyline fill=\"none\" stroke=\"black\" points=\"114,-110.5 114,-146.5 \"/>\n<text text-anchor=\"middle\" x=\"155\" y=\"-124.8\" font-family=\"Times,serif\" font-size=\"14.00\">grad 0.5000</text>\n</g>\n<!-- 134026082799312&#45;&gt;134026081352784* -->\n<g id=\"edge12\" class=\"edge\">\n<title>134026082799312&#45;&gt;134026081352784*</title>\n<path fill=\"none\" stroke=\"black\" d=\"M196.05,-128.5C206.52,-128.5 216.65,-128.5 225.71,-128.5\"/>\n<polygon fill=\"black\" stroke=\"black\" points=\"225.79,-132 235.79,-128.5 225.79,-125 225.79,-132\"/>\n</g>\n<!-- 134026081349392 -->\n<g id=\"node13\" class=\"node\">\n<title>134026081349392</title>\n<polygon fill=\"none\" stroke=\"black\" points=\"1071,-109.5 1071,-145.5 1256,-145.5 1256,-109.5 1071,-109.5\"/>\n<text text-anchor=\"middle\" x=\"1082.5\" y=\"-123.8\" font-family=\"Times,serif\" font-size=\"14.00\">n</text>\n<polyline fill=\"none\" stroke=\"black\" points=\"1094,-109.5 1094,-145.5 \"/>\n<text text-anchor=\"middle\" x=\"1134\" y=\"-123.8\" font-family=\"Times,serif\" font-size=\"14.00\">data 0.8814</text>\n<polyline fill=\"none\" stroke=\"black\" points=\"1174,-109.5 1174,-145.5 \"/>\n<text text-anchor=\"middle\" x=\"1215\" y=\"-123.8\" font-family=\"Times,serif\" font-size=\"14.00\">grad 0.5000</text>\n</g>\n<!-- 134026081349392&#45;&gt;134026082328656tanh -->\n<g id=\"edge11\" class=\"edge\">\n<title>134026081349392&#45;&gt;134026082328656tanh</title>\n<path fill=\"none\" stroke=\"black\" d=\"M1256.01,-127.5C1265.01,-127.5 1273.74,-127.5 1281.66,-127.5\"/>\n<polygon fill=\"black\" stroke=\"black\" points=\"1281.91,-131 1291.91,-127.5 1281.91,-124 1281.91,-131\"/>\n</g>\n<!-- 134026081349392+&#45;&gt;134026081349392 -->\n<g id=\"edge5\" class=\"edge\">\n<title>134026081349392+&#45;&gt;134026081349392</title>\n<path fill=\"none\" stroke=\"black\" d=\"M1035.04,-127.5C1042.58,-127.5 1051.3,-127.5 1060.57,-127.5\"/>\n<polygon fill=\"black\" stroke=\"black\" points=\"1060.81,-131 1070.81,-127.5 1060.81,-124 1060.81,-131\"/>\n</g>\n<!-- 134026081238800 -->\n<g id=\"node15\" class=\"node\">\n<title>134026081238800</title>\n<polygon fill=\"none\" stroke=\"black\" points=\"2,-0.5 2,-36.5 198,-36.5 198,-0.5 2,-0.5\"/>\n<text text-anchor=\"middle\" x=\"17\" y=\"-14.8\" font-family=\"Times,serif\" font-size=\"14.00\">x1</text>\n<polyline fill=\"none\" stroke=\"black\" points=\"32,-0.5 32,-36.5 \"/>\n<text text-anchor=\"middle\" x=\"72\" y=\"-14.8\" font-family=\"Times,serif\" font-size=\"14.00\">data 2.0000</text>\n<polyline fill=\"none\" stroke=\"black\" points=\"112,-0.5 112,-36.5 \"/>\n<text text-anchor=\"middle\" x=\"155\" y=\"-14.8\" font-family=\"Times,serif\" font-size=\"14.00\">grad &#45;1.5000</text>\n</g>\n<!-- 134026081238800&#45;&gt;134026082839056* -->\n<g id=\"edge6\" class=\"edge\">\n<title>134026081238800&#45;&gt;134026082839056*</title>\n<path fill=\"none\" stroke=\"black\" d=\"M169.28,-36.5C179.65,-39.61 190.16,-42.98 200,-46.5 210.28,-50.17 221.28,-54.74 231.11,-59.07\"/>\n<polygon fill=\"black\" stroke=\"black\" points=\"229.93,-62.37 240.48,-63.27 232.79,-55.99 229.93,-62.37\"/>\n</g>\n</g>\n</svg>\n",
            "text/plain": [
              "<graphviz.graphs.Digraph at 0x79e560f81390>"
            ]
          },
          "metadata": {},
          "execution_count": 70
        }
      ]
    },
    {
      "cell_type": "code",
      "source": [
        "# now lets add another method to our Value class called _backward which does backpropagation for us and assigns the gradient values for us\n",
        "\n",
        "class Value:\n",
        "  def __init__(self, data, _children=(), _op='', _label=''):\n",
        "    self.data = data\n",
        "    self.grad = 0.0\n",
        "    self._prev = set(_children)\n",
        "    self._op = _op\n",
        "    self._label = _label\n",
        "    self._backward = lambda: None\n",
        "\n",
        "  def __repr__(self):\n",
        "    return f\"Value(data={self.data})\"\n",
        "\n",
        "  def __add__(self, other):\n",
        "    out = Value(self.data + other.data, (self, other), '+')\n",
        "\n",
        "    def _backward():\n",
        "      self.grad = 1.0 * out.grad    # as the addition operation just results in the transfer of same gradient from its outputs to its inputs\n",
        "      other.grad = 1.0 * out.grad\n",
        "\n",
        "    out._backward = _backward\n",
        "\n",
        "    return out\n",
        "\n",
        "  def __mul__(self, other):\n",
        "    out = Value(self.data * other.data, (self, other), '*')\n",
        "\n",
        "    def _backward():\n",
        "      self.grad = other.data * out.grad   # as explained above in chain rule\n",
        "      other.grad = self.data * out.grad\n",
        "\n",
        "    out._backward = _backward\n",
        "\n",
        "    return out\n",
        "\n",
        "  def tanh(self):\n",
        "    x = self.data\n",
        "    t = (math.exp(2*x) - 1)/(math.exp(2*x) + 1)\n",
        "    out = Value(t, _children=(self,), _op='tanh')\n",
        "\n",
        "    def _backward():\n",
        "      self.grad = (1 - t**2) * out.grad   # using the chain rule and exponential derivative of tanh\n",
        "\n",
        "    out._backward = _backward\n",
        "\n",
        "    return out"
      ],
      "metadata": {
        "id": "b9dqzyOp_Nn2"
      },
      "execution_count": 71,
      "outputs": []
    },
    {
      "cell_type": "code",
      "source": [
        "# now lets use the previous expression and values to re-evaluate the same derivatives so that we know its correct\n",
        "\n",
        "# inputs\n",
        "x1 = Value(2.0, _label='x1')#\n",
        "x2 = Value(0.0, _label='x2')\n",
        "\n",
        "# weights\n",
        "w1 = Value(-3.0, _label='w1')\n",
        "w2 = Value(1.0, _label='w2')\n",
        "\n",
        "# bias of the neuron\n",
        "bias = Value(6.8813735870195432, _label='bias')\n",
        "\n",
        "x1w1 = x1*w1\n",
        "x2w2 = x2*w2\n",
        "\n",
        "x1w1._label = 'x1*w1'\n",
        "x2w2._label = 'x2*w2'\n",
        "\n",
        "# x1w1 + x2w2 + bias\n",
        "x1w1x2w2 = x1w1 + x2w2\n",
        "x1w1x2w2._label = 'x1*w1 + x2*w2'\n",
        "n = x1w1x2w2 + bias\n",
        "n._label = 'n'\n",
        "\n",
        "out = n.tanh()\n",
        "out._label = 'out'\n",
        "\n",
        "draw_graph(out)"
      ],
      "metadata": {
        "colab": {
          "base_uri": "https://localhost:8080/",
          "height": 321
        },
        "id": "-mqeXGWkCKvW",
        "outputId": "0bc295cd-7873-4c4c-910a-aac1c06db353"
      },
      "execution_count": 72,
      "outputs": [
        {
          "output_type": "execute_result",
          "data": {
            "image/svg+xml": "<?xml version=\"1.0\" encoding=\"UTF-8\" standalone=\"no\"?>\n<!DOCTYPE svg PUBLIC \"-//W3C//DTD SVG 1.1//EN\"\n \"http://www.w3.org/Graphics/SVG/1.1/DTD/svg11.dtd\">\n<!-- Generated by graphviz version 2.43.0 (0)\n -->\n<!-- Title: %3 Pages: 1 -->\n<svg width=\"1586pt\" height=\"210pt\"\n viewBox=\"0.00 0.00 1586.00 210.00\" xmlns=\"http://www.w3.org/2000/svg\" xmlns:xlink=\"http://www.w3.org/1999/xlink\">\n<g id=\"graph0\" class=\"graph\" transform=\"scale(1 1) rotate(0) translate(4 206)\">\n<title>%3</title>\n<polygon fill=\"white\" stroke=\"transparent\" points=\"-4,4 -4,-206 1582,-206 1582,4 -4,4\"/>\n<!-- 134026081567312 -->\n<g id=\"node1\" class=\"node\">\n<title>134026081567312</title>\n<polygon fill=\"none\" stroke=\"black\" points=\"1071,-54.5 1071,-90.5 1256,-90.5 1256,-54.5 1071,-54.5\"/>\n<text text-anchor=\"middle\" x=\"1082.5\" y=\"-68.8\" font-family=\"Times,serif\" font-size=\"14.00\">n</text>\n<polyline fill=\"none\" stroke=\"black\" points=\"1094,-54.5 1094,-90.5 \"/>\n<text text-anchor=\"middle\" x=\"1134\" y=\"-68.8\" font-family=\"Times,serif\" font-size=\"14.00\">data 0.8814</text>\n<polyline fill=\"none\" stroke=\"black\" points=\"1174,-54.5 1174,-90.5 \"/>\n<text text-anchor=\"middle\" x=\"1215\" y=\"-68.8\" font-family=\"Times,serif\" font-size=\"14.00\">grad 0.0000</text>\n</g>\n<!-- 134026081572688tanh -->\n<g id=\"node10\" class=\"node\">\n<title>134026081572688tanh</title>\n<ellipse fill=\"none\" stroke=\"black\" cx=\"1319\" cy=\"-72.5\" rx=\"27\" ry=\"18\"/>\n<text text-anchor=\"middle\" x=\"1319\" y=\"-68.8\" font-family=\"Times,serif\" font-size=\"14.00\">tanh</text>\n</g>\n<!-- 134026081567312&#45;&gt;134026081572688tanh -->\n<g id=\"edge9\" class=\"edge\">\n<title>134026081567312&#45;&gt;134026081572688tanh</title>\n<path fill=\"none\" stroke=\"black\" d=\"M1256.01,-72.5C1265.01,-72.5 1273.74,-72.5 1281.66,-72.5\"/>\n<polygon fill=\"black\" stroke=\"black\" points=\"1281.91,-76 1291.91,-72.5 1281.91,-69 1281.91,-76\"/>\n</g>\n<!-- 134026081567312+ -->\n<g id=\"node2\" class=\"node\">\n<title>134026081567312+</title>\n<ellipse fill=\"none\" stroke=\"black\" cx=\"1008\" cy=\"-72.5\" rx=\"27\" ry=\"18\"/>\n<text text-anchor=\"middle\" x=\"1008\" y=\"-68.8\" font-family=\"Times,serif\" font-size=\"14.00\">+</text>\n</g>\n<!-- 134026081567312+&#45;&gt;134026081567312 -->\n<g id=\"edge1\" class=\"edge\">\n<title>134026081567312+&#45;&gt;134026081567312</title>\n<path fill=\"none\" stroke=\"black\" d=\"M1035.04,-72.5C1042.58,-72.5 1051.3,-72.5 1060.57,-72.5\"/>\n<polygon fill=\"black\" stroke=\"black\" points=\"1060.81,-76 1070.81,-72.5 1060.81,-69 1060.81,-76\"/>\n</g>\n<!-- 134026082879568 -->\n<g id=\"node3\" class=\"node\">\n<title>134026082879568</title>\n<polygon fill=\"none\" stroke=\"black\" points=\"672,-82.5 672,-118.5 945,-118.5 945,-82.5 672,-82.5\"/>\n<text text-anchor=\"middle\" x=\"725\" y=\"-96.8\" font-family=\"Times,serif\" font-size=\"14.00\">x1*w1 + x2*w2</text>\n<polyline fill=\"none\" stroke=\"black\" points=\"778,-82.5 778,-118.5 \"/>\n<text text-anchor=\"middle\" x=\"820.5\" y=\"-96.8\" font-family=\"Times,serif\" font-size=\"14.00\">data &#45;6.0000</text>\n<polyline fill=\"none\" stroke=\"black\" points=\"863,-82.5 863,-118.5 \"/>\n<text text-anchor=\"middle\" x=\"904\" y=\"-96.8\" font-family=\"Times,serif\" font-size=\"14.00\">grad 0.0000</text>\n</g>\n<!-- 134026082879568&#45;&gt;134026081567312+ -->\n<g id=\"edge12\" class=\"edge\">\n<title>134026082879568&#45;&gt;134026081567312+</title>\n<path fill=\"none\" stroke=\"black\" d=\"M936.53,-82.49C949.09,-80.71 960.99,-79.02 971.3,-77.56\"/>\n<polygon fill=\"black\" stroke=\"black\" points=\"972.03,-80.99 981.44,-76.12 971.05,-74.06 972.03,-80.99\"/>\n</g>\n<!-- 134026082879568+ -->\n<g id=\"node4\" class=\"node\">\n<title>134026082879568+</title>\n<ellipse fill=\"none\" stroke=\"black\" cx=\"609\" cy=\"-100.5\" rx=\"27\" ry=\"18\"/>\n<text text-anchor=\"middle\" x=\"609\" y=\"-96.8\" font-family=\"Times,serif\" font-size=\"14.00\">+</text>\n</g>\n<!-- 134026082879568+&#45;&gt;134026082879568 -->\n<g id=\"edge2\" class=\"edge\">\n<title>134026082879568+&#45;&gt;134026082879568</title>\n<path fill=\"none\" stroke=\"black\" d=\"M636.23,-100.5C643.7,-100.5 652.41,-100.5 661.87,-100.5\"/>\n<polygon fill=\"black\" stroke=\"black\" points=\"661.98,-104 671.98,-100.5 661.98,-97 661.98,-104\"/>\n</g>\n<!-- 134026082926224 -->\n<g id=\"node5\" class=\"node\">\n<title>134026082926224</title>\n<polygon fill=\"none\" stroke=\"black\" points=\"708.5,-27.5 708.5,-63.5 908.5,-63.5 908.5,-27.5 708.5,-27.5\"/>\n<text text-anchor=\"middle\" x=\"727.5\" y=\"-41.8\" font-family=\"Times,serif\" font-size=\"14.00\">bias</text>\n<polyline fill=\"none\" stroke=\"black\" points=\"746.5,-27.5 746.5,-63.5 \"/>\n<text text-anchor=\"middle\" x=\"786.5\" y=\"-41.8\" font-family=\"Times,serif\" font-size=\"14.00\">data 6.8814</text>\n<polyline fill=\"none\" stroke=\"black\" points=\"826.5,-27.5 826.5,-63.5 \"/>\n<text text-anchor=\"middle\" x=\"867.5\" y=\"-41.8\" font-family=\"Times,serif\" font-size=\"14.00\">grad 0.0000</text>\n</g>\n<!-- 134026082926224&#45;&gt;134026081567312+ -->\n<g id=\"edge11\" class=\"edge\">\n<title>134026082926224&#45;&gt;134026081567312+</title>\n<path fill=\"none\" stroke=\"black\" d=\"M908.54,-59.04C930.96,-62.1 953.36,-65.17 971.12,-67.6\"/>\n<polygon fill=\"black\" stroke=\"black\" points=\"970.89,-71.1 981.27,-68.98 971.84,-64.16 970.89,-71.1\"/>\n</g>\n<!-- 134026081575568 -->\n<g id=\"node6\" class=\"node\">\n<title>134026081575568</title>\n<polygon fill=\"none\" stroke=\"black\" points=\"328.5,-110.5 328.5,-146.5 543.5,-146.5 543.5,-110.5 328.5,-110.5\"/>\n<text text-anchor=\"middle\" x=\"355\" y=\"-124.8\" font-family=\"Times,serif\" font-size=\"14.00\">x2*w2</text>\n<polyline fill=\"none\" stroke=\"black\" points=\"381.5,-110.5 381.5,-146.5 \"/>\n<text text-anchor=\"middle\" x=\"421.5\" y=\"-124.8\" font-family=\"Times,serif\" font-size=\"14.00\">data 0.0000</text>\n<polyline fill=\"none\" stroke=\"black\" points=\"461.5,-110.5 461.5,-146.5 \"/>\n<text text-anchor=\"middle\" x=\"502.5\" y=\"-124.8\" font-family=\"Times,serif\" font-size=\"14.00\">grad 0.0000</text>\n</g>\n<!-- 134026081575568&#45;&gt;134026082879568+ -->\n<g id=\"edge13\" class=\"edge\">\n<title>134026081575568&#45;&gt;134026082879568+</title>\n<path fill=\"none\" stroke=\"black\" d=\"M543.84,-111.01C554.01,-109.34 563.76,-107.74 572.44,-106.32\"/>\n<polygon fill=\"black\" stroke=\"black\" points=\"573.17,-109.75 582.47,-104.68 572.04,-102.84 573.17,-109.75\"/>\n</g>\n<!-- 134026081575568* -->\n<g id=\"node7\" class=\"node\">\n<title>134026081575568*</title>\n<ellipse fill=\"none\" stroke=\"black\" cx=\"263\" cy=\"-128.5\" rx=\"27\" ry=\"18\"/>\n<text text-anchor=\"middle\" x=\"263\" y=\"-124.8\" font-family=\"Times,serif\" font-size=\"14.00\">*</text>\n</g>\n<!-- 134026081575568*&#45;&gt;134026081575568 -->\n<g id=\"edge3\" class=\"edge\">\n<title>134026081575568*&#45;&gt;134026081575568</title>\n<path fill=\"none\" stroke=\"black\" d=\"M290.34,-128.5C298.51,-128.5 308.08,-128.5 318.36,-128.5\"/>\n<polygon fill=\"black\" stroke=\"black\" points=\"318.39,-132 328.39,-128.5 318.39,-125 318.39,-132\"/>\n</g>\n<!-- 134026082913040 -->\n<g id=\"node8\" class=\"node\">\n<title>134026082913040</title>\n<polygon fill=\"none\" stroke=\"black\" points=\"2.5,-165.5 2.5,-201.5 197.5,-201.5 197.5,-165.5 2.5,-165.5\"/>\n<text text-anchor=\"middle\" x=\"19\" y=\"-179.8\" font-family=\"Times,serif\" font-size=\"14.00\">w2</text>\n<polyline fill=\"none\" stroke=\"black\" points=\"35.5,-165.5 35.5,-201.5 \"/>\n<text text-anchor=\"middle\" x=\"75.5\" y=\"-179.8\" font-family=\"Times,serif\" font-size=\"14.00\">data 1.0000</text>\n<polyline fill=\"none\" stroke=\"black\" points=\"115.5,-165.5 115.5,-201.5 \"/>\n<text text-anchor=\"middle\" x=\"156.5\" y=\"-179.8\" font-family=\"Times,serif\" font-size=\"14.00\">grad 0.0000</text>\n</g>\n<!-- 134026082913040&#45;&gt;134026081575568* -->\n<g id=\"edge10\" class=\"edge\">\n<title>134026082913040&#45;&gt;134026081575568*</title>\n<path fill=\"none\" stroke=\"black\" d=\"M172.53,-165.44C181.84,-162.67 191.2,-159.67 200,-156.5 210.53,-152.71 221.75,-147.9 231.72,-143.33\"/>\n<polygon fill=\"black\" stroke=\"black\" points=\"233.25,-146.48 240.82,-139.07 230.28,-140.14 233.25,-146.48\"/>\n</g>\n<!-- 134026081572688 -->\n<g id=\"node9\" class=\"node\">\n<title>134026081572688</title>\n<polygon fill=\"none\" stroke=\"black\" points=\"1382,-54.5 1382,-90.5 1578,-90.5 1578,-54.5 1382,-54.5\"/>\n<text text-anchor=\"middle\" x=\"1399\" y=\"-68.8\" font-family=\"Times,serif\" font-size=\"14.00\">out</text>\n<polyline fill=\"none\" stroke=\"black\" points=\"1416,-54.5 1416,-90.5 \"/>\n<text text-anchor=\"middle\" x=\"1456\" y=\"-68.8\" font-family=\"Times,serif\" font-size=\"14.00\">data 0.7071</text>\n<polyline fill=\"none\" stroke=\"black\" points=\"1496,-54.5 1496,-90.5 \"/>\n<text text-anchor=\"middle\" x=\"1537\" y=\"-68.8\" font-family=\"Times,serif\" font-size=\"14.00\">grad 0.0000</text>\n</g>\n<!-- 134026081572688tanh&#45;&gt;134026081572688 -->\n<g id=\"edge4\" class=\"edge\">\n<title>134026081572688tanh&#45;&gt;134026081572688</title>\n<path fill=\"none\" stroke=\"black\" d=\"M1346.26,-72.5C1353.77,-72.5 1362.46,-72.5 1371.72,-72.5\"/>\n<polygon fill=\"black\" stroke=\"black\" points=\"1371.97,-76 1381.97,-72.5 1371.97,-69 1371.97,-76\"/>\n</g>\n<!-- 134026082880848 -->\n<g id=\"node11\" class=\"node\">\n<title>134026082880848</title>\n<polygon fill=\"none\" stroke=\"black\" points=\"4,-110.5 4,-146.5 196,-146.5 196,-110.5 4,-110.5\"/>\n<text text-anchor=\"middle\" x=\"19\" y=\"-124.8\" font-family=\"Times,serif\" font-size=\"14.00\">x2</text>\n<polyline fill=\"none\" stroke=\"black\" points=\"34,-110.5 34,-146.5 \"/>\n<text text-anchor=\"middle\" x=\"74\" y=\"-124.8\" font-family=\"Times,serif\" font-size=\"14.00\">data 0.0000</text>\n<polyline fill=\"none\" stroke=\"black\" points=\"114,-110.5 114,-146.5 \"/>\n<text text-anchor=\"middle\" x=\"155\" y=\"-124.8\" font-family=\"Times,serif\" font-size=\"14.00\">grad 0.0000</text>\n</g>\n<!-- 134026082880848&#45;&gt;134026081575568* -->\n<g id=\"edge6\" class=\"edge\">\n<title>134026082880848&#45;&gt;134026081575568*</title>\n<path fill=\"none\" stroke=\"black\" d=\"M196.05,-128.5C206.52,-128.5 216.65,-128.5 225.71,-128.5\"/>\n<polygon fill=\"black\" stroke=\"black\" points=\"225.79,-132 235.79,-128.5 225.79,-125 225.79,-132\"/>\n</g>\n<!-- 134026081570640 -->\n<g id=\"node12\" class=\"node\">\n<title>134026081570640</title>\n<polygon fill=\"none\" stroke=\"black\" points=\"326,-55.5 326,-91.5 546,-91.5 546,-55.5 326,-55.5\"/>\n<text text-anchor=\"middle\" x=\"352.5\" y=\"-69.8\" font-family=\"Times,serif\" font-size=\"14.00\">x1*w1</text>\n<polyline fill=\"none\" stroke=\"black\" points=\"379,-55.5 379,-91.5 \"/>\n<text text-anchor=\"middle\" x=\"421.5\" y=\"-69.8\" font-family=\"Times,serif\" font-size=\"14.00\">data &#45;6.0000</text>\n<polyline fill=\"none\" stroke=\"black\" points=\"464,-55.5 464,-91.5 \"/>\n<text text-anchor=\"middle\" x=\"505\" y=\"-69.8\" font-family=\"Times,serif\" font-size=\"14.00\">grad 0.0000</text>\n</g>\n<!-- 134026081570640&#45;&gt;134026082879568+ -->\n<g id=\"edge14\" class=\"edge\">\n<title>134026081570640&#45;&gt;134026082879568+</title>\n<path fill=\"none\" stroke=\"black\" d=\"M546.27,-90.75C555.64,-92.23 564.6,-93.65 572.65,-94.92\"/>\n<polygon fill=\"black\" stroke=\"black\" points=\"572.23,-98.4 582.65,-96.5 573.32,-91.48 572.23,-98.4\"/>\n</g>\n<!-- 134026081570640* -->\n<g id=\"node13\" class=\"node\">\n<title>134026081570640*</title>\n<ellipse fill=\"none\" stroke=\"black\" cx=\"263\" cy=\"-73.5\" rx=\"27\" ry=\"18\"/>\n<text text-anchor=\"middle\" x=\"263\" y=\"-69.8\" font-family=\"Times,serif\" font-size=\"14.00\">*</text>\n</g>\n<!-- 134026081570640*&#45;&gt;134026081570640 -->\n<g id=\"edge5\" class=\"edge\">\n<title>134026081570640*&#45;&gt;134026081570640</title>\n<path fill=\"none\" stroke=\"black\" d=\"M290.34,-73.5C297.77,-73.5 306.37,-73.5 315.6,-73.5\"/>\n<polygon fill=\"black\" stroke=\"black\" points=\"315.84,-77 325.84,-73.5 315.84,-70 315.84,-77\"/>\n</g>\n<!-- 134026082922320 -->\n<g id=\"node14\" class=\"node\">\n<title>134026082922320</title>\n<polygon fill=\"none\" stroke=\"black\" points=\"4,-55.5 4,-91.5 196,-91.5 196,-55.5 4,-55.5\"/>\n<text text-anchor=\"middle\" x=\"19\" y=\"-69.8\" font-family=\"Times,serif\" font-size=\"14.00\">x1</text>\n<polyline fill=\"none\" stroke=\"black\" points=\"34,-55.5 34,-91.5 \"/>\n<text text-anchor=\"middle\" x=\"74\" y=\"-69.8\" font-family=\"Times,serif\" font-size=\"14.00\">data 2.0000</text>\n<polyline fill=\"none\" stroke=\"black\" points=\"114,-55.5 114,-91.5 \"/>\n<text text-anchor=\"middle\" x=\"155\" y=\"-69.8\" font-family=\"Times,serif\" font-size=\"14.00\">grad 0.0000</text>\n</g>\n<!-- 134026082922320&#45;&gt;134026081570640* -->\n<g id=\"edge7\" class=\"edge\">\n<title>134026082922320&#45;&gt;134026081570640*</title>\n<path fill=\"none\" stroke=\"black\" d=\"M196.05,-73.5C206.52,-73.5 216.65,-73.5 225.71,-73.5\"/>\n<polygon fill=\"black\" stroke=\"black\" points=\"225.79,-77 235.79,-73.5 225.79,-70 225.79,-77\"/>\n</g>\n<!-- 134026082926480 -->\n<g id=\"node15\" class=\"node\">\n<title>134026082926480</title>\n<polygon fill=\"none\" stroke=\"black\" points=\"0,-0.5 0,-36.5 200,-36.5 200,-0.5 0,-0.5\"/>\n<text text-anchor=\"middle\" x=\"16.5\" y=\"-14.8\" font-family=\"Times,serif\" font-size=\"14.00\">w1</text>\n<polyline fill=\"none\" stroke=\"black\" points=\"33,-0.5 33,-36.5 \"/>\n<text text-anchor=\"middle\" x=\"75.5\" y=\"-14.8\" font-family=\"Times,serif\" font-size=\"14.00\">data &#45;3.0000</text>\n<polyline fill=\"none\" stroke=\"black\" points=\"118,-0.5 118,-36.5 \"/>\n<text text-anchor=\"middle\" x=\"159\" y=\"-14.8\" font-family=\"Times,serif\" font-size=\"14.00\">grad 0.0000</text>\n</g>\n<!-- 134026082926480&#45;&gt;134026081570640* -->\n<g id=\"edge8\" class=\"edge\">\n<title>134026082926480&#45;&gt;134026081570640*</title>\n<path fill=\"none\" stroke=\"black\" d=\"M172.53,-36.56C181.84,-39.33 191.2,-42.33 200,-45.5 210.53,-49.29 221.75,-54.1 231.72,-58.67\"/>\n<polygon fill=\"black\" stroke=\"black\" points=\"230.28,-61.86 240.82,-62.93 233.25,-55.52 230.28,-61.86\"/>\n</g>\n</g>\n</svg>\n",
            "text/plain": [
              "<graphviz.graphs.Digraph at 0x79e560fbaa50>"
            ]
          },
          "metadata": {},
          "execution_count": 72
        }
      ]
    },
    {
      "cell_type": "code",
      "source": [
        "# and now we will be sequentially calling the _backward function to fill out these gradient values\n",
        "\n",
        "# CAUTION: add base case, i.e., out.grad = 1.0 as we have initialised all the gradients with 0 values\n",
        "\n",
        "out.grad = 1.0\n",
        "\n",
        "# from here we will be moving backward and sequentially calling the _backward() method\n",
        "\n",
        "out._backward()\n",
        "\n",
        "n._backward()\n",
        "\n",
        "x1w1x2w2._backward()\n",
        "\n",
        "bias._backward()    # but nothing happens when we call this as `b` is a leaf node and it doesn't have a _backward()\n",
        "\n",
        "x1w1._backward()\n",
        "x2w2._backward()\n",
        "\n",
        "draw_graph(out)"
      ],
      "metadata": {
        "colab": {
          "base_uri": "https://localhost:8080/",
          "height": 321
        },
        "id": "WssafSsbCeJU",
        "outputId": "f9d65492-f125-48b4-91b0-9f7856410519"
      },
      "execution_count": 73,
      "outputs": [
        {
          "output_type": "execute_result",
          "data": {
            "image/svg+xml": "<?xml version=\"1.0\" encoding=\"UTF-8\" standalone=\"no\"?>\n<!DOCTYPE svg PUBLIC \"-//W3C//DTD SVG 1.1//EN\"\n \"http://www.w3.org/Graphics/SVG/1.1/DTD/svg11.dtd\">\n<!-- Generated by graphviz version 2.43.0 (0)\n -->\n<!-- Title: %3 Pages: 1 -->\n<svg width=\"1586pt\" height=\"210pt\"\n viewBox=\"0.00 0.00 1586.00 210.00\" xmlns=\"http://www.w3.org/2000/svg\" xmlns:xlink=\"http://www.w3.org/1999/xlink\">\n<g id=\"graph0\" class=\"graph\" transform=\"scale(1 1) rotate(0) translate(4 206)\">\n<title>%3</title>\n<polygon fill=\"white\" stroke=\"transparent\" points=\"-4,4 -4,-206 1582,-206 1582,4 -4,4\"/>\n<!-- 134026081567312 -->\n<g id=\"node1\" class=\"node\">\n<title>134026081567312</title>\n<polygon fill=\"none\" stroke=\"black\" points=\"1071,-54.5 1071,-90.5 1256,-90.5 1256,-54.5 1071,-54.5\"/>\n<text text-anchor=\"middle\" x=\"1082.5\" y=\"-68.8\" font-family=\"Times,serif\" font-size=\"14.00\">n</text>\n<polyline fill=\"none\" stroke=\"black\" points=\"1094,-54.5 1094,-90.5 \"/>\n<text text-anchor=\"middle\" x=\"1134\" y=\"-68.8\" font-family=\"Times,serif\" font-size=\"14.00\">data 0.8814</text>\n<polyline fill=\"none\" stroke=\"black\" points=\"1174,-54.5 1174,-90.5 \"/>\n<text text-anchor=\"middle\" x=\"1215\" y=\"-68.8\" font-family=\"Times,serif\" font-size=\"14.00\">grad 0.5000</text>\n</g>\n<!-- 134026081572688tanh -->\n<g id=\"node10\" class=\"node\">\n<title>134026081572688tanh</title>\n<ellipse fill=\"none\" stroke=\"black\" cx=\"1319\" cy=\"-72.5\" rx=\"27\" ry=\"18\"/>\n<text text-anchor=\"middle\" x=\"1319\" y=\"-68.8\" font-family=\"Times,serif\" font-size=\"14.00\">tanh</text>\n</g>\n<!-- 134026081567312&#45;&gt;134026081572688tanh -->\n<g id=\"edge9\" class=\"edge\">\n<title>134026081567312&#45;&gt;134026081572688tanh</title>\n<path fill=\"none\" stroke=\"black\" d=\"M1256.01,-72.5C1265.01,-72.5 1273.74,-72.5 1281.66,-72.5\"/>\n<polygon fill=\"black\" stroke=\"black\" points=\"1281.91,-76 1291.91,-72.5 1281.91,-69 1281.91,-76\"/>\n</g>\n<!-- 134026081567312+ -->\n<g id=\"node2\" class=\"node\">\n<title>134026081567312+</title>\n<ellipse fill=\"none\" stroke=\"black\" cx=\"1008\" cy=\"-72.5\" rx=\"27\" ry=\"18\"/>\n<text text-anchor=\"middle\" x=\"1008\" y=\"-68.8\" font-family=\"Times,serif\" font-size=\"14.00\">+</text>\n</g>\n<!-- 134026081567312+&#45;&gt;134026081567312 -->\n<g id=\"edge1\" class=\"edge\">\n<title>134026081567312+&#45;&gt;134026081567312</title>\n<path fill=\"none\" stroke=\"black\" d=\"M1035.04,-72.5C1042.58,-72.5 1051.3,-72.5 1060.57,-72.5\"/>\n<polygon fill=\"black\" stroke=\"black\" points=\"1060.81,-76 1070.81,-72.5 1060.81,-69 1060.81,-76\"/>\n</g>\n<!-- 134026082879568 -->\n<g id=\"node3\" class=\"node\">\n<title>134026082879568</title>\n<polygon fill=\"none\" stroke=\"black\" points=\"672,-82.5 672,-118.5 945,-118.5 945,-82.5 672,-82.5\"/>\n<text text-anchor=\"middle\" x=\"725\" y=\"-96.8\" font-family=\"Times,serif\" font-size=\"14.00\">x1*w1 + x2*w2</text>\n<polyline fill=\"none\" stroke=\"black\" points=\"778,-82.5 778,-118.5 \"/>\n<text text-anchor=\"middle\" x=\"820.5\" y=\"-96.8\" font-family=\"Times,serif\" font-size=\"14.00\">data &#45;6.0000</text>\n<polyline fill=\"none\" stroke=\"black\" points=\"863,-82.5 863,-118.5 \"/>\n<text text-anchor=\"middle\" x=\"904\" y=\"-96.8\" font-family=\"Times,serif\" font-size=\"14.00\">grad 0.5000</text>\n</g>\n<!-- 134026082879568&#45;&gt;134026081567312+ -->\n<g id=\"edge12\" class=\"edge\">\n<title>134026082879568&#45;&gt;134026081567312+</title>\n<path fill=\"none\" stroke=\"black\" d=\"M936.53,-82.49C949.09,-80.71 960.99,-79.02 971.3,-77.56\"/>\n<polygon fill=\"black\" stroke=\"black\" points=\"972.03,-80.99 981.44,-76.12 971.05,-74.06 972.03,-80.99\"/>\n</g>\n<!-- 134026082879568+ -->\n<g id=\"node4\" class=\"node\">\n<title>134026082879568+</title>\n<ellipse fill=\"none\" stroke=\"black\" cx=\"609\" cy=\"-100.5\" rx=\"27\" ry=\"18\"/>\n<text text-anchor=\"middle\" x=\"609\" y=\"-96.8\" font-family=\"Times,serif\" font-size=\"14.00\">+</text>\n</g>\n<!-- 134026082879568+&#45;&gt;134026082879568 -->\n<g id=\"edge2\" class=\"edge\">\n<title>134026082879568+&#45;&gt;134026082879568</title>\n<path fill=\"none\" stroke=\"black\" d=\"M636.23,-100.5C643.7,-100.5 652.41,-100.5 661.87,-100.5\"/>\n<polygon fill=\"black\" stroke=\"black\" points=\"661.98,-104 671.98,-100.5 661.98,-97 661.98,-104\"/>\n</g>\n<!-- 134026082926224 -->\n<g id=\"node5\" class=\"node\">\n<title>134026082926224</title>\n<polygon fill=\"none\" stroke=\"black\" points=\"708.5,-27.5 708.5,-63.5 908.5,-63.5 908.5,-27.5 708.5,-27.5\"/>\n<text text-anchor=\"middle\" x=\"727.5\" y=\"-41.8\" font-family=\"Times,serif\" font-size=\"14.00\">bias</text>\n<polyline fill=\"none\" stroke=\"black\" points=\"746.5,-27.5 746.5,-63.5 \"/>\n<text text-anchor=\"middle\" x=\"786.5\" y=\"-41.8\" font-family=\"Times,serif\" font-size=\"14.00\">data 6.8814</text>\n<polyline fill=\"none\" stroke=\"black\" points=\"826.5,-27.5 826.5,-63.5 \"/>\n<text text-anchor=\"middle\" x=\"867.5\" y=\"-41.8\" font-family=\"Times,serif\" font-size=\"14.00\">grad 0.5000</text>\n</g>\n<!-- 134026082926224&#45;&gt;134026081567312+ -->\n<g id=\"edge11\" class=\"edge\">\n<title>134026082926224&#45;&gt;134026081567312+</title>\n<path fill=\"none\" stroke=\"black\" d=\"M908.54,-59.04C930.96,-62.1 953.36,-65.17 971.12,-67.6\"/>\n<polygon fill=\"black\" stroke=\"black\" points=\"970.89,-71.1 981.27,-68.98 971.84,-64.16 970.89,-71.1\"/>\n</g>\n<!-- 134026081575568 -->\n<g id=\"node6\" class=\"node\">\n<title>134026081575568</title>\n<polygon fill=\"none\" stroke=\"black\" points=\"328.5,-110.5 328.5,-146.5 543.5,-146.5 543.5,-110.5 328.5,-110.5\"/>\n<text text-anchor=\"middle\" x=\"355\" y=\"-124.8\" font-family=\"Times,serif\" font-size=\"14.00\">x2*w2</text>\n<polyline fill=\"none\" stroke=\"black\" points=\"381.5,-110.5 381.5,-146.5 \"/>\n<text text-anchor=\"middle\" x=\"421.5\" y=\"-124.8\" font-family=\"Times,serif\" font-size=\"14.00\">data 0.0000</text>\n<polyline fill=\"none\" stroke=\"black\" points=\"461.5,-110.5 461.5,-146.5 \"/>\n<text text-anchor=\"middle\" x=\"502.5\" y=\"-124.8\" font-family=\"Times,serif\" font-size=\"14.00\">grad 0.5000</text>\n</g>\n<!-- 134026081575568&#45;&gt;134026082879568+ -->\n<g id=\"edge13\" class=\"edge\">\n<title>134026081575568&#45;&gt;134026082879568+</title>\n<path fill=\"none\" stroke=\"black\" d=\"M543.84,-111.01C554.01,-109.34 563.76,-107.74 572.44,-106.32\"/>\n<polygon fill=\"black\" stroke=\"black\" points=\"573.17,-109.75 582.47,-104.68 572.04,-102.84 573.17,-109.75\"/>\n</g>\n<!-- 134026081575568* -->\n<g id=\"node7\" class=\"node\">\n<title>134026081575568*</title>\n<ellipse fill=\"none\" stroke=\"black\" cx=\"263\" cy=\"-128.5\" rx=\"27\" ry=\"18\"/>\n<text text-anchor=\"middle\" x=\"263\" y=\"-124.8\" font-family=\"Times,serif\" font-size=\"14.00\">*</text>\n</g>\n<!-- 134026081575568*&#45;&gt;134026081575568 -->\n<g id=\"edge3\" class=\"edge\">\n<title>134026081575568*&#45;&gt;134026081575568</title>\n<path fill=\"none\" stroke=\"black\" d=\"M290.34,-128.5C298.51,-128.5 308.08,-128.5 318.36,-128.5\"/>\n<polygon fill=\"black\" stroke=\"black\" points=\"318.39,-132 328.39,-128.5 318.39,-125 318.39,-132\"/>\n</g>\n<!-- 134026082913040 -->\n<g id=\"node8\" class=\"node\">\n<title>134026082913040</title>\n<polygon fill=\"none\" stroke=\"black\" points=\"2.5,-165.5 2.5,-201.5 197.5,-201.5 197.5,-165.5 2.5,-165.5\"/>\n<text text-anchor=\"middle\" x=\"19\" y=\"-179.8\" font-family=\"Times,serif\" font-size=\"14.00\">w2</text>\n<polyline fill=\"none\" stroke=\"black\" points=\"35.5,-165.5 35.5,-201.5 \"/>\n<text text-anchor=\"middle\" x=\"75.5\" y=\"-179.8\" font-family=\"Times,serif\" font-size=\"14.00\">data 1.0000</text>\n<polyline fill=\"none\" stroke=\"black\" points=\"115.5,-165.5 115.5,-201.5 \"/>\n<text text-anchor=\"middle\" x=\"156.5\" y=\"-179.8\" font-family=\"Times,serif\" font-size=\"14.00\">grad 0.0000</text>\n</g>\n<!-- 134026082913040&#45;&gt;134026081575568* -->\n<g id=\"edge10\" class=\"edge\">\n<title>134026082913040&#45;&gt;134026081575568*</title>\n<path fill=\"none\" stroke=\"black\" d=\"M172.53,-165.44C181.84,-162.67 191.2,-159.67 200,-156.5 210.53,-152.71 221.75,-147.9 231.72,-143.33\"/>\n<polygon fill=\"black\" stroke=\"black\" points=\"233.25,-146.48 240.82,-139.07 230.28,-140.14 233.25,-146.48\"/>\n</g>\n<!-- 134026081572688 -->\n<g id=\"node9\" class=\"node\">\n<title>134026081572688</title>\n<polygon fill=\"none\" stroke=\"black\" points=\"1382,-54.5 1382,-90.5 1578,-90.5 1578,-54.5 1382,-54.5\"/>\n<text text-anchor=\"middle\" x=\"1399\" y=\"-68.8\" font-family=\"Times,serif\" font-size=\"14.00\">out</text>\n<polyline fill=\"none\" stroke=\"black\" points=\"1416,-54.5 1416,-90.5 \"/>\n<text text-anchor=\"middle\" x=\"1456\" y=\"-68.8\" font-family=\"Times,serif\" font-size=\"14.00\">data 0.7071</text>\n<polyline fill=\"none\" stroke=\"black\" points=\"1496,-54.5 1496,-90.5 \"/>\n<text text-anchor=\"middle\" x=\"1537\" y=\"-68.8\" font-family=\"Times,serif\" font-size=\"14.00\">grad 1.0000</text>\n</g>\n<!-- 134026081572688tanh&#45;&gt;134026081572688 -->\n<g id=\"edge4\" class=\"edge\">\n<title>134026081572688tanh&#45;&gt;134026081572688</title>\n<path fill=\"none\" stroke=\"black\" d=\"M1346.26,-72.5C1353.77,-72.5 1362.46,-72.5 1371.72,-72.5\"/>\n<polygon fill=\"black\" stroke=\"black\" points=\"1371.97,-76 1381.97,-72.5 1371.97,-69 1371.97,-76\"/>\n</g>\n<!-- 134026082880848 -->\n<g id=\"node11\" class=\"node\">\n<title>134026082880848</title>\n<polygon fill=\"none\" stroke=\"black\" points=\"4,-110.5 4,-146.5 196,-146.5 196,-110.5 4,-110.5\"/>\n<text text-anchor=\"middle\" x=\"19\" y=\"-124.8\" font-family=\"Times,serif\" font-size=\"14.00\">x2</text>\n<polyline fill=\"none\" stroke=\"black\" points=\"34,-110.5 34,-146.5 \"/>\n<text text-anchor=\"middle\" x=\"74\" y=\"-124.8\" font-family=\"Times,serif\" font-size=\"14.00\">data 0.0000</text>\n<polyline fill=\"none\" stroke=\"black\" points=\"114,-110.5 114,-146.5 \"/>\n<text text-anchor=\"middle\" x=\"155\" y=\"-124.8\" font-family=\"Times,serif\" font-size=\"14.00\">grad 0.5000</text>\n</g>\n<!-- 134026082880848&#45;&gt;134026081575568* -->\n<g id=\"edge6\" class=\"edge\">\n<title>134026082880848&#45;&gt;134026081575568*</title>\n<path fill=\"none\" stroke=\"black\" d=\"M196.05,-128.5C206.52,-128.5 216.65,-128.5 225.71,-128.5\"/>\n<polygon fill=\"black\" stroke=\"black\" points=\"225.79,-132 235.79,-128.5 225.79,-125 225.79,-132\"/>\n</g>\n<!-- 134026081570640 -->\n<g id=\"node12\" class=\"node\">\n<title>134026081570640</title>\n<polygon fill=\"none\" stroke=\"black\" points=\"326,-55.5 326,-91.5 546,-91.5 546,-55.5 326,-55.5\"/>\n<text text-anchor=\"middle\" x=\"352.5\" y=\"-69.8\" font-family=\"Times,serif\" font-size=\"14.00\">x1*w1</text>\n<polyline fill=\"none\" stroke=\"black\" points=\"379,-55.5 379,-91.5 \"/>\n<text text-anchor=\"middle\" x=\"421.5\" y=\"-69.8\" font-family=\"Times,serif\" font-size=\"14.00\">data &#45;6.0000</text>\n<polyline fill=\"none\" stroke=\"black\" points=\"464,-55.5 464,-91.5 \"/>\n<text text-anchor=\"middle\" x=\"505\" y=\"-69.8\" font-family=\"Times,serif\" font-size=\"14.00\">grad 0.5000</text>\n</g>\n<!-- 134026081570640&#45;&gt;134026082879568+ -->\n<g id=\"edge14\" class=\"edge\">\n<title>134026081570640&#45;&gt;134026082879568+</title>\n<path fill=\"none\" stroke=\"black\" d=\"M546.27,-90.75C555.64,-92.23 564.6,-93.65 572.65,-94.92\"/>\n<polygon fill=\"black\" stroke=\"black\" points=\"572.23,-98.4 582.65,-96.5 573.32,-91.48 572.23,-98.4\"/>\n</g>\n<!-- 134026081570640* -->\n<g id=\"node13\" class=\"node\">\n<title>134026081570640*</title>\n<ellipse fill=\"none\" stroke=\"black\" cx=\"263\" cy=\"-73.5\" rx=\"27\" ry=\"18\"/>\n<text text-anchor=\"middle\" x=\"263\" y=\"-69.8\" font-family=\"Times,serif\" font-size=\"14.00\">*</text>\n</g>\n<!-- 134026081570640*&#45;&gt;134026081570640 -->\n<g id=\"edge5\" class=\"edge\">\n<title>134026081570640*&#45;&gt;134026081570640</title>\n<path fill=\"none\" stroke=\"black\" d=\"M290.34,-73.5C297.77,-73.5 306.37,-73.5 315.6,-73.5\"/>\n<polygon fill=\"black\" stroke=\"black\" points=\"315.84,-77 325.84,-73.5 315.84,-70 315.84,-77\"/>\n</g>\n<!-- 134026082922320 -->\n<g id=\"node14\" class=\"node\">\n<title>134026082922320</title>\n<polygon fill=\"none\" stroke=\"black\" points=\"2,-55.5 2,-91.5 198,-91.5 198,-55.5 2,-55.5\"/>\n<text text-anchor=\"middle\" x=\"17\" y=\"-69.8\" font-family=\"Times,serif\" font-size=\"14.00\">x1</text>\n<polyline fill=\"none\" stroke=\"black\" points=\"32,-55.5 32,-91.5 \"/>\n<text text-anchor=\"middle\" x=\"72\" y=\"-69.8\" font-family=\"Times,serif\" font-size=\"14.00\">data 2.0000</text>\n<polyline fill=\"none\" stroke=\"black\" points=\"112,-55.5 112,-91.5 \"/>\n<text text-anchor=\"middle\" x=\"155\" y=\"-69.8\" font-family=\"Times,serif\" font-size=\"14.00\">grad &#45;1.5000</text>\n</g>\n<!-- 134026082922320&#45;&gt;134026081570640* -->\n<g id=\"edge7\" class=\"edge\">\n<title>134026082922320&#45;&gt;134026081570640*</title>\n<path fill=\"none\" stroke=\"black\" d=\"M198.37,-73.5C208.05,-73.5 217.4,-73.5 225.8,-73.5\"/>\n<polygon fill=\"black\" stroke=\"black\" points=\"225.91,-77 235.91,-73.5 225.91,-70 225.91,-77\"/>\n</g>\n<!-- 134026082926480 -->\n<g id=\"node15\" class=\"node\">\n<title>134026082926480</title>\n<polygon fill=\"none\" stroke=\"black\" points=\"0,-0.5 0,-36.5 200,-36.5 200,-0.5 0,-0.5\"/>\n<text text-anchor=\"middle\" x=\"16.5\" y=\"-14.8\" font-family=\"Times,serif\" font-size=\"14.00\">w1</text>\n<polyline fill=\"none\" stroke=\"black\" points=\"33,-0.5 33,-36.5 \"/>\n<text text-anchor=\"middle\" x=\"75.5\" y=\"-14.8\" font-family=\"Times,serif\" font-size=\"14.00\">data &#45;3.0000</text>\n<polyline fill=\"none\" stroke=\"black\" points=\"118,-0.5 118,-36.5 \"/>\n<text text-anchor=\"middle\" x=\"159\" y=\"-14.8\" font-family=\"Times,serif\" font-size=\"14.00\">grad 1.0000</text>\n</g>\n<!-- 134026082926480&#45;&gt;134026081570640* -->\n<g id=\"edge8\" class=\"edge\">\n<title>134026082926480&#45;&gt;134026081570640*</title>\n<path fill=\"none\" stroke=\"black\" d=\"M172.53,-36.56C181.84,-39.33 191.2,-42.33 200,-45.5 210.53,-49.29 221.75,-54.1 231.72,-58.67\"/>\n<polygon fill=\"black\" stroke=\"black\" points=\"230.28,-61.86 240.82,-62.93 233.25,-55.52 230.28,-61.86\"/>\n</g>\n</g>\n</svg>\n",
            "text/plain": [
              "<graphviz.graphs.Digraph at 0x79e560fa2a10>"
            ]
          },
          "metadata": {},
          "execution_count": 73
        }
      ]
    },
    {
      "cell_type": "code",
      "source": [
        "# now lets add one more method `backward()` in our Value class which does this backpropagation for us in order\n",
        "# one thing that we need to know before doing this is to understand what is topological sort\n",
        "# when we call topological sort on any node, it first visits all its children and once they are all visited, then and then only it visits the passed node\n",
        "\n",
        "class Value:\n",
        "  def __init__(self, data, _children=(), _op='', _label=''):\n",
        "    self.data = data\n",
        "    self.grad = 0.0\n",
        "    self._prev = set(_children)\n",
        "    self._op = _op\n",
        "    self._label = _label\n",
        "    self._backward = lambda: None\n",
        "\n",
        "  def __repr__(self):\n",
        "    return f\"Value(data={self.data})\"\n",
        "\n",
        "  def __add__(self, other):\n",
        "    out = Value(self.data + other.data, (self, other), '+')\n",
        "\n",
        "    def _backward():\n",
        "      self.grad = 1.0 * out.grad\n",
        "      other.grad = 1.0 * out.grad\n",
        "\n",
        "    out._backward = _backward\n",
        "\n",
        "    return out\n",
        "\n",
        "  def __mul__(self, other):\n",
        "    out = Value(self.data * other.data, (self, other), '*')\n",
        "\n",
        "    def _backward():\n",
        "      self.grad = other.data * out.grad\n",
        "      other.grad = self.data * out.grad\n",
        "\n",
        "    out._backward = _backward\n",
        "\n",
        "    return out\n",
        "\n",
        "  def tanh(self):\n",
        "    x = self.data\n",
        "    t = (math.exp(2*x) - 1)/(math.exp(2*x) + 1)\n",
        "    out = Value(t, _children=(self,), _op='tanh')\n",
        "\n",
        "    def _backward():\n",
        "      self.grad = (1 - t**2) * out.grad\n",
        "\n",
        "    out._backward = _backward\n",
        "\n",
        "    return out\n",
        "\n",
        "  def backward(self):\n",
        "    topo = []\n",
        "\n",
        "    visited = set()   # maintaining an empty set of visited node\n",
        "\n",
        "    def build_topo(v):\n",
        "      if v not in visited:\n",
        "        visited.add(v)\n",
        "        for child in v._prev:   # call topological sort for all the children of v\n",
        "          build_topo(child)\n",
        "\n",
        "        topo.append(v)    # append the result of all this search in a result list\n",
        "\n",
        "    build_topo(self)    # calling topological sort in the current node\n",
        "\n",
        "    self.grad = 1.0   # initialize the base case for the called node\n",
        "\n",
        "    for node in reversed(topo):\n",
        "      node._backward()"
      ],
      "metadata": {
        "id": "iA8rRN6KEGh_"
      },
      "execution_count": 81,
      "outputs": []
    },
    {
      "cell_type": "code",
      "source": [
        "# now lets test this new backward method using the previous values\n",
        "\n",
        "# inputs\n",
        "x1 = Value(2.0, _label='x1')#\n",
        "x2 = Value(0.0, _label='x2')\n",
        "\n",
        "# weights\n",
        "w1 = Value(-3.0, _label='w1')\n",
        "w2 = Value(1.0, _label='w2')\n",
        "\n",
        "# bias of the neuron\n",
        "bias = Value(6.8813735870195432, _label='bias')\n",
        "\n",
        "x1w1 = x1*w1\n",
        "x2w2 = x2*w2\n",
        "\n",
        "x1w1._label = 'x1*w1'\n",
        "x2w2._label = 'x2*w2'\n",
        "\n",
        "# x1w1 + x2w2 + bias\n",
        "x1w1x2w2 = x1w1 + x2w2\n",
        "x1w1x2w2._label = 'x1*w1 + x2*w2'\n",
        "n = x1w1x2w2 + bias\n",
        "n._label = 'n'\n",
        "\n",
        "out = n.tanh()\n",
        "out._label = 'out'\n",
        "\n",
        "draw_graph(out)"
      ],
      "metadata": {
        "colab": {
          "base_uri": "https://localhost:8080/",
          "height": 321
        },
        "id": "IbV-atrgJM64",
        "outputId": "f18a951e-7261-4f7c-e47b-d795abbee00b"
      },
      "execution_count": 82,
      "outputs": [
        {
          "output_type": "execute_result",
          "data": {
            "image/svg+xml": "<?xml version=\"1.0\" encoding=\"UTF-8\" standalone=\"no\"?>\n<!DOCTYPE svg PUBLIC \"-//W3C//DTD SVG 1.1//EN\"\n \"http://www.w3.org/Graphics/SVG/1.1/DTD/svg11.dtd\">\n<!-- Generated by graphviz version 2.43.0 (0)\n -->\n<!-- Title: %3 Pages: 1 -->\n<svg width=\"1586pt\" height=\"210pt\"\n viewBox=\"0.00 0.00 1586.00 210.00\" xmlns=\"http://www.w3.org/2000/svg\" xmlns:xlink=\"http://www.w3.org/1999/xlink\">\n<g id=\"graph0\" class=\"graph\" transform=\"scale(1 1) rotate(0) translate(4 206)\">\n<title>%3</title>\n<polygon fill=\"white\" stroke=\"transparent\" points=\"-4,4 -4,-206 1582,-206 1582,4 -4,4\"/>\n<!-- 134026262438992 -->\n<g id=\"node1\" class=\"node\">\n<title>134026262438992</title>\n<polygon fill=\"none\" stroke=\"black\" points=\"672,-82.5 672,-118.5 945,-118.5 945,-82.5 672,-82.5\"/>\n<text text-anchor=\"middle\" x=\"725\" y=\"-96.8\" font-family=\"Times,serif\" font-size=\"14.00\">x1*w1 + x2*w2</text>\n<polyline fill=\"none\" stroke=\"black\" points=\"778,-82.5 778,-118.5 \"/>\n<text text-anchor=\"middle\" x=\"820.5\" y=\"-96.8\" font-family=\"Times,serif\" font-size=\"14.00\">data &#45;6.0000</text>\n<polyline fill=\"none\" stroke=\"black\" points=\"863,-82.5 863,-118.5 \"/>\n<text text-anchor=\"middle\" x=\"904\" y=\"-96.8\" font-family=\"Times,serif\" font-size=\"14.00\">grad 0.0000</text>\n</g>\n<!-- 134026082215568+ -->\n<g id=\"node7\" class=\"node\">\n<title>134026082215568+</title>\n<ellipse fill=\"none\" stroke=\"black\" cx=\"1008\" cy=\"-127.5\" rx=\"27\" ry=\"18\"/>\n<text text-anchor=\"middle\" x=\"1008\" y=\"-123.8\" font-family=\"Times,serif\" font-size=\"14.00\">+</text>\n</g>\n<!-- 134026262438992&#45;&gt;134026082215568+ -->\n<g id=\"edge13\" class=\"edge\">\n<title>134026262438992&#45;&gt;134026082215568+</title>\n<path fill=\"none\" stroke=\"black\" d=\"M941.24,-118.51C952.12,-120 962.4,-121.4 971.45,-122.64\"/>\n<polygon fill=\"black\" stroke=\"black\" points=\"971.11,-126.13 981.49,-124.01 972.05,-119.19 971.11,-126.13\"/>\n</g>\n<!-- 134026262438992+ -->\n<g id=\"node2\" class=\"node\">\n<title>134026262438992+</title>\n<ellipse fill=\"none\" stroke=\"black\" cx=\"609\" cy=\"-100.5\" rx=\"27\" ry=\"18\"/>\n<text text-anchor=\"middle\" x=\"609\" y=\"-96.8\" font-family=\"Times,serif\" font-size=\"14.00\">+</text>\n</g>\n<!-- 134026262438992+&#45;&gt;134026262438992 -->\n<g id=\"edge1\" class=\"edge\">\n<title>134026262438992+&#45;&gt;134026262438992</title>\n<path fill=\"none\" stroke=\"black\" d=\"M636.23,-100.5C643.7,-100.5 652.41,-100.5 661.87,-100.5\"/>\n<polygon fill=\"black\" stroke=\"black\" points=\"661.98,-104 671.98,-100.5 661.98,-97 661.98,-104\"/>\n</g>\n<!-- 134026262618192 -->\n<g id=\"node3\" class=\"node\">\n<title>134026262618192</title>\n<polygon fill=\"none\" stroke=\"black\" points=\"1382,-109.5 1382,-145.5 1578,-145.5 1578,-109.5 1382,-109.5\"/>\n<text text-anchor=\"middle\" x=\"1399\" y=\"-123.8\" font-family=\"Times,serif\" font-size=\"14.00\">out</text>\n<polyline fill=\"none\" stroke=\"black\" points=\"1416,-109.5 1416,-145.5 \"/>\n<text text-anchor=\"middle\" x=\"1456\" y=\"-123.8\" font-family=\"Times,serif\" font-size=\"14.00\">data 0.7071</text>\n<polyline fill=\"none\" stroke=\"black\" points=\"1496,-109.5 1496,-145.5 \"/>\n<text text-anchor=\"middle\" x=\"1537\" y=\"-123.8\" font-family=\"Times,serif\" font-size=\"14.00\">grad 0.0000</text>\n</g>\n<!-- 134026262618192tanh -->\n<g id=\"node4\" class=\"node\">\n<title>134026262618192tanh</title>\n<ellipse fill=\"none\" stroke=\"black\" cx=\"1319\" cy=\"-127.5\" rx=\"27\" ry=\"18\"/>\n<text text-anchor=\"middle\" x=\"1319\" y=\"-123.8\" font-family=\"Times,serif\" font-size=\"14.00\">tanh</text>\n</g>\n<!-- 134026262618192tanh&#45;&gt;134026262618192 -->\n<g id=\"edge2\" class=\"edge\">\n<title>134026262618192tanh&#45;&gt;134026262618192</title>\n<path fill=\"none\" stroke=\"black\" d=\"M1346.26,-127.5C1353.77,-127.5 1362.46,-127.5 1371.72,-127.5\"/>\n<polygon fill=\"black\" stroke=\"black\" points=\"1371.97,-131 1381.97,-127.5 1371.97,-124 1371.97,-131\"/>\n</g>\n<!-- 134026083053648 -->\n<g id=\"node5\" class=\"node\">\n<title>134026083053648</title>\n<polygon fill=\"none\" stroke=\"black\" points=\"2.5,-55.5 2.5,-91.5 197.5,-91.5 197.5,-55.5 2.5,-55.5\"/>\n<text text-anchor=\"middle\" x=\"19\" y=\"-69.8\" font-family=\"Times,serif\" font-size=\"14.00\">w2</text>\n<polyline fill=\"none\" stroke=\"black\" points=\"35.5,-55.5 35.5,-91.5 \"/>\n<text text-anchor=\"middle\" x=\"75.5\" y=\"-69.8\" font-family=\"Times,serif\" font-size=\"14.00\">data 1.0000</text>\n<polyline fill=\"none\" stroke=\"black\" points=\"115.5,-55.5 115.5,-91.5 \"/>\n<text text-anchor=\"middle\" x=\"156.5\" y=\"-69.8\" font-family=\"Times,serif\" font-size=\"14.00\">grad 0.0000</text>\n</g>\n<!-- 134026262444688* -->\n<g id=\"node14\" class=\"node\">\n<title>134026262444688*</title>\n<ellipse fill=\"none\" stroke=\"black\" cx=\"263\" cy=\"-73.5\" rx=\"27\" ry=\"18\"/>\n<text text-anchor=\"middle\" x=\"263\" y=\"-69.8\" font-family=\"Times,serif\" font-size=\"14.00\">*</text>\n</g>\n<!-- 134026083053648&#45;&gt;134026262444688* -->\n<g id=\"edge12\" class=\"edge\">\n<title>134026083053648&#45;&gt;134026262444688*</title>\n<path fill=\"none\" stroke=\"black\" d=\"M197.91,-73.5C207.65,-73.5 217.05,-73.5 225.52,-73.5\"/>\n<polygon fill=\"black\" stroke=\"black\" points=\"225.7,-77 235.7,-73.5 225.7,-70 225.7,-77\"/>\n</g>\n<!-- 134026082215568 -->\n<g id=\"node6\" class=\"node\">\n<title>134026082215568</title>\n<polygon fill=\"none\" stroke=\"black\" points=\"1071,-109.5 1071,-145.5 1256,-145.5 1256,-109.5 1071,-109.5\"/>\n<text text-anchor=\"middle\" x=\"1082.5\" y=\"-123.8\" font-family=\"Times,serif\" font-size=\"14.00\">n</text>\n<polyline fill=\"none\" stroke=\"black\" points=\"1094,-109.5 1094,-145.5 \"/>\n<text text-anchor=\"middle\" x=\"1134\" y=\"-123.8\" font-family=\"Times,serif\" font-size=\"14.00\">data 0.8814</text>\n<polyline fill=\"none\" stroke=\"black\" points=\"1174,-109.5 1174,-145.5 \"/>\n<text text-anchor=\"middle\" x=\"1215\" y=\"-123.8\" font-family=\"Times,serif\" font-size=\"14.00\">grad 0.0000</text>\n</g>\n<!-- 134026082215568&#45;&gt;134026262618192tanh -->\n<g id=\"edge11\" class=\"edge\">\n<title>134026082215568&#45;&gt;134026262618192tanh</title>\n<path fill=\"none\" stroke=\"black\" d=\"M1256.01,-127.5C1265.01,-127.5 1273.74,-127.5 1281.66,-127.5\"/>\n<polygon fill=\"black\" stroke=\"black\" points=\"1281.91,-131 1291.91,-127.5 1281.91,-124 1281.91,-131\"/>\n</g>\n<!-- 134026082215568+&#45;&gt;134026082215568 -->\n<g id=\"edge3\" class=\"edge\">\n<title>134026082215568+&#45;&gt;134026082215568</title>\n<path fill=\"none\" stroke=\"black\" d=\"M1035.04,-127.5C1042.58,-127.5 1051.3,-127.5 1060.57,-127.5\"/>\n<polygon fill=\"black\" stroke=\"black\" points=\"1060.81,-131 1070.81,-127.5 1060.81,-124 1060.81,-131\"/>\n</g>\n<!-- 134026262440080 -->\n<g id=\"node8\" class=\"node\">\n<title>134026262440080</title>\n<polygon fill=\"none\" stroke=\"black\" points=\"326,-110.5 326,-146.5 546,-146.5 546,-110.5 326,-110.5\"/>\n<text text-anchor=\"middle\" x=\"352.5\" y=\"-124.8\" font-family=\"Times,serif\" font-size=\"14.00\">x1*w1</text>\n<polyline fill=\"none\" stroke=\"black\" points=\"379,-110.5 379,-146.5 \"/>\n<text text-anchor=\"middle\" x=\"421.5\" y=\"-124.8\" font-family=\"Times,serif\" font-size=\"14.00\">data &#45;6.0000</text>\n<polyline fill=\"none\" stroke=\"black\" points=\"464,-110.5 464,-146.5 \"/>\n<text text-anchor=\"middle\" x=\"505\" y=\"-124.8\" font-family=\"Times,serif\" font-size=\"14.00\">grad 0.0000</text>\n</g>\n<!-- 134026262440080&#45;&gt;134026262438992+ -->\n<g id=\"edge7\" class=\"edge\">\n<title>134026262440080&#45;&gt;134026262438992+</title>\n<path fill=\"none\" stroke=\"black\" d=\"M546.27,-110.61C555.64,-109.07 564.6,-107.61 572.65,-106.29\"/>\n<polygon fill=\"black\" stroke=\"black\" points=\"573.35,-109.72 582.65,-104.65 572.22,-102.81 573.35,-109.72\"/>\n</g>\n<!-- 134026262440080* -->\n<g id=\"node9\" class=\"node\">\n<title>134026262440080*</title>\n<ellipse fill=\"none\" stroke=\"black\" cx=\"263\" cy=\"-128.5\" rx=\"27\" ry=\"18\"/>\n<text text-anchor=\"middle\" x=\"263\" y=\"-124.8\" font-family=\"Times,serif\" font-size=\"14.00\">*</text>\n</g>\n<!-- 134026262440080*&#45;&gt;134026262440080 -->\n<g id=\"edge4\" class=\"edge\">\n<title>134026262440080*&#45;&gt;134026262440080</title>\n<path fill=\"none\" stroke=\"black\" d=\"M290.34,-128.5C297.77,-128.5 306.37,-128.5 315.6,-128.5\"/>\n<polygon fill=\"black\" stroke=\"black\" points=\"315.84,-132 325.84,-128.5 315.84,-125 315.84,-132\"/>\n</g>\n<!-- 134026083043984 -->\n<g id=\"node10\" class=\"node\">\n<title>134026083043984</title>\n<polygon fill=\"none\" stroke=\"black\" points=\"708.5,-137.5 708.5,-173.5 908.5,-173.5 908.5,-137.5 708.5,-137.5\"/>\n<text text-anchor=\"middle\" x=\"727.5\" y=\"-151.8\" font-family=\"Times,serif\" font-size=\"14.00\">bias</text>\n<polyline fill=\"none\" stroke=\"black\" points=\"746.5,-137.5 746.5,-173.5 \"/>\n<text text-anchor=\"middle\" x=\"786.5\" y=\"-151.8\" font-family=\"Times,serif\" font-size=\"14.00\">data 6.8814</text>\n<polyline fill=\"none\" stroke=\"black\" points=\"826.5,-137.5 826.5,-173.5 \"/>\n<text text-anchor=\"middle\" x=\"867.5\" y=\"-151.8\" font-family=\"Times,serif\" font-size=\"14.00\">grad 0.0000</text>\n</g>\n<!-- 134026083043984&#45;&gt;134026082215568+ -->\n<g id=\"edge6\" class=\"edge\">\n<title>134026083043984&#45;&gt;134026082215568+</title>\n<path fill=\"none\" stroke=\"black\" d=\"M908.54,-141.46C930.96,-138.28 953.36,-135.1 971.12,-132.59\"/>\n<polygon fill=\"black\" stroke=\"black\" points=\"971.86,-136.02 981.27,-131.15 970.88,-129.09 971.86,-136.02\"/>\n</g>\n<!-- 134026262431888 -->\n<g id=\"node11\" class=\"node\">\n<title>134026262431888</title>\n<polygon fill=\"none\" stroke=\"black\" points=\"4,-165.5 4,-201.5 196,-201.5 196,-165.5 4,-165.5\"/>\n<text text-anchor=\"middle\" x=\"19\" y=\"-179.8\" font-family=\"Times,serif\" font-size=\"14.00\">x1</text>\n<polyline fill=\"none\" stroke=\"black\" points=\"34,-165.5 34,-201.5 \"/>\n<text text-anchor=\"middle\" x=\"74\" y=\"-179.8\" font-family=\"Times,serif\" font-size=\"14.00\">data 2.0000</text>\n<polyline fill=\"none\" stroke=\"black\" points=\"114,-165.5 114,-201.5 \"/>\n<text text-anchor=\"middle\" x=\"155\" y=\"-179.8\" font-family=\"Times,serif\" font-size=\"14.00\">grad 0.0000</text>\n</g>\n<!-- 134026262431888&#45;&gt;134026262440080* -->\n<g id=\"edge14\" class=\"edge\">\n<title>134026262431888&#45;&gt;134026262440080*</title>\n<path fill=\"none\" stroke=\"black\" d=\"M172.53,-165.44C181.84,-162.67 191.2,-159.67 200,-156.5 210.53,-152.71 221.75,-147.9 231.72,-143.33\"/>\n<polygon fill=\"black\" stroke=\"black\" points=\"233.25,-146.48 240.82,-139.07 230.28,-140.14 233.25,-146.48\"/>\n</g>\n<!-- 134026082336912 -->\n<g id=\"node12\" class=\"node\">\n<title>134026082336912</title>\n<polygon fill=\"none\" stroke=\"black\" points=\"0,-110.5 0,-146.5 200,-146.5 200,-110.5 0,-110.5\"/>\n<text text-anchor=\"middle\" x=\"16.5\" y=\"-124.8\" font-family=\"Times,serif\" font-size=\"14.00\">w1</text>\n<polyline fill=\"none\" stroke=\"black\" points=\"33,-110.5 33,-146.5 \"/>\n<text text-anchor=\"middle\" x=\"75.5\" y=\"-124.8\" font-family=\"Times,serif\" font-size=\"14.00\">data &#45;3.0000</text>\n<polyline fill=\"none\" stroke=\"black\" points=\"118,-110.5 118,-146.5 \"/>\n<text text-anchor=\"middle\" x=\"159\" y=\"-124.8\" font-family=\"Times,serif\" font-size=\"14.00\">grad 0.0000</text>\n</g>\n<!-- 134026082336912&#45;&gt;134026262440080* -->\n<g id=\"edge10\" class=\"edge\">\n<title>134026082336912&#45;&gt;134026262440080*</title>\n<path fill=\"none\" stroke=\"black\" d=\"M200.21,-128.5C209.2,-128.5 217.86,-128.5 225.7,-128.5\"/>\n<polygon fill=\"black\" stroke=\"black\" points=\"225.85,-132 235.85,-128.5 225.85,-125 225.85,-132\"/>\n</g>\n<!-- 134026262444688 -->\n<g id=\"node13\" class=\"node\">\n<title>134026262444688</title>\n<polygon fill=\"none\" stroke=\"black\" points=\"328.5,-55.5 328.5,-91.5 543.5,-91.5 543.5,-55.5 328.5,-55.5\"/>\n<text text-anchor=\"middle\" x=\"355\" y=\"-69.8\" font-family=\"Times,serif\" font-size=\"14.00\">x2*w2</text>\n<polyline fill=\"none\" stroke=\"black\" points=\"381.5,-55.5 381.5,-91.5 \"/>\n<text text-anchor=\"middle\" x=\"421.5\" y=\"-69.8\" font-family=\"Times,serif\" font-size=\"14.00\">data 0.0000</text>\n<polyline fill=\"none\" stroke=\"black\" points=\"461.5,-55.5 461.5,-91.5 \"/>\n<text text-anchor=\"middle\" x=\"502.5\" y=\"-69.8\" font-family=\"Times,serif\" font-size=\"14.00\">grad 0.0000</text>\n</g>\n<!-- 134026262444688&#45;&gt;134026262438992+ -->\n<g id=\"edge8\" class=\"edge\">\n<title>134026262444688&#45;&gt;134026262438992+</title>\n<path fill=\"none\" stroke=\"black\" d=\"M543.84,-90.37C554.01,-91.98 563.76,-93.51 572.44,-94.89\"/>\n<polygon fill=\"black\" stroke=\"black\" points=\"572.05,-98.37 582.47,-96.47 573.14,-91.45 572.05,-98.37\"/>\n</g>\n<!-- 134026262444688*&#45;&gt;134026262444688 -->\n<g id=\"edge5\" class=\"edge\">\n<title>134026262444688*&#45;&gt;134026262444688</title>\n<path fill=\"none\" stroke=\"black\" d=\"M290.34,-73.5C298.51,-73.5 308.08,-73.5 318.36,-73.5\"/>\n<polygon fill=\"black\" stroke=\"black\" points=\"318.39,-77 328.39,-73.5 318.39,-70 318.39,-77\"/>\n</g>\n<!-- 134026262542224 -->\n<g id=\"node15\" class=\"node\">\n<title>134026262542224</title>\n<polygon fill=\"none\" stroke=\"black\" points=\"4,-0.5 4,-36.5 196,-36.5 196,-0.5 4,-0.5\"/>\n<text text-anchor=\"middle\" x=\"19\" y=\"-14.8\" font-family=\"Times,serif\" font-size=\"14.00\">x2</text>\n<polyline fill=\"none\" stroke=\"black\" points=\"34,-0.5 34,-36.5 \"/>\n<text text-anchor=\"middle\" x=\"74\" y=\"-14.8\" font-family=\"Times,serif\" font-size=\"14.00\">data 0.0000</text>\n<polyline fill=\"none\" stroke=\"black\" points=\"114,-0.5 114,-36.5 \"/>\n<text text-anchor=\"middle\" x=\"155\" y=\"-14.8\" font-family=\"Times,serif\" font-size=\"14.00\">grad 0.0000</text>\n</g>\n<!-- 134026262542224&#45;&gt;134026262444688* -->\n<g id=\"edge9\" class=\"edge\">\n<title>134026262542224&#45;&gt;134026262444688*</title>\n<path fill=\"none\" stroke=\"black\" d=\"M169.28,-36.5C179.65,-39.61 190.16,-42.98 200,-46.5 210.28,-50.17 221.28,-54.74 231.11,-59.07\"/>\n<polygon fill=\"black\" stroke=\"black\" points=\"229.93,-62.37 240.48,-63.27 232.79,-55.99 229.93,-62.37\"/>\n</g>\n</g>\n</svg>\n",
            "text/plain": [
              "<graphviz.graphs.Digraph at 0x79e561055d90>"
            ]
          },
          "metadata": {},
          "execution_count": 82
        }
      ]
    },
    {
      "cell_type": "code",
      "source": [
        "out.backward()\n",
        "draw_graph(out)"
      ],
      "metadata": {
        "colab": {
          "base_uri": "https://localhost:8080/",
          "height": 321
        },
        "id": "RRfJABABJZvN",
        "outputId": "29b9cb90-9b9e-4756-e76e-89d1ad912a2b"
      },
      "execution_count": 83,
      "outputs": [
        {
          "output_type": "execute_result",
          "data": {
            "image/svg+xml": "<?xml version=\"1.0\" encoding=\"UTF-8\" standalone=\"no\"?>\n<!DOCTYPE svg PUBLIC \"-//W3C//DTD SVG 1.1//EN\"\n \"http://www.w3.org/Graphics/SVG/1.1/DTD/svg11.dtd\">\n<!-- Generated by graphviz version 2.43.0 (0)\n -->\n<!-- Title: %3 Pages: 1 -->\n<svg width=\"1586pt\" height=\"210pt\"\n viewBox=\"0.00 0.00 1586.00 210.00\" xmlns=\"http://www.w3.org/2000/svg\" xmlns:xlink=\"http://www.w3.org/1999/xlink\">\n<g id=\"graph0\" class=\"graph\" transform=\"scale(1 1) rotate(0) translate(4 206)\">\n<title>%3</title>\n<polygon fill=\"white\" stroke=\"transparent\" points=\"-4,4 -4,-206 1582,-206 1582,4 -4,4\"/>\n<!-- 134026262438992 -->\n<g id=\"node1\" class=\"node\">\n<title>134026262438992</title>\n<polygon fill=\"none\" stroke=\"black\" points=\"672,-82.5 672,-118.5 945,-118.5 945,-82.5 672,-82.5\"/>\n<text text-anchor=\"middle\" x=\"725\" y=\"-96.8\" font-family=\"Times,serif\" font-size=\"14.00\">x1*w1 + x2*w2</text>\n<polyline fill=\"none\" stroke=\"black\" points=\"778,-82.5 778,-118.5 \"/>\n<text text-anchor=\"middle\" x=\"820.5\" y=\"-96.8\" font-family=\"Times,serif\" font-size=\"14.00\">data &#45;6.0000</text>\n<polyline fill=\"none\" stroke=\"black\" points=\"863,-82.5 863,-118.5 \"/>\n<text text-anchor=\"middle\" x=\"904\" y=\"-96.8\" font-family=\"Times,serif\" font-size=\"14.00\">grad 0.5000</text>\n</g>\n<!-- 134026082215568+ -->\n<g id=\"node7\" class=\"node\">\n<title>134026082215568+</title>\n<ellipse fill=\"none\" stroke=\"black\" cx=\"1008\" cy=\"-127.5\" rx=\"27\" ry=\"18\"/>\n<text text-anchor=\"middle\" x=\"1008\" y=\"-123.8\" font-family=\"Times,serif\" font-size=\"14.00\">+</text>\n</g>\n<!-- 134026262438992&#45;&gt;134026082215568+ -->\n<g id=\"edge13\" class=\"edge\">\n<title>134026262438992&#45;&gt;134026082215568+</title>\n<path fill=\"none\" stroke=\"black\" d=\"M941.24,-118.51C952.12,-120 962.4,-121.4 971.45,-122.64\"/>\n<polygon fill=\"black\" stroke=\"black\" points=\"971.11,-126.13 981.49,-124.01 972.05,-119.19 971.11,-126.13\"/>\n</g>\n<!-- 134026262438992+ -->\n<g id=\"node2\" class=\"node\">\n<title>134026262438992+</title>\n<ellipse fill=\"none\" stroke=\"black\" cx=\"609\" cy=\"-100.5\" rx=\"27\" ry=\"18\"/>\n<text text-anchor=\"middle\" x=\"609\" y=\"-96.8\" font-family=\"Times,serif\" font-size=\"14.00\">+</text>\n</g>\n<!-- 134026262438992+&#45;&gt;134026262438992 -->\n<g id=\"edge1\" class=\"edge\">\n<title>134026262438992+&#45;&gt;134026262438992</title>\n<path fill=\"none\" stroke=\"black\" d=\"M636.23,-100.5C643.7,-100.5 652.41,-100.5 661.87,-100.5\"/>\n<polygon fill=\"black\" stroke=\"black\" points=\"661.98,-104 671.98,-100.5 661.98,-97 661.98,-104\"/>\n</g>\n<!-- 134026262618192 -->\n<g id=\"node3\" class=\"node\">\n<title>134026262618192</title>\n<polygon fill=\"none\" stroke=\"black\" points=\"1382,-109.5 1382,-145.5 1578,-145.5 1578,-109.5 1382,-109.5\"/>\n<text text-anchor=\"middle\" x=\"1399\" y=\"-123.8\" font-family=\"Times,serif\" font-size=\"14.00\">out</text>\n<polyline fill=\"none\" stroke=\"black\" points=\"1416,-109.5 1416,-145.5 \"/>\n<text text-anchor=\"middle\" x=\"1456\" y=\"-123.8\" font-family=\"Times,serif\" font-size=\"14.00\">data 0.7071</text>\n<polyline fill=\"none\" stroke=\"black\" points=\"1496,-109.5 1496,-145.5 \"/>\n<text text-anchor=\"middle\" x=\"1537\" y=\"-123.8\" font-family=\"Times,serif\" font-size=\"14.00\">grad 1.0000</text>\n</g>\n<!-- 134026262618192tanh -->\n<g id=\"node4\" class=\"node\">\n<title>134026262618192tanh</title>\n<ellipse fill=\"none\" stroke=\"black\" cx=\"1319\" cy=\"-127.5\" rx=\"27\" ry=\"18\"/>\n<text text-anchor=\"middle\" x=\"1319\" y=\"-123.8\" font-family=\"Times,serif\" font-size=\"14.00\">tanh</text>\n</g>\n<!-- 134026262618192tanh&#45;&gt;134026262618192 -->\n<g id=\"edge2\" class=\"edge\">\n<title>134026262618192tanh&#45;&gt;134026262618192</title>\n<path fill=\"none\" stroke=\"black\" d=\"M1346.26,-127.5C1353.77,-127.5 1362.46,-127.5 1371.72,-127.5\"/>\n<polygon fill=\"black\" stroke=\"black\" points=\"1371.97,-131 1381.97,-127.5 1371.97,-124 1371.97,-131\"/>\n</g>\n<!-- 134026083053648 -->\n<g id=\"node5\" class=\"node\">\n<title>134026083053648</title>\n<polygon fill=\"none\" stroke=\"black\" points=\"2.5,-55.5 2.5,-91.5 197.5,-91.5 197.5,-55.5 2.5,-55.5\"/>\n<text text-anchor=\"middle\" x=\"19\" y=\"-69.8\" font-family=\"Times,serif\" font-size=\"14.00\">w2</text>\n<polyline fill=\"none\" stroke=\"black\" points=\"35.5,-55.5 35.5,-91.5 \"/>\n<text text-anchor=\"middle\" x=\"75.5\" y=\"-69.8\" font-family=\"Times,serif\" font-size=\"14.00\">data 1.0000</text>\n<polyline fill=\"none\" stroke=\"black\" points=\"115.5,-55.5 115.5,-91.5 \"/>\n<text text-anchor=\"middle\" x=\"156.5\" y=\"-69.8\" font-family=\"Times,serif\" font-size=\"14.00\">grad 0.0000</text>\n</g>\n<!-- 134026262444688* -->\n<g id=\"node14\" class=\"node\">\n<title>134026262444688*</title>\n<ellipse fill=\"none\" stroke=\"black\" cx=\"263\" cy=\"-73.5\" rx=\"27\" ry=\"18\"/>\n<text text-anchor=\"middle\" x=\"263\" y=\"-69.8\" font-family=\"Times,serif\" font-size=\"14.00\">*</text>\n</g>\n<!-- 134026083053648&#45;&gt;134026262444688* -->\n<g id=\"edge12\" class=\"edge\">\n<title>134026083053648&#45;&gt;134026262444688*</title>\n<path fill=\"none\" stroke=\"black\" d=\"M197.91,-73.5C207.65,-73.5 217.05,-73.5 225.52,-73.5\"/>\n<polygon fill=\"black\" stroke=\"black\" points=\"225.7,-77 235.7,-73.5 225.7,-70 225.7,-77\"/>\n</g>\n<!-- 134026082215568 -->\n<g id=\"node6\" class=\"node\">\n<title>134026082215568</title>\n<polygon fill=\"none\" stroke=\"black\" points=\"1071,-109.5 1071,-145.5 1256,-145.5 1256,-109.5 1071,-109.5\"/>\n<text text-anchor=\"middle\" x=\"1082.5\" y=\"-123.8\" font-family=\"Times,serif\" font-size=\"14.00\">n</text>\n<polyline fill=\"none\" stroke=\"black\" points=\"1094,-109.5 1094,-145.5 \"/>\n<text text-anchor=\"middle\" x=\"1134\" y=\"-123.8\" font-family=\"Times,serif\" font-size=\"14.00\">data 0.8814</text>\n<polyline fill=\"none\" stroke=\"black\" points=\"1174,-109.5 1174,-145.5 \"/>\n<text text-anchor=\"middle\" x=\"1215\" y=\"-123.8\" font-family=\"Times,serif\" font-size=\"14.00\">grad 0.5000</text>\n</g>\n<!-- 134026082215568&#45;&gt;134026262618192tanh -->\n<g id=\"edge11\" class=\"edge\">\n<title>134026082215568&#45;&gt;134026262618192tanh</title>\n<path fill=\"none\" stroke=\"black\" d=\"M1256.01,-127.5C1265.01,-127.5 1273.74,-127.5 1281.66,-127.5\"/>\n<polygon fill=\"black\" stroke=\"black\" points=\"1281.91,-131 1291.91,-127.5 1281.91,-124 1281.91,-131\"/>\n</g>\n<!-- 134026082215568+&#45;&gt;134026082215568 -->\n<g id=\"edge3\" class=\"edge\">\n<title>134026082215568+&#45;&gt;134026082215568</title>\n<path fill=\"none\" stroke=\"black\" d=\"M1035.04,-127.5C1042.58,-127.5 1051.3,-127.5 1060.57,-127.5\"/>\n<polygon fill=\"black\" stroke=\"black\" points=\"1060.81,-131 1070.81,-127.5 1060.81,-124 1060.81,-131\"/>\n</g>\n<!-- 134026262440080 -->\n<g id=\"node8\" class=\"node\">\n<title>134026262440080</title>\n<polygon fill=\"none\" stroke=\"black\" points=\"326,-110.5 326,-146.5 546,-146.5 546,-110.5 326,-110.5\"/>\n<text text-anchor=\"middle\" x=\"352.5\" y=\"-124.8\" font-family=\"Times,serif\" font-size=\"14.00\">x1*w1</text>\n<polyline fill=\"none\" stroke=\"black\" points=\"379,-110.5 379,-146.5 \"/>\n<text text-anchor=\"middle\" x=\"421.5\" y=\"-124.8\" font-family=\"Times,serif\" font-size=\"14.00\">data &#45;6.0000</text>\n<polyline fill=\"none\" stroke=\"black\" points=\"464,-110.5 464,-146.5 \"/>\n<text text-anchor=\"middle\" x=\"505\" y=\"-124.8\" font-family=\"Times,serif\" font-size=\"14.00\">grad 0.5000</text>\n</g>\n<!-- 134026262440080&#45;&gt;134026262438992+ -->\n<g id=\"edge7\" class=\"edge\">\n<title>134026262440080&#45;&gt;134026262438992+</title>\n<path fill=\"none\" stroke=\"black\" d=\"M546.27,-110.61C555.64,-109.07 564.6,-107.61 572.65,-106.29\"/>\n<polygon fill=\"black\" stroke=\"black\" points=\"573.35,-109.72 582.65,-104.65 572.22,-102.81 573.35,-109.72\"/>\n</g>\n<!-- 134026262440080* -->\n<g id=\"node9\" class=\"node\">\n<title>134026262440080*</title>\n<ellipse fill=\"none\" stroke=\"black\" cx=\"263\" cy=\"-128.5\" rx=\"27\" ry=\"18\"/>\n<text text-anchor=\"middle\" x=\"263\" y=\"-124.8\" font-family=\"Times,serif\" font-size=\"14.00\">*</text>\n</g>\n<!-- 134026262440080*&#45;&gt;134026262440080 -->\n<g id=\"edge4\" class=\"edge\">\n<title>134026262440080*&#45;&gt;134026262440080</title>\n<path fill=\"none\" stroke=\"black\" d=\"M290.34,-128.5C297.77,-128.5 306.37,-128.5 315.6,-128.5\"/>\n<polygon fill=\"black\" stroke=\"black\" points=\"315.84,-132 325.84,-128.5 315.84,-125 315.84,-132\"/>\n</g>\n<!-- 134026083043984 -->\n<g id=\"node10\" class=\"node\">\n<title>134026083043984</title>\n<polygon fill=\"none\" stroke=\"black\" points=\"708.5,-137.5 708.5,-173.5 908.5,-173.5 908.5,-137.5 708.5,-137.5\"/>\n<text text-anchor=\"middle\" x=\"727.5\" y=\"-151.8\" font-family=\"Times,serif\" font-size=\"14.00\">bias</text>\n<polyline fill=\"none\" stroke=\"black\" points=\"746.5,-137.5 746.5,-173.5 \"/>\n<text text-anchor=\"middle\" x=\"786.5\" y=\"-151.8\" font-family=\"Times,serif\" font-size=\"14.00\">data 6.8814</text>\n<polyline fill=\"none\" stroke=\"black\" points=\"826.5,-137.5 826.5,-173.5 \"/>\n<text text-anchor=\"middle\" x=\"867.5\" y=\"-151.8\" font-family=\"Times,serif\" font-size=\"14.00\">grad 0.5000</text>\n</g>\n<!-- 134026083043984&#45;&gt;134026082215568+ -->\n<g id=\"edge6\" class=\"edge\">\n<title>134026083043984&#45;&gt;134026082215568+</title>\n<path fill=\"none\" stroke=\"black\" d=\"M908.54,-141.46C930.96,-138.28 953.36,-135.1 971.12,-132.59\"/>\n<polygon fill=\"black\" stroke=\"black\" points=\"971.86,-136.02 981.27,-131.15 970.88,-129.09 971.86,-136.02\"/>\n</g>\n<!-- 134026262431888 -->\n<g id=\"node11\" class=\"node\">\n<title>134026262431888</title>\n<polygon fill=\"none\" stroke=\"black\" points=\"2,-165.5 2,-201.5 198,-201.5 198,-165.5 2,-165.5\"/>\n<text text-anchor=\"middle\" x=\"17\" y=\"-179.8\" font-family=\"Times,serif\" font-size=\"14.00\">x1</text>\n<polyline fill=\"none\" stroke=\"black\" points=\"32,-165.5 32,-201.5 \"/>\n<text text-anchor=\"middle\" x=\"72\" y=\"-179.8\" font-family=\"Times,serif\" font-size=\"14.00\">data 2.0000</text>\n<polyline fill=\"none\" stroke=\"black\" points=\"112,-165.5 112,-201.5 \"/>\n<text text-anchor=\"middle\" x=\"155\" y=\"-179.8\" font-family=\"Times,serif\" font-size=\"14.00\">grad &#45;1.5000</text>\n</g>\n<!-- 134026262431888&#45;&gt;134026262440080* -->\n<g id=\"edge14\" class=\"edge\">\n<title>134026262431888&#45;&gt;134026262440080*</title>\n<path fill=\"none\" stroke=\"black\" d=\"M172.53,-165.44C181.84,-162.67 191.2,-159.67 200,-156.5 210.53,-152.71 221.75,-147.9 231.72,-143.33\"/>\n<polygon fill=\"black\" stroke=\"black\" points=\"233.25,-146.48 240.82,-139.07 230.28,-140.14 233.25,-146.48\"/>\n</g>\n<!-- 134026082336912 -->\n<g id=\"node12\" class=\"node\">\n<title>134026082336912</title>\n<polygon fill=\"none\" stroke=\"black\" points=\"0,-110.5 0,-146.5 200,-146.5 200,-110.5 0,-110.5\"/>\n<text text-anchor=\"middle\" x=\"16.5\" y=\"-124.8\" font-family=\"Times,serif\" font-size=\"14.00\">w1</text>\n<polyline fill=\"none\" stroke=\"black\" points=\"33,-110.5 33,-146.5 \"/>\n<text text-anchor=\"middle\" x=\"75.5\" y=\"-124.8\" font-family=\"Times,serif\" font-size=\"14.00\">data &#45;3.0000</text>\n<polyline fill=\"none\" stroke=\"black\" points=\"118,-110.5 118,-146.5 \"/>\n<text text-anchor=\"middle\" x=\"159\" y=\"-124.8\" font-family=\"Times,serif\" font-size=\"14.00\">grad 1.0000</text>\n</g>\n<!-- 134026082336912&#45;&gt;134026262440080* -->\n<g id=\"edge10\" class=\"edge\">\n<title>134026082336912&#45;&gt;134026262440080*</title>\n<path fill=\"none\" stroke=\"black\" d=\"M200.21,-128.5C209.2,-128.5 217.86,-128.5 225.7,-128.5\"/>\n<polygon fill=\"black\" stroke=\"black\" points=\"225.85,-132 235.85,-128.5 225.85,-125 225.85,-132\"/>\n</g>\n<!-- 134026262444688 -->\n<g id=\"node13\" class=\"node\">\n<title>134026262444688</title>\n<polygon fill=\"none\" stroke=\"black\" points=\"328.5,-55.5 328.5,-91.5 543.5,-91.5 543.5,-55.5 328.5,-55.5\"/>\n<text text-anchor=\"middle\" x=\"355\" y=\"-69.8\" font-family=\"Times,serif\" font-size=\"14.00\">x2*w2</text>\n<polyline fill=\"none\" stroke=\"black\" points=\"381.5,-55.5 381.5,-91.5 \"/>\n<text text-anchor=\"middle\" x=\"421.5\" y=\"-69.8\" font-family=\"Times,serif\" font-size=\"14.00\">data 0.0000</text>\n<polyline fill=\"none\" stroke=\"black\" points=\"461.5,-55.5 461.5,-91.5 \"/>\n<text text-anchor=\"middle\" x=\"502.5\" y=\"-69.8\" font-family=\"Times,serif\" font-size=\"14.00\">grad 0.5000</text>\n</g>\n<!-- 134026262444688&#45;&gt;134026262438992+ -->\n<g id=\"edge8\" class=\"edge\">\n<title>134026262444688&#45;&gt;134026262438992+</title>\n<path fill=\"none\" stroke=\"black\" d=\"M543.84,-90.37C554.01,-91.98 563.76,-93.51 572.44,-94.89\"/>\n<polygon fill=\"black\" stroke=\"black\" points=\"572.05,-98.37 582.47,-96.47 573.14,-91.45 572.05,-98.37\"/>\n</g>\n<!-- 134026262444688*&#45;&gt;134026262444688 -->\n<g id=\"edge5\" class=\"edge\">\n<title>134026262444688*&#45;&gt;134026262444688</title>\n<path fill=\"none\" stroke=\"black\" d=\"M290.34,-73.5C298.51,-73.5 308.08,-73.5 318.36,-73.5\"/>\n<polygon fill=\"black\" stroke=\"black\" points=\"318.39,-77 328.39,-73.5 318.39,-70 318.39,-77\"/>\n</g>\n<!-- 134026262542224 -->\n<g id=\"node15\" class=\"node\">\n<title>134026262542224</title>\n<polygon fill=\"none\" stroke=\"black\" points=\"4,-0.5 4,-36.5 196,-36.5 196,-0.5 4,-0.5\"/>\n<text text-anchor=\"middle\" x=\"19\" y=\"-14.8\" font-family=\"Times,serif\" font-size=\"14.00\">x2</text>\n<polyline fill=\"none\" stroke=\"black\" points=\"34,-0.5 34,-36.5 \"/>\n<text text-anchor=\"middle\" x=\"74\" y=\"-14.8\" font-family=\"Times,serif\" font-size=\"14.00\">data 0.0000</text>\n<polyline fill=\"none\" stroke=\"black\" points=\"114,-0.5 114,-36.5 \"/>\n<text text-anchor=\"middle\" x=\"155\" y=\"-14.8\" font-family=\"Times,serif\" font-size=\"14.00\">grad 0.5000</text>\n</g>\n<!-- 134026262542224&#45;&gt;134026262444688* -->\n<g id=\"edge9\" class=\"edge\">\n<title>134026262542224&#45;&gt;134026262444688*</title>\n<path fill=\"none\" stroke=\"black\" d=\"M169.28,-36.5C179.65,-39.61 190.16,-42.98 200,-46.5 210.28,-50.17 221.28,-54.74 231.11,-59.07\"/>\n<polygon fill=\"black\" stroke=\"black\" points=\"229.93,-62.37 240.48,-63.27 232.79,-55.99 229.93,-62.37\"/>\n</g>\n</g>\n</svg>\n",
            "text/plain": [
              "<graphviz.graphs.Digraph at 0x79e560e45f90>"
            ]
          },
          "metadata": {},
          "execution_count": 83
        }
      ]
    },
    {
      "cell_type": "markdown",
      "source": [
        "# There's A BUG!!!"
      ],
      "metadata": {
        "id": "lzKUsn1IK1vY"
      }
    },
    {
      "cell_type": "code",
      "source": [
        "bg = Value(3.0, _label='bg')\n",
        "nbg = bg + bg\n",
        "nbg._label = 'nbg'\n",
        "nbg.backward()\n",
        "\n",
        "draw_graph(nbg)"
      ],
      "metadata": {
        "colab": {
          "base_uri": "https://localhost:8080/",
          "height": 81
        },
        "id": "n-PYrcleNZin",
        "outputId": "09a09f8d-2b89-4459-8f81-fd3bf60e2f10"
      },
      "execution_count": 84,
      "outputs": [
        {
          "output_type": "execute_result",
          "data": {
            "image/svg+xml": "<?xml version=\"1.0\" encoding=\"UTF-8\" standalone=\"no\"?>\n<!DOCTYPE svg PUBLIC \"-//W3C//DTD SVG 1.1//EN\"\n \"http://www.w3.org/Graphics/SVG/1.1/DTD/svg11.dtd\">\n<!-- Generated by graphviz version 2.43.0 (0)\n -->\n<!-- Title: %3 Pages: 1 -->\n<svg width=\"525pt\" height=\"45pt\"\n viewBox=\"0.00 0.00 525.00 45.00\" xmlns=\"http://www.w3.org/2000/svg\" xmlns:xlink=\"http://www.w3.org/1999/xlink\">\n<g id=\"graph0\" class=\"graph\" transform=\"scale(1 1) rotate(0) translate(4 41)\">\n<title>%3</title>\n<polygon fill=\"white\" stroke=\"transparent\" points=\"-4,4 -4,-41 521,-41 521,4 -4,4\"/>\n<!-- 134026081650192 -->\n<g id=\"node1\" class=\"node\">\n<title>134026081650192</title>\n<polygon fill=\"none\" stroke=\"black\" points=\"318,-0.5 318,-36.5 517,-36.5 517,-0.5 318,-0.5\"/>\n<text text-anchor=\"middle\" x=\"336.5\" y=\"-14.8\" font-family=\"Times,serif\" font-size=\"14.00\">nbg</text>\n<polyline fill=\"none\" stroke=\"black\" points=\"355,-0.5 355,-36.5 \"/>\n<text text-anchor=\"middle\" x=\"395\" y=\"-14.8\" font-family=\"Times,serif\" font-size=\"14.00\">data 6.0000</text>\n<polyline fill=\"none\" stroke=\"black\" points=\"435,-0.5 435,-36.5 \"/>\n<text text-anchor=\"middle\" x=\"476\" y=\"-14.8\" font-family=\"Times,serif\" font-size=\"14.00\">grad 1.0000</text>\n</g>\n<!-- 134026081650192+ -->\n<g id=\"node2\" class=\"node\">\n<title>134026081650192+</title>\n<ellipse fill=\"none\" stroke=\"black\" cx=\"255\" cy=\"-18.5\" rx=\"27\" ry=\"18\"/>\n<text text-anchor=\"middle\" x=\"255\" y=\"-14.8\" font-family=\"Times,serif\" font-size=\"14.00\">+</text>\n</g>\n<!-- 134026081650192+&#45;&gt;134026081650192 -->\n<g id=\"edge1\" class=\"edge\">\n<title>134026081650192+&#45;&gt;134026081650192</title>\n<path fill=\"none\" stroke=\"black\" d=\"M282.14,-18.5C289.65,-18.5 298.33,-18.5 307.6,-18.5\"/>\n<polygon fill=\"black\" stroke=\"black\" points=\"307.86,-22 317.86,-18.5 307.86,-15 307.86,-22\"/>\n</g>\n<!-- 134026081660368 -->\n<g id=\"node3\" class=\"node\">\n<title>134026081660368</title>\n<polygon fill=\"none\" stroke=\"black\" points=\"0,-0.5 0,-36.5 192,-36.5 192,-0.5 0,-0.5\"/>\n<text text-anchor=\"middle\" x=\"15\" y=\"-14.8\" font-family=\"Times,serif\" font-size=\"14.00\">bg</text>\n<polyline fill=\"none\" stroke=\"black\" points=\"30,-0.5 30,-36.5 \"/>\n<text text-anchor=\"middle\" x=\"70\" y=\"-14.8\" font-family=\"Times,serif\" font-size=\"14.00\">data 3.0000</text>\n<polyline fill=\"none\" stroke=\"black\" points=\"110,-0.5 110,-36.5 \"/>\n<text text-anchor=\"middle\" x=\"151\" y=\"-14.8\" font-family=\"Times,serif\" font-size=\"14.00\">grad 1.0000</text>\n</g>\n<!-- 134026081660368&#45;&gt;134026081650192+ -->\n<g id=\"edge2\" class=\"edge\">\n<title>134026081660368&#45;&gt;134026081650192+</title>\n<path fill=\"none\" stroke=\"black\" d=\"M192.4,-18.5C201.32,-18.5 209.93,-18.5 217.75,-18.5\"/>\n<polygon fill=\"black\" stroke=\"black\" points=\"217.86,-22 227.86,-18.5 217.86,-15 217.86,-22\"/>\n</g>\n</g>\n</svg>\n",
            "text/plain": [
              "<graphviz.graphs.Digraph at 0x79e560fcfb90>"
            ]
          },
          "metadata": {},
          "execution_count": 84
        }
      ]
    },
    {
      "cell_type": "code",
      "source": [
        "# so if we have a variable which is participates in more than one `op` then when we call `_backward()` on it, we will arrive at that node two times\n",
        "# and this will create a `Race Condition` in which whatever the `op` is called at last will rewrite its value and hence the previous value will be lost\n",
        "# to fix this bug, we need to look into the multivatiable case of chain rule"
      ],
      "metadata": {
        "id": "2JnwY5BdK5EZ"
      },
      "execution_count": 78,
      "outputs": []
    },
    {
      "cell_type": "markdown",
      "source": [
        "<a href=\"https://en.wikipedia.org/wiki/Chain_rule#Multivariable_case\">Multivativariable Case of Chain Rule</a>"
      ],
      "metadata": {
        "id": "0YBUo7u1LzSc"
      }
    },
    {
      "cell_type": "code",
      "source": [
        "# so now we know that in such case we need to accumulate the derivative, so, let's change implementation of addition, multiplication and tanh methods\n",
        "# to account for this case\n",
        "\n",
        "class Value:\n",
        "  def __init__(self, data, _children=(), _op='', _label=''):\n",
        "    self.data = data\n",
        "    self.grad = 0.0\n",
        "    self._prev = set(_children)\n",
        "    self._op = _op\n",
        "    self._label = _label\n",
        "    self._backward = lambda: None\n",
        "\n",
        "  def __repr__(self):\n",
        "    return f\"Value(data={self.data})\"\n",
        "\n",
        "  def __add__(self, other):\n",
        "    out = Value(self.data + other.data, (self, other), '+')\n",
        "\n",
        "    def _backward():\n",
        "      self.grad += 1.0 * out.grad   # <-\n",
        "      other.grad += 1.0 * out.grad   # <-\n",
        "\n",
        "    out._backward = _backward\n",
        "\n",
        "    return out\n",
        "\n",
        "  def __mul__(self, other):\n",
        "    out = Value(self.data * other.data, (self, other), '*')\n",
        "\n",
        "    def _backward():\n",
        "      self.grad += other.data * out.grad   # <-\n",
        "      other.grad += self.data * out.grad   # <-\n",
        "\n",
        "    out._backward = _backward\n",
        "\n",
        "    return out\n",
        "\n",
        "  def tanh(self):\n",
        "    x = self.data\n",
        "    t = (math.exp(2*x) - 1)/(math.exp(2*x) + 1)\n",
        "    out = Value(t, _children=(self,), _op='tanh')\n",
        "\n",
        "    def _backward():\n",
        "      self.grad += (1 - t**2) * out.grad   # <-\n",
        "\n",
        "    out._backward = _backward\n",
        "\n",
        "    return out\n",
        "\n",
        "  def backward(self):\n",
        "    topo = []\n",
        "\n",
        "    visited = set()\n",
        "\n",
        "    def build_topo(v):\n",
        "      if v not in visited:\n",
        "        visited.add(v)\n",
        "        for child in v._prev:\n",
        "          build_topo(child)\n",
        "\n",
        "        topo.append(v)\n",
        "\n",
        "    build_topo(self)\n",
        "\n",
        "    self.grad = 1.0\n",
        "\n",
        "    for node in reversed(topo):\n",
        "      node._backward()"
      ],
      "metadata": {
        "id": "GmYKix0ZL7yA"
      },
      "execution_count": 85,
      "outputs": []
    },
    {
      "cell_type": "code",
      "source": [
        "bg = Value(3.0, _label='bg')\n",
        "nbg = bg + bg\n",
        "nbg._label = 'nbg'\n",
        "nbg.backward()\n",
        "\n",
        "draw_graph(nbg)"
      ],
      "metadata": {
        "colab": {
          "base_uri": "https://localhost:8080/",
          "height": 81
        },
        "id": "Y6ZHQcygNLHf",
        "outputId": "3c0dd03d-c665-4a27-bf54-3a9add63d980"
      },
      "execution_count": 86,
      "outputs": [
        {
          "output_type": "execute_result",
          "data": {
            "image/svg+xml": "<?xml version=\"1.0\" encoding=\"UTF-8\" standalone=\"no\"?>\n<!DOCTYPE svg PUBLIC \"-//W3C//DTD SVG 1.1//EN\"\n \"http://www.w3.org/Graphics/SVG/1.1/DTD/svg11.dtd\">\n<!-- Generated by graphviz version 2.43.0 (0)\n -->\n<!-- Title: %3 Pages: 1 -->\n<svg width=\"525pt\" height=\"45pt\"\n viewBox=\"0.00 0.00 525.00 45.00\" xmlns=\"http://www.w3.org/2000/svg\" xmlns:xlink=\"http://www.w3.org/1999/xlink\">\n<g id=\"graph0\" class=\"graph\" transform=\"scale(1 1) rotate(0) translate(4 41)\">\n<title>%3</title>\n<polygon fill=\"white\" stroke=\"transparent\" points=\"-4,4 -4,-41 521,-41 521,4 -4,4\"/>\n<!-- 134026082640720 -->\n<g id=\"node1\" class=\"node\">\n<title>134026082640720</title>\n<polygon fill=\"none\" stroke=\"black\" points=\"0,-0.5 0,-36.5 192,-36.5 192,-0.5 0,-0.5\"/>\n<text text-anchor=\"middle\" x=\"15\" y=\"-14.8\" font-family=\"Times,serif\" font-size=\"14.00\">bg</text>\n<polyline fill=\"none\" stroke=\"black\" points=\"30,-0.5 30,-36.5 \"/>\n<text text-anchor=\"middle\" x=\"70\" y=\"-14.8\" font-family=\"Times,serif\" font-size=\"14.00\">data 3.0000</text>\n<polyline fill=\"none\" stroke=\"black\" points=\"110,-0.5 110,-36.5 \"/>\n<text text-anchor=\"middle\" x=\"151\" y=\"-14.8\" font-family=\"Times,serif\" font-size=\"14.00\">grad 2.0000</text>\n</g>\n<!-- 134026082654032+ -->\n<g id=\"node3\" class=\"node\">\n<title>134026082654032+</title>\n<ellipse fill=\"none\" stroke=\"black\" cx=\"255\" cy=\"-18.5\" rx=\"27\" ry=\"18\"/>\n<text text-anchor=\"middle\" x=\"255\" y=\"-14.8\" font-family=\"Times,serif\" font-size=\"14.00\">+</text>\n</g>\n<!-- 134026082640720&#45;&gt;134026082654032+ -->\n<g id=\"edge2\" class=\"edge\">\n<title>134026082640720&#45;&gt;134026082654032+</title>\n<path fill=\"none\" stroke=\"black\" d=\"M192.4,-18.5C201.32,-18.5 209.93,-18.5 217.75,-18.5\"/>\n<polygon fill=\"black\" stroke=\"black\" points=\"217.86,-22 227.86,-18.5 217.86,-15 217.86,-22\"/>\n</g>\n<!-- 134026082654032 -->\n<g id=\"node2\" class=\"node\">\n<title>134026082654032</title>\n<polygon fill=\"none\" stroke=\"black\" points=\"318,-0.5 318,-36.5 517,-36.5 517,-0.5 318,-0.5\"/>\n<text text-anchor=\"middle\" x=\"336.5\" y=\"-14.8\" font-family=\"Times,serif\" font-size=\"14.00\">nbg</text>\n<polyline fill=\"none\" stroke=\"black\" points=\"355,-0.5 355,-36.5 \"/>\n<text text-anchor=\"middle\" x=\"395\" y=\"-14.8\" font-family=\"Times,serif\" font-size=\"14.00\">data 6.0000</text>\n<polyline fill=\"none\" stroke=\"black\" points=\"435,-0.5 435,-36.5 \"/>\n<text text-anchor=\"middle\" x=\"476\" y=\"-14.8\" font-family=\"Times,serif\" font-size=\"14.00\">grad 1.0000</text>\n</g>\n<!-- 134026082654032+&#45;&gt;134026082654032 -->\n<g id=\"edge1\" class=\"edge\">\n<title>134026082654032+&#45;&gt;134026082654032</title>\n<path fill=\"none\" stroke=\"black\" d=\"M282.14,-18.5C289.65,-18.5 298.33,-18.5 307.6,-18.5\"/>\n<polygon fill=\"black\" stroke=\"black\" points=\"307.86,-22 317.86,-18.5 307.86,-15 307.86,-22\"/>\n</g>\n</g>\n</svg>\n",
            "text/plain": [
              "<graphviz.graphs.Digraph at 0x79e56111d010>"
            ]
          },
          "metadata": {},
          "execution_count": 86
        }
      ]
    }
  ]
}